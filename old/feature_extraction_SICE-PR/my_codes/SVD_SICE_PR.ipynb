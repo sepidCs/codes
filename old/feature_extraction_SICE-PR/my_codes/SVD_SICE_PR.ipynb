{
 "cells": [
  {
   "cell_type": "code",
   "execution_count": 1,
   "metadata": {},
   "outputs": [],
   "source": [
    "import numpy as np\n",
    "import pandas as pd\n",
    "from sklearn.metrics.pairwise import cosine_similarity\n",
    "import operator\n",
    "import datetime\n",
    "import matplotlib.pyplot as plt"
   ]
  },
  {
   "cell_type": "code",
   "execution_count": 2,
   "metadata": {},
   "outputs": [
    {
     "name": "stderr",
     "output_type": "stream",
     "text": [
      "c:\\Users\\User.MORADI-PC\\anaconda3\\envs\\tf\\lib\\site-packages\\xgboost\\compat.py:36: FutureWarning: pandas.Int64Index is deprecated and will be removed from pandas in a future version. Use pandas.Index with the appropriate dtype instead.\n",
      "  from pandas import MultiIndex, Int64Index\n"
     ]
    }
   ],
   "source": [
    "import scipy.stats\n",
    "import copy\n",
    "import datetime \n",
    "from sklearn.linear_model import LinearRegression\n",
    "from sklearn.model_selection import train_test_split\n",
    "from sklearn import metrics\n",
    "from sklearn.preprocessing import  StandardScaler\n",
    "from sklearn.decomposition import PCA\n",
    "import xgboost as xg\n",
    "import os\n",
    "import pathlib"
   ]
  },
  {
   "cell_type": "code",
   "execution_count": 3,
   "metadata": {},
   "outputs": [],
   "source": [
    "import sys\n",
    "sys.path.insert(1, 'D:/TMU/thesis/codes')\n",
    "\n",
    "from package.featureSelection_SICE import *\n",
    "from package.loadDb import *"
   ]
  },
  {
   "cell_type": "code",
   "execution_count": 4,
   "metadata": {},
   "outputs": [
    {
     "name": "stdout",
     "output_type": "stream",
     "text": [
      "data with target size =  (46968, 11)\n"
     ]
    }
   ],
   "source": [
    "# import kaggle dataset\n",
    "address = \"..\\..\\..\\database\\kaggleDataFrame\"\n",
    "\n",
    "data_with_target= load_kaggle_dataframe(address+\"\\dataframes.csv\")\n",
    "data_without_target = data_with_target.drop(['DEMAND'],axis=1)\n",
    "print(\"data with target size = \",data_with_target.shape )\n",
    "\n",
    "# # make kaggle PCA dataset\n",
    "# pca = PCA(n_components=num_comp).fit(data_without_target)\n",
    "# columns = ['pca_comp_%i' % i for i in range(num_comp)]\n",
    "# data_pca  = pd.DataFrame(pca.transform(data_without_target), columns=columns, index=data_without_target.index)\n",
    "# # data_pca.head()\n",
    "\n",
    "# ...................................................................................................\n",
    "\n",
    "# # import sock market dataset \n",
    "# sample_normalized = load_stock_market_dataframe(address+\"\\sample_normalized\")\n",
    "# data_with_target = load_stock_market_dataframe(address+\"\\sample_normalized_with_target\")\n",
    "# data_without_target = data_with_target.iloc[:,:-1]\n",
    "# # import sock market PCA dataset \n",
    "\n",
    "# data_pca=load_stock_market_dataframe(address+\"\\data_pca_13_with_target\")\n",
    "# data_pca=data_pca[:,:-1]\n"
   ]
  },
  {
   "cell_type": "code",
   "execution_count": 5,
   "metadata": {},
   "outputs": [],
   "source": [
    "\n",
    "number_components=4\n",
    "window_size=2000\n"
   ]
  },
  {
   "cell_type": "code",
   "execution_count": 6,
   "metadata": {},
   "outputs": [],
   "source": [
    "def featureSelection_svd(data_without_target,window_size,num_comp):\n",
    "\n",
    "    win_index_dic,num_windows = window_moving(data_without_target,window_size)\n",
    "    feature_similarity_tensor=cosine_sim(data_without_target,win_index_dic,num_windows)\n",
    "    H= H_matrix(feature_similarity_tensor)\n",
    "    u, _, _ = np.linalg.svd(H, full_matrices=True)\n",
    "    R=H-np.dot(u.T,H)\n",
    "    x = np.linalg.norm(R, axis=0)\n",
    "    top_ranked_pairs=len(x) # keep all pairs\n",
    "\n",
    "    selected_features_index=Pr_to_feature(x,num_components=num_comp,top_pairs=top_ranked_pairs)\n",
    "    return selected_features_index\n",
    "\n"
   ]
  },
  {
   "cell_type": "code",
   "execution_count": 7,
   "metadata": {},
   "outputs": [],
   "source": [
    "def mse_xgboost_segment(data_without_target,target,window_size,num_comp,interval_,testSize):\n",
    "\n",
    "    '''\n",
    "    this functiont segment data to a given intervals and make list of RMSE for pca and new model\n",
    "    '''\n",
    "\n",
    "    pca_list=[]\n",
    "    fselection_list = []\n",
    "\n",
    "    interval=interval_\n",
    "    start=0\n",
    "    end=interval\n",
    "\n",
    "    while data_without_target.shape[0] > end:\n",
    "\n",
    "        X=data_without_target.iloc[start : end]\n",
    "        Y=target.iloc[start : end]\n",
    "\n",
    "        \n",
    "        pca = PCA(n_components=num_comp).fit(X)\n",
    "        X_pca  = pca.transform(X)\n",
    "        # data_pca.head()\n",
    "\n",
    "\n",
    "\n",
    "        selected_features_index=featureSelection_svd(X,window_size,num_comp)\n",
    "\n",
    "\n",
    "        x_train, x_test, y_train, y_test = train_test_split(X, Y, test_size = testSize,shuffle=False)\n",
    "        x_train_pca, x_test_pca, _,_ = train_test_split(X_pca, Y, test_size = testSize,shuffle=False)\n",
    "\n",
    "\n",
    "        # fit pca data\n",
    "        model_pca = xg.XGBRegressor()\n",
    "        model_pca.fit(x_train_pca, y_train)\n",
    "        predictions_pca = model_pca.predict(x_test_pca)\n",
    "        rmse_pca=np.sqrt(metrics.mean_squared_error(y_test, predictions_pca))\n",
    "        # print(\"MSE of pca is:{:.2f}\".format(pca_mse))\n",
    "        pca_list.append(rmse_pca)##########################\n",
    "\n",
    "\n",
    "        x_train_PR= x_train[x_train.columns[selected_features_index]]\n",
    "        x_test_PR = x_test[x_test.columns[selected_features_index]]\n",
    "\n",
    "        # fit model data\n",
    "        model_fselection = xg.XGBRegressor()\n",
    "        model_fselection.fit(x_train_PR, y_train)\n",
    "        predictions_fselection = model_fselection.predict(x_test_PR)\n",
    "        rmse_fselection=np.sqrt(metrics.mean_squared_error(y_test, predictions_fselection))\n",
    "        # print (\"MSE model is:{:.2f}\".format( mse))\n",
    "        fselection_list.append(rmse_fselection)\n",
    "\n",
    "        start=start + interval\n",
    "        end=end + interval \n",
    "         \n",
    "    print (\"RMSE of f_s model is\",np.array(fselection_list).round( decimals=2))\n",
    "    print (\"RMSE of pca model is\",np.array(pca_list).round( decimals=2))\n",
    "    \n",
    "    return fselection_list,pca_list"
   ]
  },
  {
   "cell_type": "code",
   "execution_count": 8,
   "metadata": {},
   "outputs": [
    {
     "name": "stdout",
     "output_type": "stream",
     "text": [
      "number of windows= 40 \n",
      "size of windows = 50 10 \n",
      "last window size = 50 10\n",
      "size of similarity tensor = (10, 10, 40)\n",
      "size of second order similarity matrix = (100, 100)\n"
     ]
    },
    {
     "name": "stderr",
     "output_type": "stream",
     "text": [
      "c:\\Users\\User.MORADI-PC\\anaconda3\\envs\\tf\\lib\\site-packages\\xgboost\\data.py:250: FutureWarning: pandas.Int64Index is deprecated and will be removed from pandas in a future version. Use pandas.Index with the appropriate dtype instead.\n",
      "  elif isinstance(data.columns, (pd.Int64Index, pd.RangeIndex)):\n"
     ]
    },
    {
     "name": "stdout",
     "output_type": "stream",
     "text": [
      "number of windows= 40 \n",
      "size of windows = 50 10 \n",
      "last window size = 50 10\n",
      "size of similarity tensor = (10, 10, 40)\n",
      "size of second order similarity matrix = (100, 100)\n"
     ]
    },
    {
     "name": "stderr",
     "output_type": "stream",
     "text": [
      "c:\\Users\\User.MORADI-PC\\anaconda3\\envs\\tf\\lib\\site-packages\\xgboost\\data.py:250: FutureWarning: pandas.Int64Index is deprecated and will be removed from pandas in a future version. Use pandas.Index with the appropriate dtype instead.\n",
      "  elif isinstance(data.columns, (pd.Int64Index, pd.RangeIndex)):\n"
     ]
    },
    {
     "name": "stdout",
     "output_type": "stream",
     "text": [
      "number of windows= 40 \n",
      "size of windows = 50 10 \n",
      "last window size = 50 10\n",
      "size of similarity tensor = (10, 10, 40)\n",
      "size of second order similarity matrix = (100, 100)\n"
     ]
    },
    {
     "name": "stderr",
     "output_type": "stream",
     "text": [
      "c:\\Users\\User.MORADI-PC\\anaconda3\\envs\\tf\\lib\\site-packages\\xgboost\\data.py:250: FutureWarning: pandas.Int64Index is deprecated and will be removed from pandas in a future version. Use pandas.Index with the appropriate dtype instead.\n",
      "  elif isinstance(data.columns, (pd.Int64Index, pd.RangeIndex)):\n"
     ]
    },
    {
     "name": "stdout",
     "output_type": "stream",
     "text": [
      "number of windows= 40 \n",
      "size of windows = 50 10 \n",
      "last window size = 50 10\n",
      "size of similarity tensor = (10, 10, 40)\n",
      "size of second order similarity matrix = (100, 100)\n"
     ]
    },
    {
     "name": "stderr",
     "output_type": "stream",
     "text": [
      "c:\\Users\\User.MORADI-PC\\anaconda3\\envs\\tf\\lib\\site-packages\\xgboost\\data.py:250: FutureWarning: pandas.Int64Index is deprecated and will be removed from pandas in a future version. Use pandas.Index with the appropriate dtype instead.\n",
      "  elif isinstance(data.columns, (pd.Int64Index, pd.RangeIndex)):\n"
     ]
    },
    {
     "name": "stdout",
     "output_type": "stream",
     "text": [
      "number of windows= 40 \n",
      "size of windows = 50 10 \n",
      "last window size = 50 10\n",
      "size of similarity tensor = (10, 10, 40)\n",
      "size of second order similarity matrix = (100, 100)\n"
     ]
    },
    {
     "name": "stderr",
     "output_type": "stream",
     "text": [
      "c:\\Users\\User.MORADI-PC\\anaconda3\\envs\\tf\\lib\\site-packages\\xgboost\\data.py:250: FutureWarning: pandas.Int64Index is deprecated and will be removed from pandas in a future version. Use pandas.Index with the appropriate dtype instead.\n",
      "  elif isinstance(data.columns, (pd.Int64Index, pd.RangeIndex)):\n"
     ]
    },
    {
     "name": "stdout",
     "output_type": "stream",
     "text": [
      "number of windows= 40 \n",
      "size of windows = 50 10 \n",
      "last window size = 50 10\n",
      "size of similarity tensor = (10, 10, 40)\n",
      "size of second order similarity matrix = (100, 100)\n"
     ]
    },
    {
     "name": "stderr",
     "output_type": "stream",
     "text": [
      "c:\\Users\\User.MORADI-PC\\anaconda3\\envs\\tf\\lib\\site-packages\\xgboost\\data.py:250: FutureWarning: pandas.Int64Index is deprecated and will be removed from pandas in a future version. Use pandas.Index with the appropriate dtype instead.\n",
      "  elif isinstance(data.columns, (pd.Int64Index, pd.RangeIndex)):\n"
     ]
    },
    {
     "name": "stdout",
     "output_type": "stream",
     "text": [
      "number of windows= 40 \n",
      "size of windows = 50 10 \n",
      "last window size = 50 10\n",
      "size of similarity tensor = (10, 10, 40)\n",
      "size of second order similarity matrix = (100, 100)\n"
     ]
    },
    {
     "name": "stderr",
     "output_type": "stream",
     "text": [
      "c:\\Users\\User.MORADI-PC\\anaconda3\\envs\\tf\\lib\\site-packages\\xgboost\\data.py:250: FutureWarning: pandas.Int64Index is deprecated and will be removed from pandas in a future version. Use pandas.Index with the appropriate dtype instead.\n",
      "  elif isinstance(data.columns, (pd.Int64Index, pd.RangeIndex)):\n"
     ]
    },
    {
     "name": "stdout",
     "output_type": "stream",
     "text": [
      "number of windows= 40 \n",
      "size of windows = 50 10 \n",
      "last window size = 50 10\n",
      "size of similarity tensor = (10, 10, 40)\n",
      "size of second order similarity matrix = (100, 100)\n"
     ]
    },
    {
     "name": "stderr",
     "output_type": "stream",
     "text": [
      "c:\\Users\\User.MORADI-PC\\anaconda3\\envs\\tf\\lib\\site-packages\\xgboost\\data.py:250: FutureWarning: pandas.Int64Index is deprecated and will be removed from pandas in a future version. Use pandas.Index with the appropriate dtype instead.\n",
      "  elif isinstance(data.columns, (pd.Int64Index, pd.RangeIndex)):\n"
     ]
    },
    {
     "name": "stdout",
     "output_type": "stream",
     "text": [
      "number of windows= 40 \n",
      "size of windows = 50 10 \n",
      "last window size = 50 10\n",
      "size of similarity tensor = (10, 10, 40)\n",
      "size of second order similarity matrix = (100, 100)\n"
     ]
    },
    {
     "name": "stderr",
     "output_type": "stream",
     "text": [
      "c:\\Users\\User.MORADI-PC\\anaconda3\\envs\\tf\\lib\\site-packages\\xgboost\\data.py:250: FutureWarning: pandas.Int64Index is deprecated and will be removed from pandas in a future version. Use pandas.Index with the appropriate dtype instead.\n",
      "  elif isinstance(data.columns, (pd.Int64Index, pd.RangeIndex)):\n"
     ]
    },
    {
     "name": "stdout",
     "output_type": "stream",
     "text": [
      "number of windows= 40 \n",
      "size of windows = 50 10 \n",
      "last window size = 50 10\n",
      "size of similarity tensor = (10, 10, 40)\n",
      "size of second order similarity matrix = (100, 100)\n"
     ]
    },
    {
     "name": "stderr",
     "output_type": "stream",
     "text": [
      "c:\\Users\\User.MORADI-PC\\anaconda3\\envs\\tf\\lib\\site-packages\\xgboost\\data.py:250: FutureWarning: pandas.Int64Index is deprecated and will be removed from pandas in a future version. Use pandas.Index with the appropriate dtype instead.\n",
      "  elif isinstance(data.columns, (pd.Int64Index, pd.RangeIndex)):\n"
     ]
    },
    {
     "name": "stdout",
     "output_type": "stream",
     "text": [
      "number of windows= 40 \n",
      "size of windows = 50 10 \n",
      "last window size = 50 10\n",
      "size of similarity tensor = (10, 10, 40)\n",
      "size of second order similarity matrix = (100, 100)\n"
     ]
    },
    {
     "name": "stderr",
     "output_type": "stream",
     "text": [
      "c:\\Users\\User.MORADI-PC\\anaconda3\\envs\\tf\\lib\\site-packages\\xgboost\\data.py:250: FutureWarning: pandas.Int64Index is deprecated and will be removed from pandas in a future version. Use pandas.Index with the appropriate dtype instead.\n",
      "  elif isinstance(data.columns, (pd.Int64Index, pd.RangeIndex)):\n"
     ]
    },
    {
     "name": "stdout",
     "output_type": "stream",
     "text": [
      "number of windows= 40 \n",
      "size of windows = 50 10 \n",
      "last window size = 50 10\n",
      "size of similarity tensor = (10, 10, 40)\n",
      "size of second order similarity matrix = (100, 100)\n"
     ]
    },
    {
     "name": "stderr",
     "output_type": "stream",
     "text": [
      "c:\\Users\\User.MORADI-PC\\anaconda3\\envs\\tf\\lib\\site-packages\\xgboost\\data.py:250: FutureWarning: pandas.Int64Index is deprecated and will be removed from pandas in a future version. Use pandas.Index with the appropriate dtype instead.\n",
      "  elif isinstance(data.columns, (pd.Int64Index, pd.RangeIndex)):\n"
     ]
    },
    {
     "name": "stdout",
     "output_type": "stream",
     "text": [
      "number of windows= 40 \n",
      "size of windows = 50 10 \n",
      "last window size = 50 10\n",
      "size of similarity tensor = (10, 10, 40)\n",
      "size of second order similarity matrix = (100, 100)\n"
     ]
    },
    {
     "name": "stderr",
     "output_type": "stream",
     "text": [
      "c:\\Users\\User.MORADI-PC\\anaconda3\\envs\\tf\\lib\\site-packages\\xgboost\\data.py:250: FutureWarning: pandas.Int64Index is deprecated and will be removed from pandas in a future version. Use pandas.Index with the appropriate dtype instead.\n",
      "  elif isinstance(data.columns, (pd.Int64Index, pd.RangeIndex)):\n"
     ]
    },
    {
     "name": "stdout",
     "output_type": "stream",
     "text": [
      "number of windows= 40 \n",
      "size of windows = 50 10 \n",
      "last window size = 50 10\n",
      "size of similarity tensor = (10, 10, 40)\n",
      "size of second order similarity matrix = (100, 100)\n"
     ]
    },
    {
     "name": "stderr",
     "output_type": "stream",
     "text": [
      "c:\\Users\\User.MORADI-PC\\anaconda3\\envs\\tf\\lib\\site-packages\\xgboost\\data.py:250: FutureWarning: pandas.Int64Index is deprecated and will be removed from pandas in a future version. Use pandas.Index with the appropriate dtype instead.\n",
      "  elif isinstance(data.columns, (pd.Int64Index, pd.RangeIndex)):\n"
     ]
    },
    {
     "name": "stdout",
     "output_type": "stream",
     "text": [
      "number of windows= 40 \n",
      "size of windows = 50 10 \n",
      "last window size = 50 10\n",
      "size of similarity tensor = (10, 10, 40)\n",
      "size of second order similarity matrix = (100, 100)\n"
     ]
    },
    {
     "name": "stderr",
     "output_type": "stream",
     "text": [
      "c:\\Users\\User.MORADI-PC\\anaconda3\\envs\\tf\\lib\\site-packages\\xgboost\\data.py:250: FutureWarning: pandas.Int64Index is deprecated and will be removed from pandas in a future version. Use pandas.Index with the appropriate dtype instead.\n",
      "  elif isinstance(data.columns, (pd.Int64Index, pd.RangeIndex)):\n"
     ]
    },
    {
     "name": "stdout",
     "output_type": "stream",
     "text": [
      "number of windows= 40 \n",
      "size of windows = 50 10 \n",
      "last window size = 50 10\n",
      "size of similarity tensor = (10, 10, 40)\n",
      "size of second order similarity matrix = (100, 100)\n"
     ]
    },
    {
     "name": "stderr",
     "output_type": "stream",
     "text": [
      "c:\\Users\\User.MORADI-PC\\anaconda3\\envs\\tf\\lib\\site-packages\\xgboost\\data.py:250: FutureWarning: pandas.Int64Index is deprecated and will be removed from pandas in a future version. Use pandas.Index with the appropriate dtype instead.\n",
      "  elif isinstance(data.columns, (pd.Int64Index, pd.RangeIndex)):\n"
     ]
    },
    {
     "name": "stdout",
     "output_type": "stream",
     "text": [
      "number of windows= 40 \n",
      "size of windows = 50 10 \n",
      "last window size = 50 10\n",
      "size of similarity tensor = (10, 10, 40)\n",
      "size of second order similarity matrix = (100, 100)\n"
     ]
    },
    {
     "name": "stderr",
     "output_type": "stream",
     "text": [
      "c:\\Users\\User.MORADI-PC\\anaconda3\\envs\\tf\\lib\\site-packages\\xgboost\\data.py:250: FutureWarning: pandas.Int64Index is deprecated and will be removed from pandas in a future version. Use pandas.Index with the appropriate dtype instead.\n",
      "  elif isinstance(data.columns, (pd.Int64Index, pd.RangeIndex)):\n"
     ]
    },
    {
     "name": "stdout",
     "output_type": "stream",
     "text": [
      "number of windows= 40 \n",
      "size of windows = 50 10 \n",
      "last window size = 50 10\n",
      "size of similarity tensor = (10, 10, 40)\n",
      "size of second order similarity matrix = (100, 100)\n"
     ]
    },
    {
     "name": "stderr",
     "output_type": "stream",
     "text": [
      "c:\\Users\\User.MORADI-PC\\anaconda3\\envs\\tf\\lib\\site-packages\\xgboost\\data.py:250: FutureWarning: pandas.Int64Index is deprecated and will be removed from pandas in a future version. Use pandas.Index with the appropriate dtype instead.\n",
      "  elif isinstance(data.columns, (pd.Int64Index, pd.RangeIndex)):\n"
     ]
    },
    {
     "name": "stdout",
     "output_type": "stream",
     "text": [
      "number of windows= 40 \n",
      "size of windows = 50 10 \n",
      "last window size = 50 10\n",
      "size of similarity tensor = (10, 10, 40)\n",
      "size of second order similarity matrix = (100, 100)\n"
     ]
    },
    {
     "name": "stderr",
     "output_type": "stream",
     "text": [
      "c:\\Users\\User.MORADI-PC\\anaconda3\\envs\\tf\\lib\\site-packages\\xgboost\\data.py:250: FutureWarning: pandas.Int64Index is deprecated and will be removed from pandas in a future version. Use pandas.Index with the appropriate dtype instead.\n",
      "  elif isinstance(data.columns, (pd.Int64Index, pd.RangeIndex)):\n"
     ]
    },
    {
     "name": "stdout",
     "output_type": "stream",
     "text": [
      "number of windows= 40 \n",
      "size of windows = 50 10 \n",
      "last window size = 50 10\n",
      "size of similarity tensor = (10, 10, 40)\n",
      "size of second order similarity matrix = (100, 100)\n"
     ]
    },
    {
     "name": "stderr",
     "output_type": "stream",
     "text": [
      "c:\\Users\\User.MORADI-PC\\anaconda3\\envs\\tf\\lib\\site-packages\\xgboost\\data.py:250: FutureWarning: pandas.Int64Index is deprecated and will be removed from pandas in a future version. Use pandas.Index with the appropriate dtype instead.\n",
      "  elif isinstance(data.columns, (pd.Int64Index, pd.RangeIndex)):\n"
     ]
    },
    {
     "name": "stdout",
     "output_type": "stream",
     "text": [
      "number of windows= 40 \n",
      "size of windows = 50 10 \n",
      "last window size = 50 10\n",
      "size of similarity tensor = (10, 10, 40)\n",
      "size of second order similarity matrix = (100, 100)\n"
     ]
    },
    {
     "name": "stderr",
     "output_type": "stream",
     "text": [
      "c:\\Users\\User.MORADI-PC\\anaconda3\\envs\\tf\\lib\\site-packages\\xgboost\\data.py:250: FutureWarning: pandas.Int64Index is deprecated and will be removed from pandas in a future version. Use pandas.Index with the appropriate dtype instead.\n",
      "  elif isinstance(data.columns, (pd.Int64Index, pd.RangeIndex)):\n"
     ]
    },
    {
     "name": "stdout",
     "output_type": "stream",
     "text": [
      "number of windows= 40 \n",
      "size of windows = 50 10 \n",
      "last window size = 50 10\n",
      "size of similarity tensor = (10, 10, 40)\n",
      "size of second order similarity matrix = (100, 100)\n"
     ]
    },
    {
     "name": "stderr",
     "output_type": "stream",
     "text": [
      "c:\\Users\\User.MORADI-PC\\anaconda3\\envs\\tf\\lib\\site-packages\\xgboost\\data.py:250: FutureWarning: pandas.Int64Index is deprecated and will be removed from pandas in a future version. Use pandas.Index with the appropriate dtype instead.\n",
      "  elif isinstance(data.columns, (pd.Int64Index, pd.RangeIndex)):\n"
     ]
    },
    {
     "name": "stdout",
     "output_type": "stream",
     "text": [
      "number of windows= 40 \n",
      "size of windows = 50 10 \n",
      "last window size = 50 10\n",
      "size of similarity tensor = (10, 10, 40)\n",
      "size of second order similarity matrix = (100, 100)\n"
     ]
    },
    {
     "name": "stderr",
     "output_type": "stream",
     "text": [
      "c:\\Users\\User.MORADI-PC\\anaconda3\\envs\\tf\\lib\\site-packages\\xgboost\\data.py:250: FutureWarning: pandas.Int64Index is deprecated and will be removed from pandas in a future version. Use pandas.Index with the appropriate dtype instead.\n",
      "  elif isinstance(data.columns, (pd.Int64Index, pd.RangeIndex)):\n"
     ]
    },
    {
     "name": "stdout",
     "output_type": "stream",
     "text": [
      "RMSE of f_s model is [ 89.86  88.5   59.66  89.23 104.63  89.66  54.56  79.89  53.82 101.75\n",
      "  55.52  58.05 108.58 122.87  51.67  53.13  70.56  98.81 103.3   72.14\n",
      "  92.27 129.03  72.29]\n",
      "RMSE of pca model is [ 95.65  93.97  66.15  90.19  79.83  61.69  57.48  91.47  71.24 100.2\n",
      "  63.21  67.69 120.98 117.76  64.74  65.84  68.94 115.99 103.93  75.85\n",
      " 100.95 128.51  63.19]\n"
     ]
    },
    {
     "data": {
      "image/png": "[encoded data removed]",
      "text/plain": [
       "<Figure size 640x480 with 1 Axes>"
      ]
     },
     "metadata": {},
     "output_type": "display_data"
    }
   ],
   "source": [
    "window_size=50 #depends on the number of records\n",
    "num_comp = 4\n",
    "interval_ = 2000\n",
    "testSize=500\n",
    "method_list,pca_list=mse_xgboost_segment(data_without_target,data_with_target.iloc[:,10],window_size,num_comp,interval_,testSize)\n",
    "\n",
    "t = np.arange(len(method_list))\n",
    "t.shape\n",
    "fig, ax = plt.subplots()\n",
    "ax.plot(t,method_list, label='our method')\n",
    "\n",
    "# Plot another line on the same chart/graph\n",
    "ax.plot(t, pca_list, label='PCA method')\n",
    "legend = ax.legend(loc='upper left', shadow=True, fontsize='large')\n",
    "plt.show()"
   ]
  }
 ],
 "metadata": {
  "kernelspec": {
   "display_name": "Python 3.10.8 ('tf')",
   "language": "python",
   "name": "python3"
  },
  "language_info": {
   "codemirror_mode": {
    "name": "ipython",
    "version": 3
   },
   "file_extension": ".py",
   "mimetype": "text/x-python",
   "name": "python",
   "nbconvert_exporter": "python",
   "pygments_lexer": "ipython3",
   "version": "3.10.8"
  },
  "vscode": {
   "interpreter": {
    "hash": "eb9bb2fa3c6d437e42749e79e4a1d55d8d222e6cc8216a87b1a35470410f9d89"
   }
  }
 },
 "nbformat": 4,
 "nbformat_minor": 4
}
