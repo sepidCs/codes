{
 "cells": [
  {
   "cell_type": "code",
   "execution_count": 1,
   "metadata": {},
   "outputs": [],
   "source": [
    "import allutils.graph_generator\n",
    "from allutils.general_PR import flowPR\n",
    "import networkx as nx\n",
    "import matplotlib.pyplot as plt\n",
    "import numpy as np\n",
    "import pickle\n",
    "import uuid\n",
    "import sys\n",
    "from allutils.utils_experiments import *"
   ]
  },
  {
   "cell_type": "code",
   "execution_count": 6,
   "metadata": {},
   "outputs": [],
   "source": [
    "\n",
    "dir = 'data/input100.txt'\n",
    "\n",
    "do_plot = True\n",
    "do_dump = False\n",
    "\n",
    "iters = 1376 #number of temporal edges in the graph\n",
    "\n",
    "alpha = 0.85\n",
    "beta = 0.0\n",
    "gamma = 1.0\n",
    "\n"
   ]
  },
  {
   "cell_type": "code",
   "execution_count": 7,
   "metadata": {},
   "outputs": [
    {
     "name": "stdout",
     "output_type": "stream",
     "text": [
      "6\n",
      "DiGraph with 61 nodes and 1376 edges\n"
     ]
    }
   ],
   "source": [
    "G = allutils.graph_generator.weighted_DiGraph(dir)\n",
    "norm = sum([val for (node, val) in G.out_degree(weight='weight')])\n",
    "sampling_edges = {e[:-1]: e[-1]['weight']/norm for e in G.edges(data=True)}\n",
    "stream = [list(sampling_edges.keys())[i] for i in np.random.choice(range(len(sampling_edges)), size=iters,)]# p=sampling_edges.values()\n",
    "    "
   ]
  },
  {
   "cell_type": "code",
   "execution_count": null,
   "metadata": {},
   "outputs": [],
   "source": [
    "\n",
    "# basic (degree personalization)\n",
    "personalization = {k: v / norm for k, v in G.out_degree(weight='weight')}\n",
    "p_prime_nodes = {i: personalization[i]/G.out_degree(i, weight='weight') for i in G.nodes()}\n",
    "pr_basic = nx.pagerank(G, alpha=alpha, personalization=personalization, weight='weight')\n",
    "RS4_basic, current_basic = {}, {}\n",
    "RS4_basic, current_basic, tau_basic, spearman_basic, pearson_basic, error_basic, x = flowPR(p_prime_nodes, pr_basic, stream, RS4_basic, current_basic, iters = iters, beta = beta, gamma = gamma)\n"
   ]
  },
  {
   "cell_type": "code",
   "execution_count": null,
   "metadata": {},
   "outputs": [],
   "source": [
    "# no personalization\n",
    "personalization = {k: 1.0 / G.number_of_nodes() for k in G.nodes()}\n",
    "p_prime_nodes = {i: personalization[i]/G.out_degree(i, weight='weight') for i in G.nodes()}\n",
    "pr_nopers = nx.pagerank(G, alpha=alpha, personalization=personalization, weight='weight')\n",
    "RS4_nopers, current_nopers = {}, {}\n",
    "RS4_nopers, current_nopers, tau_nopers, spearman_nopers, pearson_nopers, error_nopers, x = flowPR(p_prime_nodes, pr_nopers, stream,RS4_nopers, current_nopers, iters = iters, beta = beta, gamma = gamma)\n"
   ]
  },
  {
   "cell_type": "code",
   "execution_count": null,
   "metadata": {},
   "outputs": [],
   "source": [
    "# random personalization\n",
    "personalization = {k: np.random.uniform(1e-5, 1.0) for k in G.nodes()}\n",
    "personalization = {k: v/ sum(personalization.values()) for k,v in personalization.items()}\n",
    "p_prime_nodes = {i: personalization[i]/G.out_degree(i, weight='weight') for i in G.nodes()}\n",
    "pr_rand = nx.pagerank(G, alpha=alpha, personalization=personalization, weight='weight')\n",
    "RS4_rand, current_rand = {}, {}\n",
    "RS4_rand, current_rand, tau_rand, spearman_rand, pearson_rand, error_rand, x = flowPR(p_prime_nodes, pr_rand, stream, RS4_rand, current_rand, iters = iters, beta = beta, gamma = gamma)\n"
   ]
  },
  {
   "cell_type": "code",
   "execution_count": null,
   "metadata": {},
   "outputs": [],
   "source": [
    "if do_dump:        \n",
    "    unique_out = mode + '_personalization_' + str(uuid.uuid4())\n",
    "    pickle.dump([pr_basic, RS4_basic, pearson_basic, spearman_basic, tau_basic, error_basic, x,\n",
    "                    pr_nopers, RS4_nopers, pearson_nopers, spearman_nopers, tau_nopers, error_nopers,\n",
    "                    pr_rand, RS4_rand, pearson_rand, spearman_rand, tau_rand, error_rand], open(unique_out+\".p\", \"wb\"))\n",
    "if do_plot:\n",
    "\n",
    "    ordered_pr_ref_basic, ordered_pr_out_basic = get_ordered_ranks(pr_basic, RS4_basic)\n",
    "    ordered_pr_ref_nopers, ordered_pr_out_nopers = get_ordered_ranks(pr_nopers, RS4_nopers)\n",
    "    ordered_pr_ref_rand, ordered_pr_out_rand = get_ordered_ranks(pr_rand, RS4_rand)\n",
    "\n",
    "    plt.rcParams.update({'font.size': 20, 'lines.linewidth': 3})\n",
    "    plt.rcParams['xtick.labelsize'] = 25\n",
    "    plt.rcParams['ytick.labelsize'] = 25\n",
    "    \n",
    "    \n",
    "    # scatter plot for rankings\n",
    "    plt.figure('scatter_' + mode)\n",
    "    plt.scatter(ordered_pr_ref_basic, ordered_pr_out_basic, s=50, c='b')\n",
    "    plt.plot(range(1, 101), range(1, 101), 'k--')\n",
    "    plt.xlabel('static PageRank', fontsize=25)\n",
    "    plt.ylabel('temporal PageRank', fontsize=25)\n",
    "    plt.ylim((0, 101))\n",
    "    plt.xlim((0, 101))\n",
    "    plt.tight_layout()\n",
    "    plt.savefig(mode + '_scatter.pdf')\n",
    "\n",
    "    \n",
    "    \n",
    "    plt.figure('convergence_basic_' + mode)        \n",
    "    plt.plot(x, pearson_basic, 'k--')\n",
    "    plt.plot(x, spearman_basic, 'k-')\n",
    "    #plt.plot(x, tau_basic, 'k-.')\n",
    "    plt.plot(x, error_basic, 'k:')\n",
    "    plt.xlabel('number of temporal edges', fontsize=25)\n",
    "    plt.ylim((0, 1))\n",
    "    plt.legend(['Pearson\\'s r', 'Spearman\\'s rho', 'error'], loc=0)\n",
    "    plt.tight_layout()\n",
    "    plt.savefig(mode+'_convergence_basic.pdf')\n",
    "    \n",
    "    \n",
    "    \n",
    "    plt.figure('convergence_rand' + mode)\n",
    "    plt.plot(x, pearson_rand, 'k--')\n",
    "    plt.plot(x, spearman_rand, 'k-')\n",
    "    #plt.plot(x, tau_basic, 'k-.')\n",
    "    plt.plot(x, error_rand, 'k:')\n",
    "    plt.xlabel('number of temporal edges', fontsize=25)\n",
    "    plt.ylim((0, 1))\n",
    "    plt.legend(['Pearson\\'s r', 'Spearman\\'s rho', 'error'], loc=0)\n",
    "    plt.tight_layout()\n",
    "    plt.savefig(mode+'_convergence_rand.pdf')\n",
    "    #plt.show()\n"
   ]
  },
  {
   "cell_type": "code",
   "execution_count": null,
   "metadata": {},
   "outputs": [],
   "source": []
  }
 ],
 "metadata": {
  "interpreter": {
   "hash": "ee6ef56facda7503055c4941e2c2083c4bcc9ecb08a66ac58f56d3b05ea5e5fc"
  },
  "kernelspec": {
   "display_name": "Python 3",
   "language": "python",
   "name": "python3"
  },
  "language_info": {
   "codemirror_mode": {
    "name": "ipython",
    "version": 3
   },
   "file_extension": ".py",
   "mimetype": "text/x-python",
   "name": "python",
   "nbconvert_exporter": "python",
   "pygments_lexer": "ipython3",
   "version": "3.8.10"
  }
 },
 "nbformat": 4,
 "nbformat_minor": 2
}
