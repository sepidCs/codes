{
 "cells": [
  {
   "cell_type": "code",
   "execution_count": 1,
   "metadata": {},
   "outputs": [
    {
     "name": "stdout",
     "output_type": "stream",
     "text": [
      "Cloning into 'temporal-pagerank'...\n",
      "remote: Enumerating objects: 83, done.\u001b[K\n",
      "remote: Counting objects: 100% (83/83), done.\u001b[K\n",
      "remote: Compressing objects: 100% (57/57), done.\u001b[K\n",
      "remote: Total 83 (delta 26), reused 78 (delta 21), pack-reused 0\u001b[K\n",
      "Unpacking objects: 100% (83/83), 1.29 MiB | 672.00 KiB/s, done.\n"
     ]
    }
   ],
   "source": [
    "# !git clone https://github.com/mahdipc/temporal-pagerank.git"
   ]
  },
  {
   "cell_type": "code",
   "execution_count": 6,
   "metadata": {},
   "outputs": [
    {
     "name": "stdout",
     "output_type": "stream",
     "text": [
      "Collecting scipy\n",
      "  Downloading scipy-1.8.1-cp38-cp38-manylinux_2_17_x86_64.manylinux2014_x86_64.whl (41.6 MB)\n",
      "\u001b[K     |████████████████████████████████| 41.6 MB 143 kB/s eta 0:00:01\n",
      "\u001b[?25hRequirement already satisfied: numpy<1.25.0,>=1.17.3 in /home/mehdi/.local/lib/python3.8/site-packages (from scipy) (1.22.3)\n",
      "Installing collected packages: scipy\n",
      "Successfully installed scipy-1.8.1\n",
      "Note: you may need to restart the kernel to use updated packages.\n"
     ]
    }
   ],
   "source": [
    "# pip install scipy"
   ]
  },
  {
   "cell_type": "code",
   "execution_count": 20,
   "metadata": {},
   "outputs": [],
   "source": [
    "import allutils.graph_generator\n",
    "from allutils.general_PR import flowPR\n",
    "import networkx as nx\n",
    "import matplotlib.pyplot as plt\n",
    "import numpy as np\n",
    "import pickle\n",
    "import uuid\n",
    "import sys\n",
    "from allutils.utils_experiments import *"
   ]
  },
  {
   "cell_type": "code",
   "execution_count": 21,
   "metadata": {},
   "outputs": [],
   "source": [
    "import scipy.stats\n",
    "# from graph_generator import *\n",
    "import copy\n",
    "import pandas as pd\n",
    "from sklearn.metrics.pairwise import cosine_similarity\n",
    "import datetime \n",
    "from sklearn.linear_model import LinearRegression\n",
    "from sklearn.model_selection import train_test_split\n",
    "from sklearn import metrics\n",
    "from sklearn.preprocessing import  StandardScaler\n",
    "from sklearn.decomposition import PCA\n",
    "import xgboost as xg\n",
    "import os\n",
    "import pathlib"
   ]
  },
  {
   "cell_type": "code",
   "execution_count": 22,
   "metadata": {},
   "outputs": [
    {
     "data": {
      "text/plain": [
       "[1, 66, 9]"
      ]
     },
     "execution_count": 22,
     "metadata": {},
     "output_type": "execute_result"
    }
   ],
   "source": [
    "a=[6,8,6,52,1,66,9]\n",
    "a[-3:]"
   ]
  },
  {
   "cell_type": "code",
   "execution_count": 33,
   "metadata": {},
   "outputs": [],
   "source": [
    "# data with target column\n",
    "dateparse = lambda x: pd.to_datetime(x, format='%Y-%m-%d', errors='coerce')\n",
    "data1= pd.read_csv('../data/data_with_target.csv' ,index_col=[\"date\",\"permno\"], parse_dates=['date'], date_parser=dateparse, skipinitialspace=True)\n",
    "data1.shape\n",
    "# 13 component PCA\n",
    "data_pca1= pd.read_csv('../data/data_pca5_with_target.csv' ,index_col=[\"date\",\"permno\"], parse_dates=['date'], date_parser=dateparse, skipinitialspace=True)\n"
   ]
  },
  {
   "cell_type": "code",
   "execution_count": 34,
   "metadata": {},
   "outputs": [
    {
     "data": {
      "text/html": [
       "<div>\n",
       "<style scoped>\n",
       "    .dataframe tbody tr th:only-of-type {\n",
       "        vertical-align: middle;\n",
       "    }\n",
       "\n",
       "    .dataframe tbody tr th {\n",
       "        vertical-align: top;\n",
       "    }\n",
       "\n",
       "    .dataframe thead th {\n",
       "        text-align: right;\n",
       "    }\n",
       "</style>\n",
       "<table border=\"1\" class=\"dataframe\">\n",
       "  <thead>\n",
       "    <tr style=\"text-align: right;\">\n",
       "      <th></th>\n",
       "      <th></th>\n",
       "      <th>yy</th>\n",
       "      <th>mm</th>\n",
       "      <th>ret</th>\n",
       "      <th>prc</th>\n",
       "      <th>size</th>\n",
       "      <th>q10</th>\n",
       "      <th>q20</th>\n",
       "      <th>q30</th>\n",
       "      <th>q40</th>\n",
       "      <th>q50</th>\n",
       "      <th>...</th>\n",
       "      <th>beta_daily</th>\n",
       "      <th>idio_vol</th>\n",
       "      <th>total_vol</th>\n",
       "      <th>std_volume</th>\n",
       "      <th>std_turn</th>\n",
       "      <th>lme_adj</th>\n",
       "      <th>beme_adj</th>\n",
       "      <th>pm_adj</th>\n",
       "      <th>at_adj</th>\n",
       "      <th>TARGET</th>\n",
       "    </tr>\n",
       "    <tr>\n",
       "      <th>date</th>\n",
       "      <th>permno</th>\n",
       "      <th></th>\n",
       "      <th></th>\n",
       "      <th></th>\n",
       "      <th></th>\n",
       "      <th></th>\n",
       "      <th></th>\n",
       "      <th></th>\n",
       "      <th></th>\n",
       "      <th></th>\n",
       "      <th></th>\n",
       "      <th></th>\n",
       "      <th></th>\n",
       "      <th></th>\n",
       "      <th></th>\n",
       "      <th></th>\n",
       "      <th></th>\n",
       "      <th></th>\n",
       "      <th></th>\n",
       "      <th></th>\n",
       "      <th></th>\n",
       "      <th></th>\n",
       "    </tr>\n",
       "  </thead>\n",
       "  <tbody>\n",
       "    <tr>\n",
       "      <th rowspan=\"2\" valign=\"top\">1962-07-31</th>\n",
       "      <th>19940</th>\n",
       "      <td>-2.648223</td>\n",
       "      <td>0.145450</td>\n",
       "      <td>-0.146413</td>\n",
       "      <td>0.019617</td>\n",
       "      <td>-0.120717</td>\n",
       "      <td>-1.063216</td>\n",
       "      <td>-1.079224</td>\n",
       "      <td>-1.129578</td>\n",
       "      <td>-1.156967</td>\n",
       "      <td>-1.210099</td>\n",
       "      <td>...</td>\n",
       "      <td>0.012111</td>\n",
       "      <td>-0.170310</td>\n",
       "      <td>-0.117195</td>\n",
       "      <td>-0.127241</td>\n",
       "      <td>-0.306714</td>\n",
       "      <td>-0.004726</td>\n",
       "      <td>-0.605992</td>\n",
       "      <td>-0.004893</td>\n",
       "      <td>0.914182</td>\n",
       "      <td>0.549665</td>\n",
       "    </tr>\n",
       "    <tr>\n",
       "      <th>25160</th>\n",
       "      <td>-2.648223</td>\n",
       "      <td>0.145450</td>\n",
       "      <td>-0.316945</td>\n",
       "      <td>0.009621</td>\n",
       "      <td>-0.159645</td>\n",
       "      <td>-1.063216</td>\n",
       "      <td>-1.079224</td>\n",
       "      <td>-1.129578</td>\n",
       "      <td>-1.156967</td>\n",
       "      <td>-1.210099</td>\n",
       "      <td>...</td>\n",
       "      <td>0.237826</td>\n",
       "      <td>-0.493377</td>\n",
       "      <td>-0.238926</td>\n",
       "      <td>-0.127233</td>\n",
       "      <td>-0.267125</td>\n",
       "      <td>-0.052931</td>\n",
       "      <td>0.697669</td>\n",
       "      <td>-0.005120</td>\n",
       "      <td>-0.767922</td>\n",
       "      <td>0.083099</td>\n",
       "    </tr>\n",
       "    <tr>\n",
       "      <th rowspan=\"2\" valign=\"top\">1962-08-31</th>\n",
       "      <th>19940</th>\n",
       "      <td>-2.648223</td>\n",
       "      <td>0.434492</td>\n",
       "      <td>0.549665</td>\n",
       "      <td>0.025122</td>\n",
       "      <td>-0.120717</td>\n",
       "      <td>-1.051197</td>\n",
       "      <td>-1.071258</td>\n",
       "      <td>-1.119878</td>\n",
       "      <td>-1.150597</td>\n",
       "      <td>-1.202454</td>\n",
       "      <td>...</td>\n",
       "      <td>-0.298068</td>\n",
       "      <td>-0.679408</td>\n",
       "      <td>-0.751803</td>\n",
       "      <td>-0.127207</td>\n",
       "      <td>-0.306133</td>\n",
       "      <td>-0.005374</td>\n",
       "      <td>-0.605992</td>\n",
       "      <td>-0.004893</td>\n",
       "      <td>0.914182</td>\n",
       "      <td>-0.381573</td>\n",
       "    </tr>\n",
       "    <tr>\n",
       "      <th>25160</th>\n",
       "      <td>-2.648223</td>\n",
       "      <td>0.434492</td>\n",
       "      <td>0.083099</td>\n",
       "      <td>0.010490</td>\n",
       "      <td>-0.159645</td>\n",
       "      <td>-1.051197</td>\n",
       "      <td>-1.071258</td>\n",
       "      <td>-1.119878</td>\n",
       "      <td>-1.150597</td>\n",
       "      <td>-1.202454</td>\n",
       "      <td>...</td>\n",
       "      <td>-0.190870</td>\n",
       "      <td>-0.503803</td>\n",
       "      <td>-0.560414</td>\n",
       "      <td>-0.127233</td>\n",
       "      <td>-0.267104</td>\n",
       "      <td>-0.054238</td>\n",
       "      <td>0.697669</td>\n",
       "      <td>-0.005120</td>\n",
       "      <td>-0.767922</td>\n",
       "      <td>-0.442115</td>\n",
       "    </tr>\n",
       "    <tr>\n",
       "      <th>1962-09-30</th>\n",
       "      <th>19940</th>\n",
       "      <td>-2.648223</td>\n",
       "      <td>0.723534</td>\n",
       "      <td>-0.381573</td>\n",
       "      <td>0.021790</td>\n",
       "      <td>-0.120717</td>\n",
       "      <td>-1.050753</td>\n",
       "      <td>-1.070844</td>\n",
       "      <td>-1.117299</td>\n",
       "      <td>-1.147227</td>\n",
       "      <td>-1.199107</td>\n",
       "      <td>...</td>\n",
       "      <td>0.153155</td>\n",
       "      <td>-0.639003</td>\n",
       "      <td>-0.648479</td>\n",
       "      <td>-0.127103</td>\n",
       "      <td>-0.304431</td>\n",
       "      <td>-0.002141</td>\n",
       "      <td>-0.605992</td>\n",
       "      <td>-0.004893</td>\n",
       "      <td>0.914182</td>\n",
       "      <td>-0.240096</td>\n",
       "    </tr>\n",
       "    <tr>\n",
       "      <th>...</th>\n",
       "      <th>...</th>\n",
       "      <td>...</td>\n",
       "      <td>...</td>\n",
       "      <td>...</td>\n",
       "      <td>...</td>\n",
       "      <td>...</td>\n",
       "      <td>...</td>\n",
       "      <td>...</td>\n",
       "      <td>...</td>\n",
       "      <td>...</td>\n",
       "      <td>...</td>\n",
       "      <td>...</td>\n",
       "      <td>...</td>\n",
       "      <td>...</td>\n",
       "      <td>...</td>\n",
       "      <td>...</td>\n",
       "      <td>...</td>\n",
       "      <td>...</td>\n",
       "      <td>...</td>\n",
       "      <td>...</td>\n",
       "      <td>...</td>\n",
       "      <td>...</td>\n",
       "    </tr>\n",
       "    <tr>\n",
       "      <th rowspan=\"5\" valign=\"top\">1964-08-31</th>\n",
       "      <th>19377</th>\n",
       "      <td>-2.482379</td>\n",
       "      <td>0.434492</td>\n",
       "      <td>-0.095147</td>\n",
       "      <td>0.027585</td>\n",
       "      <td>-0.104143</td>\n",
       "      <td>-1.008600</td>\n",
       "      <td>-1.038489</td>\n",
       "      <td>-1.089653</td>\n",
       "      <td>-1.124939</td>\n",
       "      <td>-1.177502</td>\n",
       "      <td>...</td>\n",
       "      <td>-0.031433</td>\n",
       "      <td>-0.590288</td>\n",
       "      <td>-0.670509</td>\n",
       "      <td>-0.120251</td>\n",
       "      <td>-0.232627</td>\n",
       "      <td>0.021172</td>\n",
       "      <td>-0.268902</td>\n",
       "      <td>-0.004528</td>\n",
       "      <td>-0.619396</td>\n",
       "      <td>0.184325</td>\n",
       "    </tr>\n",
       "    <tr>\n",
       "      <th>19406</th>\n",
       "      <td>-2.482379</td>\n",
       "      <td>0.434492</td>\n",
       "      <td>0.376806</td>\n",
       "      <td>0.030483</td>\n",
       "      <td>-0.148532</td>\n",
       "      <td>-1.008600</td>\n",
       "      <td>-1.038489</td>\n",
       "      <td>-1.089653</td>\n",
       "      <td>-1.124939</td>\n",
       "      <td>-1.177502</td>\n",
       "      <td>...</td>\n",
       "      <td>-0.257062</td>\n",
       "      <td>-0.748534</td>\n",
       "      <td>-0.831610</td>\n",
       "      <td>-0.125457</td>\n",
       "      <td>-0.250100</td>\n",
       "      <td>-0.049025</td>\n",
       "      <td>0.395611</td>\n",
       "      <td>-0.006125</td>\n",
       "      <td>-0.015240</td>\n",
       "      <td>0.097971</td>\n",
       "    </tr>\n",
       "    <tr>\n",
       "      <th>19414</th>\n",
       "      <td>-2.482379</td>\n",
       "      <td>0.434492</td>\n",
       "      <td>-0.290508</td>\n",
       "      <td>-0.004867</td>\n",
       "      <td>-0.125397</td>\n",
       "      <td>-1.008600</td>\n",
       "      <td>-1.038489</td>\n",
       "      <td>-1.089653</td>\n",
       "      <td>-1.124939</td>\n",
       "      <td>-1.177502</td>\n",
       "      <td>...</td>\n",
       "      <td>-1.436954</td>\n",
       "      <td>-0.447894</td>\n",
       "      <td>-0.501669</td>\n",
       "      <td>-0.124114</td>\n",
       "      <td>-0.281484</td>\n",
       "      <td>-0.058851</td>\n",
       "      <td>0.496841</td>\n",
       "      <td>0.000293</td>\n",
       "      <td>-0.823994</td>\n",
       "      <td>0.478001</td>\n",
       "    </tr>\n",
       "    <tr>\n",
       "      <th>19430</th>\n",
       "      <td>-2.482379</td>\n",
       "      <td>0.434492</td>\n",
       "      <td>0.435849</td>\n",
       "      <td>0.030917</td>\n",
       "      <td>-0.139818</td>\n",
       "      <td>-1.008600</td>\n",
       "      <td>-1.038489</td>\n",
       "      <td>-1.089653</td>\n",
       "      <td>-1.124939</td>\n",
       "      <td>-1.177502</td>\n",
       "      <td>...</td>\n",
       "      <td>-0.711713</td>\n",
       "      <td>-0.310687</td>\n",
       "      <td>-0.312690</td>\n",
       "      <td>-0.123522</td>\n",
       "      <td>-0.213870</td>\n",
       "      <td>-0.044468</td>\n",
       "      <td>0.149605</td>\n",
       "      <td>-0.004912</td>\n",
       "      <td>-0.095221</td>\n",
       "      <td>0.178692</td>\n",
       "    </tr>\n",
       "    <tr>\n",
       "      <th>19502</th>\n",
       "      <td>-2.482379</td>\n",
       "      <td>0.434492</td>\n",
       "      <td>-0.106733</td>\n",
       "      <td>0.000204</td>\n",
       "      <td>-0.158481</td>\n",
       "      <td>-1.008600</td>\n",
       "      <td>-1.038489</td>\n",
       "      <td>-1.089653</td>\n",
       "      <td>-1.124939</td>\n",
       "      <td>-1.177502</td>\n",
       "      <td>...</td>\n",
       "      <td>-1.152590</td>\n",
       "      <td>-0.796967</td>\n",
       "      <td>-0.866104</td>\n",
       "      <td>-0.126897</td>\n",
       "      <td>-0.281351</td>\n",
       "      <td>-0.037268</td>\n",
       "      <td>-0.322358</td>\n",
       "      <td>-0.005152</td>\n",
       "      <td>1.563784</td>\n",
       "      <td>-0.317461</td>\n",
       "    </tr>\n",
       "  </tbody>\n",
       "</table>\n",
       "<p>600 rows × 77 columns</p>\n",
       "</div>"
      ],
      "text/plain": [
       "                         yy        mm       ret       prc      size       q10  \\\n",
       "date       permno                                                               \n",
       "1962-07-31 19940  -2.648223  0.145450 -0.146413  0.019617 -0.120717 -1.063216   \n",
       "           25160  -2.648223  0.145450 -0.316945  0.009621 -0.159645 -1.063216   \n",
       "1962-08-31 19940  -2.648223  0.434492  0.549665  0.025122 -0.120717 -1.051197   \n",
       "           25160  -2.648223  0.434492  0.083099  0.010490 -0.159645 -1.051197   \n",
       "1962-09-30 19940  -2.648223  0.723534 -0.381573  0.021790 -0.120717 -1.050753   \n",
       "...                     ...       ...       ...       ...       ...       ...   \n",
       "1964-08-31 19377  -2.482379  0.434492 -0.095147  0.027585 -0.104143 -1.008600   \n",
       "           19406  -2.482379  0.434492  0.376806  0.030483 -0.148532 -1.008600   \n",
       "           19414  -2.482379  0.434492 -0.290508 -0.004867 -0.125397 -1.008600   \n",
       "           19430  -2.482379  0.434492  0.435849  0.030917 -0.139818 -1.008600   \n",
       "           19502  -2.482379  0.434492 -0.106733  0.000204 -0.158481 -1.008600   \n",
       "\n",
       "                        q20       q30       q40       q50  ...  beta_daily  \\\n",
       "date       permno                                          ...               \n",
       "1962-07-31 19940  -1.079224 -1.129578 -1.156967 -1.210099  ...    0.012111   \n",
       "           25160  -1.079224 -1.129578 -1.156967 -1.210099  ...    0.237826   \n",
       "1962-08-31 19940  -1.071258 -1.119878 -1.150597 -1.202454  ...   -0.298068   \n",
       "           25160  -1.071258 -1.119878 -1.150597 -1.202454  ...   -0.190870   \n",
       "1962-09-30 19940  -1.070844 -1.117299 -1.147227 -1.199107  ...    0.153155   \n",
       "...                     ...       ...       ...       ...  ...         ...   \n",
       "1964-08-31 19377  -1.038489 -1.089653 -1.124939 -1.177502  ...   -0.031433   \n",
       "           19406  -1.038489 -1.089653 -1.124939 -1.177502  ...   -0.257062   \n",
       "           19414  -1.038489 -1.089653 -1.124939 -1.177502  ...   -1.436954   \n",
       "           19430  -1.038489 -1.089653 -1.124939 -1.177502  ...   -0.711713   \n",
       "           19502  -1.038489 -1.089653 -1.124939 -1.177502  ...   -1.152590   \n",
       "\n",
       "                   idio_vol  total_vol  std_volume  std_turn   lme_adj  \\\n",
       "date       permno                                                        \n",
       "1962-07-31 19940  -0.170310  -0.117195   -0.127241 -0.306714 -0.004726   \n",
       "           25160  -0.493377  -0.238926   -0.127233 -0.267125 -0.052931   \n",
       "1962-08-31 19940  -0.679408  -0.751803   -0.127207 -0.306133 -0.005374   \n",
       "           25160  -0.503803  -0.560414   -0.127233 -0.267104 -0.054238   \n",
       "1962-09-30 19940  -0.639003  -0.648479   -0.127103 -0.304431 -0.002141   \n",
       "...                     ...        ...         ...       ...       ...   \n",
       "1964-08-31 19377  -0.590288  -0.670509   -0.120251 -0.232627  0.021172   \n",
       "           19406  -0.748534  -0.831610   -0.125457 -0.250100 -0.049025   \n",
       "           19414  -0.447894  -0.501669   -0.124114 -0.281484 -0.058851   \n",
       "           19430  -0.310687  -0.312690   -0.123522 -0.213870 -0.044468   \n",
       "           19502  -0.796967  -0.866104   -0.126897 -0.281351 -0.037268   \n",
       "\n",
       "                   beme_adj    pm_adj    at_adj    TARGET  \n",
       "date       permno                                          \n",
       "1962-07-31 19940  -0.605992 -0.004893  0.914182  0.549665  \n",
       "           25160   0.697669 -0.005120 -0.767922  0.083099  \n",
       "1962-08-31 19940  -0.605992 -0.004893  0.914182 -0.381573  \n",
       "           25160   0.697669 -0.005120 -0.767922 -0.442115  \n",
       "1962-09-30 19940  -0.605992 -0.004893  0.914182 -0.240096  \n",
       "...                     ...       ...       ...       ...  \n",
       "1964-08-31 19377  -0.268902 -0.004528 -0.619396  0.184325  \n",
       "           19406   0.395611 -0.006125 -0.015240  0.097971  \n",
       "           19414   0.496841  0.000293 -0.823994  0.478001  \n",
       "           19430   0.149605 -0.004912 -0.095221  0.178692  \n",
       "           19502  -0.322358 -0.005152  1.563784 -0.317461  \n",
       "\n",
       "[600 rows x 77 columns]"
      ]
     },
     "execution_count": 34,
     "metadata": {},
     "output_type": "execute_result"
    }
   ],
   "source": [
    "data1.head(600)"
   ]
  },
  {
   "cell_type": "code",
   "execution_count": 35,
   "metadata": {},
   "outputs": [
    {
     "name": "stdout",
     "output_type": "stream",
     "text": [
      "['sim7/1964-07-31', 'sim7/1966-07-31', 'sim7/1968-07-31', 'sim7/1970-07-31', 'sim7/1972-07-31', 'sim7/1974-07-31', 'sim7/1976-07-31', 'sim7/1978-07-31', 'sim7/1980-07-31', 'sim7/1982-07-31', 'sim7/1984-07-31', 'sim7/1986-07-31', 'sim7/1988-07-31', 'sim7/1990-07-31', 'sim7/1992-07-31', 'sim7/1994-07-31', 'sim7/1996-07-31', 'sim7/1998-07-31', 'sim7/2000-07-31', 'sim7/2002-07-31', 'sim7/2004-07-31', 'sim7/2006-07-31', 'sim7/2008-07-31', 'sim7/2010-07-31', 'sim7/2012-07-31']\n"
     ]
    }
   ],
   "source": [
    "path_list = []\n",
    "\n",
    "i=0\n",
    "rootdir = 'Data/sim7'\n",
    "for file in os.listdir(rootdir):\n",
    "    d = os.path.join(\"sim7\", file).replace(\"\\\\\",\"/\")\n",
    "    path_list.append(d)\n",
    "    i=i+1\n",
    "path_list.remove('sim7/1962-07-31')\n",
    "# path_list.remove('input files/.ipynb_checkpoints')\n",
    "\n",
    "# path_list.remove('input files/1962-07-31')\n",
    "path_list.sort(reverse=False)\n",
    "print(path_list)\n",
    "# path_list=['input files/1964-07-31', 'input files/1966-07-31']\n",
    "    "
   ]
  },
  {
   "cell_type": "code",
   "execution_count": 36,
   "metadata": {},
   "outputs": [
    {
     "name": "stdout",
     "output_type": "stream",
     "text": [
      "allutils\tREADME.md\t\t\t    test_personalization.ipynb\r\n",
      "Data\t\ttemp.ipynb\t\t\t    test_random_scans.ipynb\r\n",
      "experiments-V2\ttest_beta.ipynb\r\n",
      "new_PR.ipynb\ttest_distribution_shift_beta.ipynb\r\n"
     ]
    }
   ],
   "source": [
    "!ls"
   ]
  },
  {
   "cell_type": "code",
   "execution_count": 39,
   "metadata": {
    "scrolled": true
   },
   "outputs": [
    {
     "name": "stdout",
     "output_type": "stream",
     "text": [
      "1964-07-31 : 1970-06-30\n",
      "MSE of pca is: 0.83900084134457\n",
      "file exists\n",
      "\n",
      " input100\n",
      "Data/sim7/1964-07-31/input100.txt\n",
      "1\n",
      "DiGraph with 75 nodes and 2888 edges\n",
      "6063.174679209257\n",
      "a= [[ 0  8  9 13 41]]\n"
     ]
    },
    {
     "name": "stderr",
     "output_type": "stream",
     "text": [
      "<ipython-input-39-01dfb1c19e32>:96: FutureWarning: Support for multi-dimensional indexing (e.g. `obj[:, None]`) is deprecated and will be removed in a future version.  Convert to a numpy array before indexing instead.\n",
      "  x_train_PR= x_train[x_train.columns[a][0]].values\n",
      "<ipython-input-39-01dfb1c19e32>:97: FutureWarning: Support for multi-dimensional indexing (e.g. `obj[:, None]`) is deprecated and will be removed in a future version.  Convert to a numpy array before indexing instead.\n",
      "  x_test_PR = x_test[x_test.columns[a][0]].values\n"
     ]
    },
    {
     "name": "stdout",
     "output_type": "stream",
     "text": [
      "1\n",
      "DiGraph with 75 nodes and 2888 edges\n",
      "6067.025043651966\n",
      "a= [[ 7  9 12 22 40]]\n"
     ]
    },
    {
     "name": "stderr",
     "output_type": "stream",
     "text": [
      "<ipython-input-39-01dfb1c19e32>:96: FutureWarning: Support for multi-dimensional indexing (e.g. `obj[:, None]`) is deprecated and will be removed in a future version.  Convert to a numpy array before indexing instead.\n",
      "  x_train_PR= x_train[x_train.columns[a][0]].values\n",
      "<ipython-input-39-01dfb1c19e32>:97: FutureWarning: Support for multi-dimensional indexing (e.g. `obj[:, None]`) is deprecated and will be removed in a future version.  Convert to a numpy array before indexing instead.\n",
      "  x_test_PR = x_test[x_test.columns[a][0]].values\n"
     ]
    },
    {
     "name": "stdout",
     "output_type": "stream",
     "text": [
      "1\n",
      "DiGraph with 75 nodes and 2888 edges\n",
      "6062.521404328421\n",
      "a= [[ 0  7 22 41 45]]\n"
     ]
    },
    {
     "name": "stderr",
     "output_type": "stream",
     "text": [
      "<ipython-input-39-01dfb1c19e32>:96: FutureWarning: Support for multi-dimensional indexing (e.g. `obj[:, None]`) is deprecated and will be removed in a future version.  Convert to a numpy array before indexing instead.\n",
      "  x_train_PR= x_train[x_train.columns[a][0]].values\n",
      "<ipython-input-39-01dfb1c19e32>:97: FutureWarning: Support for multi-dimensional indexing (e.g. `obj[:, None]`) is deprecated and will be removed in a future version.  Convert to a numpy array before indexing instead.\n",
      "  x_test_PR = x_test[x_test.columns[a][0]].values\n"
     ]
    },
    {
     "name": "stdout",
     "output_type": "stream",
     "text": [
      "1\n",
      "DiGraph with 75 nodes and 2888 edges\n",
      "6067.151416083571\n",
      "a= [[ 5  7  8 42 51]]\n"
     ]
    },
    {
     "name": "stderr",
     "output_type": "stream",
     "text": [
      "<ipython-input-39-01dfb1c19e32>:96: FutureWarning: Support for multi-dimensional indexing (e.g. `obj[:, None]`) is deprecated and will be removed in a future version.  Convert to a numpy array before indexing instead.\n",
      "  x_train_PR= x_train[x_train.columns[a][0]].values\n",
      "<ipython-input-39-01dfb1c19e32>:97: FutureWarning: Support for multi-dimensional indexing (e.g. `obj[:, None]`) is deprecated and will be removed in a future version.  Convert to a numpy array before indexing instead.\n",
      "  x_test_PR = x_test[x_test.columns[a][0]].values\n"
     ]
    },
    {
     "name": "stdout",
     "output_type": "stream",
     "text": [
      "1\n",
      "DiGraph with 75 nodes and 2888 edges\n",
      "6065.338817352868\n",
      "a= [[ 0  7 40 45 70]]\n"
     ]
    },
    {
     "name": "stderr",
     "output_type": "stream",
     "text": [
      "<ipython-input-39-01dfb1c19e32>:96: FutureWarning: Support for multi-dimensional indexing (e.g. `obj[:, None]`) is deprecated and will be removed in a future version.  Convert to a numpy array before indexing instead.\n",
      "  x_train_PR= x_train[x_train.columns[a][0]].values\n",
      "<ipython-input-39-01dfb1c19e32>:97: FutureWarning: Support for multi-dimensional indexing (e.g. `obj[:, None]`) is deprecated and will be removed in a future version.  Convert to a numpy array before indexing instead.\n",
      "  x_test_PR = x_test[x_test.columns[a][0]].values\n"
     ]
    },
    {
     "name": "stdout",
     "output_type": "stream",
     "text": [
      "mse average is: 0.8869536519651995\n",
      "file exists\n",
      "\n",
      " input300\n",
      "Data/sim7/1964-07-31/input300.txt\n",
      "5\n",
      "DiGraph with 68 nodes and 2044 edges\n",
      "4304.883563898398\n",
      "a= [[11 13 41 53 74]]\n"
     ]
    },
    {
     "name": "stderr",
     "output_type": "stream",
     "text": [
      "<ipython-input-39-01dfb1c19e32>:96: FutureWarning: Support for multi-dimensional indexing (e.g. `obj[:, None]`) is deprecated and will be removed in a future version.  Convert to a numpy array before indexing instead.\n",
      "  x_train_PR= x_train[x_train.columns[a][0]].values\n",
      "<ipython-input-39-01dfb1c19e32>:97: FutureWarning: Support for multi-dimensional indexing (e.g. `obj[:, None]`) is deprecated and will be removed in a future version.  Convert to a numpy array before indexing instead.\n",
      "  x_test_PR = x_test[x_test.columns[a][0]].values\n"
     ]
    },
    {
     "name": "stdout",
     "output_type": "stream",
     "text": [
      "5\n",
      "DiGraph with 68 nodes and 2044 edges\n",
      "4309.752040104524\n",
      "a= [[ 0  8 42 45 53]]\n"
     ]
    },
    {
     "name": "stderr",
     "output_type": "stream",
     "text": [
      "<ipython-input-39-01dfb1c19e32>:96: FutureWarning: Support for multi-dimensional indexing (e.g. `obj[:, None]`) is deprecated and will be removed in a future version.  Convert to a numpy array before indexing instead.\n",
      "  x_train_PR= x_train[x_train.columns[a][0]].values\n",
      "<ipython-input-39-01dfb1c19e32>:97: FutureWarning: Support for multi-dimensional indexing (e.g. `obj[:, None]`) is deprecated and will be removed in a future version.  Convert to a numpy array before indexing instead.\n",
      "  x_test_PR = x_test[x_test.columns[a][0]].values\n"
     ]
    },
    {
     "name": "stdout",
     "output_type": "stream",
     "text": [
      "5\n",
      "DiGraph with 68 nodes and 2044 edges\n",
      "4309.061559336385\n",
      "a= [[ 6  7 11 12 40]]\n"
     ]
    },
    {
     "name": "stderr",
     "output_type": "stream",
     "text": [
      "<ipython-input-39-01dfb1c19e32>:96: FutureWarning: Support for multi-dimensional indexing (e.g. `obj[:, None]`) is deprecated and will be removed in a future version.  Convert to a numpy array before indexing instead.\n",
      "  x_train_PR= x_train[x_train.columns[a][0]].values\n",
      "<ipython-input-39-01dfb1c19e32>:97: FutureWarning: Support for multi-dimensional indexing (e.g. `obj[:, None]`) is deprecated and will be removed in a future version.  Convert to a numpy array before indexing instead.\n",
      "  x_test_PR = x_test[x_test.columns[a][0]].values\n"
     ]
    },
    {
     "name": "stdout",
     "output_type": "stream",
     "text": [
      "5\n",
      "DiGraph with 68 nodes and 2044 edges\n",
      "4317.6251248358285\n",
      "a= [[ 8  9 41 42 45]]\n"
     ]
    },
    {
     "name": "stderr",
     "output_type": "stream",
     "text": [
      "<ipython-input-39-01dfb1c19e32>:96: FutureWarning: Support for multi-dimensional indexing (e.g. `obj[:, None]`) is deprecated and will be removed in a future version.  Convert to a numpy array before indexing instead.\n",
      "  x_train_PR= x_train[x_train.columns[a][0]].values\n",
      "<ipython-input-39-01dfb1c19e32>:97: FutureWarning: Support for multi-dimensional indexing (e.g. `obj[:, None]`) is deprecated and will be removed in a future version.  Convert to a numpy array before indexing instead.\n",
      "  x_test_PR = x_test[x_test.columns[a][0]].values\n"
     ]
    },
    {
     "name": "stdout",
     "output_type": "stream",
     "text": [
      "5\n",
      "DiGraph with 68 nodes and 2044 edges\n",
      "4297.722666559651\n",
      "a= [[ 8  9 10 40 41]]\n"
     ]
    },
    {
     "name": "stderr",
     "output_type": "stream",
     "text": [
      "<ipython-input-39-01dfb1c19e32>:96: FutureWarning: Support for multi-dimensional indexing (e.g. `obj[:, None]`) is deprecated and will be removed in a future version.  Convert to a numpy array before indexing instead.\n",
      "  x_train_PR= x_train[x_train.columns[a][0]].values\n",
      "<ipython-input-39-01dfb1c19e32>:97: FutureWarning: Support for multi-dimensional indexing (e.g. `obj[:, None]`) is deprecated and will be removed in a future version.  Convert to a numpy array before indexing instead.\n",
      "  x_test_PR = x_test[x_test.columns[a][0]].values\n"
     ]
    },
    {
     "name": "stdout",
     "output_type": "stream",
     "text": [
      "mse average is: 0.9496088140361341\n",
      "file exists\n",
      "\n",
      " input500\n",
      "Data/sim7/1964-07-31/input500.txt\n",
      "6\n",
      "DiGraph with 65 nodes and 1578 edges\n",
      "3320.960542961374\n",
      "a= [[ 0  6 12 40 68]]\n"
     ]
    },
    {
     "name": "stderr",
     "output_type": "stream",
     "text": [
      "<ipython-input-39-01dfb1c19e32>:96: FutureWarning: Support for multi-dimensional indexing (e.g. `obj[:, None]`) is deprecated and will be removed in a future version.  Convert to a numpy array before indexing instead.\n",
      "  x_train_PR= x_train[x_train.columns[a][0]].values\n",
      "<ipython-input-39-01dfb1c19e32>:97: FutureWarning: Support for multi-dimensional indexing (e.g. `obj[:, None]`) is deprecated and will be removed in a future version.  Convert to a numpy array before indexing instead.\n",
      "  x_test_PR = x_test[x_test.columns[a][0]].values\n"
     ]
    },
    {
     "name": "stdout",
     "output_type": "stream",
     "text": [
      "6\n",
      "DiGraph with 65 nodes and 1578 edges\n",
      "3305.9216943954307\n",
      "a= [[ 6  8 12 42 70]]\n"
     ]
    },
    {
     "name": "stderr",
     "output_type": "stream",
     "text": [
      "<ipython-input-39-01dfb1c19e32>:96: FutureWarning: Support for multi-dimensional indexing (e.g. `obj[:, None]`) is deprecated and will be removed in a future version.  Convert to a numpy array before indexing instead.\n",
      "  x_train_PR= x_train[x_train.columns[a][0]].values\n",
      "<ipython-input-39-01dfb1c19e32>:97: FutureWarning: Support for multi-dimensional indexing (e.g. `obj[:, None]`) is deprecated and will be removed in a future version.  Convert to a numpy array before indexing instead.\n",
      "  x_test_PR = x_test[x_test.columns[a][0]].values\n"
     ]
    },
    {
     "name": "stdout",
     "output_type": "stream",
     "text": [
      "6\n",
      "DiGraph with 65 nodes and 1578 edges\n",
      "3312.1115383984848\n",
      "a= [[ 0  7  8 12 40]]\n"
     ]
    },
    {
     "name": "stderr",
     "output_type": "stream",
     "text": [
      "<ipython-input-39-01dfb1c19e32>:96: FutureWarning: Support for multi-dimensional indexing (e.g. `obj[:, None]`) is deprecated and will be removed in a future version.  Convert to a numpy array before indexing instead.\n",
      "  x_train_PR= x_train[x_train.columns[a][0]].values\n",
      "<ipython-input-39-01dfb1c19e32>:97: FutureWarning: Support for multi-dimensional indexing (e.g. `obj[:, None]`) is deprecated and will be removed in a future version.  Convert to a numpy array before indexing instead.\n",
      "  x_test_PR = x_test[x_test.columns[a][0]].values\n"
     ]
    },
    {
     "name": "stdout",
     "output_type": "stream",
     "text": [
      "6\n",
      "DiGraph with 65 nodes and 1578 edges\n",
      "3313.019843682994\n",
      "a= [[ 5 12 40 42 45]]\n"
     ]
    },
    {
     "name": "stderr",
     "output_type": "stream",
     "text": [
      "<ipython-input-39-01dfb1c19e32>:96: FutureWarning: Support for multi-dimensional indexing (e.g. `obj[:, None]`) is deprecated and will be removed in a future version.  Convert to a numpy array before indexing instead.\n",
      "  x_train_PR= x_train[x_train.columns[a][0]].values\n",
      "<ipython-input-39-01dfb1c19e32>:97: FutureWarning: Support for multi-dimensional indexing (e.g. `obj[:, None]`) is deprecated and will be removed in a future version.  Convert to a numpy array before indexing instead.\n",
      "  x_test_PR = x_test[x_test.columns[a][0]].values\n"
     ]
    },
    {
     "name": "stdout",
     "output_type": "stream",
     "text": [
      "6\n",
      "DiGraph with 65 nodes and 1578 edges\n",
      "3311.09142945435\n",
      "a= [[ 7  8  9 22 53]]\n"
     ]
    },
    {
     "name": "stderr",
     "output_type": "stream",
     "text": [
      "<ipython-input-39-01dfb1c19e32>:96: FutureWarning: Support for multi-dimensional indexing (e.g. `obj[:, None]`) is deprecated and will be removed in a future version.  Convert to a numpy array before indexing instead.\n",
      "  x_train_PR= x_train[x_train.columns[a][0]].values\n",
      "<ipython-input-39-01dfb1c19e32>:97: FutureWarning: Support for multi-dimensional indexing (e.g. `obj[:, None]`) is deprecated and will be removed in a future version.  Convert to a numpy array before indexing instead.\n",
      "  x_test_PR = x_test[x_test.columns[a][0]].values\n"
     ]
    },
    {
     "name": "stdout",
     "output_type": "stream",
     "text": [
      "mse average is: 0.858150872394335\n",
      "file exists\n",
      "\n",
      " input700\n",
      "Data/sim7/1964-07-31/input700.txt\n",
      "6\n",
      "DiGraph with 65 nodes and 1498 edges\n",
      "3134.2103171138415\n",
      "a= [[ 8 13 34 40 42]]\n"
     ]
    },
    {
     "name": "stderr",
     "output_type": "stream",
     "text": [
      "<ipython-input-39-01dfb1c19e32>:96: FutureWarning: Support for multi-dimensional indexing (e.g. `obj[:, None]`) is deprecated and will be removed in a future version.  Convert to a numpy array before indexing instead.\n",
      "  x_train_PR= x_train[x_train.columns[a][0]].values\n",
      "<ipython-input-39-01dfb1c19e32>:97: FutureWarning: Support for multi-dimensional indexing (e.g. `obj[:, None]`) is deprecated and will be removed in a future version.  Convert to a numpy array before indexing instead.\n",
      "  x_test_PR = x_test[x_test.columns[a][0]].values\n"
     ]
    },
    {
     "name": "stdout",
     "output_type": "stream",
     "text": [
      "6\n",
      "DiGraph with 65 nodes and 1498 edges\n",
      "3140.583880002823\n",
      "a= [[ 9 11 41 51 53]]\n"
     ]
    },
    {
     "name": "stderr",
     "output_type": "stream",
     "text": [
      "<ipython-input-39-01dfb1c19e32>:96: FutureWarning: Support for multi-dimensional indexing (e.g. `obj[:, None]`) is deprecated and will be removed in a future version.  Convert to a numpy array before indexing instead.\n",
      "  x_train_PR= x_train[x_train.columns[a][0]].values\n",
      "<ipython-input-39-01dfb1c19e32>:97: FutureWarning: Support for multi-dimensional indexing (e.g. `obj[:, None]`) is deprecated and will be removed in a future version.  Convert to a numpy array before indexing instead.\n",
      "  x_test_PR = x_test[x_test.columns[a][0]].values\n"
     ]
    },
    {
     "name": "stdout",
     "output_type": "stream",
     "text": [
      "6\n",
      "DiGraph with 65 nodes and 1498 edges\n",
      "3142.3126912470225\n",
      "a= [[ 7 10 22 40 53]]\n"
     ]
    },
    {
     "name": "stderr",
     "output_type": "stream",
     "text": [
      "<ipython-input-39-01dfb1c19e32>:96: FutureWarning: Support for multi-dimensional indexing (e.g. `obj[:, None]`) is deprecated and will be removed in a future version.  Convert to a numpy array before indexing instead.\n",
      "  x_train_PR= x_train[x_train.columns[a][0]].values\n",
      "<ipython-input-39-01dfb1c19e32>:97: FutureWarning: Support for multi-dimensional indexing (e.g. `obj[:, None]`) is deprecated and will be removed in a future version.  Convert to a numpy array before indexing instead.\n",
      "  x_test_PR = x_test[x_test.columns[a][0]].values\n"
     ]
    },
    {
     "name": "stdout",
     "output_type": "stream",
     "text": [
      "6\n",
      "DiGraph with 65 nodes and 1498 edges\n",
      "3137.8954259766347\n",
      "a= [[ 5  8 40 41 70]]\n"
     ]
    },
    {
     "name": "stderr",
     "output_type": "stream",
     "text": [
      "<ipython-input-39-01dfb1c19e32>:96: FutureWarning: Support for multi-dimensional indexing (e.g. `obj[:, None]`) is deprecated and will be removed in a future version.  Convert to a numpy array before indexing instead.\n",
      "  x_train_PR= x_train[x_train.columns[a][0]].values\n",
      "<ipython-input-39-01dfb1c19e32>:97: FutureWarning: Support for multi-dimensional indexing (e.g. `obj[:, None]`) is deprecated and will be removed in a future version.  Convert to a numpy array before indexing instead.\n",
      "  x_test_PR = x_test[x_test.columns[a][0]].values\n"
     ]
    },
    {
     "name": "stdout",
     "output_type": "stream",
     "text": [
      "6\n",
      "DiGraph with 65 nodes and 1498 edges\n",
      "3141.328006889752\n",
      "a= [[ 5 22 42 53 70]]\n"
     ]
    },
    {
     "name": "stderr",
     "output_type": "stream",
     "text": [
      "<ipython-input-39-01dfb1c19e32>:96: FutureWarning: Support for multi-dimensional indexing (e.g. `obj[:, None]`) is deprecated and will be removed in a future version.  Convert to a numpy array before indexing instead.\n",
      "  x_train_PR= x_train[x_train.columns[a][0]].values\n",
      "<ipython-input-39-01dfb1c19e32>:97: FutureWarning: Support for multi-dimensional indexing (e.g. `obj[:, None]`) is deprecated and will be removed in a future version.  Convert to a numpy array before indexing instead.\n",
      "  x_test_PR = x_test[x_test.columns[a][0]].values\n"
     ]
    },
    {
     "name": "stdout",
     "output_type": "stream",
     "text": [
      "mse average is: 0.9252165764436185\n",
      "file exists\n",
      "\n",
      " input1000\n",
      "Data/sim7/1964-07-31/input1000.txt\n",
      "6\n",
      "DiGraph with 63 nodes and 1444 edges\n",
      "3009.370878152988\n",
      "a= [[ 7  8  9 41 42]]\n"
     ]
    },
    {
     "name": "stderr",
     "output_type": "stream",
     "text": [
      "<ipython-input-39-01dfb1c19e32>:96: FutureWarning: Support for multi-dimensional indexing (e.g. `obj[:, None]`) is deprecated and will be removed in a future version.  Convert to a numpy array before indexing instead.\n",
      "  x_train_PR= x_train[x_train.columns[a][0]].values\n",
      "<ipython-input-39-01dfb1c19e32>:97: FutureWarning: Support for multi-dimensional indexing (e.g. `obj[:, None]`) is deprecated and will be removed in a future version.  Convert to a numpy array before indexing instead.\n",
      "  x_test_PR = x_test[x_test.columns[a][0]].values\n"
     ]
    },
    {
     "name": "stdout",
     "output_type": "stream",
     "text": [
      "6\n",
      "DiGraph with 63 nodes and 1444 edges\n",
      "3014.205911127931\n",
      "a= [[ 5  9 12 13 41]]\n"
     ]
    },
    {
     "name": "stderr",
     "output_type": "stream",
     "text": [
      "<ipython-input-39-01dfb1c19e32>:96: FutureWarning: Support for multi-dimensional indexing (e.g. `obj[:, None]`) is deprecated and will be removed in a future version.  Convert to a numpy array before indexing instead.\n",
      "  x_train_PR= x_train[x_train.columns[a][0]].values\n",
      "<ipython-input-39-01dfb1c19e32>:97: FutureWarning: Support for multi-dimensional indexing (e.g. `obj[:, None]`) is deprecated and will be removed in a future version.  Convert to a numpy array before indexing instead.\n",
      "  x_test_PR = x_test[x_test.columns[a][0]].values\n"
     ]
    },
    {
     "name": "stdout",
     "output_type": "stream",
     "text": [
      "6\n",
      "DiGraph with 63 nodes and 1444 edges\n",
      "3013.8135224855705\n",
      "a= [[10 11 12 22 41]]\n"
     ]
    },
    {
     "name": "stderr",
     "output_type": "stream",
     "text": [
      "<ipython-input-39-01dfb1c19e32>:96: FutureWarning: Support for multi-dimensional indexing (e.g. `obj[:, None]`) is deprecated and will be removed in a future version.  Convert to a numpy array before indexing instead.\n",
      "  x_train_PR= x_train[x_train.columns[a][0]].values\n",
      "<ipython-input-39-01dfb1c19e32>:97: FutureWarning: Support for multi-dimensional indexing (e.g. `obj[:, None]`) is deprecated and will be removed in a future version.  Convert to a numpy array before indexing instead.\n",
      "  x_test_PR = x_test[x_test.columns[a][0]].values\n"
     ]
    },
    {
     "name": "stdout",
     "output_type": "stream",
     "text": [
      "6\n",
      "DiGraph with 63 nodes and 1444 edges\n",
      "2999.7607349648597\n",
      "a= [[ 7  9 13 41 42]]\n"
     ]
    },
    {
     "name": "stderr",
     "output_type": "stream",
     "text": [
      "<ipython-input-39-01dfb1c19e32>:96: FutureWarning: Support for multi-dimensional indexing (e.g. `obj[:, None]`) is deprecated and will be removed in a future version.  Convert to a numpy array before indexing instead.\n",
      "  x_train_PR= x_train[x_train.columns[a][0]].values\n",
      "<ipython-input-39-01dfb1c19e32>:97: FutureWarning: Support for multi-dimensional indexing (e.g. `obj[:, None]`) is deprecated and will be removed in a future version.  Convert to a numpy array before indexing instead.\n",
      "  x_test_PR = x_test[x_test.columns[a][0]].values\n"
     ]
    },
    {
     "name": "stdout",
     "output_type": "stream",
     "text": [
      "6\n",
      "DiGraph with 63 nodes and 1444 edges\n",
      "3004.8452772919054\n",
      "a= [[ 0  7 40 51 70]]\n"
     ]
    },
    {
     "name": "stderr",
     "output_type": "stream",
     "text": [
      "<ipython-input-39-01dfb1c19e32>:96: FutureWarning: Support for multi-dimensional indexing (e.g. `obj[:, None]`) is deprecated and will be removed in a future version.  Convert to a numpy array before indexing instead.\n",
      "  x_train_PR= x_train[x_train.columns[a][0]].values\n",
      "<ipython-input-39-01dfb1c19e32>:97: FutureWarning: Support for multi-dimensional indexing (e.g. `obj[:, None]`) is deprecated and will be removed in a future version.  Convert to a numpy array before indexing instead.\n",
      "  x_test_PR = x_test[x_test.columns[a][0]].values\n"
     ]
    },
    {
     "name": "stdout",
     "output_type": "stream",
     "text": [
      "mse average is: 0.8321435719770125\n",
      "1970-07-31 : 1976-06-30\n"
     ]
    },
    {
     "ename": "ValueError",
     "evalue": "Found input variables with inconsistent numbers of samples: [0, 116884]",
     "output_type": "error",
     "traceback": [
      "\u001b[0;31m---------------------------------------------------------\u001b[0m",
      "\u001b[0;31mValueError\u001b[0m              Traceback (most recent call last)",
      "\u001b[0;32m<ipython-input-39-01dfb1c19e32>\u001b[0m in \u001b[0;36m<module>\u001b[0;34m\u001b[0m\n\u001b[1;32m     16\u001b[0m \u001b[0;34m\u001b[0m\u001b[0m\n\u001b[1;32m     17\u001b[0m     \u001b[0mx_train\u001b[0m\u001b[0;34m,\u001b[0m \u001b[0mx_test\u001b[0m\u001b[0;34m,\u001b[0m \u001b[0my_train\u001b[0m\u001b[0;34m,\u001b[0m \u001b[0my_test\u001b[0m \u001b[0;34m=\u001b[0m \u001b[0mtrain_test_split\u001b[0m\u001b[0;34m(\u001b[0m\u001b[0mX\u001b[0m\u001b[0;34m,\u001b[0m \u001b[0mY\u001b[0m\u001b[0;34m,\u001b[0m \u001b[0mtest_size\u001b[0m \u001b[0;34m=\u001b[0m \u001b[0;36m0.2\u001b[0m\u001b[0;34m,\u001b[0m\u001b[0mshuffle\u001b[0m\u001b[0;34m=\u001b[0m\u001b[0;32mFalse\u001b[0m\u001b[0;34m)\u001b[0m\u001b[0;34m\u001b[0m\u001b[0;34m\u001b[0m\u001b[0m\n\u001b[0;32m---> 18\u001b[0;31m     \u001b[0mx_train_pca\u001b[0m\u001b[0;34m,\u001b[0m \u001b[0mx_test_pca\u001b[0m\u001b[0;34m,\u001b[0m \u001b[0m_\u001b[0m\u001b[0;34m,\u001b[0m \u001b[0m_\u001b[0m \u001b[0;34m=\u001b[0m \u001b[0mtrain_test_split\u001b[0m\u001b[0;34m(\u001b[0m\u001b[0mX_pca\u001b[0m\u001b[0;34m,\u001b[0m \u001b[0mY\u001b[0m\u001b[0;34m,\u001b[0m \u001b[0mtest_size\u001b[0m \u001b[0;34m=\u001b[0m \u001b[0;36m0.2\u001b[0m\u001b[0;34m,\u001b[0m\u001b[0mshuffle\u001b[0m\u001b[0;34m=\u001b[0m\u001b[0;32mFalse\u001b[0m\u001b[0;34m)\u001b[0m\u001b[0;34m\u001b[0m\u001b[0;34m\u001b[0m\u001b[0m\n\u001b[0m\u001b[1;32m     19\u001b[0m \u001b[0;34m\u001b[0m\u001b[0m\n\u001b[1;32m     20\u001b[0m \u001b[0;34m\u001b[0m\u001b[0m\n",
      "\u001b[0;32m~/.local/lib/python3.8/site-packages/sklearn/model_selection/_split.py\u001b[0m in \u001b[0;36mtrain_test_split\u001b[0;34m(test_size, train_size, random_state, shuffle, stratify, *arrays)\u001b[0m\n\u001b[1;32m   2415\u001b[0m         \u001b[0;32mraise\u001b[0m \u001b[0mValueError\u001b[0m\u001b[0;34m(\u001b[0m\u001b[0;34m\"At least one array required as input\"\u001b[0m\u001b[0;34m)\u001b[0m\u001b[0;34m\u001b[0m\u001b[0;34m\u001b[0m\u001b[0m\n\u001b[1;32m   2416\u001b[0m \u001b[0;34m\u001b[0m\u001b[0m\n\u001b[0;32m-> 2417\u001b[0;31m     \u001b[0marrays\u001b[0m \u001b[0;34m=\u001b[0m \u001b[0mindexable\u001b[0m\u001b[0;34m(\u001b[0m\u001b[0;34m*\u001b[0m\u001b[0marrays\u001b[0m\u001b[0;34m)\u001b[0m\u001b[0;34m\u001b[0m\u001b[0;34m\u001b[0m\u001b[0m\n\u001b[0m\u001b[1;32m   2418\u001b[0m \u001b[0;34m\u001b[0m\u001b[0m\n\u001b[1;32m   2419\u001b[0m     \u001b[0mn_samples\u001b[0m \u001b[0;34m=\u001b[0m \u001b[0m_num_samples\u001b[0m\u001b[0;34m(\u001b[0m\u001b[0marrays\u001b[0m\u001b[0;34m[\u001b[0m\u001b[0;36m0\u001b[0m\u001b[0;34m]\u001b[0m\u001b[0;34m)\u001b[0m\u001b[0;34m\u001b[0m\u001b[0;34m\u001b[0m\u001b[0m\n",
      "\u001b[0;32m~/.local/lib/python3.8/site-packages/sklearn/utils/validation.py\u001b[0m in \u001b[0;36mindexable\u001b[0;34m(*iterables)\u001b[0m\n\u001b[1;32m    376\u001b[0m \u001b[0;34m\u001b[0m\u001b[0m\n\u001b[1;32m    377\u001b[0m     \u001b[0mresult\u001b[0m \u001b[0;34m=\u001b[0m \u001b[0;34m[\u001b[0m\u001b[0m_make_indexable\u001b[0m\u001b[0;34m(\u001b[0m\u001b[0mX\u001b[0m\u001b[0;34m)\u001b[0m \u001b[0;32mfor\u001b[0m \u001b[0mX\u001b[0m \u001b[0;32min\u001b[0m \u001b[0miterables\u001b[0m\u001b[0;34m]\u001b[0m\u001b[0;34m\u001b[0m\u001b[0;34m\u001b[0m\u001b[0m\n\u001b[0;32m--> 378\u001b[0;31m     \u001b[0mcheck_consistent_length\u001b[0m\u001b[0;34m(\u001b[0m\u001b[0;34m*\u001b[0m\u001b[0mresult\u001b[0m\u001b[0;34m)\u001b[0m\u001b[0;34m\u001b[0m\u001b[0;34m\u001b[0m\u001b[0m\n\u001b[0m\u001b[1;32m    379\u001b[0m     \u001b[0;32mreturn\u001b[0m \u001b[0mresult\u001b[0m\u001b[0;34m\u001b[0m\u001b[0;34m\u001b[0m\u001b[0m\n\u001b[1;32m    380\u001b[0m \u001b[0;34m\u001b[0m\u001b[0m\n",
      "\u001b[0;32m~/.local/lib/python3.8/site-packages/sklearn/utils/validation.py\u001b[0m in \u001b[0;36mcheck_consistent_length\u001b[0;34m(*arrays)\u001b[0m\n\u001b[1;32m    330\u001b[0m     \u001b[0muniques\u001b[0m \u001b[0;34m=\u001b[0m \u001b[0mnp\u001b[0m\u001b[0;34m.\u001b[0m\u001b[0munique\u001b[0m\u001b[0;34m(\u001b[0m\u001b[0mlengths\u001b[0m\u001b[0;34m)\u001b[0m\u001b[0;34m\u001b[0m\u001b[0;34m\u001b[0m\u001b[0m\n\u001b[1;32m    331\u001b[0m     \u001b[0;32mif\u001b[0m \u001b[0mlen\u001b[0m\u001b[0;34m(\u001b[0m\u001b[0muniques\u001b[0m\u001b[0;34m)\u001b[0m \u001b[0;34m>\u001b[0m \u001b[0;36m1\u001b[0m\u001b[0;34m:\u001b[0m\u001b[0;34m\u001b[0m\u001b[0;34m\u001b[0m\u001b[0m\n\u001b[0;32m--> 332\u001b[0;31m         raise ValueError(\n\u001b[0m\u001b[1;32m    333\u001b[0m             \u001b[0;34m\"Found input variables with inconsistent numbers of samples: %r\"\u001b[0m\u001b[0;34m\u001b[0m\u001b[0;34m\u001b[0m\u001b[0m\n\u001b[1;32m    334\u001b[0m             \u001b[0;34m%\u001b[0m \u001b[0;34m[\u001b[0m\u001b[0mint\u001b[0m\u001b[0;34m(\u001b[0m\u001b[0ml\u001b[0m\u001b[0;34m)\u001b[0m \u001b[0;32mfor\u001b[0m \u001b[0ml\u001b[0m \u001b[0;32min\u001b[0m \u001b[0mlengths\u001b[0m\u001b[0;34m]\u001b[0m\u001b[0;34m\u001b[0m\u001b[0;34m\u001b[0m\u001b[0m\n",
      "\u001b[0;31mValueError\u001b[0m: Found input variables with inconsistent numbers of samples: [0, 116884]"
     ]
    }
   ],
   "source": [
    "counter=0\n",
    "pca_list=[]\n",
    "method_list = []\n",
    "X_pca=data_pca1.drop(['TARGET'],axis=1)\n",
    "\n",
    "for mypath in path_list:\n",
    "\n",
    "\n",
    "    print('{}-07-31'.format(1964+counter) ,\":\", '{}-06-30'.format(1970+counter))\n",
    "    datacut=data1.loc['{}-07-31'.format(1964+counter) : '{}-06-30'.format(1970+counter)]\n",
    "    X_pca=X_pca.loc['{}-07-31'.format(1964+counter) : '{}-06-30'.format(1970+counter)]\n",
    "\n",
    "    counter = counter+6\n",
    "    X=datacut.drop(['TARGET'],axis=1)\n",
    "    Y=datacut['TARGET']\n",
    "    \n",
    "    x_train, x_test, y_train, y_test = train_test_split(X, Y, test_size = 0.2,shuffle=False)\n",
    "    x_train_pca, x_test_pca, _, _ = train_test_split(X_pca, Y, test_size = 0.2,shuffle=False)\n",
    "\n",
    "\n",
    "#     model = LinearRegression()\n",
    "#     model.fit(x_train_pca, y_train.values)\n",
    "#     predictions = model.predict(x_test_pca)\n",
    "    \n",
    "    # create an xgboost regression model\n",
    "    model = xg.XGBRegressor()\n",
    "    # fit model\n",
    "    model.fit(x_train_pca, y_train.values)\n",
    "    predictions = model.predict(x_test_pca)\n",
    "    pca_mse=np.sqrt(metrics.mean_squared_error(y_test, predictions))\n",
    "    pca_list.append(pca_mse)##########################\n",
    "\n",
    "    print(\"MSE of pca is:\",pca_mse)\n",
    "#     print(\"pca_list\",pca_list)\n",
    "\n",
    "    modes_list=[]\n",
    "    for modes in ['input100','input300','input500','input700','input1000']:\n",
    "        if os.path.getsize(os.path.join(\"Data\",mypath, modes+\".txt\")):\n",
    "            print(\"file exists\")\n",
    "            # print (\"mse average is:\" , a_c/5)\n",
    "            a_c=0\n",
    "            print(\"\\n\",modes)\n",
    "    #         print(os.path.join(\"Data\",mypath, modes+\".txt\"))\n",
    "\n",
    "            #numer of edges in each text file\n",
    "            with open(os.path.join(\"Data\",mypath, modes+\".txt\"), 'r') as fp:\n",
    "                print(os.path.join(\"Data\",mypath, modes+\".txt\"))\n",
    "                for count, line in enumerate(fp):\n",
    "                    pass\n",
    "            Total_edges= count +1\n",
    "    #         print(\"Total_edges\",Total_edges)\n",
    "\n",
    "            for i in range(5):\n",
    "\n",
    "                #mode = sys.argv[1]\n",
    "                #beta = float(sys.argv[2])\n",
    "                # mypath=\"input files/1966-07-31\"\n",
    "                mode = modes\n",
    "                # mode = 'input1000'\n",
    "\n",
    "                beta = 0.0\n",
    "\n",
    "    #             do_plot = True\n",
    "    #             do_dump = False\n",
    "\n",
    "                n = 76\n",
    "                iters = Total_edges\n",
    "                alpha = 0.85\n",
    "                gamma = 1.0\n",
    "\n",
    "                weights = 'real'\n",
    "\n",
    "\n",
    "                G =allutils.graph_generator.weighted_DiGraph(os.path.join('.',  \"Data\",mypath, modes+\".txt\"))\n",
    "                norm = sum([val for (node, val) in G.out_degree(weight='weight')])\n",
    "                sampling_edges = {e[:-1]: e[-1]['weight']/norm for e in G.edges(data=True)}\n",
    "                stream = [list(sampling_edges.keys())[i] for i in np.random.choice(range(len(sampling_edges)), size=iters, p=list(sampling_edges.values()))]\n",
    "\n",
    "\n",
    "                # basic (degree personalization)\n",
    "                personalization = {k: v / norm for k, v in G.out_degree(weight='weight')}\n",
    "                p_prime_nodes = {i: personalization[i]/G.out_degree(i, weight='weight') for i in G.nodes()}\n",
    "                pr_basic = nx.pagerank(G, alpha=alpha, personalization=personalization, weight='weight')\n",
    "                RS4_basic, current_basic = {}, {}\n",
    "                RS4_basic, current_basic, tau_basic, spearman_basic, pearson_basic, error_basic, x = flowPR(p_prime_nodes, pr_basic, stream, RS4_basic, current_basic, iters = iters, beta = beta, gamma = gamma)\n",
    "\n",
    "\n",
    "                hr=dict(sorted(RS4_basic.items(), key=lambda item: item[1]))\n",
    "    #             print (i,\"   \",hr.keys())\n",
    "\n",
    "                a=np.array([np.sort(list(hr.keys())[-5:])])\n",
    "                a = np.array([x - 1 for x in a])\n",
    "                print('a=',a)\n",
    "    #             print(hr)\n",
    "    #             print (a)\n",
    "                x_train_PR= x_train[x_train.columns[a][0]].values\n",
    "                x_test_PR = x_test[x_test.columns[a][0]].values\n",
    "\n",
    "#                 model = LinearRegression()\n",
    "#                 model.fit(x_train_PR, y_train.values)\n",
    "#                 predictions = model.predict(x_test_PR)\n",
    "                \n",
    "                \n",
    "                model = xg.XGBRegressor()\n",
    "                # fit model\n",
    "                model.fit(x_train_PR, y_train.values)\n",
    "                predictions = model.predict(x_test_PR)\n",
    "\n",
    "                mse=np.sqrt(metrics.mean_squared_error(y_test, predictions))\n",
    "                # print(i,\"MSE is: \",mse)\n",
    "                a_c=a_c+mse\n",
    "\n",
    "            modes_list.append(a_c/5)\n",
    "#             print(\"modes_list\",modes_list)\n",
    "            print (\"mse average is:\" , a_c/5)\n",
    "    method_list.append(tuple(modes_list))\n",
    "#     print( \"method_list\",method_list)\n",
    "        "
   ]
  },
  {
   "cell_type": "code",
   "execution_count": null,
   "metadata": {},
   "outputs": [],
   "source": [
    "# # print(len(method_list))\n",
    "# best_list=[]\n",
    "# best_results=0\n",
    "# for items in method_list:\n",
    "#     a=min(items)\n",
    "#     best_list.append(a)\n",
    "#     best_results=a+best_results\n",
    "# #     print (items,min(items),'\\n')\n",
    "\n",
    "# # best_results\n",
    "# result_avg=best_results/len(method_list)\n",
    "# Pca_avg=np.sum(pca_list)/len(pca_list)\n",
    "# print ('pca average is:',Pca_avg,'\\nmethod average is:',result_avg)\n",
    "# print ('pca variance is:',np.var(pca_list),'\\nmethod variance is:',np.var(best_list))\n",
    "# print(np.column_stack((pca_list,best_list)))\n"
   ]
  },
  {
   "cell_type": "code",
   "execution_count": null,
   "metadata": {},
   "outputs": [],
   "source": [
    "t = np.arange(1964,2014 , 7) \n",
    "print(t)\n",
    "print(t.shape,len(pca_list),len(method_list))\n",
    "# print(t,method_list)\n",
    "for xe, ye in zip(t,method_list):\n",
    "    plt.scatter([xe] * len(ye), ye)\n",
    "plt.scatter(t,pca_list,c=\"black\",marker='^')\n",
    "plt.xlabel(\"time\")\n",
    "plt.ylabel(\"MSE\")\n",
    "# plt.xticks([1, 2])\n",
    "# plt.axes().set_xticklabels(['cat1', 'cat2'])\n",
    "\n",
    "# plt.savefig('t.png')"
   ]
  },
  {
   "cell_type": "code",
   "execution_count": null,
   "metadata": {},
   "outputs": [],
   "source": []
  },
  {
   "cell_type": "code",
   "execution_count": null,
   "metadata": {},
   "outputs": [],
   "source": []
  },
  {
   "cell_type": "code",
   "execution_count": null,
   "metadata": {},
   "outputs": [],
   "source": []
  },
  {
   "cell_type": "code",
   "execution_count": null,
   "metadata": {},
   "outputs": [],
   "source": []
  }
 ],
 "metadata": {
  "kernelspec": {
   "display_name": "Python 3",
   "language": "python",
   "name": "python3"
  },
  "language_info": {
   "codemirror_mode": {
    "name": "ipython",
    "version": 3
   },
   "file_extension": ".py",
   "mimetype": "text/x-python",
   "name": "python",
   "nbconvert_exporter": "python",
   "pygments_lexer": "ipython3",
   "version": "3.8.10"
  }
 },
 "nbformat": 4,
 "nbformat_minor": 4
}
