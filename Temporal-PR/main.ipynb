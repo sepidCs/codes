{
 "cells": [
  {
   "cell_type": "code",
   "execution_count": 1,
   "metadata": {},
   "outputs": [],
   "source": [
    "import numpy as np\n",
    "import pandas as pd\n",
    "from sklearn.metrics.pairwise import cosine_similarity\n",
    "import datetime \n",
    "import os\n",
    "sys.path.insert(1, 'D:/TMU/thesis/codes')\n",
    "\n",
    "from package.featureSelection_TEMPORAL_PAGERANK import *\n",
    "from package.loadDb import *"
   ]
  },
  {
   "cell_type": "code",
   "execution_count": 2,
   "metadata": {},
   "outputs": [],
   "source": [
    "import matplotlib.pyplot as plt\n",
    "from sklearn.model_selection import train_test_split\n",
    "import xgboost as xg\n",
    "import networkx as nx\n",
    "import operator\n",
    "import scipy.stats\n"
   ]
  },
  {
   "cell_type": "code",
   "execution_count": 3,
   "metadata": {},
   "outputs": [],
   "source": [
    "\n",
    "# data with target column\n",
    "address = \"..\\database\\stock market dataset\"\n",
    "data_with_target=load_stock_market_dataframe(address+\"\\sample_normalized_with_target.csv\")\n",
    "# data_with_target=data_with_target.iloc[:100000]\n",
    "# # .................................\n",
    "# # kaggle dataframe with target\n",
    "# address = \"..\\database\\kaggleDataFrame\"\n",
    "\n",
    "# data_with_target=load_kaggle_dataframe(address+\"\\dataframes.csv\")\n",
    "\n"
   ]
  },
  {
   "cell_type": "code",
   "execution_count": 4,
   "metadata": {},
   "outputs": [],
   "source": [
    "data_without_target=data_with_target.iloc[:,:-1]\n",
    "num_features=data_with_target.shape[1]\n",
    "\n",
    "num_comp=4\n",
    "# window_size=10\n",
    "interval = 2000\n",
    "testSize=500"
   ]
  },
  {
   "cell_type": "code",
   "execution_count": 5,
   "metadata": {},
   "outputs": [
    {
     "name": "stderr",
     "output_type": "stream",
     "text": [
      "C:\\Users\\User.MORADI-PC\\AppData\\Local\\Temp\\ipykernel_8568\\1119668535.py:33: FutureWarning: Support for multi-dimensional indexing (e.g. `obj[:, None]`) is deprecated and will be removed in a future version.  Convert to a numpy array before indexing instead.\n",
      "  mse=xgboost_reg_error(X_datacut[X_datacut.columns[a][0]].values,Y_datacut,testSize)\n"
     ]
    },
    {
     "name": "stdout",
     "output_type": "stream",
     "text": [
      "0.0\n",
      "----------------------------------------------------------------------------\n"
     ]
    },
    {
     "name": "stderr",
     "output_type": "stream",
     "text": [
      "C:\\Users\\User.MORADI-PC\\AppData\\Local\\Temp\\ipykernel_8568\\1119668535.py:33: FutureWarning: Support for multi-dimensional indexing (e.g. `obj[:, None]`) is deprecated and will be removed in a future version.  Convert to a numpy array before indexing instead.\n",
      "  mse=xgboost_reg_error(X_datacut[X_datacut.columns[a][0]].values,Y_datacut,testSize)\n"
     ]
    },
    {
     "name": "stdout",
     "output_type": "stream",
     "text": [
      "1.0\n",
      "----------------------------------------------------------------------------\n"
     ]
    },
    {
     "name": "stderr",
     "output_type": "stream",
     "text": [
      "C:\\Users\\User.MORADI-PC\\AppData\\Local\\Temp\\ipykernel_8568\\1119668535.py:33: FutureWarning: Support for multi-dimensional indexing (e.g. `obj[:, None]`) is deprecated and will be removed in a future version.  Convert to a numpy array before indexing instead.\n",
      "  mse=xgboost_reg_error(X_datacut[X_datacut.columns[a][0]].values,Y_datacut,testSize)\n"
     ]
    },
    {
     "name": "stdout",
     "output_type": "stream",
     "text": [
      "2.0\n",
      "----------------------------------------------------------------------------\n"
     ]
    },
    {
     "name": "stderr",
     "output_type": "stream",
     "text": [
      "C:\\Users\\User.MORADI-PC\\AppData\\Local\\Temp\\ipykernel_8568\\1119668535.py:33: FutureWarning: Support for multi-dimensional indexing (e.g. `obj[:, None]`) is deprecated and will be removed in a future version.  Convert to a numpy array before indexing instead.\n",
      "  mse=xgboost_reg_error(X_datacut[X_datacut.columns[a][0]].values,Y_datacut,testSize)\n"
     ]
    },
    {
     "name": "stdout",
     "output_type": "stream",
     "text": [
      "3.0\n",
      "----------------------------------------------------------------------------\n"
     ]
    },
    {
     "name": "stderr",
     "output_type": "stream",
     "text": [
      "C:\\Users\\User.MORADI-PC\\AppData\\Local\\Temp\\ipykernel_8568\\1119668535.py:33: FutureWarning: Support for multi-dimensional indexing (e.g. `obj[:, None]`) is deprecated and will be removed in a future version.  Convert to a numpy array before indexing instead.\n",
      "  mse=xgboost_reg_error(X_datacut[X_datacut.columns[a][0]].values,Y_datacut,testSize)\n"
     ]
    },
    {
     "name": "stdout",
     "output_type": "stream",
     "text": [
      "4.0\n",
      "----------------------------------------------------------------------------\n"
     ]
    },
    {
     "name": "stderr",
     "output_type": "stream",
     "text": [
      "C:\\Users\\User.MORADI-PC\\AppData\\Local\\Temp\\ipykernel_8568\\1119668535.py:33: FutureWarning: Support for multi-dimensional indexing (e.g. `obj[:, None]`) is deprecated and will be removed in a future version.  Convert to a numpy array before indexing instead.\n",
      "  mse=xgboost_reg_error(X_datacut[X_datacut.columns[a][0]].values,Y_datacut,testSize)\n"
     ]
    },
    {
     "name": "stdout",
     "output_type": "stream",
     "text": [
      "5.0\n",
      "----------------------------------------------------------------------------\n"
     ]
    },
    {
     "name": "stderr",
     "output_type": "stream",
     "text": [
      "C:\\Users\\User.MORADI-PC\\AppData\\Local\\Temp\\ipykernel_8568\\1119668535.py:33: FutureWarning: Support for multi-dimensional indexing (e.g. `obj[:, None]`) is deprecated and will be removed in a future version.  Convert to a numpy array before indexing instead.\n",
      "  mse=xgboost_reg_error(X_datacut[X_datacut.columns[a][0]].values,Y_datacut,testSize)\n"
     ]
    },
    {
     "name": "stdout",
     "output_type": "stream",
     "text": [
      "6.0\n",
      "----------------------------------------------------------------------------\n"
     ]
    },
    {
     "name": "stderr",
     "output_type": "stream",
     "text": [
      "C:\\Users\\User.MORADI-PC\\AppData\\Local\\Temp\\ipykernel_8568\\1119668535.py:33: FutureWarning: Support for multi-dimensional indexing (e.g. `obj[:, None]`) is deprecated and will be removed in a future version.  Convert to a numpy array before indexing instead.\n",
      "  mse=xgboost_reg_error(X_datacut[X_datacut.columns[a][0]].values,Y_datacut,testSize)\n"
     ]
    },
    {
     "name": "stdout",
     "output_type": "stream",
     "text": [
      "7.0\n",
      "----------------------------------------------------------------------------\n"
     ]
    },
    {
     "name": "stderr",
     "output_type": "stream",
     "text": [
      "C:\\Users\\User.MORADI-PC\\AppData\\Local\\Temp\\ipykernel_8568\\1119668535.py:33: FutureWarning: Support for multi-dimensional indexing (e.g. `obj[:, None]`) is deprecated and will be removed in a future version.  Convert to a numpy array before indexing instead.\n",
      "  mse=xgboost_reg_error(X_datacut[X_datacut.columns[a][0]].values,Y_datacut,testSize)\n"
     ]
    },
    {
     "name": "stdout",
     "output_type": "stream",
     "text": [
      "8.0\n",
      "----------------------------------------------------------------------------\n"
     ]
    },
    {
     "name": "stderr",
     "output_type": "stream",
     "text": [
      "C:\\Users\\User.MORADI-PC\\AppData\\Local\\Temp\\ipykernel_8568\\1119668535.py:33: FutureWarning: Support for multi-dimensional indexing (e.g. `obj[:, None]`) is deprecated and will be removed in a future version.  Convert to a numpy array before indexing instead.\n",
      "  mse=xgboost_reg_error(X_datacut[X_datacut.columns[a][0]].values,Y_datacut,testSize)\n"
     ]
    },
    {
     "name": "stdout",
     "output_type": "stream",
     "text": [
      "9.0\n",
      "----------------------------------------------------------------------------\n"
     ]
    },
    {
     "name": "stderr",
     "output_type": "stream",
     "text": [
      "C:\\Users\\User.MORADI-PC\\AppData\\Local\\Temp\\ipykernel_8568\\1119668535.py:33: FutureWarning: Support for multi-dimensional indexing (e.g. `obj[:, None]`) is deprecated and will be removed in a future version.  Convert to a numpy array before indexing instead.\n",
      "  mse=xgboost_reg_error(X_datacut[X_datacut.columns[a][0]].values,Y_datacut,testSize)\n"
     ]
    },
    {
     "name": "stdout",
     "output_type": "stream",
     "text": [
      "10.0\n",
      "----------------------------------------------------------------------------\n"
     ]
    },
    {
     "name": "stderr",
     "output_type": "stream",
     "text": [
      "C:\\Users\\User.MORADI-PC\\AppData\\Local\\Temp\\ipykernel_8568\\1119668535.py:33: FutureWarning: Support for multi-dimensional indexing (e.g. `obj[:, None]`) is deprecated and will be removed in a future version.  Convert to a numpy array before indexing instead.\n",
      "  mse=xgboost_reg_error(X_datacut[X_datacut.columns[a][0]].values,Y_datacut,testSize)\n"
     ]
    },
    {
     "name": "stdout",
     "output_type": "stream",
     "text": [
      "11.0\n",
      "----------------------------------------------------------------------------\n"
     ]
    },
    {
     "name": "stderr",
     "output_type": "stream",
     "text": [
      "C:\\Users\\User.MORADI-PC\\AppData\\Local\\Temp\\ipykernel_8568\\1119668535.py:33: FutureWarning: Support for multi-dimensional indexing (e.g. `obj[:, None]`) is deprecated and will be removed in a future version.  Convert to a numpy array before indexing instead.\n",
      "  mse=xgboost_reg_error(X_datacut[X_datacut.columns[a][0]].values,Y_datacut,testSize)\n"
     ]
    },
    {
     "name": "stdout",
     "output_type": "stream",
     "text": [
      "12.0\n",
      "----------------------------------------------------------------------------\n"
     ]
    },
    {
     "name": "stderr",
     "output_type": "stream",
     "text": [
      "C:\\Users\\User.MORADI-PC\\AppData\\Local\\Temp\\ipykernel_8568\\1119668535.py:33: FutureWarning: Support for multi-dimensional indexing (e.g. `obj[:, None]`) is deprecated and will be removed in a future version.  Convert to a numpy array before indexing instead.\n",
      "  mse=xgboost_reg_error(X_datacut[X_datacut.columns[a][0]].values,Y_datacut,testSize)\n"
     ]
    },
    {
     "name": "stdout",
     "output_type": "stream",
     "text": [
      "13.0\n",
      "----------------------------------------------------------------------------\n"
     ]
    },
    {
     "name": "stderr",
     "output_type": "stream",
     "text": [
      "C:\\Users\\User.MORADI-PC\\AppData\\Local\\Temp\\ipykernel_8568\\1119668535.py:33: FutureWarning: Support for multi-dimensional indexing (e.g. `obj[:, None]`) is deprecated and will be removed in a future version.  Convert to a numpy array before indexing instead.\n",
      "  mse=xgboost_reg_error(X_datacut[X_datacut.columns[a][0]].values,Y_datacut,testSize)\n"
     ]
    },
    {
     "name": "stdout",
     "output_type": "stream",
     "text": [
      "14.0\n",
      "----------------------------------------------------------------------------\n"
     ]
    },
    {
     "name": "stderr",
     "output_type": "stream",
     "text": [
      "C:\\Users\\User.MORADI-PC\\AppData\\Local\\Temp\\ipykernel_8568\\1119668535.py:33: FutureWarning: Support for multi-dimensional indexing (e.g. `obj[:, None]`) is deprecated and will be removed in a future version.  Convert to a numpy array before indexing instead.\n",
      "  mse=xgboost_reg_error(X_datacut[X_datacut.columns[a][0]].values,Y_datacut,testSize)\n"
     ]
    },
    {
     "name": "stdout",
     "output_type": "stream",
     "text": [
      "15.0\n",
      "----------------------------------------------------------------------------\n"
     ]
    },
    {
     "name": "stderr",
     "output_type": "stream",
     "text": [
      "C:\\Users\\User.MORADI-PC\\AppData\\Local\\Temp\\ipykernel_8568\\1119668535.py:33: FutureWarning: Support for multi-dimensional indexing (e.g. `obj[:, None]`) is deprecated and will be removed in a future version.  Convert to a numpy array before indexing instead.\n",
      "  mse=xgboost_reg_error(X_datacut[X_datacut.columns[a][0]].values,Y_datacut,testSize)\n"
     ]
    },
    {
     "name": "stdout",
     "output_type": "stream",
     "text": [
      "16.0\n",
      "----------------------------------------------------------------------------\n"
     ]
    },
    {
     "name": "stderr",
     "output_type": "stream",
     "text": [
      "C:\\Users\\User.MORADI-PC\\AppData\\Local\\Temp\\ipykernel_8568\\1119668535.py:33: FutureWarning: Support for multi-dimensional indexing (e.g. `obj[:, None]`) is deprecated and will be removed in a future version.  Convert to a numpy array before indexing instead.\n",
      "  mse=xgboost_reg_error(X_datacut[X_datacut.columns[a][0]].values,Y_datacut,testSize)\n"
     ]
    },
    {
     "name": "stdout",
     "output_type": "stream",
     "text": [
      "17.0\n",
      "----------------------------------------------------------------------------\n"
     ]
    },
    {
     "name": "stderr",
     "output_type": "stream",
     "text": [
      "C:\\Users\\User.MORADI-PC\\AppData\\Local\\Temp\\ipykernel_8568\\1119668535.py:33: FutureWarning: Support for multi-dimensional indexing (e.g. `obj[:, None]`) is deprecated and will be removed in a future version.  Convert to a numpy array before indexing instead.\n",
      "  mse=xgboost_reg_error(X_datacut[X_datacut.columns[a][0]].values,Y_datacut,testSize)\n"
     ]
    },
    {
     "name": "stdout",
     "output_type": "stream",
     "text": [
      "18.0\n",
      "----------------------------------------------------------------------------\n"
     ]
    },
    {
     "name": "stderr",
     "output_type": "stream",
     "text": [
      "C:\\Users\\User.MORADI-PC\\AppData\\Local\\Temp\\ipykernel_8568\\1119668535.py:33: FutureWarning: Support for multi-dimensional indexing (e.g. `obj[:, None]`) is deprecated and will be removed in a future version.  Convert to a numpy array before indexing instead.\n",
      "  mse=xgboost_reg_error(X_datacut[X_datacut.columns[a][0]].values,Y_datacut,testSize)\n"
     ]
    },
    {
     "name": "stdout",
     "output_type": "stream",
     "text": [
      "19.0\n",
      "----------------------------------------------------------------------------\n"
     ]
    },
    {
     "name": "stderr",
     "output_type": "stream",
     "text": [
      "C:\\Users\\User.MORADI-PC\\AppData\\Local\\Temp\\ipykernel_8568\\1119668535.py:33: FutureWarning: Support for multi-dimensional indexing (e.g. `obj[:, None]`) is deprecated and will be removed in a future version.  Convert to a numpy array before indexing instead.\n",
      "  mse=xgboost_reg_error(X_datacut[X_datacut.columns[a][0]].values,Y_datacut,testSize)\n"
     ]
    },
    {
     "name": "stdout",
     "output_type": "stream",
     "text": [
      "20.0\n",
      "----------------------------------------------------------------------------\n"
     ]
    },
    {
     "name": "stderr",
     "output_type": "stream",
     "text": [
      "C:\\Users\\User.MORADI-PC\\AppData\\Local\\Temp\\ipykernel_8568\\1119668535.py:33: FutureWarning: Support for multi-dimensional indexing (e.g. `obj[:, None]`) is deprecated and will be removed in a future version.  Convert to a numpy array before indexing instead.\n",
      "  mse=xgboost_reg_error(X_datacut[X_datacut.columns[a][0]].values,Y_datacut,testSize)\n"
     ]
    },
    {
     "name": "stdout",
     "output_type": "stream",
     "text": [
      "21.0\n",
      "----------------------------------------------------------------------------\n"
     ]
    },
    {
     "name": "stderr",
     "output_type": "stream",
     "text": [
      "C:\\Users\\User.MORADI-PC\\AppData\\Local\\Temp\\ipykernel_8568\\1119668535.py:33: FutureWarning: Support for multi-dimensional indexing (e.g. `obj[:, None]`) is deprecated and will be removed in a future version.  Convert to a numpy array before indexing instead.\n",
      "  mse=xgboost_reg_error(X_datacut[X_datacut.columns[a][0]].values,Y_datacut,testSize)\n"
     ]
    },
    {
     "name": "stdout",
     "output_type": "stream",
     "text": [
      "22.0\n",
      "----------------------------------------------------------------------------\n"
     ]
    },
    {
     "name": "stderr",
     "output_type": "stream",
     "text": [
      "C:\\Users\\User.MORADI-PC\\AppData\\Local\\Temp\\ipykernel_8568\\1119668535.py:33: FutureWarning: Support for multi-dimensional indexing (e.g. `obj[:, None]`) is deprecated and will be removed in a future version.  Convert to a numpy array before indexing instead.\n",
      "  mse=xgboost_reg_error(X_datacut[X_datacut.columns[a][0]].values,Y_datacut,testSize)\n"
     ]
    },
    {
     "name": "stdout",
     "output_type": "stream",
     "text": [
      "0.0\n",
      "----------------------------------------------------------------------------\n"
     ]
    },
    {
     "name": "stderr",
     "output_type": "stream",
     "text": [
      "C:\\Users\\User.MORADI-PC\\AppData\\Local\\Temp\\ipykernel_8568\\1119668535.py:33: FutureWarning: Support for multi-dimensional indexing (e.g. `obj[:, None]`) is deprecated and will be removed in a future version.  Convert to a numpy array before indexing instead.\n",
      "  mse=xgboost_reg_error(X_datacut[X_datacut.columns[a][0]].values,Y_datacut,testSize)\n"
     ]
    },
    {
     "name": "stdout",
     "output_type": "stream",
     "text": [
      "1.0\n",
      "----------------------------------------------------------------------------\n"
     ]
    },
    {
     "name": "stderr",
     "output_type": "stream",
     "text": [
      "C:\\Users\\User.MORADI-PC\\AppData\\Local\\Temp\\ipykernel_8568\\1119668535.py:33: FutureWarning: Support for multi-dimensional indexing (e.g. `obj[:, None]`) is deprecated and will be removed in a future version.  Convert to a numpy array before indexing instead.\n",
      "  mse=xgboost_reg_error(X_datacut[X_datacut.columns[a][0]].values,Y_datacut,testSize)\n"
     ]
    },
    {
     "name": "stdout",
     "output_type": "stream",
     "text": [
      "2.0\n",
      "----------------------------------------------------------------------------\n"
     ]
    },
    {
     "name": "stderr",
     "output_type": "stream",
     "text": [
      "C:\\Users\\User.MORADI-PC\\AppData\\Local\\Temp\\ipykernel_8568\\1119668535.py:33: FutureWarning: Support for multi-dimensional indexing (e.g. `obj[:, None]`) is deprecated and will be removed in a future version.  Convert to a numpy array before indexing instead.\n",
      "  mse=xgboost_reg_error(X_datacut[X_datacut.columns[a][0]].values,Y_datacut,testSize)\n"
     ]
    },
    {
     "name": "stdout",
     "output_type": "stream",
     "text": [
      "3.0\n",
      "----------------------------------------------------------------------------\n"
     ]
    },
    {
     "name": "stderr",
     "output_type": "stream",
     "text": [
      "C:\\Users\\User.MORADI-PC\\AppData\\Local\\Temp\\ipykernel_8568\\1119668535.py:33: FutureWarning: Support for multi-dimensional indexing (e.g. `obj[:, None]`) is deprecated and will be removed in a future version.  Convert to a numpy array before indexing instead.\n",
      "  mse=xgboost_reg_error(X_datacut[X_datacut.columns[a][0]].values,Y_datacut,testSize)\n"
     ]
    },
    {
     "name": "stdout",
     "output_type": "stream",
     "text": [
      "4.0\n",
      "----------------------------------------------------------------------------\n"
     ]
    },
    {
     "name": "stderr",
     "output_type": "stream",
     "text": [
      "C:\\Users\\User.MORADI-PC\\AppData\\Local\\Temp\\ipykernel_8568\\1119668535.py:33: FutureWarning: Support for multi-dimensional indexing (e.g. `obj[:, None]`) is deprecated and will be removed in a future version.  Convert to a numpy array before indexing instead.\n",
      "  mse=xgboost_reg_error(X_datacut[X_datacut.columns[a][0]].values,Y_datacut,testSize)\n"
     ]
    },
    {
     "name": "stdout",
     "output_type": "stream",
     "text": [
      "5.0\n",
      "----------------------------------------------------------------------------\n"
     ]
    },
    {
     "name": "stderr",
     "output_type": "stream",
     "text": [
      "C:\\Users\\User.MORADI-PC\\AppData\\Local\\Temp\\ipykernel_8568\\1119668535.py:33: FutureWarning: Support for multi-dimensional indexing (e.g. `obj[:, None]`) is deprecated and will be removed in a future version.  Convert to a numpy array before indexing instead.\n",
      "  mse=xgboost_reg_error(X_datacut[X_datacut.columns[a][0]].values,Y_datacut,testSize)\n"
     ]
    },
    {
     "name": "stdout",
     "output_type": "stream",
     "text": [
      "6.0\n",
      "----------------------------------------------------------------------------\n"
     ]
    },
    {
     "name": "stderr",
     "output_type": "stream",
     "text": [
      "C:\\Users\\User.MORADI-PC\\AppData\\Local\\Temp\\ipykernel_8568\\1119668535.py:33: FutureWarning: Support for multi-dimensional indexing (e.g. `obj[:, None]`) is deprecated and will be removed in a future version.  Convert to a numpy array before indexing instead.\n",
      "  mse=xgboost_reg_error(X_datacut[X_datacut.columns[a][0]].values,Y_datacut,testSize)\n"
     ]
    },
    {
     "name": "stdout",
     "output_type": "stream",
     "text": [
      "7.0\n",
      "----------------------------------------------------------------------------\n"
     ]
    },
    {
     "name": "stderr",
     "output_type": "stream",
     "text": [
      "C:\\Users\\User.MORADI-PC\\AppData\\Local\\Temp\\ipykernel_8568\\1119668535.py:33: FutureWarning: Support for multi-dimensional indexing (e.g. `obj[:, None]`) is deprecated and will be removed in a future version.  Convert to a numpy array before indexing instead.\n",
      "  mse=xgboost_reg_error(X_datacut[X_datacut.columns[a][0]].values,Y_datacut,testSize)\n"
     ]
    },
    {
     "name": "stdout",
     "output_type": "stream",
     "text": [
      "8.0\n",
      "----------------------------------------------------------------------------\n"
     ]
    },
    {
     "name": "stderr",
     "output_type": "stream",
     "text": [
      "C:\\Users\\User.MORADI-PC\\AppData\\Local\\Temp\\ipykernel_8568\\1119668535.py:33: FutureWarning: Support for multi-dimensional indexing (e.g. `obj[:, None]`) is deprecated and will be removed in a future version.  Convert to a numpy array before indexing instead.\n",
      "  mse=xgboost_reg_error(X_datacut[X_datacut.columns[a][0]].values,Y_datacut,testSize)\n"
     ]
    },
    {
     "name": "stdout",
     "output_type": "stream",
     "text": [
      "9.0\n",
      "----------------------------------------------------------------------------\n"
     ]
    },
    {
     "name": "stderr",
     "output_type": "stream",
     "text": [
      "C:\\Users\\User.MORADI-PC\\AppData\\Local\\Temp\\ipykernel_8568\\1119668535.py:33: FutureWarning: Support for multi-dimensional indexing (e.g. `obj[:, None]`) is deprecated and will be removed in a future version.  Convert to a numpy array before indexing instead.\n",
      "  mse=xgboost_reg_error(X_datacut[X_datacut.columns[a][0]].values,Y_datacut,testSize)\n"
     ]
    },
    {
     "name": "stdout",
     "output_type": "stream",
     "text": [
      "10.0\n",
      "----------------------------------------------------------------------------\n"
     ]
    },
    {
     "name": "stderr",
     "output_type": "stream",
     "text": [
      "C:\\Users\\User.MORADI-PC\\AppData\\Local\\Temp\\ipykernel_8568\\1119668535.py:33: FutureWarning: Support for multi-dimensional indexing (e.g. `obj[:, None]`) is deprecated and will be removed in a future version.  Convert to a numpy array before indexing instead.\n",
      "  mse=xgboost_reg_error(X_datacut[X_datacut.columns[a][0]].values,Y_datacut,testSize)\n"
     ]
    },
    {
     "name": "stdout",
     "output_type": "stream",
     "text": [
      "11.0\n",
      "----------------------------------------------------------------------------\n"
     ]
    },
    {
     "name": "stderr",
     "output_type": "stream",
     "text": [
      "C:\\Users\\User.MORADI-PC\\AppData\\Local\\Temp\\ipykernel_8568\\1119668535.py:33: FutureWarning: Support for multi-dimensional indexing (e.g. `obj[:, None]`) is deprecated and will be removed in a future version.  Convert to a numpy array before indexing instead.\n",
      "  mse=xgboost_reg_error(X_datacut[X_datacut.columns[a][0]].values,Y_datacut,testSize)\n"
     ]
    },
    {
     "name": "stdout",
     "output_type": "stream",
     "text": [
      "12.0\n",
      "----------------------------------------------------------------------------\n"
     ]
    },
    {
     "name": "stderr",
     "output_type": "stream",
     "text": [
      "C:\\Users\\User.MORADI-PC\\AppData\\Local\\Temp\\ipykernel_8568\\1119668535.py:33: FutureWarning: Support for multi-dimensional indexing (e.g. `obj[:, None]`) is deprecated and will be removed in a future version.  Convert to a numpy array before indexing instead.\n",
      "  mse=xgboost_reg_error(X_datacut[X_datacut.columns[a][0]].values,Y_datacut,testSize)\n"
     ]
    },
    {
     "name": "stdout",
     "output_type": "stream",
     "text": [
      "13.0\n",
      "----------------------------------------------------------------------------\n"
     ]
    },
    {
     "name": "stderr",
     "output_type": "stream",
     "text": [
      "C:\\Users\\User.MORADI-PC\\AppData\\Local\\Temp\\ipykernel_8568\\1119668535.py:33: FutureWarning: Support for multi-dimensional indexing (e.g. `obj[:, None]`) is deprecated and will be removed in a future version.  Convert to a numpy array before indexing instead.\n",
      "  mse=xgboost_reg_error(X_datacut[X_datacut.columns[a][0]].values,Y_datacut,testSize)\n"
     ]
    },
    {
     "name": "stdout",
     "output_type": "stream",
     "text": [
      "14.0\n",
      "----------------------------------------------------------------------------\n"
     ]
    },
    {
     "name": "stderr",
     "output_type": "stream",
     "text": [
      "C:\\Users\\User.MORADI-PC\\AppData\\Local\\Temp\\ipykernel_8568\\1119668535.py:33: FutureWarning: Support for multi-dimensional indexing (e.g. `obj[:, None]`) is deprecated and will be removed in a future version.  Convert to a numpy array before indexing instead.\n",
      "  mse=xgboost_reg_error(X_datacut[X_datacut.columns[a][0]].values,Y_datacut,testSize)\n"
     ]
    },
    {
     "name": "stdout",
     "output_type": "stream",
     "text": [
      "15.0\n",
      "----------------------------------------------------------------------------\n"
     ]
    },
    {
     "name": "stderr",
     "output_type": "stream",
     "text": [
      "C:\\Users\\User.MORADI-PC\\AppData\\Local\\Temp\\ipykernel_8568\\1119668535.py:33: FutureWarning: Support for multi-dimensional indexing (e.g. `obj[:, None]`) is deprecated and will be removed in a future version.  Convert to a numpy array before indexing instead.\n",
      "  mse=xgboost_reg_error(X_datacut[X_datacut.columns[a][0]].values,Y_datacut,testSize)\n"
     ]
    },
    {
     "name": "stdout",
     "output_type": "stream",
     "text": [
      "16.0\n",
      "----------------------------------------------------------------------------\n"
     ]
    },
    {
     "name": "stderr",
     "output_type": "stream",
     "text": [
      "C:\\Users\\User.MORADI-PC\\AppData\\Local\\Temp\\ipykernel_8568\\1119668535.py:33: FutureWarning: Support for multi-dimensional indexing (e.g. `obj[:, None]`) is deprecated and will be removed in a future version.  Convert to a numpy array before indexing instead.\n",
      "  mse=xgboost_reg_error(X_datacut[X_datacut.columns[a][0]].values,Y_datacut,testSize)\n"
     ]
    },
    {
     "name": "stdout",
     "output_type": "stream",
     "text": [
      "17.0\n",
      "----------------------------------------------------------------------------\n"
     ]
    },
    {
     "name": "stderr",
     "output_type": "stream",
     "text": [
      "C:\\Users\\User.MORADI-PC\\AppData\\Local\\Temp\\ipykernel_8568\\1119668535.py:33: FutureWarning: Support for multi-dimensional indexing (e.g. `obj[:, None]`) is deprecated and will be removed in a future version.  Convert to a numpy array before indexing instead.\n",
      "  mse=xgboost_reg_error(X_datacut[X_datacut.columns[a][0]].values,Y_datacut,testSize)\n"
     ]
    },
    {
     "name": "stdout",
     "output_type": "stream",
     "text": [
      "18.0\n",
      "----------------------------------------------------------------------------\n"
     ]
    },
    {
     "name": "stderr",
     "output_type": "stream",
     "text": [
      "C:\\Users\\User.MORADI-PC\\AppData\\Local\\Temp\\ipykernel_8568\\1119668535.py:33: FutureWarning: Support for multi-dimensional indexing (e.g. `obj[:, None]`) is deprecated and will be removed in a future version.  Convert to a numpy array before indexing instead.\n",
      "  mse=xgboost_reg_error(X_datacut[X_datacut.columns[a][0]].values,Y_datacut,testSize)\n"
     ]
    },
    {
     "name": "stdout",
     "output_type": "stream",
     "text": [
      "19.0\n",
      "----------------------------------------------------------------------------\n"
     ]
    },
    {
     "name": "stderr",
     "output_type": "stream",
     "text": [
      "C:\\Users\\User.MORADI-PC\\AppData\\Local\\Temp\\ipykernel_8568\\1119668535.py:33: FutureWarning: Support for multi-dimensional indexing (e.g. `obj[:, None]`) is deprecated and will be removed in a future version.  Convert to a numpy array before indexing instead.\n",
      "  mse=xgboost_reg_error(X_datacut[X_datacut.columns[a][0]].values,Y_datacut,testSize)\n"
     ]
    },
    {
     "name": "stdout",
     "output_type": "stream",
     "text": [
      "20.0\n",
      "----------------------------------------------------------------------------\n"
     ]
    },
    {
     "name": "stderr",
     "output_type": "stream",
     "text": [
      "C:\\Users\\User.MORADI-PC\\AppData\\Local\\Temp\\ipykernel_8568\\1119668535.py:33: FutureWarning: Support for multi-dimensional indexing (e.g. `obj[:, None]`) is deprecated and will be removed in a future version.  Convert to a numpy array before indexing instead.\n",
      "  mse=xgboost_reg_error(X_datacut[X_datacut.columns[a][0]].values,Y_datacut,testSize)\n"
     ]
    },
    {
     "name": "stdout",
     "output_type": "stream",
     "text": [
      "21.0\n",
      "----------------------------------------------------------------------------\n"
     ]
    },
    {
     "name": "stderr",
     "output_type": "stream",
     "text": [
      "C:\\Users\\User.MORADI-PC\\AppData\\Local\\Temp\\ipykernel_8568\\1119668535.py:33: FutureWarning: Support for multi-dimensional indexing (e.g. `obj[:, None]`) is deprecated and will be removed in a future version.  Convert to a numpy array before indexing instead.\n",
      "  mse=xgboost_reg_error(X_datacut[X_datacut.columns[a][0]].values,Y_datacut,testSize)\n"
     ]
    },
    {
     "name": "stdout",
     "output_type": "stream",
     "text": [
      "22.0\n",
      "----------------------------------------------------------------------------\n"
     ]
    },
    {
     "name": "stderr",
     "output_type": "stream",
     "text": [
      "C:\\Users\\User.MORADI-PC\\AppData\\Local\\Temp\\ipykernel_8568\\1119668535.py:33: FutureWarning: Support for multi-dimensional indexing (e.g. `obj[:, None]`) is deprecated and will be removed in a future version.  Convert to a numpy array before indexing instead.\n",
      "  mse=xgboost_reg_error(X_datacut[X_datacut.columns[a][0]].values,Y_datacut,testSize)\n"
     ]
    },
    {
     "name": "stdout",
     "output_type": "stream",
     "text": [
      "0.0\n",
      "----------------------------------------------------------------------------\n"
     ]
    },
    {
     "name": "stderr",
     "output_type": "stream",
     "text": [
      "C:\\Users\\User.MORADI-PC\\AppData\\Local\\Temp\\ipykernel_8568\\1119668535.py:33: FutureWarning: Support for multi-dimensional indexing (e.g. `obj[:, None]`) is deprecated and will be removed in a future version.  Convert to a numpy array before indexing instead.\n",
      "  mse=xgboost_reg_error(X_datacut[X_datacut.columns[a][0]].values,Y_datacut,testSize)\n"
     ]
    },
    {
     "name": "stdout",
     "output_type": "stream",
     "text": [
      "1.0\n",
      "----------------------------------------------------------------------------\n"
     ]
    },
    {
     "name": "stderr",
     "output_type": "stream",
     "text": [
      "C:\\Users\\User.MORADI-PC\\AppData\\Local\\Temp\\ipykernel_8568\\1119668535.py:33: FutureWarning: Support for multi-dimensional indexing (e.g. `obj[:, None]`) is deprecated and will be removed in a future version.  Convert to a numpy array before indexing instead.\n",
      "  mse=xgboost_reg_error(X_datacut[X_datacut.columns[a][0]].values,Y_datacut,testSize)\n"
     ]
    },
    {
     "name": "stdout",
     "output_type": "stream",
     "text": [
      "2.0\n",
      "----------------------------------------------------------------------------\n"
     ]
    },
    {
     "name": "stderr",
     "output_type": "stream",
     "text": [
      "C:\\Users\\User.MORADI-PC\\AppData\\Local\\Temp\\ipykernel_8568\\1119668535.py:33: FutureWarning: Support for multi-dimensional indexing (e.g. `obj[:, None]`) is deprecated and will be removed in a future version.  Convert to a numpy array before indexing instead.\n",
      "  mse=xgboost_reg_error(X_datacut[X_datacut.columns[a][0]].values,Y_datacut,testSize)\n"
     ]
    },
    {
     "name": "stdout",
     "output_type": "stream",
     "text": [
      "3.0\n",
      "----------------------------------------------------------------------------\n"
     ]
    },
    {
     "name": "stderr",
     "output_type": "stream",
     "text": [
      "C:\\Users\\User.MORADI-PC\\AppData\\Local\\Temp\\ipykernel_8568\\1119668535.py:33: FutureWarning: Support for multi-dimensional indexing (e.g. `obj[:, None]`) is deprecated and will be removed in a future version.  Convert to a numpy array before indexing instead.\n",
      "  mse=xgboost_reg_error(X_datacut[X_datacut.columns[a][0]].values,Y_datacut,testSize)\n"
     ]
    },
    {
     "name": "stdout",
     "output_type": "stream",
     "text": [
      "4.0\n",
      "----------------------------------------------------------------------------\n"
     ]
    },
    {
     "name": "stderr",
     "output_type": "stream",
     "text": [
      "C:\\Users\\User.MORADI-PC\\AppData\\Local\\Temp\\ipykernel_8568\\1119668535.py:33: FutureWarning: Support for multi-dimensional indexing (e.g. `obj[:, None]`) is deprecated and will be removed in a future version.  Convert to a numpy array before indexing instead.\n",
      "  mse=xgboost_reg_error(X_datacut[X_datacut.columns[a][0]].values,Y_datacut,testSize)\n"
     ]
    },
    {
     "name": "stdout",
     "output_type": "stream",
     "text": [
      "5.0\n",
      "----------------------------------------------------------------------------\n"
     ]
    },
    {
     "name": "stderr",
     "output_type": "stream",
     "text": [
      "C:\\Users\\User.MORADI-PC\\AppData\\Local\\Temp\\ipykernel_8568\\1119668535.py:33: FutureWarning: Support for multi-dimensional indexing (e.g. `obj[:, None]`) is deprecated and will be removed in a future version.  Convert to a numpy array before indexing instead.\n",
      "  mse=xgboost_reg_error(X_datacut[X_datacut.columns[a][0]].values,Y_datacut,testSize)\n"
     ]
    },
    {
     "name": "stdout",
     "output_type": "stream",
     "text": [
      "6.0\n",
      "----------------------------------------------------------------------------\n"
     ]
    },
    {
     "name": "stderr",
     "output_type": "stream",
     "text": [
      "C:\\Users\\User.MORADI-PC\\AppData\\Local\\Temp\\ipykernel_8568\\1119668535.py:33: FutureWarning: Support for multi-dimensional indexing (e.g. `obj[:, None]`) is deprecated and will be removed in a future version.  Convert to a numpy array before indexing instead.\n",
      "  mse=xgboost_reg_error(X_datacut[X_datacut.columns[a][0]].values,Y_datacut,testSize)\n"
     ]
    },
    {
     "name": "stdout",
     "output_type": "stream",
     "text": [
      "7.0\n",
      "----------------------------------------------------------------------------\n"
     ]
    },
    {
     "name": "stderr",
     "output_type": "stream",
     "text": [
      "C:\\Users\\User.MORADI-PC\\AppData\\Local\\Temp\\ipykernel_8568\\1119668535.py:33: FutureWarning: Support for multi-dimensional indexing (e.g. `obj[:, None]`) is deprecated and will be removed in a future version.  Convert to a numpy array before indexing instead.\n",
      "  mse=xgboost_reg_error(X_datacut[X_datacut.columns[a][0]].values,Y_datacut,testSize)\n"
     ]
    },
    {
     "name": "stdout",
     "output_type": "stream",
     "text": [
      "8.0\n",
      "----------------------------------------------------------------------------\n"
     ]
    },
    {
     "name": "stderr",
     "output_type": "stream",
     "text": [
      "C:\\Users\\User.MORADI-PC\\AppData\\Local\\Temp\\ipykernel_8568\\1119668535.py:33: FutureWarning: Support for multi-dimensional indexing (e.g. `obj[:, None]`) is deprecated and will be removed in a future version.  Convert to a numpy array before indexing instead.\n",
      "  mse=xgboost_reg_error(X_datacut[X_datacut.columns[a][0]].values,Y_datacut,testSize)\n"
     ]
    },
    {
     "name": "stdout",
     "output_type": "stream",
     "text": [
      "9.0\n",
      "----------------------------------------------------------------------------\n"
     ]
    },
    {
     "name": "stderr",
     "output_type": "stream",
     "text": [
      "C:\\Users\\User.MORADI-PC\\AppData\\Local\\Temp\\ipykernel_8568\\1119668535.py:33: FutureWarning: Support for multi-dimensional indexing (e.g. `obj[:, None]`) is deprecated and will be removed in a future version.  Convert to a numpy array before indexing instead.\n",
      "  mse=xgboost_reg_error(X_datacut[X_datacut.columns[a][0]].values,Y_datacut,testSize)\n"
     ]
    },
    {
     "name": "stdout",
     "output_type": "stream",
     "text": [
      "10.0\n",
      "----------------------------------------------------------------------------\n"
     ]
    },
    {
     "name": "stderr",
     "output_type": "stream",
     "text": [
      "C:\\Users\\User.MORADI-PC\\AppData\\Local\\Temp\\ipykernel_8568\\1119668535.py:33: FutureWarning: Support for multi-dimensional indexing (e.g. `obj[:, None]`) is deprecated and will be removed in a future version.  Convert to a numpy array before indexing instead.\n",
      "  mse=xgboost_reg_error(X_datacut[X_datacut.columns[a][0]].values,Y_datacut,testSize)\n"
     ]
    },
    {
     "name": "stdout",
     "output_type": "stream",
     "text": [
      "11.0\n",
      "----------------------------------------------------------------------------\n"
     ]
    },
    {
     "name": "stderr",
     "output_type": "stream",
     "text": [
      "C:\\Users\\User.MORADI-PC\\AppData\\Local\\Temp\\ipykernel_8568\\1119668535.py:33: FutureWarning: Support for multi-dimensional indexing (e.g. `obj[:, None]`) is deprecated and will be removed in a future version.  Convert to a numpy array before indexing instead.\n",
      "  mse=xgboost_reg_error(X_datacut[X_datacut.columns[a][0]].values,Y_datacut,testSize)\n"
     ]
    },
    {
     "name": "stdout",
     "output_type": "stream",
     "text": [
      "12.0\n",
      "----------------------------------------------------------------------------\n"
     ]
    },
    {
     "name": "stderr",
     "output_type": "stream",
     "text": [
      "C:\\Users\\User.MORADI-PC\\AppData\\Local\\Temp\\ipykernel_8568\\1119668535.py:33: FutureWarning: Support for multi-dimensional indexing (e.g. `obj[:, None]`) is deprecated and will be removed in a future version.  Convert to a numpy array before indexing instead.\n",
      "  mse=xgboost_reg_error(X_datacut[X_datacut.columns[a][0]].values,Y_datacut,testSize)\n"
     ]
    },
    {
     "name": "stdout",
     "output_type": "stream",
     "text": [
      "13.0\n",
      "----------------------------------------------------------------------------\n"
     ]
    },
    {
     "name": "stderr",
     "output_type": "stream",
     "text": [
      "C:\\Users\\User.MORADI-PC\\AppData\\Local\\Temp\\ipykernel_8568\\1119668535.py:33: FutureWarning: Support for multi-dimensional indexing (e.g. `obj[:, None]`) is deprecated and will be removed in a future version.  Convert to a numpy array before indexing instead.\n",
      "  mse=xgboost_reg_error(X_datacut[X_datacut.columns[a][0]].values,Y_datacut,testSize)\n"
     ]
    },
    {
     "name": "stdout",
     "output_type": "stream",
     "text": [
      "14.0\n",
      "----------------------------------------------------------------------------\n"
     ]
    },
    {
     "name": "stderr",
     "output_type": "stream",
     "text": [
      "C:\\Users\\User.MORADI-PC\\AppData\\Local\\Temp\\ipykernel_8568\\1119668535.py:33: FutureWarning: Support for multi-dimensional indexing (e.g. `obj[:, None]`) is deprecated and will be removed in a future version.  Convert to a numpy array before indexing instead.\n",
      "  mse=xgboost_reg_error(X_datacut[X_datacut.columns[a][0]].values,Y_datacut,testSize)\n"
     ]
    },
    {
     "name": "stdout",
     "output_type": "stream",
     "text": [
      "15.0\n",
      "----------------------------------------------------------------------------\n"
     ]
    },
    {
     "name": "stderr",
     "output_type": "stream",
     "text": [
      "C:\\Users\\User.MORADI-PC\\AppData\\Local\\Temp\\ipykernel_8568\\1119668535.py:33: FutureWarning: Support for multi-dimensional indexing (e.g. `obj[:, None]`) is deprecated and will be removed in a future version.  Convert to a numpy array before indexing instead.\n",
      "  mse=xgboost_reg_error(X_datacut[X_datacut.columns[a][0]].values,Y_datacut,testSize)\n"
     ]
    },
    {
     "name": "stdout",
     "output_type": "stream",
     "text": [
      "16.0\n",
      "----------------------------------------------------------------------------\n"
     ]
    },
    {
     "name": "stderr",
     "output_type": "stream",
     "text": [
      "C:\\Users\\User.MORADI-PC\\AppData\\Local\\Temp\\ipykernel_8568\\1119668535.py:33: FutureWarning: Support for multi-dimensional indexing (e.g. `obj[:, None]`) is deprecated and will be removed in a future version.  Convert to a numpy array before indexing instead.\n",
      "  mse=xgboost_reg_error(X_datacut[X_datacut.columns[a][0]].values,Y_datacut,testSize)\n"
     ]
    },
    {
     "name": "stdout",
     "output_type": "stream",
     "text": [
      "17.0\n",
      "----------------------------------------------------------------------------\n"
     ]
    },
    {
     "name": "stderr",
     "output_type": "stream",
     "text": [
      "C:\\Users\\User.MORADI-PC\\AppData\\Local\\Temp\\ipykernel_8568\\1119668535.py:33: FutureWarning: Support for multi-dimensional indexing (e.g. `obj[:, None]`) is deprecated and will be removed in a future version.  Convert to a numpy array before indexing instead.\n",
      "  mse=xgboost_reg_error(X_datacut[X_datacut.columns[a][0]].values,Y_datacut,testSize)\n"
     ]
    },
    {
     "name": "stdout",
     "output_type": "stream",
     "text": [
      "18.0\n",
      "----------------------------------------------------------------------------\n"
     ]
    },
    {
     "name": "stderr",
     "output_type": "stream",
     "text": [
      "C:\\Users\\User.MORADI-PC\\AppData\\Local\\Temp\\ipykernel_8568\\1119668535.py:33: FutureWarning: Support for multi-dimensional indexing (e.g. `obj[:, None]`) is deprecated and will be removed in a future version.  Convert to a numpy array before indexing instead.\n",
      "  mse=xgboost_reg_error(X_datacut[X_datacut.columns[a][0]].values,Y_datacut,testSize)\n"
     ]
    },
    {
     "name": "stdout",
     "output_type": "stream",
     "text": [
      "19.0\n",
      "----------------------------------------------------------------------------\n"
     ]
    },
    {
     "name": "stderr",
     "output_type": "stream",
     "text": [
      "C:\\Users\\User.MORADI-PC\\AppData\\Local\\Temp\\ipykernel_8568\\1119668535.py:33: FutureWarning: Support for multi-dimensional indexing (e.g. `obj[:, None]`) is deprecated and will be removed in a future version.  Convert to a numpy array before indexing instead.\n",
      "  mse=xgboost_reg_error(X_datacut[X_datacut.columns[a][0]].values,Y_datacut,testSize)\n"
     ]
    },
    {
     "name": "stdout",
     "output_type": "stream",
     "text": [
      "20.0\n",
      "----------------------------------------------------------------------------\n"
     ]
    },
    {
     "name": "stderr",
     "output_type": "stream",
     "text": [
      "C:\\Users\\User.MORADI-PC\\AppData\\Local\\Temp\\ipykernel_8568\\1119668535.py:33: FutureWarning: Support for multi-dimensional indexing (e.g. `obj[:, None]`) is deprecated and will be removed in a future version.  Convert to a numpy array before indexing instead.\n",
      "  mse=xgboost_reg_error(X_datacut[X_datacut.columns[a][0]].values,Y_datacut,testSize)\n"
     ]
    },
    {
     "name": "stdout",
     "output_type": "stream",
     "text": [
      "21.0\n",
      "----------------------------------------------------------------------------\n"
     ]
    },
    {
     "name": "stderr",
     "output_type": "stream",
     "text": [
      "C:\\Users\\User.MORADI-PC\\AppData\\Local\\Temp\\ipykernel_8568\\1119668535.py:33: FutureWarning: Support for multi-dimensional indexing (e.g. `obj[:, None]`) is deprecated and will be removed in a future version.  Convert to a numpy array before indexing instead.\n",
      "  mse=xgboost_reg_error(X_datacut[X_datacut.columns[a][0]].values,Y_datacut,testSize)\n"
     ]
    },
    {
     "name": "stdout",
     "output_type": "stream",
     "text": [
      "22.0\n",
      "----------------------------------------------------------------------------\n"
     ]
    },
    {
     "name": "stderr",
     "output_type": "stream",
     "text": [
      "C:\\Users\\User.MORADI-PC\\AppData\\Local\\Temp\\ipykernel_8568\\1119668535.py:33: FutureWarning: Support for multi-dimensional indexing (e.g. `obj[:, None]`) is deprecated and will be removed in a future version.  Convert to a numpy array before indexing instead.\n",
      "  mse=xgboost_reg_error(X_datacut[X_datacut.columns[a][0]].values,Y_datacut,testSize)\n"
     ]
    },
    {
     "name": "stdout",
     "output_type": "stream",
     "text": [
      "0.0\n",
      "----------------------------------------------------------------------------\n"
     ]
    },
    {
     "name": "stderr",
     "output_type": "stream",
     "text": [
      "C:\\Users\\User.MORADI-PC\\AppData\\Local\\Temp\\ipykernel_8568\\1119668535.py:33: FutureWarning: Support for multi-dimensional indexing (e.g. `obj[:, None]`) is deprecated and will be removed in a future version.  Convert to a numpy array before indexing instead.\n",
      "  mse=xgboost_reg_error(X_datacut[X_datacut.columns[a][0]].values,Y_datacut,testSize)\n"
     ]
    },
    {
     "name": "stdout",
     "output_type": "stream",
     "text": [
      "1.0\n",
      "----------------------------------------------------------------------------\n"
     ]
    },
    {
     "name": "stderr",
     "output_type": "stream",
     "text": [
      "C:\\Users\\User.MORADI-PC\\AppData\\Local\\Temp\\ipykernel_8568\\1119668535.py:33: FutureWarning: Support for multi-dimensional indexing (e.g. `obj[:, None]`) is deprecated and will be removed in a future version.  Convert to a numpy array before indexing instead.\n",
      "  mse=xgboost_reg_error(X_datacut[X_datacut.columns[a][0]].values,Y_datacut,testSize)\n"
     ]
    },
    {
     "name": "stdout",
     "output_type": "stream",
     "text": [
      "2.0\n",
      "----------------------------------------------------------------------------\n"
     ]
    },
    {
     "name": "stderr",
     "output_type": "stream",
     "text": [
      "C:\\Users\\User.MORADI-PC\\AppData\\Local\\Temp\\ipykernel_8568\\1119668535.py:33: FutureWarning: Support for multi-dimensional indexing (e.g. `obj[:, None]`) is deprecated and will be removed in a future version.  Convert to a numpy array before indexing instead.\n",
      "  mse=xgboost_reg_error(X_datacut[X_datacut.columns[a][0]].values,Y_datacut,testSize)\n"
     ]
    },
    {
     "name": "stdout",
     "output_type": "stream",
     "text": [
      "3.0\n",
      "----------------------------------------------------------------------------\n"
     ]
    },
    {
     "name": "stderr",
     "output_type": "stream",
     "text": [
      "C:\\Users\\User.MORADI-PC\\AppData\\Local\\Temp\\ipykernel_8568\\1119668535.py:33: FutureWarning: Support for multi-dimensional indexing (e.g. `obj[:, None]`) is deprecated and will be removed in a future version.  Convert to a numpy array before indexing instead.\n",
      "  mse=xgboost_reg_error(X_datacut[X_datacut.columns[a][0]].values,Y_datacut,testSize)\n"
     ]
    },
    {
     "name": "stdout",
     "output_type": "stream",
     "text": [
      "4.0\n",
      "----------------------------------------------------------------------------\n"
     ]
    },
    {
     "name": "stderr",
     "output_type": "stream",
     "text": [
      "C:\\Users\\User.MORADI-PC\\AppData\\Local\\Temp\\ipykernel_8568\\1119668535.py:33: FutureWarning: Support for multi-dimensional indexing (e.g. `obj[:, None]`) is deprecated and will be removed in a future version.  Convert to a numpy array before indexing instead.\n",
      "  mse=xgboost_reg_error(X_datacut[X_datacut.columns[a][0]].values,Y_datacut,testSize)\n"
     ]
    },
    {
     "name": "stdout",
     "output_type": "stream",
     "text": [
      "5.0\n",
      "----------------------------------------------------------------------------\n"
     ]
    },
    {
     "name": "stderr",
     "output_type": "stream",
     "text": [
      "C:\\Users\\User.MORADI-PC\\AppData\\Local\\Temp\\ipykernel_8568\\1119668535.py:33: FutureWarning: Support for multi-dimensional indexing (e.g. `obj[:, None]`) is deprecated and will be removed in a future version.  Convert to a numpy array before indexing instead.\n",
      "  mse=xgboost_reg_error(X_datacut[X_datacut.columns[a][0]].values,Y_datacut,testSize)\n"
     ]
    },
    {
     "name": "stdout",
     "output_type": "stream",
     "text": [
      "6.0\n",
      "----------------------------------------------------------------------------\n"
     ]
    },
    {
     "name": "stderr",
     "output_type": "stream",
     "text": [
      "C:\\Users\\User.MORADI-PC\\AppData\\Local\\Temp\\ipykernel_8568\\1119668535.py:33: FutureWarning: Support for multi-dimensional indexing (e.g. `obj[:, None]`) is deprecated and will be removed in a future version.  Convert to a numpy array before indexing instead.\n",
      "  mse=xgboost_reg_error(X_datacut[X_datacut.columns[a][0]].values,Y_datacut,testSize)\n"
     ]
    },
    {
     "name": "stdout",
     "output_type": "stream",
     "text": [
      "7.0\n",
      "----------------------------------------------------------------------------\n"
     ]
    },
    {
     "name": "stderr",
     "output_type": "stream",
     "text": [
      "C:\\Users\\User.MORADI-PC\\AppData\\Local\\Temp\\ipykernel_8568\\1119668535.py:33: FutureWarning: Support for multi-dimensional indexing (e.g. `obj[:, None]`) is deprecated and will be removed in a future version.  Convert to a numpy array before indexing instead.\n",
      "  mse=xgboost_reg_error(X_datacut[X_datacut.columns[a][0]].values,Y_datacut,testSize)\n"
     ]
    },
    {
     "name": "stdout",
     "output_type": "stream",
     "text": [
      "8.0\n",
      "----------------------------------------------------------------------------\n"
     ]
    },
    {
     "name": "stderr",
     "output_type": "stream",
     "text": [
      "C:\\Users\\User.MORADI-PC\\AppData\\Local\\Temp\\ipykernel_8568\\1119668535.py:33: FutureWarning: Support for multi-dimensional indexing (e.g. `obj[:, None]`) is deprecated and will be removed in a future version.  Convert to a numpy array before indexing instead.\n",
      "  mse=xgboost_reg_error(X_datacut[X_datacut.columns[a][0]].values,Y_datacut,testSize)\n"
     ]
    },
    {
     "name": "stdout",
     "output_type": "stream",
     "text": [
      "9.0\n",
      "----------------------------------------------------------------------------\n"
     ]
    },
    {
     "name": "stderr",
     "output_type": "stream",
     "text": [
      "C:\\Users\\User.MORADI-PC\\AppData\\Local\\Temp\\ipykernel_8568\\1119668535.py:33: FutureWarning: Support for multi-dimensional indexing (e.g. `obj[:, None]`) is deprecated and will be removed in a future version.  Convert to a numpy array before indexing instead.\n",
      "  mse=xgboost_reg_error(X_datacut[X_datacut.columns[a][0]].values,Y_datacut,testSize)\n"
     ]
    },
    {
     "name": "stdout",
     "output_type": "stream",
     "text": [
      "10.0\n",
      "----------------------------------------------------------------------------\n"
     ]
    },
    {
     "name": "stderr",
     "output_type": "stream",
     "text": [
      "C:\\Users\\User.MORADI-PC\\AppData\\Local\\Temp\\ipykernel_8568\\1119668535.py:33: FutureWarning: Support for multi-dimensional indexing (e.g. `obj[:, None]`) is deprecated and will be removed in a future version.  Convert to a numpy array before indexing instead.\n",
      "  mse=xgboost_reg_error(X_datacut[X_datacut.columns[a][0]].values,Y_datacut,testSize)\n"
     ]
    },
    {
     "name": "stdout",
     "output_type": "stream",
     "text": [
      "11.0\n",
      "----------------------------------------------------------------------------\n"
     ]
    },
    {
     "name": "stderr",
     "output_type": "stream",
     "text": [
      "C:\\Users\\User.MORADI-PC\\AppData\\Local\\Temp\\ipykernel_8568\\1119668535.py:33: FutureWarning: Support for multi-dimensional indexing (e.g. `obj[:, None]`) is deprecated and will be removed in a future version.  Convert to a numpy array before indexing instead.\n",
      "  mse=xgboost_reg_error(X_datacut[X_datacut.columns[a][0]].values,Y_datacut,testSize)\n"
     ]
    },
    {
     "name": "stdout",
     "output_type": "stream",
     "text": [
      "12.0\n",
      "----------------------------------------------------------------------------\n"
     ]
    },
    {
     "name": "stderr",
     "output_type": "stream",
     "text": [
      "C:\\Users\\User.MORADI-PC\\AppData\\Local\\Temp\\ipykernel_8568\\1119668535.py:33: FutureWarning: Support for multi-dimensional indexing (e.g. `obj[:, None]`) is deprecated and will be removed in a future version.  Convert to a numpy array before indexing instead.\n",
      "  mse=xgboost_reg_error(X_datacut[X_datacut.columns[a][0]].values,Y_datacut,testSize)\n"
     ]
    },
    {
     "name": "stdout",
     "output_type": "stream",
     "text": [
      "13.0\n",
      "----------------------------------------------------------------------------\n"
     ]
    },
    {
     "name": "stderr",
     "output_type": "stream",
     "text": [
      "C:\\Users\\User.MORADI-PC\\AppData\\Local\\Temp\\ipykernel_8568\\1119668535.py:33: FutureWarning: Support for multi-dimensional indexing (e.g. `obj[:, None]`) is deprecated and will be removed in a future version.  Convert to a numpy array before indexing instead.\n",
      "  mse=xgboost_reg_error(X_datacut[X_datacut.columns[a][0]].values,Y_datacut,testSize)\n"
     ]
    },
    {
     "name": "stdout",
     "output_type": "stream",
     "text": [
      "14.0\n",
      "----------------------------------------------------------------------------\n"
     ]
    },
    {
     "name": "stderr",
     "output_type": "stream",
     "text": [
      "C:\\Users\\User.MORADI-PC\\AppData\\Local\\Temp\\ipykernel_8568\\1119668535.py:33: FutureWarning: Support for multi-dimensional indexing (e.g. `obj[:, None]`) is deprecated and will be removed in a future version.  Convert to a numpy array before indexing instead.\n",
      "  mse=xgboost_reg_error(X_datacut[X_datacut.columns[a][0]].values,Y_datacut,testSize)\n"
     ]
    },
    {
     "name": "stdout",
     "output_type": "stream",
     "text": [
      "15.0\n",
      "----------------------------------------------------------------------------\n"
     ]
    },
    {
     "name": "stderr",
     "output_type": "stream",
     "text": [
      "C:\\Users\\User.MORADI-PC\\AppData\\Local\\Temp\\ipykernel_8568\\1119668535.py:33: FutureWarning: Support for multi-dimensional indexing (e.g. `obj[:, None]`) is deprecated and will be removed in a future version.  Convert to a numpy array before indexing instead.\n",
      "  mse=xgboost_reg_error(X_datacut[X_datacut.columns[a][0]].values,Y_datacut,testSize)\n"
     ]
    },
    {
     "name": "stdout",
     "output_type": "stream",
     "text": [
      "16.0\n",
      "----------------------------------------------------------------------------\n"
     ]
    },
    {
     "name": "stderr",
     "output_type": "stream",
     "text": [
      "C:\\Users\\User.MORADI-PC\\AppData\\Local\\Temp\\ipykernel_8568\\1119668535.py:33: FutureWarning: Support for multi-dimensional indexing (e.g. `obj[:, None]`) is deprecated and will be removed in a future version.  Convert to a numpy array before indexing instead.\n",
      "  mse=xgboost_reg_error(X_datacut[X_datacut.columns[a][0]].values,Y_datacut,testSize)\n"
     ]
    },
    {
     "name": "stdout",
     "output_type": "stream",
     "text": [
      "17.0\n",
      "----------------------------------------------------------------------------\n"
     ]
    },
    {
     "name": "stderr",
     "output_type": "stream",
     "text": [
      "C:\\Users\\User.MORADI-PC\\AppData\\Local\\Temp\\ipykernel_8568\\1119668535.py:33: FutureWarning: Support for multi-dimensional indexing (e.g. `obj[:, None]`) is deprecated and will be removed in a future version.  Convert to a numpy array before indexing instead.\n",
      "  mse=xgboost_reg_error(X_datacut[X_datacut.columns[a][0]].values,Y_datacut,testSize)\n"
     ]
    },
    {
     "name": "stdout",
     "output_type": "stream",
     "text": [
      "18.0\n",
      "----------------------------------------------------------------------------\n"
     ]
    },
    {
     "name": "stderr",
     "output_type": "stream",
     "text": [
      "C:\\Users\\User.MORADI-PC\\AppData\\Local\\Temp\\ipykernel_8568\\1119668535.py:33: FutureWarning: Support for multi-dimensional indexing (e.g. `obj[:, None]`) is deprecated and will be removed in a future version.  Convert to a numpy array before indexing instead.\n",
      "  mse=xgboost_reg_error(X_datacut[X_datacut.columns[a][0]].values,Y_datacut,testSize)\n"
     ]
    },
    {
     "name": "stdout",
     "output_type": "stream",
     "text": [
      "19.0\n",
      "----------------------------------------------------------------------------\n"
     ]
    },
    {
     "name": "stderr",
     "output_type": "stream",
     "text": [
      "C:\\Users\\User.MORADI-PC\\AppData\\Local\\Temp\\ipykernel_8568\\1119668535.py:33: FutureWarning: Support for multi-dimensional indexing (e.g. `obj[:, None]`) is deprecated and will be removed in a future version.  Convert to a numpy array before indexing instead.\n",
      "  mse=xgboost_reg_error(X_datacut[X_datacut.columns[a][0]].values,Y_datacut,testSize)\n"
     ]
    },
    {
     "name": "stdout",
     "output_type": "stream",
     "text": [
      "20.0\n",
      "----------------------------------------------------------------------------\n"
     ]
    },
    {
     "name": "stderr",
     "output_type": "stream",
     "text": [
      "C:\\Users\\User.MORADI-PC\\AppData\\Local\\Temp\\ipykernel_8568\\1119668535.py:33: FutureWarning: Support for multi-dimensional indexing (e.g. `obj[:, None]`) is deprecated and will be removed in a future version.  Convert to a numpy array before indexing instead.\n",
      "  mse=xgboost_reg_error(X_datacut[X_datacut.columns[a][0]].values,Y_datacut,testSize)\n"
     ]
    },
    {
     "name": "stdout",
     "output_type": "stream",
     "text": [
      "21.0\n",
      "----------------------------------------------------------------------------\n"
     ]
    },
    {
     "name": "stderr",
     "output_type": "stream",
     "text": [
      "C:\\Users\\User.MORADI-PC\\AppData\\Local\\Temp\\ipykernel_8568\\1119668535.py:33: FutureWarning: Support for multi-dimensional indexing (e.g. `obj[:, None]`) is deprecated and will be removed in a future version.  Convert to a numpy array before indexing instead.\n",
      "  mse=xgboost_reg_error(X_datacut[X_datacut.columns[a][0]].values,Y_datacut,testSize)\n"
     ]
    },
    {
     "name": "stdout",
     "output_type": "stream",
     "text": [
      "22.0\n",
      "----------------------------------------------------------------------------\n"
     ]
    },
    {
     "name": "stderr",
     "output_type": "stream",
     "text": [
      "C:\\Users\\User.MORADI-PC\\AppData\\Local\\Temp\\ipykernel_8568\\1119668535.py:33: FutureWarning: Support for multi-dimensional indexing (e.g. `obj[:, None]`) is deprecated and will be removed in a future version.  Convert to a numpy array before indexing instead.\n",
      "  mse=xgboost_reg_error(X_datacut[X_datacut.columns[a][0]].values,Y_datacut,testSize)\n"
     ]
    },
    {
     "name": "stdout",
     "output_type": "stream",
     "text": [
      "0.0\n",
      "----------------------------------------------------------------------------\n"
     ]
    },
    {
     "name": "stderr",
     "output_type": "stream",
     "text": [
      "C:\\Users\\User.MORADI-PC\\AppData\\Local\\Temp\\ipykernel_8568\\1119668535.py:33: FutureWarning: Support for multi-dimensional indexing (e.g. `obj[:, None]`) is deprecated and will be removed in a future version.  Convert to a numpy array before indexing instead.\n",
      "  mse=xgboost_reg_error(X_datacut[X_datacut.columns[a][0]].values,Y_datacut,testSize)\n"
     ]
    },
    {
     "name": "stdout",
     "output_type": "stream",
     "text": [
      "1.0\n",
      "----------------------------------------------------------------------------\n"
     ]
    },
    {
     "name": "stderr",
     "output_type": "stream",
     "text": [
      "C:\\Users\\User.MORADI-PC\\AppData\\Local\\Temp\\ipykernel_8568\\1119668535.py:33: FutureWarning: Support for multi-dimensional indexing (e.g. `obj[:, None]`) is deprecated and will be removed in a future version.  Convert to a numpy array before indexing instead.\n",
      "  mse=xgboost_reg_error(X_datacut[X_datacut.columns[a][0]].values,Y_datacut,testSize)\n"
     ]
    },
    {
     "name": "stdout",
     "output_type": "stream",
     "text": [
      "2.0\n",
      "----------------------------------------------------------------------------\n"
     ]
    },
    {
     "name": "stderr",
     "output_type": "stream",
     "text": [
      "C:\\Users\\User.MORADI-PC\\AppData\\Local\\Temp\\ipykernel_8568\\1119668535.py:33: FutureWarning: Support for multi-dimensional indexing (e.g. `obj[:, None]`) is deprecated and will be removed in a future version.  Convert to a numpy array before indexing instead.\n",
      "  mse=xgboost_reg_error(X_datacut[X_datacut.columns[a][0]].values,Y_datacut,testSize)\n"
     ]
    },
    {
     "name": "stdout",
     "output_type": "stream",
     "text": [
      "3.0\n",
      "----------------------------------------------------------------------------\n"
     ]
    },
    {
     "name": "stderr",
     "output_type": "stream",
     "text": [
      "C:\\Users\\User.MORADI-PC\\AppData\\Local\\Temp\\ipykernel_8568\\1119668535.py:33: FutureWarning: Support for multi-dimensional indexing (e.g. `obj[:, None]`) is deprecated and will be removed in a future version.  Convert to a numpy array before indexing instead.\n",
      "  mse=xgboost_reg_error(X_datacut[X_datacut.columns[a][0]].values,Y_datacut,testSize)\n"
     ]
    },
    {
     "name": "stdout",
     "output_type": "stream",
     "text": [
      "4.0\n",
      "----------------------------------------------------------------------------\n"
     ]
    },
    {
     "name": "stderr",
     "output_type": "stream",
     "text": [
      "C:\\Users\\User.MORADI-PC\\AppData\\Local\\Temp\\ipykernel_8568\\1119668535.py:33: FutureWarning: Support for multi-dimensional indexing (e.g. `obj[:, None]`) is deprecated and will be removed in a future version.  Convert to a numpy array before indexing instead.\n",
      "  mse=xgboost_reg_error(X_datacut[X_datacut.columns[a][0]].values,Y_datacut,testSize)\n"
     ]
    },
    {
     "name": "stdout",
     "output_type": "stream",
     "text": [
      "5.0\n",
      "----------------------------------------------------------------------------\n"
     ]
    },
    {
     "name": "stderr",
     "output_type": "stream",
     "text": [
      "C:\\Users\\User.MORADI-PC\\AppData\\Local\\Temp\\ipykernel_8568\\1119668535.py:33: FutureWarning: Support for multi-dimensional indexing (e.g. `obj[:, None]`) is deprecated and will be removed in a future version.  Convert to a numpy array before indexing instead.\n",
      "  mse=xgboost_reg_error(X_datacut[X_datacut.columns[a][0]].values,Y_datacut,testSize)\n"
     ]
    },
    {
     "name": "stdout",
     "output_type": "stream",
     "text": [
      "6.0\n",
      "----------------------------------------------------------------------------\n"
     ]
    },
    {
     "name": "stderr",
     "output_type": "stream",
     "text": [
      "C:\\Users\\User.MORADI-PC\\AppData\\Local\\Temp\\ipykernel_8568\\1119668535.py:33: FutureWarning: Support for multi-dimensional indexing (e.g. `obj[:, None]`) is deprecated and will be removed in a future version.  Convert to a numpy array before indexing instead.\n",
      "  mse=xgboost_reg_error(X_datacut[X_datacut.columns[a][0]].values,Y_datacut,testSize)\n"
     ]
    },
    {
     "name": "stdout",
     "output_type": "stream",
     "text": [
      "7.0\n",
      "----------------------------------------------------------------------------\n"
     ]
    },
    {
     "name": "stderr",
     "output_type": "stream",
     "text": [
      "C:\\Users\\User.MORADI-PC\\AppData\\Local\\Temp\\ipykernel_8568\\1119668535.py:33: FutureWarning: Support for multi-dimensional indexing (e.g. `obj[:, None]`) is deprecated and will be removed in a future version.  Convert to a numpy array before indexing instead.\n",
      "  mse=xgboost_reg_error(X_datacut[X_datacut.columns[a][0]].values,Y_datacut,testSize)\n"
     ]
    },
    {
     "name": "stdout",
     "output_type": "stream",
     "text": [
      "8.0\n",
      "----------------------------------------------------------------------------\n"
     ]
    },
    {
     "name": "stderr",
     "output_type": "stream",
     "text": [
      "C:\\Users\\User.MORADI-PC\\AppData\\Local\\Temp\\ipykernel_8568\\1119668535.py:33: FutureWarning: Support for multi-dimensional indexing (e.g. `obj[:, None]`) is deprecated and will be removed in a future version.  Convert to a numpy array before indexing instead.\n",
      "  mse=xgboost_reg_error(X_datacut[X_datacut.columns[a][0]].values,Y_datacut,testSize)\n"
     ]
    },
    {
     "name": "stdout",
     "output_type": "stream",
     "text": [
      "9.0\n",
      "----------------------------------------------------------------------------\n"
     ]
    },
    {
     "name": "stderr",
     "output_type": "stream",
     "text": [
      "C:\\Users\\User.MORADI-PC\\AppData\\Local\\Temp\\ipykernel_8568\\1119668535.py:33: FutureWarning: Support for multi-dimensional indexing (e.g. `obj[:, None]`) is deprecated and will be removed in a future version.  Convert to a numpy array before indexing instead.\n",
      "  mse=xgboost_reg_error(X_datacut[X_datacut.columns[a][0]].values,Y_datacut,testSize)\n"
     ]
    },
    {
     "name": "stdout",
     "output_type": "stream",
     "text": [
      "10.0\n",
      "----------------------------------------------------------------------------\n"
     ]
    },
    {
     "name": "stderr",
     "output_type": "stream",
     "text": [
      "C:\\Users\\User.MORADI-PC\\AppData\\Local\\Temp\\ipykernel_8568\\1119668535.py:33: FutureWarning: Support for multi-dimensional indexing (e.g. `obj[:, None]`) is deprecated and will be removed in a future version.  Convert to a numpy array before indexing instead.\n",
      "  mse=xgboost_reg_error(X_datacut[X_datacut.columns[a][0]].values,Y_datacut,testSize)\n"
     ]
    },
    {
     "name": "stdout",
     "output_type": "stream",
     "text": [
      "11.0\n",
      "----------------------------------------------------------------------------\n"
     ]
    },
    {
     "name": "stderr",
     "output_type": "stream",
     "text": [
      "C:\\Users\\User.MORADI-PC\\AppData\\Local\\Temp\\ipykernel_8568\\1119668535.py:33: FutureWarning: Support for multi-dimensional indexing (e.g. `obj[:, None]`) is deprecated and will be removed in a future version.  Convert to a numpy array before indexing instead.\n",
      "  mse=xgboost_reg_error(X_datacut[X_datacut.columns[a][0]].values,Y_datacut,testSize)\n"
     ]
    },
    {
     "name": "stdout",
     "output_type": "stream",
     "text": [
      "12.0\n",
      "----------------------------------------------------------------------------\n"
     ]
    },
    {
     "name": "stderr",
     "output_type": "stream",
     "text": [
      "C:\\Users\\User.MORADI-PC\\AppData\\Local\\Temp\\ipykernel_8568\\1119668535.py:33: FutureWarning: Support for multi-dimensional indexing (e.g. `obj[:, None]`) is deprecated and will be removed in a future version.  Convert to a numpy array before indexing instead.\n",
      "  mse=xgboost_reg_error(X_datacut[X_datacut.columns[a][0]].values,Y_datacut,testSize)\n"
     ]
    },
    {
     "name": "stdout",
     "output_type": "stream",
     "text": [
      "13.0\n",
      "----------------------------------------------------------------------------\n"
     ]
    },
    {
     "name": "stderr",
     "output_type": "stream",
     "text": [
      "C:\\Users\\User.MORADI-PC\\AppData\\Local\\Temp\\ipykernel_8568\\1119668535.py:33: FutureWarning: Support for multi-dimensional indexing (e.g. `obj[:, None]`) is deprecated and will be removed in a future version.  Convert to a numpy array before indexing instead.\n",
      "  mse=xgboost_reg_error(X_datacut[X_datacut.columns[a][0]].values,Y_datacut,testSize)\n"
     ]
    },
    {
     "name": "stdout",
     "output_type": "stream",
     "text": [
      "14.0\n",
      "----------------------------------------------------------------------------\n"
     ]
    },
    {
     "name": "stderr",
     "output_type": "stream",
     "text": [
      "C:\\Users\\User.MORADI-PC\\AppData\\Local\\Temp\\ipykernel_8568\\1119668535.py:33: FutureWarning: Support for multi-dimensional indexing (e.g. `obj[:, None]`) is deprecated and will be removed in a future version.  Convert to a numpy array before indexing instead.\n",
      "  mse=xgboost_reg_error(X_datacut[X_datacut.columns[a][0]].values,Y_datacut,testSize)\n"
     ]
    },
    {
     "name": "stdout",
     "output_type": "stream",
     "text": [
      "15.0\n",
      "----------------------------------------------------------------------------\n"
     ]
    },
    {
     "name": "stderr",
     "output_type": "stream",
     "text": [
      "C:\\Users\\User.MORADI-PC\\AppData\\Local\\Temp\\ipykernel_8568\\1119668535.py:33: FutureWarning: Support for multi-dimensional indexing (e.g. `obj[:, None]`) is deprecated and will be removed in a future version.  Convert to a numpy array before indexing instead.\n",
      "  mse=xgboost_reg_error(X_datacut[X_datacut.columns[a][0]].values,Y_datacut,testSize)\n"
     ]
    },
    {
     "name": "stdout",
     "output_type": "stream",
     "text": [
      "16.0\n",
      "----------------------------------------------------------------------------\n"
     ]
    },
    {
     "name": "stderr",
     "output_type": "stream",
     "text": [
      "C:\\Users\\User.MORADI-PC\\AppData\\Local\\Temp\\ipykernel_8568\\1119668535.py:33: FutureWarning: Support for multi-dimensional indexing (e.g. `obj[:, None]`) is deprecated and will be removed in a future version.  Convert to a numpy array before indexing instead.\n",
      "  mse=xgboost_reg_error(X_datacut[X_datacut.columns[a][0]].values,Y_datacut,testSize)\n"
     ]
    },
    {
     "name": "stdout",
     "output_type": "stream",
     "text": [
      "17.0\n",
      "----------------------------------------------------------------------------\n"
     ]
    },
    {
     "name": "stderr",
     "output_type": "stream",
     "text": [
      "C:\\Users\\User.MORADI-PC\\AppData\\Local\\Temp\\ipykernel_8568\\1119668535.py:33: FutureWarning: Support for multi-dimensional indexing (e.g. `obj[:, None]`) is deprecated and will be removed in a future version.  Convert to a numpy array before indexing instead.\n",
      "  mse=xgboost_reg_error(X_datacut[X_datacut.columns[a][0]].values,Y_datacut,testSize)\n"
     ]
    },
    {
     "name": "stdout",
     "output_type": "stream",
     "text": [
      "18.0\n",
      "----------------------------------------------------------------------------\n"
     ]
    },
    {
     "name": "stderr",
     "output_type": "stream",
     "text": [
      "C:\\Users\\User.MORADI-PC\\AppData\\Local\\Temp\\ipykernel_8568\\1119668535.py:33: FutureWarning: Support for multi-dimensional indexing (e.g. `obj[:, None]`) is deprecated and will be removed in a future version.  Convert to a numpy array before indexing instead.\n",
      "  mse=xgboost_reg_error(X_datacut[X_datacut.columns[a][0]].values,Y_datacut,testSize)\n"
     ]
    },
    {
     "name": "stdout",
     "output_type": "stream",
     "text": [
      "19.0\n",
      "----------------------------------------------------------------------------\n"
     ]
    },
    {
     "name": "stderr",
     "output_type": "stream",
     "text": [
      "C:\\Users\\User.MORADI-PC\\AppData\\Local\\Temp\\ipykernel_8568\\1119668535.py:33: FutureWarning: Support for multi-dimensional indexing (e.g. `obj[:, None]`) is deprecated and will be removed in a future version.  Convert to a numpy array before indexing instead.\n",
      "  mse=xgboost_reg_error(X_datacut[X_datacut.columns[a][0]].values,Y_datacut,testSize)\n"
     ]
    },
    {
     "name": "stdout",
     "output_type": "stream",
     "text": [
      "20.0\n",
      "----------------------------------------------------------------------------\n"
     ]
    },
    {
     "name": "stderr",
     "output_type": "stream",
     "text": [
      "C:\\Users\\User.MORADI-PC\\AppData\\Local\\Temp\\ipykernel_8568\\1119668535.py:33: FutureWarning: Support for multi-dimensional indexing (e.g. `obj[:, None]`) is deprecated and will be removed in a future version.  Convert to a numpy array before indexing instead.\n",
      "  mse=xgboost_reg_error(X_datacut[X_datacut.columns[a][0]].values,Y_datacut,testSize)\n"
     ]
    },
    {
     "name": "stdout",
     "output_type": "stream",
     "text": [
      "21.0\n",
      "----------------------------------------------------------------------------\n"
     ]
    },
    {
     "name": "stderr",
     "output_type": "stream",
     "text": [
      "C:\\Users\\User.MORADI-PC\\AppData\\Local\\Temp\\ipykernel_8568\\1119668535.py:33: FutureWarning: Support for multi-dimensional indexing (e.g. `obj[:, None]`) is deprecated and will be removed in a future version.  Convert to a numpy array before indexing instead.\n",
      "  mse=xgboost_reg_error(X_datacut[X_datacut.columns[a][0]].values,Y_datacut,testSize)\n"
     ]
    },
    {
     "name": "stdout",
     "output_type": "stream",
     "text": [
      "22.0\n",
      "----------------------------------------------------------------------------\n"
     ]
    },
    {
     "name": "stderr",
     "output_type": "stream",
     "text": [
      "C:\\Users\\User.MORADI-PC\\AppData\\Local\\Temp\\ipykernel_8568\\1119668535.py:33: FutureWarning: Support for multi-dimensional indexing (e.g. `obj[:, None]`) is deprecated and will be removed in a future version.  Convert to a numpy array before indexing instead.\n",
      "  mse=xgboost_reg_error(X_datacut[X_datacut.columns[a][0]].values,Y_datacut,testSize)\n"
     ]
    },
    {
     "name": "stdout",
     "output_type": "stream",
     "text": [
      "0.0\n",
      "----------------------------------------------------------------------------\n"
     ]
    },
    {
     "name": "stderr",
     "output_type": "stream",
     "text": [
      "C:\\Users\\User.MORADI-PC\\AppData\\Local\\Temp\\ipykernel_8568\\1119668535.py:33: FutureWarning: Support for multi-dimensional indexing (e.g. `obj[:, None]`) is deprecated and will be removed in a future version.  Convert to a numpy array before indexing instead.\n",
      "  mse=xgboost_reg_error(X_datacut[X_datacut.columns[a][0]].values,Y_datacut,testSize)\n"
     ]
    },
    {
     "name": "stdout",
     "output_type": "stream",
     "text": [
      "1.0\n",
      "----------------------------------------------------------------------------\n"
     ]
    },
    {
     "name": "stderr",
     "output_type": "stream",
     "text": [
      "C:\\Users\\User.MORADI-PC\\AppData\\Local\\Temp\\ipykernel_8568\\1119668535.py:33: FutureWarning: Support for multi-dimensional indexing (e.g. `obj[:, None]`) is deprecated and will be removed in a future version.  Convert to a numpy array before indexing instead.\n",
      "  mse=xgboost_reg_error(X_datacut[X_datacut.columns[a][0]].values,Y_datacut,testSize)\n"
     ]
    },
    {
     "name": "stdout",
     "output_type": "stream",
     "text": [
      "2.0\n",
      "----------------------------------------------------------------------------\n"
     ]
    },
    {
     "name": "stderr",
     "output_type": "stream",
     "text": [
      "C:\\Users\\User.MORADI-PC\\AppData\\Local\\Temp\\ipykernel_8568\\1119668535.py:33: FutureWarning: Support for multi-dimensional indexing (e.g. `obj[:, None]`) is deprecated and will be removed in a future version.  Convert to a numpy array before indexing instead.\n",
      "  mse=xgboost_reg_error(X_datacut[X_datacut.columns[a][0]].values,Y_datacut,testSize)\n"
     ]
    },
    {
     "name": "stdout",
     "output_type": "stream",
     "text": [
      "3.0\n",
      "----------------------------------------------------------------------------\n"
     ]
    },
    {
     "name": "stderr",
     "output_type": "stream",
     "text": [
      "C:\\Users\\User.MORADI-PC\\AppData\\Local\\Temp\\ipykernel_8568\\1119668535.py:33: FutureWarning: Support for multi-dimensional indexing (e.g. `obj[:, None]`) is deprecated and will be removed in a future version.  Convert to a numpy array before indexing instead.\n",
      "  mse=xgboost_reg_error(X_datacut[X_datacut.columns[a][0]].values,Y_datacut,testSize)\n"
     ]
    },
    {
     "name": "stdout",
     "output_type": "stream",
     "text": [
      "4.0\n",
      "----------------------------------------------------------------------------\n"
     ]
    },
    {
     "name": "stderr",
     "output_type": "stream",
     "text": [
      "C:\\Users\\User.MORADI-PC\\AppData\\Local\\Temp\\ipykernel_8568\\1119668535.py:33: FutureWarning: Support for multi-dimensional indexing (e.g. `obj[:, None]`) is deprecated and will be removed in a future version.  Convert to a numpy array before indexing instead.\n",
      "  mse=xgboost_reg_error(X_datacut[X_datacut.columns[a][0]].values,Y_datacut,testSize)\n"
     ]
    },
    {
     "name": "stdout",
     "output_type": "stream",
     "text": [
      "5.0\n",
      "----------------------------------------------------------------------------\n"
     ]
    },
    {
     "name": "stderr",
     "output_type": "stream",
     "text": [
      "C:\\Users\\User.MORADI-PC\\AppData\\Local\\Temp\\ipykernel_8568\\1119668535.py:33: FutureWarning: Support for multi-dimensional indexing (e.g. `obj[:, None]`) is deprecated and will be removed in a future version.  Convert to a numpy array before indexing instead.\n",
      "  mse=xgboost_reg_error(X_datacut[X_datacut.columns[a][0]].values,Y_datacut,testSize)\n"
     ]
    },
    {
     "name": "stdout",
     "output_type": "stream",
     "text": [
      "6.0\n",
      "----------------------------------------------------------------------------\n"
     ]
    },
    {
     "name": "stderr",
     "output_type": "stream",
     "text": [
      "C:\\Users\\User.MORADI-PC\\AppData\\Local\\Temp\\ipykernel_8568\\1119668535.py:33: FutureWarning: Support for multi-dimensional indexing (e.g. `obj[:, None]`) is deprecated and will be removed in a future version.  Convert to a numpy array before indexing instead.\n",
      "  mse=xgboost_reg_error(X_datacut[X_datacut.columns[a][0]].values,Y_datacut,testSize)\n"
     ]
    },
    {
     "name": "stdout",
     "output_type": "stream",
     "text": [
      "7.0\n",
      "----------------------------------------------------------------------------\n"
     ]
    },
    {
     "name": "stderr",
     "output_type": "stream",
     "text": [
      "C:\\Users\\User.MORADI-PC\\AppData\\Local\\Temp\\ipykernel_8568\\1119668535.py:33: FutureWarning: Support for multi-dimensional indexing (e.g. `obj[:, None]`) is deprecated and will be removed in a future version.  Convert to a numpy array before indexing instead.\n",
      "  mse=xgboost_reg_error(X_datacut[X_datacut.columns[a][0]].values,Y_datacut,testSize)\n"
     ]
    },
    {
     "name": "stdout",
     "output_type": "stream",
     "text": [
      "8.0\n",
      "----------------------------------------------------------------------------\n"
     ]
    },
    {
     "name": "stderr",
     "output_type": "stream",
     "text": [
      "C:\\Users\\User.MORADI-PC\\AppData\\Local\\Temp\\ipykernel_8568\\1119668535.py:33: FutureWarning: Support for multi-dimensional indexing (e.g. `obj[:, None]`) is deprecated and will be removed in a future version.  Convert to a numpy array before indexing instead.\n",
      "  mse=xgboost_reg_error(X_datacut[X_datacut.columns[a][0]].values,Y_datacut,testSize)\n"
     ]
    },
    {
     "name": "stdout",
     "output_type": "stream",
     "text": [
      "9.0\n",
      "----------------------------------------------------------------------------\n"
     ]
    },
    {
     "name": "stderr",
     "output_type": "stream",
     "text": [
      "C:\\Users\\User.MORADI-PC\\AppData\\Local\\Temp\\ipykernel_8568\\1119668535.py:33: FutureWarning: Support for multi-dimensional indexing (e.g. `obj[:, None]`) is deprecated and will be removed in a future version.  Convert to a numpy array before indexing instead.\n",
      "  mse=xgboost_reg_error(X_datacut[X_datacut.columns[a][0]].values,Y_datacut,testSize)\n"
     ]
    },
    {
     "name": "stdout",
     "output_type": "stream",
     "text": [
      "10.0\n",
      "----------------------------------------------------------------------------\n"
     ]
    },
    {
     "name": "stderr",
     "output_type": "stream",
     "text": [
      "C:\\Users\\User.MORADI-PC\\AppData\\Local\\Temp\\ipykernel_8568\\1119668535.py:33: FutureWarning: Support for multi-dimensional indexing (e.g. `obj[:, None]`) is deprecated and will be removed in a future version.  Convert to a numpy array before indexing instead.\n",
      "  mse=xgboost_reg_error(X_datacut[X_datacut.columns[a][0]].values,Y_datacut,testSize)\n"
     ]
    },
    {
     "name": "stdout",
     "output_type": "stream",
     "text": [
      "11.0\n",
      "----------------------------------------------------------------------------\n"
     ]
    },
    {
     "name": "stderr",
     "output_type": "stream",
     "text": [
      "C:\\Users\\User.MORADI-PC\\AppData\\Local\\Temp\\ipykernel_8568\\1119668535.py:33: FutureWarning: Support for multi-dimensional indexing (e.g. `obj[:, None]`) is deprecated and will be removed in a future version.  Convert to a numpy array before indexing instead.\n",
      "  mse=xgboost_reg_error(X_datacut[X_datacut.columns[a][0]].values,Y_datacut,testSize)\n"
     ]
    },
    {
     "name": "stdout",
     "output_type": "stream",
     "text": [
      "12.0\n",
      "----------------------------------------------------------------------------\n"
     ]
    },
    {
     "name": "stderr",
     "output_type": "stream",
     "text": [
      "C:\\Users\\User.MORADI-PC\\AppData\\Local\\Temp\\ipykernel_8568\\1119668535.py:33: FutureWarning: Support for multi-dimensional indexing (e.g. `obj[:, None]`) is deprecated and will be removed in a future version.  Convert to a numpy array before indexing instead.\n",
      "  mse=xgboost_reg_error(X_datacut[X_datacut.columns[a][0]].values,Y_datacut,testSize)\n"
     ]
    },
    {
     "name": "stdout",
     "output_type": "stream",
     "text": [
      "13.0\n",
      "----------------------------------------------------------------------------\n"
     ]
    },
    {
     "name": "stderr",
     "output_type": "stream",
     "text": [
      "C:\\Users\\User.MORADI-PC\\AppData\\Local\\Temp\\ipykernel_8568\\1119668535.py:33: FutureWarning: Support for multi-dimensional indexing (e.g. `obj[:, None]`) is deprecated and will be removed in a future version.  Convert to a numpy array before indexing instead.\n",
      "  mse=xgboost_reg_error(X_datacut[X_datacut.columns[a][0]].values,Y_datacut,testSize)\n"
     ]
    },
    {
     "name": "stdout",
     "output_type": "stream",
     "text": [
      "14.0\n",
      "----------------------------------------------------------------------------\n"
     ]
    },
    {
     "name": "stderr",
     "output_type": "stream",
     "text": [
      "C:\\Users\\User.MORADI-PC\\AppData\\Local\\Temp\\ipykernel_8568\\1119668535.py:33: FutureWarning: Support for multi-dimensional indexing (e.g. `obj[:, None]`) is deprecated and will be removed in a future version.  Convert to a numpy array before indexing instead.\n",
      "  mse=xgboost_reg_error(X_datacut[X_datacut.columns[a][0]].values,Y_datacut,testSize)\n"
     ]
    },
    {
     "name": "stdout",
     "output_type": "stream",
     "text": [
      "15.0\n",
      "----------------------------------------------------------------------------\n"
     ]
    },
    {
     "name": "stderr",
     "output_type": "stream",
     "text": [
      "C:\\Users\\User.MORADI-PC\\AppData\\Local\\Temp\\ipykernel_8568\\1119668535.py:33: FutureWarning: Support for multi-dimensional indexing (e.g. `obj[:, None]`) is deprecated and will be removed in a future version.  Convert to a numpy array before indexing instead.\n",
      "  mse=xgboost_reg_error(X_datacut[X_datacut.columns[a][0]].values,Y_datacut,testSize)\n"
     ]
    },
    {
     "name": "stdout",
     "output_type": "stream",
     "text": [
      "16.0\n",
      "----------------------------------------------------------------------------\n"
     ]
    },
    {
     "name": "stderr",
     "output_type": "stream",
     "text": [
      "C:\\Users\\User.MORADI-PC\\AppData\\Local\\Temp\\ipykernel_8568\\1119668535.py:33: FutureWarning: Support for multi-dimensional indexing (e.g. `obj[:, None]`) is deprecated and will be removed in a future version.  Convert to a numpy array before indexing instead.\n",
      "  mse=xgboost_reg_error(X_datacut[X_datacut.columns[a][0]].values,Y_datacut,testSize)\n"
     ]
    },
    {
     "name": "stdout",
     "output_type": "stream",
     "text": [
      "17.0\n",
      "----------------------------------------------------------------------------\n"
     ]
    },
    {
     "name": "stderr",
     "output_type": "stream",
     "text": [
      "C:\\Users\\User.MORADI-PC\\AppData\\Local\\Temp\\ipykernel_8568\\1119668535.py:33: FutureWarning: Support for multi-dimensional indexing (e.g. `obj[:, None]`) is deprecated and will be removed in a future version.  Convert to a numpy array before indexing instead.\n",
      "  mse=xgboost_reg_error(X_datacut[X_datacut.columns[a][0]].values,Y_datacut,testSize)\n"
     ]
    },
    {
     "name": "stdout",
     "output_type": "stream",
     "text": [
      "18.0\n",
      "----------------------------------------------------------------------------\n"
     ]
    },
    {
     "name": "stderr",
     "output_type": "stream",
     "text": [
      "C:\\Users\\User.MORADI-PC\\AppData\\Local\\Temp\\ipykernel_8568\\1119668535.py:33: FutureWarning: Support for multi-dimensional indexing (e.g. `obj[:, None]`) is deprecated and will be removed in a future version.  Convert to a numpy array before indexing instead.\n",
      "  mse=xgboost_reg_error(X_datacut[X_datacut.columns[a][0]].values,Y_datacut,testSize)\n"
     ]
    },
    {
     "name": "stdout",
     "output_type": "stream",
     "text": [
      "19.0\n",
      "----------------------------------------------------------------------------\n"
     ]
    },
    {
     "name": "stderr",
     "output_type": "stream",
     "text": [
      "C:\\Users\\User.MORADI-PC\\AppData\\Local\\Temp\\ipykernel_8568\\1119668535.py:33: FutureWarning: Support for multi-dimensional indexing (e.g. `obj[:, None]`) is deprecated and will be removed in a future version.  Convert to a numpy array before indexing instead.\n",
      "  mse=xgboost_reg_error(X_datacut[X_datacut.columns[a][0]].values,Y_datacut,testSize)\n"
     ]
    },
    {
     "name": "stdout",
     "output_type": "stream",
     "text": [
      "20.0\n",
      "----------------------------------------------------------------------------\n"
     ]
    },
    {
     "name": "stderr",
     "output_type": "stream",
     "text": [
      "C:\\Users\\User.MORADI-PC\\AppData\\Local\\Temp\\ipykernel_8568\\1119668535.py:33: FutureWarning: Support for multi-dimensional indexing (e.g. `obj[:, None]`) is deprecated and will be removed in a future version.  Convert to a numpy array before indexing instead.\n",
      "  mse=xgboost_reg_error(X_datacut[X_datacut.columns[a][0]].values,Y_datacut,testSize)\n"
     ]
    },
    {
     "name": "stdout",
     "output_type": "stream",
     "text": [
      "21.0\n",
      "----------------------------------------------------------------------------\n",
      "22.0\n",
      "----------------------------------------------------------------------------\n"
     ]
    },
    {
     "name": "stderr",
     "output_type": "stream",
     "text": [
      "C:\\Users\\User.MORADI-PC\\AppData\\Local\\Temp\\ipykernel_8568\\1119668535.py:33: FutureWarning: Support for multi-dimensional indexing (e.g. `obj[:, None]`) is deprecated and will be removed in a future version.  Convert to a numpy array before indexing instead.\n",
      "  mse=xgboost_reg_error(X_datacut[X_datacut.columns[a][0]].values,Y_datacut,testSize)\n"
     ]
    },
    {
     "data": {
      "text/plain": [
       "<AxesSubplot: title={'center': 'num_comp=4'}>"
      ]
     },
     "execution_count": 5,
     "metadata": {},
     "output_type": "execute_result"
    },
    {
     "data": {
      "image/png": "[encoded data removed]",
      "text/plain": [
       "<Figure size 1100x700 with 1 Axes>"
      ]
     },
     "metadata": {},
     "output_type": "display_data"
    }
   ],
   "source": [
    "counter=0\n",
    "pca_list=[]\n",
    "dict_mse={}\n",
    "\n",
    "while counter+interval <= data_without_target.shape[0]:\n",
    "\n",
    "\n",
    "    datacut=data_with_target[counter:counter+interval]\n",
    "    X_datacut=datacut.iloc[:,:-1]\n",
    "    Y_datacut=datacut.iloc[:,-1]\n",
    "    # print(counter,X_datacut.shape)\n",
    "    X_pca=compute_pca(X_datacut,num_comp=num_comp)\n",
    "\n",
    "    pca_mse=xgboost_reg_error(X_pca,Y_datacut,testSize)\n",
    "    pca_list.append(pca_mse)##########################\n",
    "    counter+=interval\n",
    "dict_mse['PCA']=pca_list\n",
    "\n",
    "    \n",
    "for window_size in [2,3,5,6,7,10]:\n",
    "    method_list = []\n",
    "    counter=0\n",
    "\n",
    "    while counter+interval <= data_without_target.shape[0]:\n",
    "\n",
    "\n",
    "        datacut=data_with_target[counter:counter+interval]\n",
    "        X_datacut=datacut.iloc[:,:-1]\n",
    "        Y_datacut=datacut.iloc[:,-1]\n",
    "\n",
    "        arr=create_graph_details(X_datacut,window_size)\n",
    "        a=featureSelection_tpr(arr,X_datacut.shape[1],num_comp)\n",
    "        mse=xgboost_reg_error(X_datacut[X_datacut.columns[a][0]].values,Y_datacut,testSize)\n",
    "\n",
    "        method_list.append(mse)\n",
    "        #     print( \"method_list\",method_list)\n",
    "        print(counter/interval)\n",
    "        print(\"----------------------------------------------------------------------------\")\n",
    "        counter+=interval\n",
    "    dict_mse[\"T-PR win={}\".format(window_size)]=method_list\n",
    "    \n",
    "dataframe = pd.DataFrame(dict_mse)\n",
    "plt.rcParams[\"figure.figsize\"] = [11,7]\n",
    "dataframe.plot(kind=\"box\",title=\"num_comp={}\".format(num_comp))\n"
   ]
  },
  {
   "cell_type": "code",
   "execution_count": 6,
   "metadata": {},
   "outputs": [
    {
     "data": {
      "text/plain": [
       "<AxesSubplot: title={'center': 'num_comp=4'}>"
      ]
     },
     "execution_count": 6,
     "metadata": {},
     "output_type": "execute_result"
    },
    {
     "data": {
      "image/png": "[encoded data removed]",
      "text/plain": [
       "<Figure size 1500x700 with 1 Axes>"
      ]
     },
     "metadata": {},
     "output_type": "display_data"
    }
   ],
   "source": [
    "plt.rcParams[\"figure.figsize\"] = [15,7]\n",
    "\n",
    "dataframe.plot(kind=\"box\",title=\"num_comp={}\".format(num_comp))\n"
   ]
  },
  {
   "cell_type": "code",
   "execution_count": 7,
   "metadata": {},
   "outputs": [
    {
     "data": {
      "text/html": [
       "<div>\n",
       "<style scoped>\n",
       "    .dataframe tbody tr th:only-of-type {\n",
       "        vertical-align: middle;\n",
       "    }\n",
       "\n",
       "    .dataframe tbody tr th {\n",
       "        vertical-align: top;\n",
       "    }\n",
       "\n",
       "    .dataframe thead th {\n",
       "        text-align: right;\n",
       "    }\n",
       "</style>\n",
       "<table border=\"1\" class=\"dataframe\">\n",
       "  <thead>\n",
       "    <tr style=\"text-align: right;\">\n",
       "      <th></th>\n",
       "      <th>PCA</th>\n",
       "      <th>T-PR win=2</th>\n",
       "      <th>T-PR win=3</th>\n",
       "      <th>T-PR win=5</th>\n",
       "      <th>T-PR win=6</th>\n",
       "      <th>T-PR win=7</th>\n",
       "      <th>T-PR win=10</th>\n",
       "    </tr>\n",
       "  </thead>\n",
       "  <tbody>\n",
       "    <tr>\n",
       "      <th>0</th>\n",
       "      <td>0.083947</td>\n",
       "      <td>0.057011</td>\n",
       "      <td>0.061336</td>\n",
       "      <td>0.046295</td>\n",
       "      <td>0.077798</td>\n",
       "      <td>0.061336</td>\n",
       "      <td>0.081457</td>\n",
       "    </tr>\n",
       "    <tr>\n",
       "      <th>1</th>\n",
       "      <td>0.079158</td>\n",
       "      <td>0.088507</td>\n",
       "      <td>0.089069</td>\n",
       "      <td>0.089069</td>\n",
       "      <td>0.065053</td>\n",
       "      <td>0.089069</td>\n",
       "      <td>0.089069</td>\n",
       "    </tr>\n",
       "    <tr>\n",
       "      <th>2</th>\n",
       "      <td>0.056922</td>\n",
       "      <td>0.054347</td>\n",
       "      <td>0.064089</td>\n",
       "      <td>0.062225</td>\n",
       "      <td>0.062225</td>\n",
       "      <td>0.054035</td>\n",
       "      <td>0.062225</td>\n",
       "    </tr>\n",
       "    <tr>\n",
       "      <th>3</th>\n",
       "      <td>0.074690</td>\n",
       "      <td>0.071716</td>\n",
       "      <td>0.065980</td>\n",
       "      <td>0.073110</td>\n",
       "      <td>0.073110</td>\n",
       "      <td>0.073110</td>\n",
       "      <td>0.073110</td>\n",
       "    </tr>\n",
       "    <tr>\n",
       "      <th>4</th>\n",
       "      <td>0.067311</td>\n",
       "      <td>0.087886</td>\n",
       "      <td>0.054854</td>\n",
       "      <td>0.057202</td>\n",
       "      <td>0.057202</td>\n",
       "      <td>0.057202</td>\n",
       "      <td>0.057202</td>\n",
       "    </tr>\n",
       "    <tr>\n",
       "      <th>5</th>\n",
       "      <td>0.051758</td>\n",
       "      <td>0.080384</td>\n",
       "      <td>0.050848</td>\n",
       "      <td>0.064987</td>\n",
       "      <td>0.064987</td>\n",
       "      <td>0.064987</td>\n",
       "      <td>0.054957</td>\n",
       "    </tr>\n",
       "    <tr>\n",
       "      <th>6</th>\n",
       "      <td>0.048642</td>\n",
       "      <td>0.057134</td>\n",
       "      <td>0.051246</td>\n",
       "      <td>0.044651</td>\n",
       "      <td>0.057134</td>\n",
       "      <td>0.057134</td>\n",
       "      <td>0.050187</td>\n",
       "    </tr>\n",
       "    <tr>\n",
       "      <th>7</th>\n",
       "      <td>0.082708</td>\n",
       "      <td>0.097260</td>\n",
       "      <td>0.097260</td>\n",
       "      <td>0.081175</td>\n",
       "      <td>0.074318</td>\n",
       "      <td>0.097260</td>\n",
       "      <td>0.097260</td>\n",
       "    </tr>\n",
       "    <tr>\n",
       "      <th>8</th>\n",
       "      <td>0.059871</td>\n",
       "      <td>0.063181</td>\n",
       "      <td>0.056326</td>\n",
       "      <td>0.063181</td>\n",
       "      <td>0.070424</td>\n",
       "      <td>0.040922</td>\n",
       "      <td>0.057931</td>\n",
       "    </tr>\n",
       "    <tr>\n",
       "      <th>9</th>\n",
       "      <td>0.081872</td>\n",
       "      <td>0.085136</td>\n",
       "      <td>0.090753</td>\n",
       "      <td>0.060689</td>\n",
       "      <td>0.060689</td>\n",
       "      <td>0.090753</td>\n",
       "      <td>0.055726</td>\n",
       "    </tr>\n",
       "    <tr>\n",
       "      <th>10</th>\n",
       "      <td>0.052628</td>\n",
       "      <td>0.039780</td>\n",
       "      <td>0.039780</td>\n",
       "      <td>0.041261</td>\n",
       "      <td>0.039780</td>\n",
       "      <td>0.039780</td>\n",
       "      <td>0.050228</td>\n",
       "    </tr>\n",
       "    <tr>\n",
       "      <th>11</th>\n",
       "      <td>0.054580</td>\n",
       "      <td>0.053668</td>\n",
       "      <td>0.051786</td>\n",
       "      <td>0.053969</td>\n",
       "      <td>0.063910</td>\n",
       "      <td>0.047089</td>\n",
       "      <td>0.051720</td>\n",
       "    </tr>\n",
       "    <tr>\n",
       "      <th>12</th>\n",
       "      <td>0.106250</td>\n",
       "      <td>0.101806</td>\n",
       "      <td>0.090383</td>\n",
       "      <td>0.101806</td>\n",
       "      <td>0.105796</td>\n",
       "      <td>0.111015</td>\n",
       "      <td>0.081292</td>\n",
       "    </tr>\n",
       "    <tr>\n",
       "      <th>13</th>\n",
       "      <td>0.096982</td>\n",
       "      <td>0.071795</td>\n",
       "      <td>0.056958</td>\n",
       "      <td>0.058811</td>\n",
       "      <td>0.071795</td>\n",
       "      <td>0.071795</td>\n",
       "      <td>0.063266</td>\n",
       "    </tr>\n",
       "    <tr>\n",
       "      <th>14</th>\n",
       "      <td>0.052592</td>\n",
       "      <td>0.052204</td>\n",
       "      <td>0.051105</td>\n",
       "      <td>0.053359</td>\n",
       "      <td>0.059277</td>\n",
       "      <td>0.044302</td>\n",
       "      <td>0.059277</td>\n",
       "    </tr>\n",
       "    <tr>\n",
       "      <th>15</th>\n",
       "      <td>0.054302</td>\n",
       "      <td>0.054612</td>\n",
       "      <td>0.041908</td>\n",
       "      <td>0.045436</td>\n",
       "      <td>0.044239</td>\n",
       "      <td>0.043404</td>\n",
       "      <td>0.053274</td>\n",
       "    </tr>\n",
       "    <tr>\n",
       "      <th>16</th>\n",
       "      <td>0.055673</td>\n",
       "      <td>0.060332</td>\n",
       "      <td>0.060259</td>\n",
       "      <td>0.060259</td>\n",
       "      <td>0.046034</td>\n",
       "      <td>0.060259</td>\n",
       "      <td>0.060259</td>\n",
       "    </tr>\n",
       "    <tr>\n",
       "      <th>17</th>\n",
       "      <td>0.094047</td>\n",
       "      <td>0.084041</td>\n",
       "      <td>0.091224</td>\n",
       "      <td>0.060207</td>\n",
       "      <td>0.053402</td>\n",
       "      <td>0.060207</td>\n",
       "      <td>0.060207</td>\n",
       "    </tr>\n",
       "    <tr>\n",
       "      <th>18</th>\n",
       "      <td>0.082041</td>\n",
       "      <td>0.087632</td>\n",
       "      <td>0.087632</td>\n",
       "      <td>0.080249</td>\n",
       "      <td>0.079022</td>\n",
       "      <td>0.094957</td>\n",
       "      <td>0.080249</td>\n",
       "    </tr>\n",
       "    <tr>\n",
       "      <th>19</th>\n",
       "      <td>0.060694</td>\n",
       "      <td>0.057160</td>\n",
       "      <td>0.068232</td>\n",
       "      <td>0.055215</td>\n",
       "      <td>0.068232</td>\n",
       "      <td>0.056486</td>\n",
       "      <td>0.068232</td>\n",
       "    </tr>\n",
       "    <tr>\n",
       "      <th>20</th>\n",
       "      <td>0.083144</td>\n",
       "      <td>0.077764</td>\n",
       "      <td>0.081397</td>\n",
       "      <td>0.077764</td>\n",
       "      <td>0.077764</td>\n",
       "      <td>0.077328</td>\n",
       "      <td>0.080798</td>\n",
       "    </tr>\n",
       "    <tr>\n",
       "      <th>21</th>\n",
       "      <td>0.097345</td>\n",
       "      <td>0.100764</td>\n",
       "      <td>0.100065</td>\n",
       "      <td>0.100730</td>\n",
       "      <td>0.087329</td>\n",
       "      <td>0.100611</td>\n",
       "      <td>0.100764</td>\n",
       "    </tr>\n",
       "    <tr>\n",
       "      <th>22</th>\n",
       "      <td>0.059940</td>\n",
       "      <td>0.053328</td>\n",
       "      <td>0.059140</td>\n",
       "      <td>0.057390</td>\n",
       "      <td>0.053328</td>\n",
       "      <td>0.080237</td>\n",
       "      <td>0.080237</td>\n",
       "    </tr>\n",
       "  </tbody>\n",
       "</table>\n",
       "</div>"
      ],
      "text/plain": [
       "         PCA  T-PR win=2  T-PR win=3  T-PR win=5  T-PR win=6  T-PR win=7  \\\n",
       "0   0.083947    0.057011    0.061336    0.046295    0.077798    0.061336   \n",
       "1   0.079158    0.088507    0.089069    0.089069    0.065053    0.089069   \n",
       "2   0.056922    0.054347    0.064089    0.062225    0.062225    0.054035   \n",
       "3   0.074690    0.071716    0.065980    0.073110    0.073110    0.073110   \n",
       "4   0.067311    0.087886    0.054854    0.057202    0.057202    0.057202   \n",
       "5   0.051758    0.080384    0.050848    0.064987    0.064987    0.064987   \n",
       "6   0.048642    0.057134    0.051246    0.044651    0.057134    0.057134   \n",
       "7   0.082708    0.097260    0.097260    0.081175    0.074318    0.097260   \n",
       "8   0.059871    0.063181    0.056326    0.063181    0.070424    0.040922   \n",
       "9   0.081872    0.085136    0.090753    0.060689    0.060689    0.090753   \n",
       "10  0.052628    0.039780    0.039780    0.041261    0.039780    0.039780   \n",
       "11  0.054580    0.053668    0.051786    0.053969    0.063910    0.047089   \n",
       "12  0.106250    0.101806    0.090383    0.101806    0.105796    0.111015   \n",
       "13  0.096982    0.071795    0.056958    0.058811    0.071795    0.071795   \n",
       "14  0.052592    0.052204    0.051105    0.053359    0.059277    0.044302   \n",
       "15  0.054302    0.054612    0.041908    0.045436    0.044239    0.043404   \n",
       "16  0.055673    0.060332    0.060259    0.060259    0.046034    0.060259   \n",
       "17  0.094047    0.084041    0.091224    0.060207    0.053402    0.060207   \n",
       "18  0.082041    0.087632    0.087632    0.080249    0.079022    0.094957   \n",
       "19  0.060694    0.057160    0.068232    0.055215    0.068232    0.056486   \n",
       "20  0.083144    0.077764    0.081397    0.077764    0.077764    0.077328   \n",
       "21  0.097345    0.100764    0.100065    0.100730    0.087329    0.100611   \n",
       "22  0.059940    0.053328    0.059140    0.057390    0.053328    0.080237   \n",
       "\n",
       "    T-PR win=10  \n",
       "0      0.081457  \n",
       "1      0.089069  \n",
       "2      0.062225  \n",
       "3      0.073110  \n",
       "4      0.057202  \n",
       "5      0.054957  \n",
       "6      0.050187  \n",
       "7      0.097260  \n",
       "8      0.057931  \n",
       "9      0.055726  \n",
       "10     0.050228  \n",
       "11     0.051720  \n",
       "12     0.081292  \n",
       "13     0.063266  \n",
       "14     0.059277  \n",
       "15     0.053274  \n",
       "16     0.060259  \n",
       "17     0.060207  \n",
       "18     0.080249  \n",
       "19     0.068232  \n",
       "20     0.080798  \n",
       "21     0.100764  \n",
       "22     0.080237  "
      ]
     },
     "metadata": {},
     "output_type": "display_data"
    }
   ],
   "source": [
    "display(dataframe)"
   ]
  },
  {
   "cell_type": "code",
   "execution_count": 8,
   "metadata": {},
   "outputs": [],
   "source": [
    "df=pd.DataFrame(columns=dataframe.columns)\n",
    "df.loc['Var'] =list(dataframe.var())\n",
    "df.loc['Mean'] =list(dataframe.mean())\n",
    "df.loc['Min'] =list(dataframe.min())\n",
    "df.loc['Max'] =list(dataframe.max())\n"
   ]
  },
  {
   "cell_type": "code",
   "execution_count": 9,
   "metadata": {},
   "outputs": [
    {
     "data": {
      "text/html": [
       "<div>\n",
       "<style scoped>\n",
       "    .dataframe tbody tr th:only-of-type {\n",
       "        vertical-align: middle;\n",
       "    }\n",
       "\n",
       "    .dataframe tbody tr th {\n",
       "        vertical-align: top;\n",
       "    }\n",
       "\n",
       "    .dataframe thead th {\n",
       "        text-align: right;\n",
       "    }\n",
       "</style>\n",
       "<table border=\"1\" class=\"dataframe\">\n",
       "  <thead>\n",
       "    <tr style=\"text-align: right;\">\n",
       "      <th></th>\n",
       "      <th>PCA</th>\n",
       "      <th>T-PR win=2</th>\n",
       "      <th>T-PR win=3</th>\n",
       "      <th>T-PR win=5</th>\n",
       "      <th>T-PR win=6</th>\n",
       "      <th>T-PR win=7</th>\n",
       "      <th>T-PR win=10</th>\n",
       "    </tr>\n",
       "  </thead>\n",
       "  <tbody>\n",
       "    <tr>\n",
       "      <th>Var</th>\n",
       "      <td>0.000309</td>\n",
       "      <td>0.000324</td>\n",
       "      <td>0.000349</td>\n",
       "      <td>0.000283</td>\n",
       "      <td>0.000218</td>\n",
       "      <td>0.000436</td>\n",
       "      <td>0.000233</td>\n",
       "    </tr>\n",
       "    <tr>\n",
       "      <th>Mean</th>\n",
       "      <td>0.071178</td>\n",
       "      <td>0.071193</td>\n",
       "      <td>0.067897</td>\n",
       "      <td>0.064741</td>\n",
       "      <td>0.065776</td>\n",
       "      <td>0.068403</td>\n",
       "      <td>0.068214</td>\n",
       "    </tr>\n",
       "    <tr>\n",
       "      <th>Min</th>\n",
       "      <td>0.048642</td>\n",
       "      <td>0.039780</td>\n",
       "      <td>0.039780</td>\n",
       "      <td>0.041261</td>\n",
       "      <td>0.039780</td>\n",
       "      <td>0.039780</td>\n",
       "      <td>0.050187</td>\n",
       "    </tr>\n",
       "    <tr>\n",
       "      <th>Max</th>\n",
       "      <td>0.106250</td>\n",
       "      <td>0.101806</td>\n",
       "      <td>0.100065</td>\n",
       "      <td>0.101806</td>\n",
       "      <td>0.105796</td>\n",
       "      <td>0.111015</td>\n",
       "      <td>0.100764</td>\n",
       "    </tr>\n",
       "  </tbody>\n",
       "</table>\n",
       "</div>"
      ],
      "text/plain": [
       "           PCA  T-PR win=2  T-PR win=3  T-PR win=5  T-PR win=6  T-PR win=7  \\\n",
       "Var   0.000309    0.000324    0.000349    0.000283    0.000218    0.000436   \n",
       "Mean  0.071178    0.071193    0.067897    0.064741    0.065776    0.068403   \n",
       "Min   0.048642    0.039780    0.039780    0.041261    0.039780    0.039780   \n",
       "Max   0.106250    0.101806    0.100065    0.101806    0.105796    0.111015   \n",
       "\n",
       "      T-PR win=10  \n",
       "Var      0.000233  \n",
       "Mean     0.068214  \n",
       "Min      0.050187  \n",
       "Max      0.100764  "
      ]
     },
     "execution_count": 9,
     "metadata": {},
     "output_type": "execute_result"
    }
   ],
   "source": [
    "df"
   ]
  },
  {
   "cell_type": "code",
   "execution_count": 10,
   "metadata": {},
   "outputs": [
    {
     "data": {
      "text/plain": [
       "<AxesSubplot: >"
      ]
     },
     "execution_count": 10,
     "metadata": {},
     "output_type": "execute_result"
    },
    {
     "data": {
      "image/png": "[encoded data removed]",
      "text/plain": [
       "<Figure size 1500x700 with 1 Axes>"
      ]
     },
     "metadata": {},
     "output_type": "display_data"
    }
   ],
   "source": [
    "dataframe.iloc[:,:].plot(kind='line', marker='*')"
   ]
  },
  {
   "cell_type": "code",
   "execution_count": 18,
   "metadata": {},
   "outputs": [
    {
     "name": "stderr",
     "output_type": "stream",
     "text": [
      "No artists with labels found to put in legend.  Note that artists whose label start with an underscore are ignored when legend() is called with no argument.\n"
     ]
    },
    {
     "data": {
      "text/plain": [
       "<matplotlib.legend.Legend at 0x1d464b68fd0>"
      ]
     },
     "execution_count": 18,
     "metadata": {},
     "output_type": "execute_result"
    },
    {
     "data": {
      "image/png": "[encoded data removed]",
      "text/plain": [
       "<Figure size 1500x700 with 1 Axes>"
      ]
     },
     "metadata": {},
     "output_type": "display_data"
    }
   ],
   "source": [
    "# minimum of each roe except pca \n",
    "dataframe.iloc[:,1:].min(axis=1).plot(kind='line', marker='*')\n",
    "plt.legend()\n",
    "dataframe.iloc[:,0].plot(kind='line', marker='*')\n",
    "plt.legend()"
   ]
  },
  {
   "cell_type": "code",
   "execution_count": null,
   "metadata": {},
   "outputs": [],
   "source": []
  },
  {
   "cell_type": "code",
   "execution_count": 12,
   "metadata": {},
   "outputs": [],
   "source": [
    "# dataframe.plot(kind=\"box\",title=\"num_comp={}\".format(num_comp))"
   ]
  },
  {
   "cell_type": "code",
   "execution_count": 13,
   "metadata": {},
   "outputs": [],
   "source": [
    "# window_size=6\n",
    "# counter=0\n",
    "# pca_list=[]\n",
    "# method_list = []\n",
    "\n",
    "\n",
    "# while counter+interval < data_without_target.shape[0]:\n",
    "\n",
    "\n",
    "#     datacut=data_with_target[counter:counter+interval]\n",
    "#     X_datacut=datacut.iloc[:,:-1]\n",
    "#     Y_datacut=datacut.iloc[:,-1]\n",
    "#     print(counter,X_datacut.shape)\n",
    "#     X_pca=compute_pca(X_datacut,num_comp=num_comp)\n",
    "\n",
    "#     pca_mse=xgboost_reg_error(X_pca,Y_datacut,testSize)\n",
    "#     pca_list.append(pca_mse)##########################\n",
    "\n",
    "#     # print(\"MSE of pca is:\",pca_mse)\n",
    "# #     print(\"pca_list\",pca_list)\n",
    "#     arr=create_graph_details(X_datacut,window_size)\n",
    "#     a=featureSelection(arr,X_datacut.shape[1],num_comp)\n",
    "#     mse=xgboost_reg_error(X_datacut[X_datacut.columns[a][0]].values,Y_datacut,testSize)\n",
    "\n",
    "#     method_list.append(mse)\n",
    "# #     print( \"method_list\",method_list)\n",
    "#     print(counter/interval)\n",
    "#     print(\"----------------------------------------------------------------------------\")\n",
    "#     counter+=interval\n",
    "# t = np.arange(len(method_list))\n",
    "# t.shape\n",
    "# fig, ax = plt.subplots()\n",
    "# ax.plot(t,method_list,marker=\"o\", label='our method')\n",
    "\n",
    "# # Plot another line on the same chart/graph\n",
    "# ax.plot(t, pca_list,marker=\"o\", label='PCA method')\n",
    "# plt.ylabel(\"MSE\")\n",
    "# legend = ax.legend(loc='upper left', shadow=True, fontsize='large')\n",
    "# fig.suptitle('window size={} n_component={}'.format(window_size,num_comp))\n",
    "# plt.show()"
   ]
  },
  {
   "cell_type": "code",
   "execution_count": 14,
   "metadata": {},
   "outputs": [],
   "source": [
    "# # Set the figure size\n",
    "# plt.rcParams[\"figure.figsize\"] = [2.50, 3.50]\n",
    "# # plt.rcParams[\"figure.autolayout\"] = True\n",
    "\n",
    "# # Pandas dataframe\n",
    "# data_plot = pd.DataFrame({\"pca\":np.array(pca_list) , \"temporal_PR\":np.array(method_list)})\n",
    "\n",
    "# # Plot the dataframe\n",
    "# ax = data_plot[['pca', 'temporal_PR']].plot(kind='box', title='window size={} n_component={}'.format(window_size,num_comp))\n",
    "\n",
    "# # Display the plot\n",
    "# plt.show()"
   ]
  },
  {
   "cell_type": "code",
   "execution_count": 1,
   "metadata": {},
   "outputs": [
    {
     "data": {
      "text/plain": [
       "2"
      ]
     },
     "execution_count": 1,
     "metadata": {},
     "output_type": "execute_result"
    }
   ],
   "source": [
    "7 //3\n"
   ]
  },
  {
   "cell_type": "code",
   "execution_count": null,
   "metadata": {},
   "outputs": [],
   "source": []
  }
 ],
 "metadata": {
  "kernelspec": {
   "display_name": "Python 3.10.8 ('tf')",
   "language": "python",
   "name": "python3"
  },
  "language_info": {
   "codemirror_mode": {
    "name": "ipython",
    "version": 3
   },
   "file_extension": ".py",
   "mimetype": "text/x-python",
   "name": "python",
   "nbconvert_exporter": "python",
   "pygments_lexer": "ipython3",
   "version": "3.10.8"
  },
  "vscode": {
   "interpreter": {
    "hash": "eb9bb2fa3c6d437e42749e79e4a1d55d8d222e6cc8216a87b1a35470410f9d89"
   }
  }
 },
 "nbformat": 4,
 "nbformat_minor": 2
}
