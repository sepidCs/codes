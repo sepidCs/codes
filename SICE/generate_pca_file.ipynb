{
 "cells": [
  {
   "cell_type": "code",
   "execution_count": 1,
   "metadata": {},
   "outputs": [],
   "source": [
    "import pandas as pd\n",
    "import numpy as np\n",
    "from sklearn.decomposition import PCA\n",
    "\n",
    "import sys\n",
    "sys.path.insert(1, 'D:/TMU/thesis/codes')\n",
    "from package.loadDb import *"
   ]
  },
  {
   "cell_type": "code",
   "execution_count": 3,
   "metadata": {},
   "outputs": [],
   "source": [
    "# # generate a dataset with target column from sample_normalized.csv\n",
    "# add_target(data,\"..\\..\\..\\database\\stock market dataset\")"
   ]
  },
  {
   "cell_type": "code",
   "execution_count": 4,
   "metadata": {},
   "outputs": [],
   "source": [
    "# address=\"..\\..\\..\\database\\stock market dataset\\sample_normalized_with_target\"    \n",
    "# data=load_stock_market_dataframe(address)"
   ]
  },
  {
   "cell_type": "code",
   "execution_count": 8,
   "metadata": {},
   "outputs": [
    {
     "name": "stdout",
     "output_type": "stream",
     "text": [
      "[   3856    3900    3928 ... 1617026 1617027 1617028]\n"
     ]
    }
   ],
   "source": [
    "# #make new pca file with target using data=sample_normalized \n",
    "# num_comp=13\n",
    "# generate_Pca(sample_normalized,num_comp,address)\n"
   ]
  }
 ],
 "metadata": {
  "kernelspec": {
   "display_name": "Python 3.10.8 ('tf')",
   "language": "python",
   "name": "python3"
  },
  "language_info": {
   "codemirror_mode": {
    "name": "ipython",
    "version": 3
   },
   "file_extension": ".py",
   "mimetype": "text/x-python",
   "name": "python",
   "nbconvert_exporter": "python",
   "pygments_lexer": "ipython3",
   "version": "3.10.8"
  },
  "orig_nbformat": 4,
  "vscode": {
   "interpreter": {
    "hash": "eb9bb2fa3c6d437e42749e79e4a1d55d8d222e6cc8216a87b1a35470410f9d89"
   }
  }
 },
 "nbformat": 4,
 "nbformat_minor": 2
}
