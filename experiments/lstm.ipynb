{
 "cells": [
  {
   "cell_type": "code",
   "execution_count": null,
   "metadata": {},
   "outputs": [],
   "source": [
    "import tensorflow as tf\n",
    "from tensorflow.keras.models import Sequential\n",
    "from tensorflow.keras.layers import Dense\n",
    "from tensorflow.keras.layers import LSTM\n",
    "from sklearn.preprocessing import MinMaxScaler\n",
    "from sklearn.metrics import mean_absolute_error, mean_squared_error\n"
   ]
  },
  {
   "cell_type": "code",
   "execution_count": null,
   "metadata": {},
   "outputs": [],
   "source": [
    "def tensorizing(window_size,no_target_data):\n",
    "    '''\n",
    "    input:\n",
    "    window_size = number of records in each segment\n",
    "    no_target_data = data withot target\n",
    "    output:\n",
    "    tensor_data= stacked segments with step 1 frontly(mode3)\n",
    "    '''\n",
    "    #this func transform the 2D data to a 3D tensor\n",
    "    # first dimension is timeseries samples , second is features and third dimension is time\n",
    "    tensor_data=np.zeros((no_target_data.shape[0]-window_size+1,window_size,no_target_data.shape[1]))\n",
    "    for i in range(no_target_data.shape[0]-window_size+1):\n",
    "        tensor_data[i,:,:]=no_target_data.iloc[i:i+window_size].to_numpy()\n",
    "    print (\"data without target size is\",no_target_data.shape)\n",
    "    print (\"tensorized data size is\",tensor_data.shape)\n",
    "    return tensor_data"
   ]
  },
  {
   "cell_type": "code",
   "execution_count": null,
   "metadata": {},
   "outputs": [],
   "source": [
    "windowsize=30\n",
    "x_train, x_test, y_train, y_test = train_test_split(pd.DataFrame(X_pca), Y_datacut, test_size = 500,shuffle=False)\n",
    "scaler = MinMaxScaler(feature_range=(0, 1))\n",
    "scaler = scaler.fit(x_train)\n",
    "x_train=scaler.transform(x_train)\n",
    "x_train=tensorizing(windowsize,pd.DataFrame(x_train))\n",
    "# x_train=tensorizing(windowsize,x_train)\n",
    "\n",
    "y_train=y_train[windowsize-1:]"
   ]
  },
  {
   "cell_type": "code",
   "execution_count": null,
   "metadata": {},
   "outputs": [],
   "source": [
    "model = Sequential()\n",
    "model.add(LSTM(50,return_sequences = True, input_shape=( windowsize, x_train.shape[2])))\n",
    "\n",
    "model.add(LSTM(50, activation='linear'))\n",
    "# model.add(LSTM(50, activation='sigmoid'))\n",
    "\n",
    "my_adam_optimizer = tf.keras.optimizers.legacy.Adam(learning_rate=0.001, beta_1=0.9, beta_2=0.999, epsilon=None, decay=0.0, amsgrad=False)\n",
    "\n",
    "model.add(Dense(1,activation='linear'))\n",
    "model.compile(loss='mean_squared_error', optimizer=my_adam_optimizer)\n",
    "model.fit(x_train, y_train, epochs=70,batch_size=32)"
   ]
  },
  {
   "cell_type": "code",
   "execution_count": null,
   "metadata": {},
   "outputs": [],
   "source": [
    "scaler = MinMaxScaler(feature_range=(0, 1))\n",
    "scaler = scaler.fit(x_test)\n",
    "x_test=scaler.transform(x_test)\n",
    "x_test=tensorizing(windowsize,pd.DataFrame(x_test))\n",
    "# x_test=tensorizing(windowsize,x_test)\n",
    "\n",
    "y_test=y_test[windowsize-1:]"
   ]
  },
  {
   "cell_type": "code",
   "execution_count": null,
   "metadata": {},
   "outputs": [],
   "source": [
    "mse = model.evaluate(x_test, y_test)\n"
   ]
  },
  {
   "cell_type": "code",
   "execution_count": null,
   "metadata": {},
   "outputs": [],
   "source": [
    "yhat = model.predict(x_test)\n",
    "rmse=np.sqrt(metrics.mean_squared_error(y_test, yhat))\n",
    "rmse"
   ]
  }
 ],
 "metadata": {
  "kernelspec": {
   "display_name": "Python 3",
   "language": "python",
   "name": "python3"
  },
  "language_info": {
   "name": "python",
   "version": "3.10.10"
  },
  "orig_nbformat": 4,
  "vscode": {
   "interpreter": {
    "hash": "13acfb32119919003062171acc6b784160ca662fa76c53a53dc69e717c6430a3"
   }
  }
 },
 "nbformat": 4,
 "nbformat_minor": 2
}
