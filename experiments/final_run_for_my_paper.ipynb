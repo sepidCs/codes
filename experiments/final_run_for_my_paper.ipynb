{
 "cells": [
  {
   "cell_type": "code",
   "execution_count": 1,
   "metadata": {},
   "outputs": [],
   "source": [
    "import sys\n",
    "sys.path.insert(1,'D:\\\\thesis-main\\codes')\n",
    "import numpy as np\n",
    "import pandas as pd\n",
    "import random\n",
    "import matplotlib.pyplot as plt\n",
    "%matplotlib inline\n",
    "import time\n",
    "from package.loadDb import *\n",
    "from package.featureSelection_TENSORIZED import *\n",
    "from package.featureSelection_TEMPORAL_PAGERANK import *\n",
    "from package.featureSelection_SICE import *\n",
    "from package.trmf import *\n",
    "from package.trmf_regressor import *\n",
    "from package.regressors import *\n",
    "\n",
    "import concurrent.futures"
   ]
  },
  {
   "cell_type": "code",
   "execution_count": 2,
   "metadata": {},
   "outputs": [
    {
     "name": "stdout",
     "output_type": "stream",
     "text": [
      "data with target size =  (46968, 11)\n"
     ]
    }
   ],
   "source": [
    "# import kaggle dataset\n",
    "address = \"..\\database\\kaggleDataFrame\"\n",
    "\n",
    "data_with_target= load_kaggle_dataframe(address+\"\\dataframes.csv\")\n",
    "\n",
    "# data_with_target=data_with_target.iloc[2000:4000]\n",
    "\n",
    "data_without_target = data_with_target.drop(['DEMAND'],axis=1)\n",
    "\n",
    "target=data_with_target.iloc[:,-1]\n",
    "print(\"data with target size = \",data_with_target.shape )\n",
    "\n",
    "\n",
    "# # data with target column\n",
    "# address = \"..\\database\\stock market dataset\"\n",
    "# data_with_target=load_stock_market_dataframe(address+\"\\sample_normalized_with_target.csv\")\n",
    "# # data_with_target=data_with_target.iloc[:10000]\n",
    "# data_without_target = data_with_target.drop(['TARGET'],axis=1)\n",
    "# # data_without_target=data_with_target.iloc[:,:-1]\n",
    "# target=data_with_target.iloc[:,-1]"
   ]
  },
  {
   "cell_type": "code",
   "execution_count": 3,
   "metadata": {},
   "outputs": [],
   "source": [
    "#segment sizes\n",
    "interval=2000\n",
    "testSize=500\n",
    "#energy of pca to compute number of components\n",
    "tol=.89"
   ]
  },
  {
   "cell_type": "code",
   "execution_count": 4,
   "metadata": {},
   "outputs": [],
   "source": [
    "#dictionary contains rmse of test set of each segment for all methods\n",
    "dict_rmse={}\n",
    "dict_runtime={}"
   ]
  },
  {
   "cell_type": "markdown",
   "metadata": {},
   "source": [
    "## PCA"
   ]
  },
  {
   "cell_type": "code",
   "execution_count": 5,
   "metadata": {},
   "outputs": [],
   "source": [
    "\n",
    "counter = 0\n",
    "pca_list = [None] * (data_without_target.shape[0] // interval)\n",
    "num_comp_list = [None] * (data_without_target.shape[0] // interval)\n",
    "runtime = [None] * (data_without_target.shape[0] // interval)\n",
    "\n",
    "def process_interval(i, interval, data_with_target, tol, testSize):\n",
    "    start_index = i * interval\n",
    "    end_index = start_index + interval\n",
    "\n",
    "    datacut = data_with_target[start_index:end_index]\n",
    "    X_datacut = datacut.iloc[:, :-1]\n",
    "    Y_datacut = datacut.iloc[:, -1]\n",
    "\n",
    "    st = time.time()\n",
    "    X_transformed, eigenvalues = compute_pca(X_datacut, num_comp=None)\n",
    "    et = time.time()\n",
    "    num_comp = energy(eigenvalues, tol)\n",
    "    X_pca = X_transformed[:, :num_comp]\n",
    "\n",
    "    pca_rmse = xgboost_reg_error(X_pca, Y_datacut, testSize)\n",
    "\n",
    "    elapsed_time = et - st\n",
    "\n",
    "    return i, pca_rmse, num_comp, elapsed_time\n",
    "\n",
    "with concurrent.futures.ThreadPoolExecutor() as executor:\n",
    "    futures = [\n",
    "        executor.submit(process_interval, i, interval, data_with_target, tol, testSize)\n",
    "        for i in range(data_without_target.shape[0] // interval)\n",
    "    ]\n",
    "\n",
    "    for future in concurrent.futures.as_completed(futures):\n",
    "        i, pca_rmse, num_comp, elapsed_time = future.result()\n",
    "        pca_list[i] = pca_rmse\n",
    "        num_comp_list[i] = num_comp\n",
    "        runtime[i] = elapsed_time\n",
    "\n",
    "dict_rmse['PCA'] = pca_list\n",
    "dict_runtime['PCA_runtime'] = runtime\n"
   ]
  },
  {
   "cell_type": "code",
   "execution_count": 6,
   "metadata": {},
   "outputs": [
    {
     "data": {
      "text/plain": [
       "[1, 1, 1, 1, 1, 1, 1, 1, 1, 1, 1, 1, 1, 1, 1, 1, 1, 1, 1, 1, 1, 2, 1]"
      ]
     },
     "execution_count": 6,
     "metadata": {},
     "output_type": "execute_result"
    }
   ],
   "source": [
    "num_comp_list"
   ]
  },
  {
   "cell_type": "markdown",
   "metadata": {},
   "source": [
    "## TRMF"
   ]
  },
  {
   "cell_type": "code",
   "execution_count": 7,
   "metadata": {},
   "outputs": [],
   "source": [
    "# trmf parameters..............................................\n",
    "lags = [1,30]\n",
    "# K = 4######### changes besed on pca energy\n",
    "lambda_f = 1.\n",
    "lambda_x = 1\n",
    "lambda_w = 1.\n",
    "alpha = 1000.\n",
    "eta = 1.\n",
    "max_iteration=10000\n",
    "# num_comp=K"
   ]
  },
  {
   "cell_type": "code",
   "execution_count": 8,
   "metadata": {},
   "outputs": [],
   "source": [
    "trmf_rmse_list=[]\n",
    "runtime=[]\n",
    "\n",
    "counter=0\n",
    "i=0\n",
    "# while counter+interval <= data_without_target.shape[0]:\n",
    "for j in range(data_without_target.shape[0]//interval):\n",
    "    start_index=j*interval\n",
    "    end_index=start_index+interval\n",
    "    \n",
    "    K=num_comp_list[i]\n",
    "\n",
    "    data=data_without_target.to_numpy().T\n",
    "\n",
    "    data=data[:,start_index:end_index]\n",
    "    target_cut=target.iloc[start_index:end_index]\n",
    "\n",
    "    T_train = data.shape[1]\n",
    "    st=time.time()#>>>>>>>>>>>>>>>>>>>>>>\n",
    "    data_normalized =normalized_data(data, T_train, 0, normalize=True)\n",
    "\n",
    "    model = trmf(lags, K, lambda_f, lambda_x, lambda_w, alpha, eta)\n",
    "    model.fit(data_normalized, max_iter = max_iteration)\n",
    "    et=time.time()#>>>>>>>>>>>>>>>>>>>>>>\n",
    "    elapsed_time = et - st\n",
    "    runtime.append(elapsed_time)\n",
    "\n",
    "    # get reduced data\n",
    "    new_features=model.X.T\n",
    "    \n",
    "    rmse=xgboost_reg_error(new_features,target_cut,testSize)\n",
    "    \n",
    "    trmf_rmse_list.append(rmse)\n",
    "    # counter+=interval\n",
    "    i=i+1\n",
    "    # print(i,K)\n",
    "    # print(\"----------------------------------------------------------------------------\")\n",
    "dict_rmse['trmf_rmse']=trmf_rmse_list\n",
    "dict_runtime[\"TRMF_runtime\"]=runtime\n"
   ]
  },
  {
   "cell_type": "code",
   "execution_count": 9,
   "metadata": {},
   "outputs": [
    {
     "name": "stdout",
     "output_type": "stream",
     "text": [
      "[0.08398931604651906, 0.07104994845827717, 0.05598144593316495, 0.08655605979159094, 0.06949270360666275, 0.06838746598877037, 0.048414076726112365, 0.0768359489814334, 0.058169258840248206, 0.08082596291628372, 0.05178493502720175, 0.05080749884785462, 0.0916186561910511, 0.08384885004070677, 0.04826371840655326, 0.04239961710529657, 0.051665202222453806, 0.09549500540159456, 0.07552142192939675, 0.055731031113576066, 0.07403159906041028, 0.08239272455792414, 0.08701010686181658]\n",
      "[4.856009244918823, 4.606677770614624, 4.599695682525635, 4.857006549835205, 4.609670400619507, 4.709402322769165, 4.897897481918335, 4.628618240356445, 4.596704006195068, 4.602687835693359, 6.434788227081299, 4.549828290939331, 4.557809352874756, 4.535866975784302, 4.558806657791138, 4.5308802127838135, 4.5647900104522705, 4.5438456535339355, 4.865984201431274, 4.704416275024414, 4.543845891952515, 5.755604267120361, 4.540853261947632]\n"
     ]
    }
   ],
   "source": [
    "print(trmf_rmse_list)\n",
    "print(runtime)"
   ]
  },
  {
   "cell_type": "code",
   "execution_count": 10,
   "metadata": {},
   "outputs": [],
   "source": [
    "\n",
    "trmf_rmse_list = []\n",
    "runtime = []\n",
    "\n",
    "\n",
    "def process_chunk(start_index, end_index, K, i):\n",
    "    data = data_without_target.to_numpy().T\n",
    "    data = data[:, start_index:end_index]\n",
    "    target_cut = target.iloc[start_index:end_index]\n",
    "\n",
    "    T_train = data.shape[1]\n",
    "    st = time.time()\n",
    "    data_normalized = normalized_data(data, T_train, 0, normalize=True)\n",
    "\n",
    "    model = trmf(lags, K, lambda_f, lambda_x, lambda_w, alpha, eta)\n",
    "    model.fit(data_normalized, max_iter=max_iteration)\n",
    "    et = time.time()\n",
    "    elapsed_time = et - st\n",
    "\n",
    "    new_features = model.X.T\n",
    "    rmse = xgboost_reg_error(new_features, target_cut, testSize)\n",
    "\n",
    "    return (i, rmse, elapsed_time)\n",
    "\n",
    "\n",
    "dict_rmse = {}\n",
    "dict_runtime = {}\n",
    "\n",
    "with concurrent.futures.ThreadPoolExecutor() as executor:\n",
    "    futures = []\n",
    "    for j in range(data_without_target.shape[0] // interval):\n",
    "        start_index = j * interval\n",
    "        end_index = start_index + interval\n",
    "        K = num_comp_list[j]  # Adjust this if `num_comp_list` should be indexed differently\n",
    "        futures.append(executor.submit(process_chunk, start_index, end_index, K, j))\n",
    "\n",
    "    results = [future.result() for future in concurrent.futures.as_completed(futures)]\n",
    "    results.sort()  # Ensure results are in the correct order\n",
    "\n",
    "    for i, rmse, elapsed_time in results:\n",
    "        trmf_rmse_list.append(rmse)\n",
    "        runtime.append(elapsed_time)\n",
    "\n",
    "dict_rmse['trmf_rmse'] = trmf_rmse_list\n",
    "dict_runtime['TRMF_runtime'] = runtime\n"
   ]
  },
  {
   "cell_type": "code",
   "execution_count": 11,
   "metadata": {},
   "outputs": [
    {
     "name": "stdout",
     "output_type": "stream",
     "text": [
      "[0.08398931604651906, 0.07104994845827717, 0.05598144593316495, 0.08655605979159094, 0.06900955218685202, 0.06838746598877037, 0.048414076726112365, 0.0767307535529995, 0.05814300471415974, 0.08082596291628372, 0.05178493502720175, 0.05080749884785462, 0.09181315411854704, 0.08391745553114037, 0.047969086914259565, 0.04224721226689247, 0.051665202222453806, 0.09502077900165698, 0.07585843136132302, 0.055731031113576066, 0.07403159906041028, 0.08068090659596167, 0.08700964517251003]\n",
      "[47.17481350898743, 47.74229454994202, 46.78685021400452, 47.13491916656494, 47.23465275764465, 47.3214213848114, 47.67647099494934, 47.822080850601196, 44.36732316017151, 44.305487394332886, 47.29150056838989, 44.915854930877686, 45.160202503204346, 45.11632061004639, 45.369641065597534, 44.77224063873291, 37.875685930252075, 37.38599753379822, 37.537591218948364, 37.20547962188721, 36.97509551048279, 40.73304343223572, 36.89032316207886]\n"
     ]
    }
   ],
   "source": [
    "print(trmf_rmse_list)\n",
    "print(runtime)"
   ]
  }
 ],
 "metadata": {
  "kernelspec": {
   "display_name": "tf",
   "language": "python",
   "name": "python3"
  },
  "language_info": {
   "codemirror_mode": {
    "name": "ipython",
    "version": 3
   },
   "file_extension": ".py",
   "mimetype": "text/x-python",
   "name": "python",
   "nbconvert_exporter": "python",
   "pygments_lexer": "ipython3",
   "version": "3.10.8"
  }
 },
 "nbformat": 4,
 "nbformat_minor": 2
}
