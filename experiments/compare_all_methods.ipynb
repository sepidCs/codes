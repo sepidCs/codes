{
 "cells": [
  {
   "cell_type": "code",
   "execution_count": 1,
   "metadata": {},
   "outputs": [],
   "source": [
    "import numpy as np\n",
    "import pandas as pd\n",
    "import random\n",
    "import sys\n",
    "import matplotlib.pyplot as plt\n",
    "%matplotlib inline\n",
    "\n",
    "sys.path.insert(1,'D:\\\\thesis-main\\codes')\n",
    "import time\n",
    "\n",
    "from package.loadDb import *\n",
    "from package.featureSelection_TENSORIZED import *\n",
    "from package.featureSelection_TEMPORAL_PAGERANK import *\n",
    "from package.featureSelection_SICE import *\n",
    "\n",
    "from package.trmf import *\n",
    "from package.trmf_regressor import *\n",
    "\n",
    "from package.regressors import *\n"
   ]
  },
  {
   "cell_type": "code",
   "execution_count": 2,
   "metadata": {},
   "outputs": [
    {
     "name": "stdout",
     "output_type": "stream",
     "text": [
      "data with target size =  (46968, 11)\n"
     ]
    }
   ],
   "source": [
    "# import kaggle dataset\n",
    "address = \"..\\database\\kaggleDataFrame\"\n",
    "\n",
    "data_with_target= load_kaggle_dataframe(address+\"\\dataframes.csv\")\n",
    "\n",
    "# data_with_target=data_with_target.iloc[2000:4000]\n",
    "\n",
    "data_without_target = data_with_target.drop(['DEMAND'],axis=1)\n",
    "\n",
    "target=data_with_target.iloc[:,-1]\n",
    "print(\"data with target size = \",data_with_target.shape )\n",
    "\n",
    "\n",
    "# # data with target column\n",
    "# address = \"..\\database\\stock market dataset\"\n",
    "# data_with_target=load_stock_market_dataframe(address+\"\\sample_normalized_with_target.csv\")\n",
    "# # data_with_target=data_with_target.iloc[:10000]\n",
    "# data_without_target = data_with_target.drop(['TARGET'],axis=1)\n",
    "# # data_without_target=data_with_target.iloc[:,:-1]\n",
    "# target=data_with_target.iloc[:,-1]"
   ]
  },
  {
   "cell_type": "code",
   "execution_count": 3,
   "metadata": {},
   "outputs": [
    {
     "data": {
      "text/plain": [
       "(46968, 10)"
      ]
     },
     "execution_count": 3,
     "metadata": {},
     "output_type": "execute_result"
    }
   ],
   "source": [
    "data_without_target.shape"
   ]
  },
  {
   "cell_type": "code",
   "execution_count": 4,
   "metadata": {},
   "outputs": [
    {
     "data": {
      "text/plain": [
       "801.404"
      ]
     },
     "execution_count": 4,
     "metadata": {},
     "output_type": "execute_result"
    }
   ],
   "source": [
    "1602808/2000"
   ]
  },
  {
   "cell_type": "code",
   "execution_count": 5,
   "metadata": {},
   "outputs": [],
   "source": [
    "# plt.plot(list(target[:20]))"
   ]
  },
  {
   "cell_type": "code",
   "execution_count": 11,
   "metadata": {},
   "outputs": [],
   "source": [
    "#segment sizes\n",
    "interval=2000\n",
    "testSize=500\n",
    "#energy of pca to compute number of components\n",
    "tol=.89\n"
   ]
  },
  {
   "cell_type": "code",
   "execution_count": 12,
   "metadata": {},
   "outputs": [],
   "source": [
    "#dictionary contains rmse of test set of each segment for all methods\n",
    "dict_rmse={}\n",
    "dict_runtime={}"
   ]
  },
  {
   "attachments": {},
   "cell_type": "markdown",
   "metadata": {},
   "source": [
    "PCA"
   ]
  },
  {
   "cell_type": "code",
   "execution_count": 13,
   "metadata": {},
   "outputs": [],
   "source": [
    "counter=0\n",
    "pca_list=[]\n",
    "num_comp_list=[]\n",
    "runtime=[]\n",
    "# while counter+interval <= data_without_target.shape[0]:\n",
    "for i in range(data_without_target.shape[0]//interval):\n",
    "    start_index=i*interval\n",
    "    end_index=start_index+interval\n",
    "\n",
    "    datacut=data_with_target[start_index:end_index]\n",
    "    X_datacut=datacut.iloc[:,:-1]\n",
    "    Y_datacut=datacut.iloc[:,-1]\n",
    "    # print(counter,X_datacut.shape)\n",
    "    st = time.time()\n",
    "    X_transformed,eigenvalues=compute_pca(X_datacut,num_comp=None)\n",
    "    et = time.time()\n",
    "    num_comp=energy(eigenvalues,tol)\n",
    "    X_pca=X_transformed[:,:num_comp]\n",
    "    \n",
    "    pca_rmse=xgboost_reg_error(X_pca,Y_datacut,testSize)\n",
    "\n",
    "    pca_list.append(pca_rmse)##########################\n",
    "    num_comp_list.append(num_comp)##########################\n",
    "\n",
    "    elapsed_time = et - st\n",
    "    runtime.append(elapsed_time)\n",
    "    \n",
    "\n",
    "    # counter+=interval\n",
    "    \n",
    "dict_rmse['PCA']=pca_list\n",
    "dict_runtime[\"PCA_runtime\"]=runtime"
   ]
  },
  {
   "cell_type": "code",
   "execution_count": 14,
   "metadata": {},
   "outputs": [
    {
     "data": {
      "text/plain": [
       "[1, 1, 1, 1, 1, 1, 1, 1, 1, 1, 1, 1, 1, 1, 1, 1, 1, 1, 1, 1, 1, 2, 1]"
      ]
     },
     "execution_count": 14,
     "metadata": {},
     "output_type": "execute_result"
    }
   ],
   "source": [
    "num_comp_list"
   ]
  },
  {
   "attachments": {},
   "cell_type": "markdown",
   "metadata": {},
   "source": [
    "TRMF"
   ]
  },
  {
   "cell_type": "code",
   "execution_count": 15,
   "metadata": {},
   "outputs": [],
   "source": [
    "# trmf parameters..............................................\n",
    "lags = [1,30]\n",
    "# K = 4######### changes besed on pca energy\n",
    "lambda_f = 1.\n",
    "lambda_x = 1\n",
    "lambda_w = 1.\n",
    "alpha = 1000.\n",
    "eta = 1.\n",
    "max_iteration=10000\n",
    "# num_comp=K"
   ]
  },
  {
   "cell_type": "code",
   "execution_count": 16,
   "metadata": {},
   "outputs": [
    {
     "name": "stdout",
     "output_type": "stream",
     "text": [
      "1 1\n",
      "----------------------------------------------------------------------------\n",
      "2 1\n",
      "----------------------------------------------------------------------------\n",
      "3 1\n",
      "----------------------------------------------------------------------------\n",
      "4 1\n",
      "----------------------------------------------------------------------------\n",
      "5 1\n",
      "----------------------------------------------------------------------------\n",
      "6 1\n",
      "----------------------------------------------------------------------------\n",
      "7 1\n",
      "----------------------------------------------------------------------------\n",
      "8 1\n",
      "----------------------------------------------------------------------------\n",
      "9 1\n",
      "----------------------------------------------------------------------------\n",
      "10 1\n",
      "----------------------------------------------------------------------------\n",
      "11 1\n",
      "----------------------------------------------------------------------------\n",
      "12 1\n",
      "----------------------------------------------------------------------------\n",
      "13 1\n",
      "----------------------------------------------------------------------------\n",
      "14 1\n",
      "----------------------------------------------------------------------------\n",
      "15 1\n",
      "----------------------------------------------------------------------------\n",
      "16 1\n",
      "----------------------------------------------------------------------------\n",
      "17 1\n",
      "----------------------------------------------------------------------------\n",
      "18 1\n",
      "----------------------------------------------------------------------------\n",
      "19 1\n",
      "----------------------------------------------------------------------------\n",
      "20 1\n",
      "----------------------------------------------------------------------------\n",
      "21 1\n",
      "----------------------------------------------------------------------------\n",
      "22 2\n",
      "----------------------------------------------------------------------------\n",
      "23 1\n",
      "----------------------------------------------------------------------------\n"
     ]
    }
   ],
   "source": [
    "trmf_rmse_list=[]\n",
    "runtime=[]\n",
    "\n",
    "counter=0\n",
    "i=0\n",
    "# while counter+interval <= data_without_target.shape[0]:\n",
    "for j in range(data_without_target.shape[0]//interval):\n",
    "    start_index=j*interval\n",
    "    end_index=start_index+interval\n",
    "    \n",
    "    K=num_comp_list[i]\n",
    "\n",
    "    data=data_without_target.to_numpy().T\n",
    "\n",
    "    data=data[:,start_index:end_index]\n",
    "    target_cut=target.iloc[start_index:end_index]\n",
    "\n",
    "    T_train = data.shape[1]\n",
    "    st=time.time()#>>>>>>>>>>>>>>>>>>>>>>\n",
    "    data_normalized =normalized_data(data, T_train, 0, normalize=True)\n",
    "\n",
    "    model = trmf(lags, K, lambda_f, lambda_x, lambda_w, alpha, eta)\n",
    "    model.fit(data_normalized, max_iter = max_iteration)\n",
    "    et=time.time()#>>>>>>>>>>>>>>>>>>>>>>\n",
    "    elapsed_time = et - st\n",
    "    runtime.append(elapsed_time)\n",
    "\n",
    "    # get reduced data\n",
    "    new_features=model.X.T\n",
    "    \n",
    "    rmse=xgboost_reg_error(new_features,target_cut,testSize)\n",
    "    \n",
    "    trmf_rmse_list.append(rmse)\n",
    "    # counter+=interval\n",
    "    i=i+1\n",
    "    print(i,K)\n",
    "    print(\"----------------------------------------------------------------------------\")\n",
    "dict_rmse['trmf_rmse']=trmf_rmse_list\n",
    "dict_runtime[\"TRMF_runtime\"]=runtime\n"
   ]
  },
  {
   "attachments": {},
   "cell_type": "markdown",
   "metadata": {},
   "source": [
    "TEMPORAL PAGE RANK FEATURE SELECTION"
   ]
  },
  {
   "cell_type": "code",
   "execution_count": 17,
   "metadata": {},
   "outputs": [],
   "source": [
    "window_size_list=[2,3,5,7,10,30]#"
   ]
  },
  {
   "cell_type": "code",
   "execution_count": 19,
   "metadata": {},
   "outputs": [
    {
     "name": "stderr",
     "output_type": "stream",
     "text": [
      "C:\\Users\\User.MORADI-PC\\AppData\\Local\\Temp\\ipykernel_10576\\349924479.py:31: FutureWarning: Support for multi-dimensional indexing (e.g. `obj[:, None]`) is deprecated and will be removed in a future version.  Convert to a numpy array before indexing instead.\n",
      "  mse_tpr=xgboost_reg_error(X_datacut[X_datacut.columns[a][0]].values,Y_datacut,testSize)\n"
     ]
    },
    {
     "name": "stdout",
     "output_type": "stream",
     "text": [
      "0\n",
      "----------------------------------------------------------------------------\n"
     ]
    },
    {
     "name": "stderr",
     "output_type": "stream",
     "text": [
      "C:\\Users\\User.MORADI-PC\\AppData\\Local\\Temp\\ipykernel_10576\\349924479.py:31: FutureWarning: Support for multi-dimensional indexing (e.g. `obj[:, None]`) is deprecated and will be removed in a future version.  Convert to a numpy array before indexing instead.\n",
      "  mse_tpr=xgboost_reg_error(X_datacut[X_datacut.columns[a][0]].values,Y_datacut,testSize)\n"
     ]
    },
    {
     "name": "stdout",
     "output_type": "stream",
     "text": [
      "1\n",
      "----------------------------------------------------------------------------\n"
     ]
    },
    {
     "name": "stderr",
     "output_type": "stream",
     "text": [
      "C:\\Users\\User.MORADI-PC\\AppData\\Local\\Temp\\ipykernel_10576\\349924479.py:31: FutureWarning: Support for multi-dimensional indexing (e.g. `obj[:, None]`) is deprecated and will be removed in a future version.  Convert to a numpy array before indexing instead.\n",
      "  mse_tpr=xgboost_reg_error(X_datacut[X_datacut.columns[a][0]].values,Y_datacut,testSize)\n"
     ]
    },
    {
     "name": "stdout",
     "output_type": "stream",
     "text": [
      "2\n",
      "----------------------------------------------------------------------------\n"
     ]
    },
    {
     "name": "stderr",
     "output_type": "stream",
     "text": [
      "C:\\Users\\User.MORADI-PC\\AppData\\Local\\Temp\\ipykernel_10576\\349924479.py:31: FutureWarning: Support for multi-dimensional indexing (e.g. `obj[:, None]`) is deprecated and will be removed in a future version.  Convert to a numpy array before indexing instead.\n",
      "  mse_tpr=xgboost_reg_error(X_datacut[X_datacut.columns[a][0]].values,Y_datacut,testSize)\n"
     ]
    },
    {
     "name": "stdout",
     "output_type": "stream",
     "text": [
      "3\n",
      "----------------------------------------------------------------------------\n"
     ]
    },
    {
     "name": "stderr",
     "output_type": "stream",
     "text": [
      "C:\\Users\\User.MORADI-PC\\AppData\\Local\\Temp\\ipykernel_10576\\349924479.py:31: FutureWarning: Support for multi-dimensional indexing (e.g. `obj[:, None]`) is deprecated and will be removed in a future version.  Convert to a numpy array before indexing instead.\n",
      "  mse_tpr=xgboost_reg_error(X_datacut[X_datacut.columns[a][0]].values,Y_datacut,testSize)\n"
     ]
    },
    {
     "name": "stdout",
     "output_type": "stream",
     "text": [
      "4\n",
      "----------------------------------------------------------------------------\n"
     ]
    },
    {
     "name": "stderr",
     "output_type": "stream",
     "text": [
      "C:\\Users\\User.MORADI-PC\\AppData\\Local\\Temp\\ipykernel_10576\\349924479.py:31: FutureWarning: Support for multi-dimensional indexing (e.g. `obj[:, None]`) is deprecated and will be removed in a future version.  Convert to a numpy array before indexing instead.\n",
      "  mse_tpr=xgboost_reg_error(X_datacut[X_datacut.columns[a][0]].values,Y_datacut,testSize)\n"
     ]
    },
    {
     "name": "stdout",
     "output_type": "stream",
     "text": [
      "5\n",
      "----------------------------------------------------------------------------\n"
     ]
    },
    {
     "name": "stderr",
     "output_type": "stream",
     "text": [
      "C:\\Users\\User.MORADI-PC\\AppData\\Local\\Temp\\ipykernel_10576\\349924479.py:31: FutureWarning: Support for multi-dimensional indexing (e.g. `obj[:, None]`) is deprecated and will be removed in a future version.  Convert to a numpy array before indexing instead.\n",
      "  mse_tpr=xgboost_reg_error(X_datacut[X_datacut.columns[a][0]].values,Y_datacut,testSize)\n"
     ]
    },
    {
     "name": "stdout",
     "output_type": "stream",
     "text": [
      "6\n",
      "----------------------------------------------------------------------------\n"
     ]
    },
    {
     "name": "stderr",
     "output_type": "stream",
     "text": [
      "C:\\Users\\User.MORADI-PC\\AppData\\Local\\Temp\\ipykernel_10576\\349924479.py:31: FutureWarning: Support for multi-dimensional indexing (e.g. `obj[:, None]`) is deprecated and will be removed in a future version.  Convert to a numpy array before indexing instead.\n",
      "  mse_tpr=xgboost_reg_error(X_datacut[X_datacut.columns[a][0]].values,Y_datacut,testSize)\n"
     ]
    },
    {
     "name": "stdout",
     "output_type": "stream",
     "text": [
      "7\n",
      "----------------------------------------------------------------------------\n"
     ]
    },
    {
     "name": "stderr",
     "output_type": "stream",
     "text": [
      "C:\\Users\\User.MORADI-PC\\AppData\\Local\\Temp\\ipykernel_10576\\349924479.py:31: FutureWarning: Support for multi-dimensional indexing (e.g. `obj[:, None]`) is deprecated and will be removed in a future version.  Convert to a numpy array before indexing instead.\n",
      "  mse_tpr=xgboost_reg_error(X_datacut[X_datacut.columns[a][0]].values,Y_datacut,testSize)\n"
     ]
    },
    {
     "name": "stdout",
     "output_type": "stream",
     "text": [
      "8\n",
      "----------------------------------------------------------------------------\n"
     ]
    },
    {
     "name": "stderr",
     "output_type": "stream",
     "text": [
      "C:\\Users\\User.MORADI-PC\\AppData\\Local\\Temp\\ipykernel_10576\\349924479.py:31: FutureWarning: Support for multi-dimensional indexing (e.g. `obj[:, None]`) is deprecated and will be removed in a future version.  Convert to a numpy array before indexing instead.\n",
      "  mse_tpr=xgboost_reg_error(X_datacut[X_datacut.columns[a][0]].values,Y_datacut,testSize)\n"
     ]
    },
    {
     "name": "stdout",
     "output_type": "stream",
     "text": [
      "9\n",
      "----------------------------------------------------------------------------\n"
     ]
    },
    {
     "name": "stderr",
     "output_type": "stream",
     "text": [
      "C:\\Users\\User.MORADI-PC\\AppData\\Local\\Temp\\ipykernel_10576\\349924479.py:31: FutureWarning: Support for multi-dimensional indexing (e.g. `obj[:, None]`) is deprecated and will be removed in a future version.  Convert to a numpy array before indexing instead.\n",
      "  mse_tpr=xgboost_reg_error(X_datacut[X_datacut.columns[a][0]].values,Y_datacut,testSize)\n"
     ]
    },
    {
     "name": "stdout",
     "output_type": "stream",
     "text": [
      "10\n",
      "----------------------------------------------------------------------------\n"
     ]
    },
    {
     "name": "stderr",
     "output_type": "stream",
     "text": [
      "C:\\Users\\User.MORADI-PC\\AppData\\Local\\Temp\\ipykernel_10576\\349924479.py:31: FutureWarning: Support for multi-dimensional indexing (e.g. `obj[:, None]`) is deprecated and will be removed in a future version.  Convert to a numpy array before indexing instead.\n",
      "  mse_tpr=xgboost_reg_error(X_datacut[X_datacut.columns[a][0]].values,Y_datacut,testSize)\n"
     ]
    },
    {
     "name": "stdout",
     "output_type": "stream",
     "text": [
      "11\n",
      "----------------------------------------------------------------------------\n"
     ]
    },
    {
     "name": "stderr",
     "output_type": "stream",
     "text": [
      "C:\\Users\\User.MORADI-PC\\AppData\\Local\\Temp\\ipykernel_10576\\349924479.py:31: FutureWarning: Support for multi-dimensional indexing (e.g. `obj[:, None]`) is deprecated and will be removed in a future version.  Convert to a numpy array before indexing instead.\n",
      "  mse_tpr=xgboost_reg_error(X_datacut[X_datacut.columns[a][0]].values,Y_datacut,testSize)\n"
     ]
    },
    {
     "name": "stdout",
     "output_type": "stream",
     "text": [
      "12\n",
      "----------------------------------------------------------------------------\n"
     ]
    },
    {
     "name": "stderr",
     "output_type": "stream",
     "text": [
      "C:\\Users\\User.MORADI-PC\\AppData\\Local\\Temp\\ipykernel_10576\\349924479.py:31: FutureWarning: Support for multi-dimensional indexing (e.g. `obj[:, None]`) is deprecated and will be removed in a future version.  Convert to a numpy array before indexing instead.\n",
      "  mse_tpr=xgboost_reg_error(X_datacut[X_datacut.columns[a][0]].values,Y_datacut,testSize)\n"
     ]
    },
    {
     "name": "stdout",
     "output_type": "stream",
     "text": [
      "13\n",
      "----------------------------------------------------------------------------\n"
     ]
    },
    {
     "name": "stderr",
     "output_type": "stream",
     "text": [
      "C:\\Users\\User.MORADI-PC\\AppData\\Local\\Temp\\ipykernel_10576\\349924479.py:31: FutureWarning: Support for multi-dimensional indexing (e.g. `obj[:, None]`) is deprecated and will be removed in a future version.  Convert to a numpy array before indexing instead.\n",
      "  mse_tpr=xgboost_reg_error(X_datacut[X_datacut.columns[a][0]].values,Y_datacut,testSize)\n"
     ]
    },
    {
     "name": "stdout",
     "output_type": "stream",
     "text": [
      "14\n",
      "----------------------------------------------------------------------------\n"
     ]
    },
    {
     "name": "stderr",
     "output_type": "stream",
     "text": [
      "C:\\Users\\User.MORADI-PC\\AppData\\Local\\Temp\\ipykernel_10576\\349924479.py:31: FutureWarning: Support for multi-dimensional indexing (e.g. `obj[:, None]`) is deprecated and will be removed in a future version.  Convert to a numpy array before indexing instead.\n",
      "  mse_tpr=xgboost_reg_error(X_datacut[X_datacut.columns[a][0]].values,Y_datacut,testSize)\n"
     ]
    },
    {
     "name": "stdout",
     "output_type": "stream",
     "text": [
      "15\n",
      "----------------------------------------------------------------------------\n"
     ]
    },
    {
     "name": "stderr",
     "output_type": "stream",
     "text": [
      "C:\\Users\\User.MORADI-PC\\AppData\\Local\\Temp\\ipykernel_10576\\349924479.py:31: FutureWarning: Support for multi-dimensional indexing (e.g. `obj[:, None]`) is deprecated and will be removed in a future version.  Convert to a numpy array before indexing instead.\n",
      "  mse_tpr=xgboost_reg_error(X_datacut[X_datacut.columns[a][0]].values,Y_datacut,testSize)\n"
     ]
    },
    {
     "name": "stdout",
     "output_type": "stream",
     "text": [
      "16\n",
      "----------------------------------------------------------------------------\n"
     ]
    },
    {
     "name": "stderr",
     "output_type": "stream",
     "text": [
      "C:\\Users\\User.MORADI-PC\\AppData\\Local\\Temp\\ipykernel_10576\\349924479.py:31: FutureWarning: Support for multi-dimensional indexing (e.g. `obj[:, None]`) is deprecated and will be removed in a future version.  Convert to a numpy array before indexing instead.\n",
      "  mse_tpr=xgboost_reg_error(X_datacut[X_datacut.columns[a][0]].values,Y_datacut,testSize)\n"
     ]
    },
    {
     "name": "stdout",
     "output_type": "stream",
     "text": [
      "17\n",
      "----------------------------------------------------------------------------\n"
     ]
    },
    {
     "name": "stderr",
     "output_type": "stream",
     "text": [
      "C:\\Users\\User.MORADI-PC\\AppData\\Local\\Temp\\ipykernel_10576\\349924479.py:31: FutureWarning: Support for multi-dimensional indexing (e.g. `obj[:, None]`) is deprecated and will be removed in a future version.  Convert to a numpy array before indexing instead.\n",
      "  mse_tpr=xgboost_reg_error(X_datacut[X_datacut.columns[a][0]].values,Y_datacut,testSize)\n"
     ]
    },
    {
     "name": "stdout",
     "output_type": "stream",
     "text": [
      "18\n",
      "----------------------------------------------------------------------------\n"
     ]
    },
    {
     "name": "stderr",
     "output_type": "stream",
     "text": [
      "C:\\Users\\User.MORADI-PC\\AppData\\Local\\Temp\\ipykernel_10576\\349924479.py:31: FutureWarning: Support for multi-dimensional indexing (e.g. `obj[:, None]`) is deprecated and will be removed in a future version.  Convert to a numpy array before indexing instead.\n",
      "  mse_tpr=xgboost_reg_error(X_datacut[X_datacut.columns[a][0]].values,Y_datacut,testSize)\n"
     ]
    },
    {
     "name": "stdout",
     "output_type": "stream",
     "text": [
      "19\n",
      "----------------------------------------------------------------------------\n"
     ]
    },
    {
     "name": "stderr",
     "output_type": "stream",
     "text": [
      "C:\\Users\\User.MORADI-PC\\AppData\\Local\\Temp\\ipykernel_10576\\349924479.py:31: FutureWarning: Support for multi-dimensional indexing (e.g. `obj[:, None]`) is deprecated and will be removed in a future version.  Convert to a numpy array before indexing instead.\n",
      "  mse_tpr=xgboost_reg_error(X_datacut[X_datacut.columns[a][0]].values,Y_datacut,testSize)\n"
     ]
    },
    {
     "name": "stdout",
     "output_type": "stream",
     "text": [
      "20\n",
      "----------------------------------------------------------------------------\n"
     ]
    },
    {
     "name": "stderr",
     "output_type": "stream",
     "text": [
      "C:\\Users\\User.MORADI-PC\\AppData\\Local\\Temp\\ipykernel_10576\\349924479.py:31: FutureWarning: Support for multi-dimensional indexing (e.g. `obj[:, None]`) is deprecated and will be removed in a future version.  Convert to a numpy array before indexing instead.\n",
      "  mse_tpr=xgboost_reg_error(X_datacut[X_datacut.columns[a][0]].values,Y_datacut,testSize)\n"
     ]
    },
    {
     "name": "stdout",
     "output_type": "stream",
     "text": [
      "21\n",
      "----------------------------------------------------------------------------\n"
     ]
    },
    {
     "name": "stderr",
     "output_type": "stream",
     "text": [
      "C:\\Users\\User.MORADI-PC\\AppData\\Local\\Temp\\ipykernel_10576\\349924479.py:31: FutureWarning: Support for multi-dimensional indexing (e.g. `obj[:, None]`) is deprecated and will be removed in a future version.  Convert to a numpy array before indexing instead.\n",
      "  mse_tpr=xgboost_reg_error(X_datacut[X_datacut.columns[a][0]].values,Y_datacut,testSize)\n"
     ]
    },
    {
     "name": "stdout",
     "output_type": "stream",
     "text": [
      "22\n",
      "----------------------------------------------------------------------------\n"
     ]
    },
    {
     "name": "stderr",
     "output_type": "stream",
     "text": [
      "C:\\Users\\User.MORADI-PC\\AppData\\Local\\Temp\\ipykernel_10576\\349924479.py:31: FutureWarning: Support for multi-dimensional indexing (e.g. `obj[:, None]`) is deprecated and will be removed in a future version.  Convert to a numpy array before indexing instead.\n",
      "  mse_tpr=xgboost_reg_error(X_datacut[X_datacut.columns[a][0]].values,Y_datacut,testSize)\n"
     ]
    },
    {
     "name": "stdout",
     "output_type": "stream",
     "text": [
      "0\n",
      "----------------------------------------------------------------------------\n"
     ]
    },
    {
     "name": "stderr",
     "output_type": "stream",
     "text": [
      "C:\\Users\\User.MORADI-PC\\AppData\\Local\\Temp\\ipykernel_10576\\349924479.py:31: FutureWarning: Support for multi-dimensional indexing (e.g. `obj[:, None]`) is deprecated and will be removed in a future version.  Convert to a numpy array before indexing instead.\n",
      "  mse_tpr=xgboost_reg_error(X_datacut[X_datacut.columns[a][0]].values,Y_datacut,testSize)\n"
     ]
    },
    {
     "name": "stdout",
     "output_type": "stream",
     "text": [
      "1\n",
      "----------------------------------------------------------------------------\n"
     ]
    },
    {
     "name": "stderr",
     "output_type": "stream",
     "text": [
      "C:\\Users\\User.MORADI-PC\\AppData\\Local\\Temp\\ipykernel_10576\\349924479.py:31: FutureWarning: Support for multi-dimensional indexing (e.g. `obj[:, None]`) is deprecated and will be removed in a future version.  Convert to a numpy array before indexing instead.\n",
      "  mse_tpr=xgboost_reg_error(X_datacut[X_datacut.columns[a][0]].values,Y_datacut,testSize)\n"
     ]
    },
    {
     "name": "stdout",
     "output_type": "stream",
     "text": [
      "2\n",
      "----------------------------------------------------------------------------\n"
     ]
    },
    {
     "name": "stderr",
     "output_type": "stream",
     "text": [
      "C:\\Users\\User.MORADI-PC\\AppData\\Local\\Temp\\ipykernel_10576\\349924479.py:31: FutureWarning: Support for multi-dimensional indexing (e.g. `obj[:, None]`) is deprecated and will be removed in a future version.  Convert to a numpy array before indexing instead.\n",
      "  mse_tpr=xgboost_reg_error(X_datacut[X_datacut.columns[a][0]].values,Y_datacut,testSize)\n"
     ]
    },
    {
     "name": "stdout",
     "output_type": "stream",
     "text": [
      "3\n",
      "----------------------------------------------------------------------------\n"
     ]
    },
    {
     "name": "stderr",
     "output_type": "stream",
     "text": [
      "C:\\Users\\User.MORADI-PC\\AppData\\Local\\Temp\\ipykernel_10576\\349924479.py:31: FutureWarning: Support for multi-dimensional indexing (e.g. `obj[:, None]`) is deprecated and will be removed in a future version.  Convert to a numpy array before indexing instead.\n",
      "  mse_tpr=xgboost_reg_error(X_datacut[X_datacut.columns[a][0]].values,Y_datacut,testSize)\n"
     ]
    },
    {
     "name": "stdout",
     "output_type": "stream",
     "text": [
      "4\n",
      "----------------------------------------------------------------------------\n"
     ]
    },
    {
     "name": "stderr",
     "output_type": "stream",
     "text": [
      "C:\\Users\\User.MORADI-PC\\AppData\\Local\\Temp\\ipykernel_10576\\349924479.py:31: FutureWarning: Support for multi-dimensional indexing (e.g. `obj[:, None]`) is deprecated and will be removed in a future version.  Convert to a numpy array before indexing instead.\n",
      "  mse_tpr=xgboost_reg_error(X_datacut[X_datacut.columns[a][0]].values,Y_datacut,testSize)\n"
     ]
    },
    {
     "name": "stdout",
     "output_type": "stream",
     "text": [
      "5\n",
      "----------------------------------------------------------------------------\n"
     ]
    },
    {
     "name": "stderr",
     "output_type": "stream",
     "text": [
      "C:\\Users\\User.MORADI-PC\\AppData\\Local\\Temp\\ipykernel_10576\\349924479.py:31: FutureWarning: Support for multi-dimensional indexing (e.g. `obj[:, None]`) is deprecated and will be removed in a future version.  Convert to a numpy array before indexing instead.\n",
      "  mse_tpr=xgboost_reg_error(X_datacut[X_datacut.columns[a][0]].values,Y_datacut,testSize)\n"
     ]
    },
    {
     "name": "stdout",
     "output_type": "stream",
     "text": [
      "6\n",
      "----------------------------------------------------------------------------\n"
     ]
    },
    {
     "name": "stderr",
     "output_type": "stream",
     "text": [
      "C:\\Users\\User.MORADI-PC\\AppData\\Local\\Temp\\ipykernel_10576\\349924479.py:31: FutureWarning: Support for multi-dimensional indexing (e.g. `obj[:, None]`) is deprecated and will be removed in a future version.  Convert to a numpy array before indexing instead.\n",
      "  mse_tpr=xgboost_reg_error(X_datacut[X_datacut.columns[a][0]].values,Y_datacut,testSize)\n"
     ]
    },
    {
     "name": "stdout",
     "output_type": "stream",
     "text": [
      "7\n",
      "----------------------------------------------------------------------------\n"
     ]
    },
    {
     "name": "stderr",
     "output_type": "stream",
     "text": [
      "C:\\Users\\User.MORADI-PC\\AppData\\Local\\Temp\\ipykernel_10576\\349924479.py:31: FutureWarning: Support for multi-dimensional indexing (e.g. `obj[:, None]`) is deprecated and will be removed in a future version.  Convert to a numpy array before indexing instead.\n",
      "  mse_tpr=xgboost_reg_error(X_datacut[X_datacut.columns[a][0]].values,Y_datacut,testSize)\n"
     ]
    },
    {
     "name": "stdout",
     "output_type": "stream",
     "text": [
      "8\n",
      "----------------------------------------------------------------------------\n"
     ]
    },
    {
     "name": "stderr",
     "output_type": "stream",
     "text": [
      "C:\\Users\\User.MORADI-PC\\AppData\\Local\\Temp\\ipykernel_10576\\349924479.py:31: FutureWarning: Support for multi-dimensional indexing (e.g. `obj[:, None]`) is deprecated and will be removed in a future version.  Convert to a numpy array before indexing instead.\n",
      "  mse_tpr=xgboost_reg_error(X_datacut[X_datacut.columns[a][0]].values,Y_datacut,testSize)\n"
     ]
    },
    {
     "name": "stdout",
     "output_type": "stream",
     "text": [
      "9\n",
      "----------------------------------------------------------------------------\n"
     ]
    },
    {
     "name": "stderr",
     "output_type": "stream",
     "text": [
      "C:\\Users\\User.MORADI-PC\\AppData\\Local\\Temp\\ipykernel_10576\\349924479.py:31: FutureWarning: Support for multi-dimensional indexing (e.g. `obj[:, None]`) is deprecated and will be removed in a future version.  Convert to a numpy array before indexing instead.\n",
      "  mse_tpr=xgboost_reg_error(X_datacut[X_datacut.columns[a][0]].values,Y_datacut,testSize)\n"
     ]
    },
    {
     "name": "stdout",
     "output_type": "stream",
     "text": [
      "10\n",
      "----------------------------------------------------------------------------\n"
     ]
    },
    {
     "name": "stderr",
     "output_type": "stream",
     "text": [
      "C:\\Users\\User.MORADI-PC\\AppData\\Local\\Temp\\ipykernel_10576\\349924479.py:31: FutureWarning: Support for multi-dimensional indexing (e.g. `obj[:, None]`) is deprecated and will be removed in a future version.  Convert to a numpy array before indexing instead.\n",
      "  mse_tpr=xgboost_reg_error(X_datacut[X_datacut.columns[a][0]].values,Y_datacut,testSize)\n"
     ]
    },
    {
     "name": "stdout",
     "output_type": "stream",
     "text": [
      "11\n",
      "----------------------------------------------------------------------------\n"
     ]
    },
    {
     "name": "stderr",
     "output_type": "stream",
     "text": [
      "C:\\Users\\User.MORADI-PC\\AppData\\Local\\Temp\\ipykernel_10576\\349924479.py:31: FutureWarning: Support for multi-dimensional indexing (e.g. `obj[:, None]`) is deprecated and will be removed in a future version.  Convert to a numpy array before indexing instead.\n",
      "  mse_tpr=xgboost_reg_error(X_datacut[X_datacut.columns[a][0]].values,Y_datacut,testSize)\n"
     ]
    },
    {
     "name": "stdout",
     "output_type": "stream",
     "text": [
      "12\n",
      "----------------------------------------------------------------------------\n"
     ]
    },
    {
     "name": "stderr",
     "output_type": "stream",
     "text": [
      "C:\\Users\\User.MORADI-PC\\AppData\\Local\\Temp\\ipykernel_10576\\349924479.py:31: FutureWarning: Support for multi-dimensional indexing (e.g. `obj[:, None]`) is deprecated and will be removed in a future version.  Convert to a numpy array before indexing instead.\n",
      "  mse_tpr=xgboost_reg_error(X_datacut[X_datacut.columns[a][0]].values,Y_datacut,testSize)\n"
     ]
    },
    {
     "name": "stdout",
     "output_type": "stream",
     "text": [
      "13\n",
      "----------------------------------------------------------------------------\n"
     ]
    },
    {
     "name": "stderr",
     "output_type": "stream",
     "text": [
      "C:\\Users\\User.MORADI-PC\\AppData\\Local\\Temp\\ipykernel_10576\\349924479.py:31: FutureWarning: Support for multi-dimensional indexing (e.g. `obj[:, None]`) is deprecated and will be removed in a future version.  Convert to a numpy array before indexing instead.\n",
      "  mse_tpr=xgboost_reg_error(X_datacut[X_datacut.columns[a][0]].values,Y_datacut,testSize)\n"
     ]
    },
    {
     "name": "stdout",
     "output_type": "stream",
     "text": [
      "14\n",
      "----------------------------------------------------------------------------\n"
     ]
    },
    {
     "name": "stderr",
     "output_type": "stream",
     "text": [
      "C:\\Users\\User.MORADI-PC\\AppData\\Local\\Temp\\ipykernel_10576\\349924479.py:31: FutureWarning: Support for multi-dimensional indexing (e.g. `obj[:, None]`) is deprecated and will be removed in a future version.  Convert to a numpy array before indexing instead.\n",
      "  mse_tpr=xgboost_reg_error(X_datacut[X_datacut.columns[a][0]].values,Y_datacut,testSize)\n"
     ]
    },
    {
     "name": "stdout",
     "output_type": "stream",
     "text": [
      "15\n",
      "----------------------------------------------------------------------------\n"
     ]
    },
    {
     "name": "stderr",
     "output_type": "stream",
     "text": [
      "C:\\Users\\User.MORADI-PC\\AppData\\Local\\Temp\\ipykernel_10576\\349924479.py:31: FutureWarning: Support for multi-dimensional indexing (e.g. `obj[:, None]`) is deprecated and will be removed in a future version.  Convert to a numpy array before indexing instead.\n",
      "  mse_tpr=xgboost_reg_error(X_datacut[X_datacut.columns[a][0]].values,Y_datacut,testSize)\n"
     ]
    },
    {
     "name": "stdout",
     "output_type": "stream",
     "text": [
      "16\n",
      "----------------------------------------------------------------------------\n"
     ]
    },
    {
     "name": "stderr",
     "output_type": "stream",
     "text": [
      "C:\\Users\\User.MORADI-PC\\AppData\\Local\\Temp\\ipykernel_10576\\349924479.py:31: FutureWarning: Support for multi-dimensional indexing (e.g. `obj[:, None]`) is deprecated and will be removed in a future version.  Convert to a numpy array before indexing instead.\n",
      "  mse_tpr=xgboost_reg_error(X_datacut[X_datacut.columns[a][0]].values,Y_datacut,testSize)\n"
     ]
    },
    {
     "name": "stdout",
     "output_type": "stream",
     "text": [
      "17\n",
      "----------------------------------------------------------------------------\n"
     ]
    },
    {
     "name": "stderr",
     "output_type": "stream",
     "text": [
      "C:\\Users\\User.MORADI-PC\\AppData\\Local\\Temp\\ipykernel_10576\\349924479.py:31: FutureWarning: Support for multi-dimensional indexing (e.g. `obj[:, None]`) is deprecated and will be removed in a future version.  Convert to a numpy array before indexing instead.\n",
      "  mse_tpr=xgboost_reg_error(X_datacut[X_datacut.columns[a][0]].values,Y_datacut,testSize)\n"
     ]
    },
    {
     "name": "stdout",
     "output_type": "stream",
     "text": [
      "18\n",
      "----------------------------------------------------------------------------\n"
     ]
    },
    {
     "name": "stderr",
     "output_type": "stream",
     "text": [
      "C:\\Users\\User.MORADI-PC\\AppData\\Local\\Temp\\ipykernel_10576\\349924479.py:31: FutureWarning: Support for multi-dimensional indexing (e.g. `obj[:, None]`) is deprecated and will be removed in a future version.  Convert to a numpy array before indexing instead.\n",
      "  mse_tpr=xgboost_reg_error(X_datacut[X_datacut.columns[a][0]].values,Y_datacut,testSize)\n"
     ]
    },
    {
     "name": "stdout",
     "output_type": "stream",
     "text": [
      "19\n",
      "----------------------------------------------------------------------------\n"
     ]
    },
    {
     "name": "stderr",
     "output_type": "stream",
     "text": [
      "C:\\Users\\User.MORADI-PC\\AppData\\Local\\Temp\\ipykernel_10576\\349924479.py:31: FutureWarning: Support for multi-dimensional indexing (e.g. `obj[:, None]`) is deprecated and will be removed in a future version.  Convert to a numpy array before indexing instead.\n",
      "  mse_tpr=xgboost_reg_error(X_datacut[X_datacut.columns[a][0]].values,Y_datacut,testSize)\n"
     ]
    },
    {
     "name": "stdout",
     "output_type": "stream",
     "text": [
      "20\n",
      "----------------------------------------------------------------------------\n"
     ]
    },
    {
     "name": "stderr",
     "output_type": "stream",
     "text": [
      "C:\\Users\\User.MORADI-PC\\AppData\\Local\\Temp\\ipykernel_10576\\349924479.py:31: FutureWarning: Support for multi-dimensional indexing (e.g. `obj[:, None]`) is deprecated and will be removed in a future version.  Convert to a numpy array before indexing instead.\n",
      "  mse_tpr=xgboost_reg_error(X_datacut[X_datacut.columns[a][0]].values,Y_datacut,testSize)\n"
     ]
    },
    {
     "name": "stdout",
     "output_type": "stream",
     "text": [
      "21\n",
      "----------------------------------------------------------------------------\n"
     ]
    },
    {
     "name": "stderr",
     "output_type": "stream",
     "text": [
      "C:\\Users\\User.MORADI-PC\\AppData\\Local\\Temp\\ipykernel_10576\\349924479.py:31: FutureWarning: Support for multi-dimensional indexing (e.g. `obj[:, None]`) is deprecated and will be removed in a future version.  Convert to a numpy array before indexing instead.\n",
      "  mse_tpr=xgboost_reg_error(X_datacut[X_datacut.columns[a][0]].values,Y_datacut,testSize)\n"
     ]
    },
    {
     "name": "stdout",
     "output_type": "stream",
     "text": [
      "22\n",
      "----------------------------------------------------------------------------\n"
     ]
    },
    {
     "name": "stderr",
     "output_type": "stream",
     "text": [
      "C:\\Users\\User.MORADI-PC\\AppData\\Local\\Temp\\ipykernel_10576\\349924479.py:31: FutureWarning: Support for multi-dimensional indexing (e.g. `obj[:, None]`) is deprecated and will be removed in a future version.  Convert to a numpy array before indexing instead.\n",
      "  mse_tpr=xgboost_reg_error(X_datacut[X_datacut.columns[a][0]].values,Y_datacut,testSize)\n"
     ]
    },
    {
     "name": "stdout",
     "output_type": "stream",
     "text": [
      "0\n",
      "----------------------------------------------------------------------------\n"
     ]
    },
    {
     "name": "stderr",
     "output_type": "stream",
     "text": [
      "C:\\Users\\User.MORADI-PC\\AppData\\Local\\Temp\\ipykernel_10576\\349924479.py:31: FutureWarning: Support for multi-dimensional indexing (e.g. `obj[:, None]`) is deprecated and will be removed in a future version.  Convert to a numpy array before indexing instead.\n",
      "  mse_tpr=xgboost_reg_error(X_datacut[X_datacut.columns[a][0]].values,Y_datacut,testSize)\n"
     ]
    },
    {
     "name": "stdout",
     "output_type": "stream",
     "text": [
      "1\n",
      "----------------------------------------------------------------------------\n"
     ]
    },
    {
     "name": "stderr",
     "output_type": "stream",
     "text": [
      "C:\\Users\\User.MORADI-PC\\AppData\\Local\\Temp\\ipykernel_10576\\349924479.py:31: FutureWarning: Support for multi-dimensional indexing (e.g. `obj[:, None]`) is deprecated and will be removed in a future version.  Convert to a numpy array before indexing instead.\n",
      "  mse_tpr=xgboost_reg_error(X_datacut[X_datacut.columns[a][0]].values,Y_datacut,testSize)\n"
     ]
    },
    {
     "name": "stdout",
     "output_type": "stream",
     "text": [
      "2\n",
      "----------------------------------------------------------------------------\n"
     ]
    },
    {
     "name": "stderr",
     "output_type": "stream",
     "text": [
      "C:\\Users\\User.MORADI-PC\\AppData\\Local\\Temp\\ipykernel_10576\\349924479.py:31: FutureWarning: Support for multi-dimensional indexing (e.g. `obj[:, None]`) is deprecated and will be removed in a future version.  Convert to a numpy array before indexing instead.\n",
      "  mse_tpr=xgboost_reg_error(X_datacut[X_datacut.columns[a][0]].values,Y_datacut,testSize)\n"
     ]
    },
    {
     "name": "stdout",
     "output_type": "stream",
     "text": [
      "3\n",
      "----------------------------------------------------------------------------\n"
     ]
    },
    {
     "name": "stderr",
     "output_type": "stream",
     "text": [
      "C:\\Users\\User.MORADI-PC\\AppData\\Local\\Temp\\ipykernel_10576\\349924479.py:31: FutureWarning: Support for multi-dimensional indexing (e.g. `obj[:, None]`) is deprecated and will be removed in a future version.  Convert to a numpy array before indexing instead.\n",
      "  mse_tpr=xgboost_reg_error(X_datacut[X_datacut.columns[a][0]].values,Y_datacut,testSize)\n"
     ]
    },
    {
     "name": "stdout",
     "output_type": "stream",
     "text": [
      "4\n",
      "----------------------------------------------------------------------------\n"
     ]
    },
    {
     "name": "stderr",
     "output_type": "stream",
     "text": [
      "C:\\Users\\User.MORADI-PC\\AppData\\Local\\Temp\\ipykernel_10576\\349924479.py:31: FutureWarning: Support for multi-dimensional indexing (e.g. `obj[:, None]`) is deprecated and will be removed in a future version.  Convert to a numpy array before indexing instead.\n",
      "  mse_tpr=xgboost_reg_error(X_datacut[X_datacut.columns[a][0]].values,Y_datacut,testSize)\n"
     ]
    },
    {
     "name": "stdout",
     "output_type": "stream",
     "text": [
      "5\n",
      "----------------------------------------------------------------------------\n"
     ]
    },
    {
     "name": "stderr",
     "output_type": "stream",
     "text": [
      "C:\\Users\\User.MORADI-PC\\AppData\\Local\\Temp\\ipykernel_10576\\349924479.py:31: FutureWarning: Support for multi-dimensional indexing (e.g. `obj[:, None]`) is deprecated and will be removed in a future version.  Convert to a numpy array before indexing instead.\n",
      "  mse_tpr=xgboost_reg_error(X_datacut[X_datacut.columns[a][0]].values,Y_datacut,testSize)\n"
     ]
    },
    {
     "name": "stdout",
     "output_type": "stream",
     "text": [
      "6\n",
      "----------------------------------------------------------------------------\n"
     ]
    },
    {
     "name": "stderr",
     "output_type": "stream",
     "text": [
      "C:\\Users\\User.MORADI-PC\\AppData\\Local\\Temp\\ipykernel_10576\\349924479.py:31: FutureWarning: Support for multi-dimensional indexing (e.g. `obj[:, None]`) is deprecated and will be removed in a future version.  Convert to a numpy array before indexing instead.\n",
      "  mse_tpr=xgboost_reg_error(X_datacut[X_datacut.columns[a][0]].values,Y_datacut,testSize)\n"
     ]
    },
    {
     "name": "stdout",
     "output_type": "stream",
     "text": [
      "7\n",
      "----------------------------------------------------------------------------\n"
     ]
    },
    {
     "name": "stderr",
     "output_type": "stream",
     "text": [
      "C:\\Users\\User.MORADI-PC\\AppData\\Local\\Temp\\ipykernel_10576\\349924479.py:31: FutureWarning: Support for multi-dimensional indexing (e.g. `obj[:, None]`) is deprecated and will be removed in a future version.  Convert to a numpy array before indexing instead.\n",
      "  mse_tpr=xgboost_reg_error(X_datacut[X_datacut.columns[a][0]].values,Y_datacut,testSize)\n"
     ]
    },
    {
     "name": "stdout",
     "output_type": "stream",
     "text": [
      "8\n",
      "----------------------------------------------------------------------------\n"
     ]
    },
    {
     "name": "stderr",
     "output_type": "stream",
     "text": [
      "C:\\Users\\User.MORADI-PC\\AppData\\Local\\Temp\\ipykernel_10576\\349924479.py:31: FutureWarning: Support for multi-dimensional indexing (e.g. `obj[:, None]`) is deprecated and will be removed in a future version.  Convert to a numpy array before indexing instead.\n",
      "  mse_tpr=xgboost_reg_error(X_datacut[X_datacut.columns[a][0]].values,Y_datacut,testSize)\n"
     ]
    },
    {
     "name": "stdout",
     "output_type": "stream",
     "text": [
      "9\n",
      "----------------------------------------------------------------------------\n"
     ]
    },
    {
     "name": "stderr",
     "output_type": "stream",
     "text": [
      "C:\\Users\\User.MORADI-PC\\AppData\\Local\\Temp\\ipykernel_10576\\349924479.py:31: FutureWarning: Support for multi-dimensional indexing (e.g. `obj[:, None]`) is deprecated and will be removed in a future version.  Convert to a numpy array before indexing instead.\n",
      "  mse_tpr=xgboost_reg_error(X_datacut[X_datacut.columns[a][0]].values,Y_datacut,testSize)\n"
     ]
    },
    {
     "name": "stdout",
     "output_type": "stream",
     "text": [
      "10\n",
      "----------------------------------------------------------------------------\n"
     ]
    },
    {
     "name": "stderr",
     "output_type": "stream",
     "text": [
      "C:\\Users\\User.MORADI-PC\\AppData\\Local\\Temp\\ipykernel_10576\\349924479.py:31: FutureWarning: Support for multi-dimensional indexing (e.g. `obj[:, None]`) is deprecated and will be removed in a future version.  Convert to a numpy array before indexing instead.\n",
      "  mse_tpr=xgboost_reg_error(X_datacut[X_datacut.columns[a][0]].values,Y_datacut,testSize)\n"
     ]
    },
    {
     "name": "stdout",
     "output_type": "stream",
     "text": [
      "11\n",
      "----------------------------------------------------------------------------\n"
     ]
    },
    {
     "name": "stderr",
     "output_type": "stream",
     "text": [
      "C:\\Users\\User.MORADI-PC\\AppData\\Local\\Temp\\ipykernel_10576\\349924479.py:31: FutureWarning: Support for multi-dimensional indexing (e.g. `obj[:, None]`) is deprecated and will be removed in a future version.  Convert to a numpy array before indexing instead.\n",
      "  mse_tpr=xgboost_reg_error(X_datacut[X_datacut.columns[a][0]].values,Y_datacut,testSize)\n"
     ]
    },
    {
     "name": "stdout",
     "output_type": "stream",
     "text": [
      "12\n",
      "----------------------------------------------------------------------------\n"
     ]
    },
    {
     "name": "stderr",
     "output_type": "stream",
     "text": [
      "C:\\Users\\User.MORADI-PC\\AppData\\Local\\Temp\\ipykernel_10576\\349924479.py:31: FutureWarning: Support for multi-dimensional indexing (e.g. `obj[:, None]`) is deprecated and will be removed in a future version.  Convert to a numpy array before indexing instead.\n",
      "  mse_tpr=xgboost_reg_error(X_datacut[X_datacut.columns[a][0]].values,Y_datacut,testSize)\n"
     ]
    },
    {
     "name": "stdout",
     "output_type": "stream",
     "text": [
      "13\n",
      "----------------------------------------------------------------------------\n"
     ]
    },
    {
     "name": "stderr",
     "output_type": "stream",
     "text": [
      "C:\\Users\\User.MORADI-PC\\AppData\\Local\\Temp\\ipykernel_10576\\349924479.py:31: FutureWarning: Support for multi-dimensional indexing (e.g. `obj[:, None]`) is deprecated and will be removed in a future version.  Convert to a numpy array before indexing instead.\n",
      "  mse_tpr=xgboost_reg_error(X_datacut[X_datacut.columns[a][0]].values,Y_datacut,testSize)\n"
     ]
    },
    {
     "name": "stdout",
     "output_type": "stream",
     "text": [
      "14\n",
      "----------------------------------------------------------------------------\n"
     ]
    },
    {
     "name": "stderr",
     "output_type": "stream",
     "text": [
      "C:\\Users\\User.MORADI-PC\\AppData\\Local\\Temp\\ipykernel_10576\\349924479.py:31: FutureWarning: Support for multi-dimensional indexing (e.g. `obj[:, None]`) is deprecated and will be removed in a future version.  Convert to a numpy array before indexing instead.\n",
      "  mse_tpr=xgboost_reg_error(X_datacut[X_datacut.columns[a][0]].values,Y_datacut,testSize)\n"
     ]
    },
    {
     "name": "stdout",
     "output_type": "stream",
     "text": [
      "15\n",
      "----------------------------------------------------------------------------\n"
     ]
    },
    {
     "name": "stderr",
     "output_type": "stream",
     "text": [
      "C:\\Users\\User.MORADI-PC\\AppData\\Local\\Temp\\ipykernel_10576\\349924479.py:31: FutureWarning: Support for multi-dimensional indexing (e.g. `obj[:, None]`) is deprecated and will be removed in a future version.  Convert to a numpy array before indexing instead.\n",
      "  mse_tpr=xgboost_reg_error(X_datacut[X_datacut.columns[a][0]].values,Y_datacut,testSize)\n"
     ]
    },
    {
     "name": "stdout",
     "output_type": "stream",
     "text": [
      "16\n",
      "----------------------------------------------------------------------------\n"
     ]
    },
    {
     "name": "stderr",
     "output_type": "stream",
     "text": [
      "C:\\Users\\User.MORADI-PC\\AppData\\Local\\Temp\\ipykernel_10576\\349924479.py:31: FutureWarning: Support for multi-dimensional indexing (e.g. `obj[:, None]`) is deprecated and will be removed in a future version.  Convert to a numpy array before indexing instead.\n",
      "  mse_tpr=xgboost_reg_error(X_datacut[X_datacut.columns[a][0]].values,Y_datacut,testSize)\n"
     ]
    },
    {
     "name": "stdout",
     "output_type": "stream",
     "text": [
      "17\n",
      "----------------------------------------------------------------------------\n"
     ]
    },
    {
     "name": "stderr",
     "output_type": "stream",
     "text": [
      "C:\\Users\\User.MORADI-PC\\AppData\\Local\\Temp\\ipykernel_10576\\349924479.py:31: FutureWarning: Support for multi-dimensional indexing (e.g. `obj[:, None]`) is deprecated and will be removed in a future version.  Convert to a numpy array before indexing instead.\n",
      "  mse_tpr=xgboost_reg_error(X_datacut[X_datacut.columns[a][0]].values,Y_datacut,testSize)\n"
     ]
    },
    {
     "name": "stdout",
     "output_type": "stream",
     "text": [
      "18\n",
      "----------------------------------------------------------------------------\n"
     ]
    },
    {
     "name": "stderr",
     "output_type": "stream",
     "text": [
      "C:\\Users\\User.MORADI-PC\\AppData\\Local\\Temp\\ipykernel_10576\\349924479.py:31: FutureWarning: Support for multi-dimensional indexing (e.g. `obj[:, None]`) is deprecated and will be removed in a future version.  Convert to a numpy array before indexing instead.\n",
      "  mse_tpr=xgboost_reg_error(X_datacut[X_datacut.columns[a][0]].values,Y_datacut,testSize)\n"
     ]
    },
    {
     "name": "stdout",
     "output_type": "stream",
     "text": [
      "19\n",
      "----------------------------------------------------------------------------\n"
     ]
    },
    {
     "name": "stderr",
     "output_type": "stream",
     "text": [
      "C:\\Users\\User.MORADI-PC\\AppData\\Local\\Temp\\ipykernel_10576\\349924479.py:31: FutureWarning: Support for multi-dimensional indexing (e.g. `obj[:, None]`) is deprecated and will be removed in a future version.  Convert to a numpy array before indexing instead.\n",
      "  mse_tpr=xgboost_reg_error(X_datacut[X_datacut.columns[a][0]].values,Y_datacut,testSize)\n"
     ]
    },
    {
     "name": "stdout",
     "output_type": "stream",
     "text": [
      "20\n",
      "----------------------------------------------------------------------------\n"
     ]
    },
    {
     "name": "stderr",
     "output_type": "stream",
     "text": [
      "C:\\Users\\User.MORADI-PC\\AppData\\Local\\Temp\\ipykernel_10576\\349924479.py:31: FutureWarning: Support for multi-dimensional indexing (e.g. `obj[:, None]`) is deprecated and will be removed in a future version.  Convert to a numpy array before indexing instead.\n",
      "  mse_tpr=xgboost_reg_error(X_datacut[X_datacut.columns[a][0]].values,Y_datacut,testSize)\n"
     ]
    },
    {
     "name": "stdout",
     "output_type": "stream",
     "text": [
      "21\n",
      "----------------------------------------------------------------------------\n"
     ]
    },
    {
     "name": "stderr",
     "output_type": "stream",
     "text": [
      "C:\\Users\\User.MORADI-PC\\AppData\\Local\\Temp\\ipykernel_10576\\349924479.py:31: FutureWarning: Support for multi-dimensional indexing (e.g. `obj[:, None]`) is deprecated and will be removed in a future version.  Convert to a numpy array before indexing instead.\n",
      "  mse_tpr=xgboost_reg_error(X_datacut[X_datacut.columns[a][0]].values,Y_datacut,testSize)\n"
     ]
    },
    {
     "name": "stdout",
     "output_type": "stream",
     "text": [
      "22\n",
      "----------------------------------------------------------------------------\n"
     ]
    },
    {
     "name": "stderr",
     "output_type": "stream",
     "text": [
      "C:\\Users\\User.MORADI-PC\\AppData\\Local\\Temp\\ipykernel_10576\\349924479.py:31: FutureWarning: Support for multi-dimensional indexing (e.g. `obj[:, None]`) is deprecated and will be removed in a future version.  Convert to a numpy array before indexing instead.\n",
      "  mse_tpr=xgboost_reg_error(X_datacut[X_datacut.columns[a][0]].values,Y_datacut,testSize)\n"
     ]
    },
    {
     "name": "stdout",
     "output_type": "stream",
     "text": [
      "0\n",
      "----------------------------------------------------------------------------\n"
     ]
    },
    {
     "name": "stderr",
     "output_type": "stream",
     "text": [
      "C:\\Users\\User.MORADI-PC\\AppData\\Local\\Temp\\ipykernel_10576\\349924479.py:31: FutureWarning: Support for multi-dimensional indexing (e.g. `obj[:, None]`) is deprecated and will be removed in a future version.  Convert to a numpy array before indexing instead.\n",
      "  mse_tpr=xgboost_reg_error(X_datacut[X_datacut.columns[a][0]].values,Y_datacut,testSize)\n"
     ]
    },
    {
     "name": "stdout",
     "output_type": "stream",
     "text": [
      "1\n",
      "----------------------------------------------------------------------------\n"
     ]
    },
    {
     "name": "stderr",
     "output_type": "stream",
     "text": [
      "C:\\Users\\User.MORADI-PC\\AppData\\Local\\Temp\\ipykernel_10576\\349924479.py:31: FutureWarning: Support for multi-dimensional indexing (e.g. `obj[:, None]`) is deprecated and will be removed in a future version.  Convert to a numpy array before indexing instead.\n",
      "  mse_tpr=xgboost_reg_error(X_datacut[X_datacut.columns[a][0]].values,Y_datacut,testSize)\n"
     ]
    },
    {
     "name": "stdout",
     "output_type": "stream",
     "text": [
      "2\n",
      "----------------------------------------------------------------------------\n"
     ]
    },
    {
     "name": "stderr",
     "output_type": "stream",
     "text": [
      "C:\\Users\\User.MORADI-PC\\AppData\\Local\\Temp\\ipykernel_10576\\349924479.py:31: FutureWarning: Support for multi-dimensional indexing (e.g. `obj[:, None]`) is deprecated and will be removed in a future version.  Convert to a numpy array before indexing instead.\n",
      "  mse_tpr=xgboost_reg_error(X_datacut[X_datacut.columns[a][0]].values,Y_datacut,testSize)\n"
     ]
    },
    {
     "name": "stdout",
     "output_type": "stream",
     "text": [
      "3\n",
      "----------------------------------------------------------------------------\n"
     ]
    },
    {
     "name": "stderr",
     "output_type": "stream",
     "text": [
      "C:\\Users\\User.MORADI-PC\\AppData\\Local\\Temp\\ipykernel_10576\\349924479.py:31: FutureWarning: Support for multi-dimensional indexing (e.g. `obj[:, None]`) is deprecated and will be removed in a future version.  Convert to a numpy array before indexing instead.\n",
      "  mse_tpr=xgboost_reg_error(X_datacut[X_datacut.columns[a][0]].values,Y_datacut,testSize)\n"
     ]
    },
    {
     "name": "stdout",
     "output_type": "stream",
     "text": [
      "4\n",
      "----------------------------------------------------------------------------\n"
     ]
    },
    {
     "name": "stderr",
     "output_type": "stream",
     "text": [
      "C:\\Users\\User.MORADI-PC\\AppData\\Local\\Temp\\ipykernel_10576\\349924479.py:31: FutureWarning: Support for multi-dimensional indexing (e.g. `obj[:, None]`) is deprecated and will be removed in a future version.  Convert to a numpy array before indexing instead.\n",
      "  mse_tpr=xgboost_reg_error(X_datacut[X_datacut.columns[a][0]].values,Y_datacut,testSize)\n"
     ]
    },
    {
     "name": "stdout",
     "output_type": "stream",
     "text": [
      "5\n",
      "----------------------------------------------------------------------------\n"
     ]
    },
    {
     "name": "stderr",
     "output_type": "stream",
     "text": [
      "C:\\Users\\User.MORADI-PC\\AppData\\Local\\Temp\\ipykernel_10576\\349924479.py:31: FutureWarning: Support for multi-dimensional indexing (e.g. `obj[:, None]`) is deprecated and will be removed in a future version.  Convert to a numpy array before indexing instead.\n",
      "  mse_tpr=xgboost_reg_error(X_datacut[X_datacut.columns[a][0]].values,Y_datacut,testSize)\n"
     ]
    },
    {
     "name": "stdout",
     "output_type": "stream",
     "text": [
      "6\n",
      "----------------------------------------------------------------------------\n"
     ]
    },
    {
     "name": "stderr",
     "output_type": "stream",
     "text": [
      "C:\\Users\\User.MORADI-PC\\AppData\\Local\\Temp\\ipykernel_10576\\349924479.py:31: FutureWarning: Support for multi-dimensional indexing (e.g. `obj[:, None]`) is deprecated and will be removed in a future version.  Convert to a numpy array before indexing instead.\n",
      "  mse_tpr=xgboost_reg_error(X_datacut[X_datacut.columns[a][0]].values,Y_datacut,testSize)\n"
     ]
    },
    {
     "name": "stdout",
     "output_type": "stream",
     "text": [
      "7\n",
      "----------------------------------------------------------------------------\n"
     ]
    },
    {
     "name": "stderr",
     "output_type": "stream",
     "text": [
      "C:\\Users\\User.MORADI-PC\\AppData\\Local\\Temp\\ipykernel_10576\\349924479.py:31: FutureWarning: Support for multi-dimensional indexing (e.g. `obj[:, None]`) is deprecated and will be removed in a future version.  Convert to a numpy array before indexing instead.\n",
      "  mse_tpr=xgboost_reg_error(X_datacut[X_datacut.columns[a][0]].values,Y_datacut,testSize)\n"
     ]
    },
    {
     "name": "stdout",
     "output_type": "stream",
     "text": [
      "8\n",
      "----------------------------------------------------------------------------\n"
     ]
    },
    {
     "name": "stderr",
     "output_type": "stream",
     "text": [
      "C:\\Users\\User.MORADI-PC\\AppData\\Local\\Temp\\ipykernel_10576\\349924479.py:31: FutureWarning: Support for multi-dimensional indexing (e.g. `obj[:, None]`) is deprecated and will be removed in a future version.  Convert to a numpy array before indexing instead.\n",
      "  mse_tpr=xgboost_reg_error(X_datacut[X_datacut.columns[a][0]].values,Y_datacut,testSize)\n"
     ]
    },
    {
     "name": "stdout",
     "output_type": "stream",
     "text": [
      "9\n",
      "----------------------------------------------------------------------------\n"
     ]
    },
    {
     "name": "stderr",
     "output_type": "stream",
     "text": [
      "C:\\Users\\User.MORADI-PC\\AppData\\Local\\Temp\\ipykernel_10576\\349924479.py:31: FutureWarning: Support for multi-dimensional indexing (e.g. `obj[:, None]`) is deprecated and will be removed in a future version.  Convert to a numpy array before indexing instead.\n",
      "  mse_tpr=xgboost_reg_error(X_datacut[X_datacut.columns[a][0]].values,Y_datacut,testSize)\n"
     ]
    },
    {
     "name": "stdout",
     "output_type": "stream",
     "text": [
      "10\n",
      "----------------------------------------------------------------------------\n"
     ]
    },
    {
     "name": "stderr",
     "output_type": "stream",
     "text": [
      "C:\\Users\\User.MORADI-PC\\AppData\\Local\\Temp\\ipykernel_10576\\349924479.py:31: FutureWarning: Support for multi-dimensional indexing (e.g. `obj[:, None]`) is deprecated and will be removed in a future version.  Convert to a numpy array before indexing instead.\n",
      "  mse_tpr=xgboost_reg_error(X_datacut[X_datacut.columns[a][0]].values,Y_datacut,testSize)\n"
     ]
    },
    {
     "name": "stdout",
     "output_type": "stream",
     "text": [
      "11\n",
      "----------------------------------------------------------------------------\n"
     ]
    },
    {
     "name": "stderr",
     "output_type": "stream",
     "text": [
      "C:\\Users\\User.MORADI-PC\\AppData\\Local\\Temp\\ipykernel_10576\\349924479.py:31: FutureWarning: Support for multi-dimensional indexing (e.g. `obj[:, None]`) is deprecated and will be removed in a future version.  Convert to a numpy array before indexing instead.\n",
      "  mse_tpr=xgboost_reg_error(X_datacut[X_datacut.columns[a][0]].values,Y_datacut,testSize)\n"
     ]
    },
    {
     "name": "stdout",
     "output_type": "stream",
     "text": [
      "12\n",
      "----------------------------------------------------------------------------\n"
     ]
    },
    {
     "name": "stderr",
     "output_type": "stream",
     "text": [
      "C:\\Users\\User.MORADI-PC\\AppData\\Local\\Temp\\ipykernel_10576\\349924479.py:31: FutureWarning: Support for multi-dimensional indexing (e.g. `obj[:, None]`) is deprecated and will be removed in a future version.  Convert to a numpy array before indexing instead.\n",
      "  mse_tpr=xgboost_reg_error(X_datacut[X_datacut.columns[a][0]].values,Y_datacut,testSize)\n"
     ]
    },
    {
     "name": "stdout",
     "output_type": "stream",
     "text": [
      "13\n",
      "----------------------------------------------------------------------------\n"
     ]
    },
    {
     "name": "stderr",
     "output_type": "stream",
     "text": [
      "C:\\Users\\User.MORADI-PC\\AppData\\Local\\Temp\\ipykernel_10576\\349924479.py:31: FutureWarning: Support for multi-dimensional indexing (e.g. `obj[:, None]`) is deprecated and will be removed in a future version.  Convert to a numpy array before indexing instead.\n",
      "  mse_tpr=xgboost_reg_error(X_datacut[X_datacut.columns[a][0]].values,Y_datacut,testSize)\n"
     ]
    },
    {
     "name": "stdout",
     "output_type": "stream",
     "text": [
      "14\n",
      "----------------------------------------------------------------------------\n"
     ]
    },
    {
     "name": "stderr",
     "output_type": "stream",
     "text": [
      "C:\\Users\\User.MORADI-PC\\AppData\\Local\\Temp\\ipykernel_10576\\349924479.py:31: FutureWarning: Support for multi-dimensional indexing (e.g. `obj[:, None]`) is deprecated and will be removed in a future version.  Convert to a numpy array before indexing instead.\n",
      "  mse_tpr=xgboost_reg_error(X_datacut[X_datacut.columns[a][0]].values,Y_datacut,testSize)\n"
     ]
    },
    {
     "name": "stdout",
     "output_type": "stream",
     "text": [
      "15\n",
      "----------------------------------------------------------------------------\n"
     ]
    },
    {
     "name": "stderr",
     "output_type": "stream",
     "text": [
      "C:\\Users\\User.MORADI-PC\\AppData\\Local\\Temp\\ipykernel_10576\\349924479.py:31: FutureWarning: Support for multi-dimensional indexing (e.g. `obj[:, None]`) is deprecated and will be removed in a future version.  Convert to a numpy array before indexing instead.\n",
      "  mse_tpr=xgboost_reg_error(X_datacut[X_datacut.columns[a][0]].values,Y_datacut,testSize)\n"
     ]
    },
    {
     "name": "stdout",
     "output_type": "stream",
     "text": [
      "16\n",
      "----------------------------------------------------------------------------\n"
     ]
    },
    {
     "name": "stderr",
     "output_type": "stream",
     "text": [
      "C:\\Users\\User.MORADI-PC\\AppData\\Local\\Temp\\ipykernel_10576\\349924479.py:31: FutureWarning: Support for multi-dimensional indexing (e.g. `obj[:, None]`) is deprecated and will be removed in a future version.  Convert to a numpy array before indexing instead.\n",
      "  mse_tpr=xgboost_reg_error(X_datacut[X_datacut.columns[a][0]].values,Y_datacut,testSize)\n"
     ]
    },
    {
     "name": "stdout",
     "output_type": "stream",
     "text": [
      "17\n",
      "----------------------------------------------------------------------------\n"
     ]
    },
    {
     "name": "stderr",
     "output_type": "stream",
     "text": [
      "C:\\Users\\User.MORADI-PC\\AppData\\Local\\Temp\\ipykernel_10576\\349924479.py:31: FutureWarning: Support for multi-dimensional indexing (e.g. `obj[:, None]`) is deprecated and will be removed in a future version.  Convert to a numpy array before indexing instead.\n",
      "  mse_tpr=xgboost_reg_error(X_datacut[X_datacut.columns[a][0]].values,Y_datacut,testSize)\n"
     ]
    },
    {
     "name": "stdout",
     "output_type": "stream",
     "text": [
      "18\n",
      "----------------------------------------------------------------------------\n"
     ]
    },
    {
     "name": "stderr",
     "output_type": "stream",
     "text": [
      "C:\\Users\\User.MORADI-PC\\AppData\\Local\\Temp\\ipykernel_10576\\349924479.py:31: FutureWarning: Support for multi-dimensional indexing (e.g. `obj[:, None]`) is deprecated and will be removed in a future version.  Convert to a numpy array before indexing instead.\n",
      "  mse_tpr=xgboost_reg_error(X_datacut[X_datacut.columns[a][0]].values,Y_datacut,testSize)\n"
     ]
    },
    {
     "name": "stdout",
     "output_type": "stream",
     "text": [
      "19\n",
      "----------------------------------------------------------------------------\n"
     ]
    },
    {
     "name": "stderr",
     "output_type": "stream",
     "text": [
      "C:\\Users\\User.MORADI-PC\\AppData\\Local\\Temp\\ipykernel_10576\\349924479.py:31: FutureWarning: Support for multi-dimensional indexing (e.g. `obj[:, None]`) is deprecated and will be removed in a future version.  Convert to a numpy array before indexing instead.\n",
      "  mse_tpr=xgboost_reg_error(X_datacut[X_datacut.columns[a][0]].values,Y_datacut,testSize)\n"
     ]
    },
    {
     "name": "stdout",
     "output_type": "stream",
     "text": [
      "20\n",
      "----------------------------------------------------------------------------\n"
     ]
    },
    {
     "name": "stderr",
     "output_type": "stream",
     "text": [
      "C:\\Users\\User.MORADI-PC\\AppData\\Local\\Temp\\ipykernel_10576\\349924479.py:31: FutureWarning: Support for multi-dimensional indexing (e.g. `obj[:, None]`) is deprecated and will be removed in a future version.  Convert to a numpy array before indexing instead.\n",
      "  mse_tpr=xgboost_reg_error(X_datacut[X_datacut.columns[a][0]].values,Y_datacut,testSize)\n"
     ]
    },
    {
     "name": "stdout",
     "output_type": "stream",
     "text": [
      "21\n",
      "----------------------------------------------------------------------------\n"
     ]
    },
    {
     "name": "stderr",
     "output_type": "stream",
     "text": [
      "C:\\Users\\User.MORADI-PC\\AppData\\Local\\Temp\\ipykernel_10576\\349924479.py:31: FutureWarning: Support for multi-dimensional indexing (e.g. `obj[:, None]`) is deprecated and will be removed in a future version.  Convert to a numpy array before indexing instead.\n",
      "  mse_tpr=xgboost_reg_error(X_datacut[X_datacut.columns[a][0]].values,Y_datacut,testSize)\n"
     ]
    },
    {
     "name": "stdout",
     "output_type": "stream",
     "text": [
      "22\n",
      "----------------------------------------------------------------------------\n"
     ]
    },
    {
     "name": "stderr",
     "output_type": "stream",
     "text": [
      "C:\\Users\\User.MORADI-PC\\AppData\\Local\\Temp\\ipykernel_10576\\349924479.py:31: FutureWarning: Support for multi-dimensional indexing (e.g. `obj[:, None]`) is deprecated and will be removed in a future version.  Convert to a numpy array before indexing instead.\n",
      "  mse_tpr=xgboost_reg_error(X_datacut[X_datacut.columns[a][0]].values,Y_datacut,testSize)\n"
     ]
    },
    {
     "name": "stdout",
     "output_type": "stream",
     "text": [
      "0\n",
      "----------------------------------------------------------------------------\n"
     ]
    },
    {
     "name": "stderr",
     "output_type": "stream",
     "text": [
      "C:\\Users\\User.MORADI-PC\\AppData\\Local\\Temp\\ipykernel_10576\\349924479.py:31: FutureWarning: Support for multi-dimensional indexing (e.g. `obj[:, None]`) is deprecated and will be removed in a future version.  Convert to a numpy array before indexing instead.\n",
      "  mse_tpr=xgboost_reg_error(X_datacut[X_datacut.columns[a][0]].values,Y_datacut,testSize)\n"
     ]
    },
    {
     "name": "stdout",
     "output_type": "stream",
     "text": [
      "1\n",
      "----------------------------------------------------------------------------\n"
     ]
    },
    {
     "name": "stderr",
     "output_type": "stream",
     "text": [
      "C:\\Users\\User.MORADI-PC\\AppData\\Local\\Temp\\ipykernel_10576\\349924479.py:31: FutureWarning: Support for multi-dimensional indexing (e.g. `obj[:, None]`) is deprecated and will be removed in a future version.  Convert to a numpy array before indexing instead.\n",
      "  mse_tpr=xgboost_reg_error(X_datacut[X_datacut.columns[a][0]].values,Y_datacut,testSize)\n"
     ]
    },
    {
     "name": "stdout",
     "output_type": "stream",
     "text": [
      "2\n",
      "----------------------------------------------------------------------------\n"
     ]
    },
    {
     "name": "stderr",
     "output_type": "stream",
     "text": [
      "C:\\Users\\User.MORADI-PC\\AppData\\Local\\Temp\\ipykernel_10576\\349924479.py:31: FutureWarning: Support for multi-dimensional indexing (e.g. `obj[:, None]`) is deprecated and will be removed in a future version.  Convert to a numpy array before indexing instead.\n",
      "  mse_tpr=xgboost_reg_error(X_datacut[X_datacut.columns[a][0]].values,Y_datacut,testSize)\n"
     ]
    },
    {
     "name": "stdout",
     "output_type": "stream",
     "text": [
      "3\n",
      "----------------------------------------------------------------------------\n"
     ]
    },
    {
     "name": "stderr",
     "output_type": "stream",
     "text": [
      "C:\\Users\\User.MORADI-PC\\AppData\\Local\\Temp\\ipykernel_10576\\349924479.py:31: FutureWarning: Support for multi-dimensional indexing (e.g. `obj[:, None]`) is deprecated and will be removed in a future version.  Convert to a numpy array before indexing instead.\n",
      "  mse_tpr=xgboost_reg_error(X_datacut[X_datacut.columns[a][0]].values,Y_datacut,testSize)\n"
     ]
    },
    {
     "name": "stdout",
     "output_type": "stream",
     "text": [
      "4\n",
      "----------------------------------------------------------------------------\n"
     ]
    },
    {
     "name": "stderr",
     "output_type": "stream",
     "text": [
      "C:\\Users\\User.MORADI-PC\\AppData\\Local\\Temp\\ipykernel_10576\\349924479.py:31: FutureWarning: Support for multi-dimensional indexing (e.g. `obj[:, None]`) is deprecated and will be removed in a future version.  Convert to a numpy array before indexing instead.\n",
      "  mse_tpr=xgboost_reg_error(X_datacut[X_datacut.columns[a][0]].values,Y_datacut,testSize)\n"
     ]
    },
    {
     "name": "stdout",
     "output_type": "stream",
     "text": [
      "5\n",
      "----------------------------------------------------------------------------\n"
     ]
    },
    {
     "name": "stderr",
     "output_type": "stream",
     "text": [
      "C:\\Users\\User.MORADI-PC\\AppData\\Local\\Temp\\ipykernel_10576\\349924479.py:31: FutureWarning: Support for multi-dimensional indexing (e.g. `obj[:, None]`) is deprecated and will be removed in a future version.  Convert to a numpy array before indexing instead.\n",
      "  mse_tpr=xgboost_reg_error(X_datacut[X_datacut.columns[a][0]].values,Y_datacut,testSize)\n"
     ]
    },
    {
     "name": "stdout",
     "output_type": "stream",
     "text": [
      "6\n",
      "----------------------------------------------------------------------------\n"
     ]
    },
    {
     "name": "stderr",
     "output_type": "stream",
     "text": [
      "C:\\Users\\User.MORADI-PC\\AppData\\Local\\Temp\\ipykernel_10576\\349924479.py:31: FutureWarning: Support for multi-dimensional indexing (e.g. `obj[:, None]`) is deprecated and will be removed in a future version.  Convert to a numpy array before indexing instead.\n",
      "  mse_tpr=xgboost_reg_error(X_datacut[X_datacut.columns[a][0]].values,Y_datacut,testSize)\n"
     ]
    },
    {
     "name": "stdout",
     "output_type": "stream",
     "text": [
      "7\n",
      "----------------------------------------------------------------------------\n"
     ]
    },
    {
     "name": "stderr",
     "output_type": "stream",
     "text": [
      "C:\\Users\\User.MORADI-PC\\AppData\\Local\\Temp\\ipykernel_10576\\349924479.py:31: FutureWarning: Support for multi-dimensional indexing (e.g. `obj[:, None]`) is deprecated and will be removed in a future version.  Convert to a numpy array before indexing instead.\n",
      "  mse_tpr=xgboost_reg_error(X_datacut[X_datacut.columns[a][0]].values,Y_datacut,testSize)\n"
     ]
    },
    {
     "name": "stdout",
     "output_type": "stream",
     "text": [
      "8\n",
      "----------------------------------------------------------------------------\n"
     ]
    },
    {
     "name": "stderr",
     "output_type": "stream",
     "text": [
      "C:\\Users\\User.MORADI-PC\\AppData\\Local\\Temp\\ipykernel_10576\\349924479.py:31: FutureWarning: Support for multi-dimensional indexing (e.g. `obj[:, None]`) is deprecated and will be removed in a future version.  Convert to a numpy array before indexing instead.\n",
      "  mse_tpr=xgboost_reg_error(X_datacut[X_datacut.columns[a][0]].values,Y_datacut,testSize)\n"
     ]
    },
    {
     "name": "stdout",
     "output_type": "stream",
     "text": [
      "9\n",
      "----------------------------------------------------------------------------\n"
     ]
    },
    {
     "name": "stderr",
     "output_type": "stream",
     "text": [
      "C:\\Users\\User.MORADI-PC\\AppData\\Local\\Temp\\ipykernel_10576\\349924479.py:31: FutureWarning: Support for multi-dimensional indexing (e.g. `obj[:, None]`) is deprecated and will be removed in a future version.  Convert to a numpy array before indexing instead.\n",
      "  mse_tpr=xgboost_reg_error(X_datacut[X_datacut.columns[a][0]].values,Y_datacut,testSize)\n"
     ]
    },
    {
     "name": "stdout",
     "output_type": "stream",
     "text": [
      "10\n",
      "----------------------------------------------------------------------------\n"
     ]
    },
    {
     "name": "stderr",
     "output_type": "stream",
     "text": [
      "C:\\Users\\User.MORADI-PC\\AppData\\Local\\Temp\\ipykernel_10576\\349924479.py:31: FutureWarning: Support for multi-dimensional indexing (e.g. `obj[:, None]`) is deprecated and will be removed in a future version.  Convert to a numpy array before indexing instead.\n",
      "  mse_tpr=xgboost_reg_error(X_datacut[X_datacut.columns[a][0]].values,Y_datacut,testSize)\n"
     ]
    },
    {
     "name": "stdout",
     "output_type": "stream",
     "text": [
      "11\n",
      "----------------------------------------------------------------------------\n"
     ]
    },
    {
     "name": "stderr",
     "output_type": "stream",
     "text": [
      "C:\\Users\\User.MORADI-PC\\AppData\\Local\\Temp\\ipykernel_10576\\349924479.py:31: FutureWarning: Support for multi-dimensional indexing (e.g. `obj[:, None]`) is deprecated and will be removed in a future version.  Convert to a numpy array before indexing instead.\n",
      "  mse_tpr=xgboost_reg_error(X_datacut[X_datacut.columns[a][0]].values,Y_datacut,testSize)\n"
     ]
    },
    {
     "name": "stdout",
     "output_type": "stream",
     "text": [
      "12\n",
      "----------------------------------------------------------------------------\n"
     ]
    },
    {
     "name": "stderr",
     "output_type": "stream",
     "text": [
      "C:\\Users\\User.MORADI-PC\\AppData\\Local\\Temp\\ipykernel_10576\\349924479.py:31: FutureWarning: Support for multi-dimensional indexing (e.g. `obj[:, None]`) is deprecated and will be removed in a future version.  Convert to a numpy array before indexing instead.\n",
      "  mse_tpr=xgboost_reg_error(X_datacut[X_datacut.columns[a][0]].values,Y_datacut,testSize)\n"
     ]
    },
    {
     "name": "stdout",
     "output_type": "stream",
     "text": [
      "13\n",
      "----------------------------------------------------------------------------\n"
     ]
    },
    {
     "name": "stderr",
     "output_type": "stream",
     "text": [
      "C:\\Users\\User.MORADI-PC\\AppData\\Local\\Temp\\ipykernel_10576\\349924479.py:31: FutureWarning: Support for multi-dimensional indexing (e.g. `obj[:, None]`) is deprecated and will be removed in a future version.  Convert to a numpy array before indexing instead.\n",
      "  mse_tpr=xgboost_reg_error(X_datacut[X_datacut.columns[a][0]].values,Y_datacut,testSize)\n"
     ]
    },
    {
     "name": "stdout",
     "output_type": "stream",
     "text": [
      "14\n",
      "----------------------------------------------------------------------------\n"
     ]
    },
    {
     "name": "stderr",
     "output_type": "stream",
     "text": [
      "C:\\Users\\User.MORADI-PC\\AppData\\Local\\Temp\\ipykernel_10576\\349924479.py:31: FutureWarning: Support for multi-dimensional indexing (e.g. `obj[:, None]`) is deprecated and will be removed in a future version.  Convert to a numpy array before indexing instead.\n",
      "  mse_tpr=xgboost_reg_error(X_datacut[X_datacut.columns[a][0]].values,Y_datacut,testSize)\n"
     ]
    },
    {
     "name": "stdout",
     "output_type": "stream",
     "text": [
      "15\n",
      "----------------------------------------------------------------------------\n"
     ]
    },
    {
     "name": "stderr",
     "output_type": "stream",
     "text": [
      "C:\\Users\\User.MORADI-PC\\AppData\\Local\\Temp\\ipykernel_10576\\349924479.py:31: FutureWarning: Support for multi-dimensional indexing (e.g. `obj[:, None]`) is deprecated and will be removed in a future version.  Convert to a numpy array before indexing instead.\n",
      "  mse_tpr=xgboost_reg_error(X_datacut[X_datacut.columns[a][0]].values,Y_datacut,testSize)\n"
     ]
    },
    {
     "name": "stdout",
     "output_type": "stream",
     "text": [
      "16\n",
      "----------------------------------------------------------------------------\n"
     ]
    },
    {
     "name": "stderr",
     "output_type": "stream",
     "text": [
      "C:\\Users\\User.MORADI-PC\\AppData\\Local\\Temp\\ipykernel_10576\\349924479.py:31: FutureWarning: Support for multi-dimensional indexing (e.g. `obj[:, None]`) is deprecated and will be removed in a future version.  Convert to a numpy array before indexing instead.\n",
      "  mse_tpr=xgboost_reg_error(X_datacut[X_datacut.columns[a][0]].values,Y_datacut,testSize)\n"
     ]
    },
    {
     "name": "stdout",
     "output_type": "stream",
     "text": [
      "17\n",
      "----------------------------------------------------------------------------\n"
     ]
    },
    {
     "name": "stderr",
     "output_type": "stream",
     "text": [
      "C:\\Users\\User.MORADI-PC\\AppData\\Local\\Temp\\ipykernel_10576\\349924479.py:31: FutureWarning: Support for multi-dimensional indexing (e.g. `obj[:, None]`) is deprecated and will be removed in a future version.  Convert to a numpy array before indexing instead.\n",
      "  mse_tpr=xgboost_reg_error(X_datacut[X_datacut.columns[a][0]].values,Y_datacut,testSize)\n"
     ]
    },
    {
     "name": "stdout",
     "output_type": "stream",
     "text": [
      "18\n",
      "----------------------------------------------------------------------------\n"
     ]
    },
    {
     "name": "stderr",
     "output_type": "stream",
     "text": [
      "C:\\Users\\User.MORADI-PC\\AppData\\Local\\Temp\\ipykernel_10576\\349924479.py:31: FutureWarning: Support for multi-dimensional indexing (e.g. `obj[:, None]`) is deprecated and will be removed in a future version.  Convert to a numpy array before indexing instead.\n",
      "  mse_tpr=xgboost_reg_error(X_datacut[X_datacut.columns[a][0]].values,Y_datacut,testSize)\n"
     ]
    },
    {
     "name": "stdout",
     "output_type": "stream",
     "text": [
      "19\n",
      "----------------------------------------------------------------------------\n"
     ]
    },
    {
     "name": "stderr",
     "output_type": "stream",
     "text": [
      "C:\\Users\\User.MORADI-PC\\AppData\\Local\\Temp\\ipykernel_10576\\349924479.py:31: FutureWarning: Support for multi-dimensional indexing (e.g. `obj[:, None]`) is deprecated and will be removed in a future version.  Convert to a numpy array before indexing instead.\n",
      "  mse_tpr=xgboost_reg_error(X_datacut[X_datacut.columns[a][0]].values,Y_datacut,testSize)\n"
     ]
    },
    {
     "name": "stdout",
     "output_type": "stream",
     "text": [
      "20\n",
      "----------------------------------------------------------------------------\n"
     ]
    },
    {
     "name": "stderr",
     "output_type": "stream",
     "text": [
      "C:\\Users\\User.MORADI-PC\\AppData\\Local\\Temp\\ipykernel_10576\\349924479.py:31: FutureWarning: Support for multi-dimensional indexing (e.g. `obj[:, None]`) is deprecated and will be removed in a future version.  Convert to a numpy array before indexing instead.\n",
      "  mse_tpr=xgboost_reg_error(X_datacut[X_datacut.columns[a][0]].values,Y_datacut,testSize)\n"
     ]
    },
    {
     "name": "stdout",
     "output_type": "stream",
     "text": [
      "21\n",
      "----------------------------------------------------------------------------\n"
     ]
    },
    {
     "name": "stderr",
     "output_type": "stream",
     "text": [
      "C:\\Users\\User.MORADI-PC\\AppData\\Local\\Temp\\ipykernel_10576\\349924479.py:31: FutureWarning: Support for multi-dimensional indexing (e.g. `obj[:, None]`) is deprecated and will be removed in a future version.  Convert to a numpy array before indexing instead.\n",
      "  mse_tpr=xgboost_reg_error(X_datacut[X_datacut.columns[a][0]].values,Y_datacut,testSize)\n",
      "C:\\Users\\User.MORADI-PC\\AppData\\Local\\Temp\\ipykernel_10576\\349924479.py:31: FutureWarning: Support for multi-dimensional indexing (e.g. `obj[:, None]`) is deprecated and will be removed in a future version.  Convert to a numpy array before indexing instead.\n",
      "  mse_tpr=xgboost_reg_error(X_datacut[X_datacut.columns[a][0]].values,Y_datacut,testSize)\n"
     ]
    },
    {
     "name": "stdout",
     "output_type": "stream",
     "text": [
      "22\n",
      "----------------------------------------------------------------------------\n",
      "0\n",
      "----------------------------------------------------------------------------\n"
     ]
    },
    {
     "name": "stderr",
     "output_type": "stream",
     "text": [
      "C:\\Users\\User.MORADI-PC\\AppData\\Local\\Temp\\ipykernel_10576\\349924479.py:31: FutureWarning: Support for multi-dimensional indexing (e.g. `obj[:, None]`) is deprecated and will be removed in a future version.  Convert to a numpy array before indexing instead.\n",
      "  mse_tpr=xgboost_reg_error(X_datacut[X_datacut.columns[a][0]].values,Y_datacut,testSize)\n",
      "C:\\Users\\User.MORADI-PC\\AppData\\Local\\Temp\\ipykernel_10576\\349924479.py:31: FutureWarning: Support for multi-dimensional indexing (e.g. `obj[:, None]`) is deprecated and will be removed in a future version.  Convert to a numpy array before indexing instead.\n",
      "  mse_tpr=xgboost_reg_error(X_datacut[X_datacut.columns[a][0]].values,Y_datacut,testSize)\n"
     ]
    },
    {
     "name": "stdout",
     "output_type": "stream",
     "text": [
      "1\n",
      "----------------------------------------------------------------------------\n",
      "2\n",
      "----------------------------------------------------------------------------\n"
     ]
    },
    {
     "name": "stderr",
     "output_type": "stream",
     "text": [
      "C:\\Users\\User.MORADI-PC\\AppData\\Local\\Temp\\ipykernel_10576\\349924479.py:31: FutureWarning: Support for multi-dimensional indexing (e.g. `obj[:, None]`) is deprecated and will be removed in a future version.  Convert to a numpy array before indexing instead.\n",
      "  mse_tpr=xgboost_reg_error(X_datacut[X_datacut.columns[a][0]].values,Y_datacut,testSize)\n"
     ]
    },
    {
     "name": "stdout",
     "output_type": "stream",
     "text": [
      "3\n",
      "----------------------------------------------------------------------------\n"
     ]
    },
    {
     "name": "stderr",
     "output_type": "stream",
     "text": [
      "C:\\Users\\User.MORADI-PC\\AppData\\Local\\Temp\\ipykernel_10576\\349924479.py:31: FutureWarning: Support for multi-dimensional indexing (e.g. `obj[:, None]`) is deprecated and will be removed in a future version.  Convert to a numpy array before indexing instead.\n",
      "  mse_tpr=xgboost_reg_error(X_datacut[X_datacut.columns[a][0]].values,Y_datacut,testSize)\n"
     ]
    },
    {
     "name": "stdout",
     "output_type": "stream",
     "text": [
      "4\n",
      "----------------------------------------------------------------------------\n"
     ]
    },
    {
     "name": "stderr",
     "output_type": "stream",
     "text": [
      "C:\\Users\\User.MORADI-PC\\AppData\\Local\\Temp\\ipykernel_10576\\349924479.py:31: FutureWarning: Support for multi-dimensional indexing (e.g. `obj[:, None]`) is deprecated and will be removed in a future version.  Convert to a numpy array before indexing instead.\n",
      "  mse_tpr=xgboost_reg_error(X_datacut[X_datacut.columns[a][0]].values,Y_datacut,testSize)\n",
      "C:\\Users\\User.MORADI-PC\\AppData\\Local\\Temp\\ipykernel_10576\\349924479.py:31: FutureWarning: Support for multi-dimensional indexing (e.g. `obj[:, None]`) is deprecated and will be removed in a future version.  Convert to a numpy array before indexing instead.\n",
      "  mse_tpr=xgboost_reg_error(X_datacut[X_datacut.columns[a][0]].values,Y_datacut,testSize)\n"
     ]
    },
    {
     "name": "stdout",
     "output_type": "stream",
     "text": [
      "5\n",
      "----------------------------------------------------------------------------\n",
      "6\n",
      "----------------------------------------------------------------------------\n"
     ]
    },
    {
     "name": "stderr",
     "output_type": "stream",
     "text": [
      "C:\\Users\\User.MORADI-PC\\AppData\\Local\\Temp\\ipykernel_10576\\349924479.py:31: FutureWarning: Support for multi-dimensional indexing (e.g. `obj[:, None]`) is deprecated and will be removed in a future version.  Convert to a numpy array before indexing instead.\n",
      "  mse_tpr=xgboost_reg_error(X_datacut[X_datacut.columns[a][0]].values,Y_datacut,testSize)\n",
      "C:\\Users\\User.MORADI-PC\\AppData\\Local\\Temp\\ipykernel_10576\\349924479.py:31: FutureWarning: Support for multi-dimensional indexing (e.g. `obj[:, None]`) is deprecated and will be removed in a future version.  Convert to a numpy array before indexing instead.\n",
      "  mse_tpr=xgboost_reg_error(X_datacut[X_datacut.columns[a][0]].values,Y_datacut,testSize)\n"
     ]
    },
    {
     "name": "stdout",
     "output_type": "stream",
     "text": [
      "7\n",
      "----------------------------------------------------------------------------\n",
      "8\n",
      "----------------------------------------------------------------------------\n"
     ]
    },
    {
     "name": "stderr",
     "output_type": "stream",
     "text": [
      "C:\\Users\\User.MORADI-PC\\AppData\\Local\\Temp\\ipykernel_10576\\349924479.py:31: FutureWarning: Support for multi-dimensional indexing (e.g. `obj[:, None]`) is deprecated and will be removed in a future version.  Convert to a numpy array before indexing instead.\n",
      "  mse_tpr=xgboost_reg_error(X_datacut[X_datacut.columns[a][0]].values,Y_datacut,testSize)\n"
     ]
    },
    {
     "name": "stdout",
     "output_type": "stream",
     "text": [
      "9\n",
      "----------------------------------------------------------------------------\n"
     ]
    },
    {
     "name": "stderr",
     "output_type": "stream",
     "text": [
      "C:\\Users\\User.MORADI-PC\\AppData\\Local\\Temp\\ipykernel_10576\\349924479.py:31: FutureWarning: Support for multi-dimensional indexing (e.g. `obj[:, None]`) is deprecated and will be removed in a future version.  Convert to a numpy array before indexing instead.\n",
      "  mse_tpr=xgboost_reg_error(X_datacut[X_datacut.columns[a][0]].values,Y_datacut,testSize)\n"
     ]
    },
    {
     "name": "stdout",
     "output_type": "stream",
     "text": [
      "10\n",
      "----------------------------------------------------------------------------\n"
     ]
    },
    {
     "name": "stderr",
     "output_type": "stream",
     "text": [
      "C:\\Users\\User.MORADI-PC\\AppData\\Local\\Temp\\ipykernel_10576\\349924479.py:31: FutureWarning: Support for multi-dimensional indexing (e.g. `obj[:, None]`) is deprecated and will be removed in a future version.  Convert to a numpy array before indexing instead.\n",
      "  mse_tpr=xgboost_reg_error(X_datacut[X_datacut.columns[a][0]].values,Y_datacut,testSize)\n",
      "C:\\Users\\User.MORADI-PC\\AppData\\Local\\Temp\\ipykernel_10576\\349924479.py:31: FutureWarning: Support for multi-dimensional indexing (e.g. `obj[:, None]`) is deprecated and will be removed in a future version.  Convert to a numpy array before indexing instead.\n",
      "  mse_tpr=xgboost_reg_error(X_datacut[X_datacut.columns[a][0]].values,Y_datacut,testSize)\n"
     ]
    },
    {
     "name": "stdout",
     "output_type": "stream",
     "text": [
      "11\n",
      "----------------------------------------------------------------------------\n",
      "12\n",
      "----------------------------------------------------------------------------\n"
     ]
    },
    {
     "name": "stderr",
     "output_type": "stream",
     "text": [
      "C:\\Users\\User.MORADI-PC\\AppData\\Local\\Temp\\ipykernel_10576\\349924479.py:31: FutureWarning: Support for multi-dimensional indexing (e.g. `obj[:, None]`) is deprecated and will be removed in a future version.  Convert to a numpy array before indexing instead.\n",
      "  mse_tpr=xgboost_reg_error(X_datacut[X_datacut.columns[a][0]].values,Y_datacut,testSize)\n",
      "C:\\Users\\User.MORADI-PC\\AppData\\Local\\Temp\\ipykernel_10576\\349924479.py:31: FutureWarning: Support for multi-dimensional indexing (e.g. `obj[:, None]`) is deprecated and will be removed in a future version.  Convert to a numpy array before indexing instead.\n",
      "  mse_tpr=xgboost_reg_error(X_datacut[X_datacut.columns[a][0]].values,Y_datacut,testSize)\n"
     ]
    },
    {
     "name": "stdout",
     "output_type": "stream",
     "text": [
      "13\n",
      "----------------------------------------------------------------------------\n",
      "14\n",
      "----------------------------------------------------------------------------\n"
     ]
    },
    {
     "name": "stderr",
     "output_type": "stream",
     "text": [
      "C:\\Users\\User.MORADI-PC\\AppData\\Local\\Temp\\ipykernel_10576\\349924479.py:31: FutureWarning: Support for multi-dimensional indexing (e.g. `obj[:, None]`) is deprecated and will be removed in a future version.  Convert to a numpy array before indexing instead.\n",
      "  mse_tpr=xgboost_reg_error(X_datacut[X_datacut.columns[a][0]].values,Y_datacut,testSize)\n"
     ]
    },
    {
     "name": "stdout",
     "output_type": "stream",
     "text": [
      "15\n",
      "----------------------------------------------------------------------------\n"
     ]
    },
    {
     "name": "stderr",
     "output_type": "stream",
     "text": [
      "C:\\Users\\User.MORADI-PC\\AppData\\Local\\Temp\\ipykernel_10576\\349924479.py:31: FutureWarning: Support for multi-dimensional indexing (e.g. `obj[:, None]`) is deprecated and will be removed in a future version.  Convert to a numpy array before indexing instead.\n",
      "  mse_tpr=xgboost_reg_error(X_datacut[X_datacut.columns[a][0]].values,Y_datacut,testSize)\n"
     ]
    },
    {
     "name": "stdout",
     "output_type": "stream",
     "text": [
      "16\n",
      "----------------------------------------------------------------------------\n"
     ]
    },
    {
     "name": "stderr",
     "output_type": "stream",
     "text": [
      "C:\\Users\\User.MORADI-PC\\AppData\\Local\\Temp\\ipykernel_10576\\349924479.py:31: FutureWarning: Support for multi-dimensional indexing (e.g. `obj[:, None]`) is deprecated and will be removed in a future version.  Convert to a numpy array before indexing instead.\n",
      "  mse_tpr=xgboost_reg_error(X_datacut[X_datacut.columns[a][0]].values,Y_datacut,testSize)\n",
      "C:\\Users\\User.MORADI-PC\\AppData\\Local\\Temp\\ipykernel_10576\\349924479.py:31: FutureWarning: Support for multi-dimensional indexing (e.g. `obj[:, None]`) is deprecated and will be removed in a future version.  Convert to a numpy array before indexing instead.\n",
      "  mse_tpr=xgboost_reg_error(X_datacut[X_datacut.columns[a][0]].values,Y_datacut,testSize)\n"
     ]
    },
    {
     "name": "stdout",
     "output_type": "stream",
     "text": [
      "17\n",
      "----------------------------------------------------------------------------\n",
      "18\n",
      "----------------------------------------------------------------------------\n"
     ]
    },
    {
     "name": "stderr",
     "output_type": "stream",
     "text": [
      "C:\\Users\\User.MORADI-PC\\AppData\\Local\\Temp\\ipykernel_10576\\349924479.py:31: FutureWarning: Support for multi-dimensional indexing (e.g. `obj[:, None]`) is deprecated and will be removed in a future version.  Convert to a numpy array before indexing instead.\n",
      "  mse_tpr=xgboost_reg_error(X_datacut[X_datacut.columns[a][0]].values,Y_datacut,testSize)\n",
      "C:\\Users\\User.MORADI-PC\\AppData\\Local\\Temp\\ipykernel_10576\\349924479.py:31: FutureWarning: Support for multi-dimensional indexing (e.g. `obj[:, None]`) is deprecated and will be removed in a future version.  Convert to a numpy array before indexing instead.\n",
      "  mse_tpr=xgboost_reg_error(X_datacut[X_datacut.columns[a][0]].values,Y_datacut,testSize)\n"
     ]
    },
    {
     "name": "stdout",
     "output_type": "stream",
     "text": [
      "19\n",
      "----------------------------------------------------------------------------\n",
      "20\n",
      "----------------------------------------------------------------------------\n"
     ]
    },
    {
     "name": "stderr",
     "output_type": "stream",
     "text": [
      "C:\\Users\\User.MORADI-PC\\AppData\\Local\\Temp\\ipykernel_10576\\349924479.py:31: FutureWarning: Support for multi-dimensional indexing (e.g. `obj[:, None]`) is deprecated and will be removed in a future version.  Convert to a numpy array before indexing instead.\n",
      "  mse_tpr=xgboost_reg_error(X_datacut[X_datacut.columns[a][0]].values,Y_datacut,testSize)\n",
      "C:\\Users\\User.MORADI-PC\\AppData\\Local\\Temp\\ipykernel_10576\\349924479.py:31: FutureWarning: Support for multi-dimensional indexing (e.g. `obj[:, None]`) is deprecated and will be removed in a future version.  Convert to a numpy array before indexing instead.\n",
      "  mse_tpr=xgboost_reg_error(X_datacut[X_datacut.columns[a][0]].values,Y_datacut,testSize)\n"
     ]
    },
    {
     "name": "stdout",
     "output_type": "stream",
     "text": [
      "21\n",
      "----------------------------------------------------------------------------\n",
      "22\n",
      "----------------------------------------------------------------------------\n"
     ]
    }
   ],
   "source": [
    "\n",
    "\n",
    "dict_mse_tpr={}\n",
    "dict_runtime_tpr={}\n",
    "for window_size in window_size_list :\n",
    "    method_list = []\n",
    "    runtime=[]\n",
    "\n",
    "    # counter=0\n",
    "    i=0\n",
    "    # while counter+interval <= data_without_target.shape[0]:\n",
    "    for j in range(data_without_target.shape[0]//interval):\n",
    "        start_index=j*interval\n",
    "        end_index=start_index+interval\n",
    "\n",
    "        num_comp=num_comp_list[i]\n",
    "\n",
    "        datacut=data_with_target[start_index:end_index]\n",
    "        X_datacut=datacut.iloc[:,:-1]\n",
    "        Y_datacut=datacut.iloc[:,-1]\n",
    "\n",
    "\n",
    "        st=time.time()#>>>>>>>>>>>>>>>>>>>>>>\n",
    "        \n",
    "        arr=create_graph_details(X_datacut,window_size)\n",
    "        a=featureSelection_tpr(arr,X_datacut.shape[1],num_comp)\n",
    "       \n",
    "        et=time.time()#>>>>>>>>>>>>>>>>>>>>>>\n",
    "        elapsed_time = et - st\n",
    "        runtime.append(elapsed_time)\n",
    "\n",
    "\n",
    "        mse_tpr=xgboost_reg_error(X_datacut[X_datacut.columns[a][0]].values,Y_datacut,testSize)\n",
    "\n",
    "        method_list.append(mse_tpr)\n",
    "        #     print( \"method_list\",method_list)\n",
    "        i=i+1\n",
    "        print(j)\n",
    "        print(\"----------------------------------------------------------------------------\")\n",
    "        # counter+=interval\n",
    "    dict_mse_tpr[\"Temp-PR win={}\".format(window_size)]=method_list\n",
    "    dict_runtime_tpr[\"Temporal-PR win={}\".format(window_size)]=runtime\n",
    "\n",
    "\n",
    "dataframe_1 = pd.DataFrame(dict_mse_tpr)\n",
    "dict_rmse['temp_PR_rmse']=list(dataframe_1.min(axis=1))\n",
    "df_time_1=pd.DataFrame(dict_runtime_tpr)\n",
    "dict_runtime[\"Temporal_pr_runtime\"]=list(df_time_1.mean(axis=1))\n"
   ]
  },
  {
   "cell_type": "code",
   "execution_count": 20,
   "metadata": {},
   "outputs": [
    {
     "name": "stdout",
     "output_type": "stream",
     "text": [
      "number of windows= 1000 \n",
      "size of windows = 2\n",
      "[1.8956047619464065, 1.8956031295208635, 1.8956034636757695, 1.8956066972656944, 1.894681376288231, 1.894207470533881, 1.895421469012302, 1.8954021823034322, 1.8922974022051426, 1.8955563417135277] [3, 0, 2, 1, 9, 6, 7, 4, 5, 8]\n",
      "0.0\n",
      "----------------------------------------------------------------------------\n",
      "number of windows= 1000 \n",
      "size of windows = 2\n",
      "[1.8956154524156519, 1.8956142141614611, 1.8956162243374948, 1.8956164248547207, 1.8947202850692477, 1.8940033018533202, 1.8954549035082102, 1.8954549035082102, 1.892322389185165, 1.895565573621654] [3, 2, 0, 1, 9, 6, 7, 4, 5, 8]\n",
      "1.0\n",
      "----------------------------------------------------------------------------\n",
      "number of windows= 1000 \n",
      "size of windows = 2\n",
      "[1.8956176253793258, 1.8956134020384905, 1.8956151101257483, 1.8956155052312824, 1.8947132207009978, 1.8939930267616687, 1.895466407142873, 1.895466407142873, 1.8923199778061859, 1.8955628596879728] [0, 3, 2, 1, 9, 6, 7, 4, 5, 8]\n",
      "2.0\n",
      "----------------------------------------------------------------------------\n",
      "number of windows= 1000 \n",
      "size of windows = 2\n",
      "[1.8956826861951384, 1.895687019303282, 1.8956853042817614, 1.8956858475770066, 1.8947330247939451, 1.8940993850211805, 1.8952766167156496, 1.8952738753383485, 1.8922233153987018, 1.8956363080712237] [1, 3, 2, 0, 9, 6, 7, 4, 5, 8]\n",
      "3.0\n",
      "----------------------------------------------------------------------------\n",
      "number of windows= 1000 \n",
      "size of windows = 2\n",
      "[1.8956569039937494, 1.8956580303615351, 1.8956581071775376, 1.895658085497791, 1.8946513311882751, 1.8941137351870174, 1.8953518101337463, 1.8953256774553378, 1.8923006121793127, 1.8956096598493146] [2, 3, 1, 0, 9, 6, 7, 4, 5, 8]\n",
      "4.0\n",
      "----------------------------------------------------------------------------\n",
      "number of windows= 1000 \n",
      "size of windows = 2\n",
      "[1.8956190243061968, 1.8956187326265908, 1.8956175597595826, 1.8956187868836067, 1.8947178239310443, 1.8940846961589919, 1.8954477574316468, 1.895444366264252, 1.892244222842725, 1.8955704268175095] [0, 3, 1, 2, 9, 6, 7, 4, 5, 8]\n",
      "5.0\n",
      "----------------------------------------------------------------------------\n",
      "number of windows= 1000 \n",
      "size of windows = 2\n",
      "[1.8956102129749852, 1.8956102070555705, 1.8956111667174298, 1.8956103052596216, 1.8947145901190514, 1.8939934235409264, 1.8954627174613898, 1.8954627174613898, 1.8923491474907668, 1.8955591889738614] [2, 3, 0, 1, 9, 6, 7, 4, 5, 8]\n",
      "6.0\n",
      "----------------------------------------------------------------------------\n",
      "number of windows= 1000 \n",
      "size of windows = 2\n",
      "[1.8956156320588717, 1.895615206448337, 1.8956143406558483, 1.8956151271917308, 1.8947136270621958, 1.8940834652699727, 1.8954383864106668, 1.895437274032825, 1.8922835209288122, 1.8955670129177458] [0, 1, 3, 2, 9, 6, 7, 4, 5, 8]\n",
      "7.0\n",
      "----------------------------------------------------------------------------\n",
      "number of windows= 1000 \n",
      "size of windows = 2\n",
      "[1.895699086122426, 1.8956982239243587, 1.895696937109093, 1.8956992882776584, 1.8946893104426128, 1.8940824150938722, 1.895260249979224, 1.8952423949904609, 1.892267936876167, 1.8956477509414864] [3, 0, 1, 2, 9, 6, 7, 4, 5, 8]\n",
      "8.0\n",
      "----------------------------------------------------------------------------\n",
      "number of windows= 1000 \n",
      "size of windows = 2\n",
      "[1.895644686173862, 1.8956453019350956, 1.8956459349562398, 1.8956461054029274, 1.8947101569804499, 1.8940954048574614, 1.8953758705860877, 1.8953563761341086, 1.892261859034901, 1.8956020070954027] [3, 2, 1, 0, 9, 6, 7, 4, 5, 8]\n",
      "9.0\n",
      "----------------------------------------------------------------------------\n",
      "number of windows= 1000 \n",
      "size of windows = 2\n",
      "[1.8955573919729112, 1.8955575891966912, 1.8955576481848355, 1.8955734159162978, 1.8946994109265998, 1.8941253661992028, 1.8955140895241558, 1.8955140895241558, 1.8923650289410903, 1.895520212025979] [3, 2, 1, 0, 9, 6, 7, 4, 5, 8]\n",
      "10.0\n",
      "----------------------------------------------------------------------------\n",
      "number of windows= 1000 \n",
      "size of windows = 2\n",
      "[1.895601479633918, 1.8956009363274233, 1.8956009412555996, 1.8956015862189375, 1.8947010765074612, 1.8940500523065853, 1.8954883399606222, 1.8954883399606222, 1.8922981800452674, 1.8955525693469746] [3, 0, 2, 1, 9, 6, 7, 4, 5, 8]\n",
      "11.0\n",
      "----------------------------------------------------------------------------\n",
      "number of windows= 1000 \n",
      "size of windows = 2\n",
      "[1.895728832568978, 1.895730182406279, 1.8957288336986329, 1.895728570451922, 1.8948447702541613, 1.8940344166996628, 1.8951786254747927, 1.8951736924036986, 1.8921533987304007, 1.8956812482439813] [1, 2, 0, 3, 9, 6, 7, 4, 5, 8]\n",
      "12.0\n",
      "----------------------------------------------------------------------------\n",
      "number of windows= 1000 \n",
      "size of windows = 2\n",
      "[1.8956192375689063, 1.8956193491968008, 1.8956200545153512, 1.8956204533702026, 1.8946698763296266, 1.8941251841307944, 1.8954388731521015, 1.8954195845527182, 1.8922774886203457, 1.8955735825230486] [3, 2, 1, 0, 9, 6, 7, 4, 5, 8]\n",
      "13.0\n",
      "----------------------------------------------------------------------------\n",
      "number of windows= 1000 \n",
      "size of windows = 2\n",
      "[1.895601307474788, 1.895601244667575, 1.895601231819579, 1.8956013954983573, 1.8947013608877021, 1.8940525123113334, 1.8954884530495473, 1.8954884530495473, 1.892295111996047, 1.8955524256072] [3, 0, 1, 2, 9, 6, 7, 4, 5, 8]\n",
      "14.0\n",
      "----------------------------------------------------------------------------\n",
      "number of windows= 1000 \n",
      "size of windows = 2\n",
      "[1.8955968230050855, 1.8955975525059108, 1.8955969253092586, 1.895597371417982, 1.8947009978827973, 1.8940477327400247, 1.8954844190418345, 1.8954844190418345, 1.892328738611527, 1.8955486440768516] [1, 3, 2, 0, 9, 6, 7, 4, 5, 8]\n",
      "15.0\n",
      "----------------------------------------------------------------------------\n",
      "number of windows= 1000 \n",
      "size of windows = 2\n",
      "[1.8956585194385767, 1.8956588766700126, 1.8956592376102797, 1.895659229715967, 1.8945871509404797, 1.8942285251246158, 1.89532027498592, 1.895317690352188, 1.8922842251434489, 1.8956102111706385] [2, 3, 1, 0, 9, 6, 7, 4, 5, 8]\n",
      "16.0\n",
      "----------------------------------------------------------------------------\n",
      "number of windows= 1000 \n",
      "size of windows = 2\n",
      "[1.8956635640420259, 1.8956624452945017, 1.8956638194644198, 1.8956915502181586, 1.8947426398155571, 1.89403417490654, 1.8953254034073397, 1.8952971729010046, 1.8922641645433194, 1.8956386214970977] [3, 2, 0, 1, 9, 6, 7, 4, 5, 8]\n",
      "17.0\n",
      "----------------------------------------------------------------------------\n",
      "number of windows= 1000 \n",
      "size of windows = 2\n",
      "[1.8956125985200307, 1.8956121467807403, 1.8956123381469359, 1.8956130574770946, 1.8947234708163694, 1.8941048919388241, 1.8954458522171957, 1.8954424459252677, 1.8922491615998926, 1.8955675294018524] [3, 0, 2, 1, 9, 6, 7, 4, 5, 8]\n",
      "18.0\n",
      "----------------------------------------------------------------------------\n",
      "number of windows= 1000 \n",
      "size of windows = 2\n",
      "[1.8955947430611664, 1.895595118181233, 1.8955957941851025, 1.8955953923705142, 1.8947083369747102, 1.8940480103905064, 1.895482777409629, 1.895482777409629, 1.8923346879802447, 1.8955460481815884] [2, 3, 1, 0, 9, 6, 7, 4, 5, 8]\n",
      "19.0\n",
      "----------------------------------------------------------------------------\n",
      "number of windows= 1000 \n",
      "size of windows = 2\n",
      "[1.8956296222219668, 1.895629602820895, 1.895628879974541, 1.895628782986874, 1.8947392390390037, 1.8940141972738895, 1.8954279698081935, 1.895425292628497, 1.8922779293225138, 1.8955819998430732] [0, 1, 2, 3, 9, 6, 7, 4, 5, 8]\n",
      "20.0\n",
      "----------------------------------------------------------------------------\n",
      "number of windows= 1000 \n",
      "size of windows = 2\n",
      "[1.8956398584850116, 1.8956433922996192, 1.895643134717089, 1.8956434118675967, 1.8947868737370928, 1.894199127676987, 1.8953054698696092, 1.8952937229185747, 1.8922301919486129, 1.89559861041426] [3, 1, 2, 0, 9, 6, 7, 4, 5, 8]\n",
      "21.0\n",
      "----------------------------------------------------------------------------\n",
      "number of windows= 1000 \n",
      "size of windows = 2\n",
      "[1.8956180819764115, 1.8956176367839026, 1.8956186367345738, 1.895617398517466, 1.8946721092264782, 1.8941330246638173, 1.895440620384075, 1.89542137238954, 1.8922685145592086, 1.8955762889458838] [2, 0, 1, 3, 9, 6, 7, 4, 5, 8]\n",
      "22.0\n",
      "----------------------------------------------------------------------------\n",
      "number of windows= 666 \n",
      "size of windows = 3\n",
      "[1.8956643868594214, 1.8956611340649951, 1.8956601589538282, 1.8956647888175255, 1.8945787485771575, 1.8931375934394552, 1.8954543802606556, 1.8954439736350515, 1.893059626398036, 1.8956573630228983] [3, 0, 1, 2, 9, 6, 7, 4, 5, 8]\n",
      "23.0\n",
      "----------------------------------------------------------------------------\n",
      "number of windows= 666 \n",
      "size of windows = 3\n",
      "[1.8952259869417138, 1.8952266488001066, 1.8952301089122334, 1.895229428682296, 1.8952994601759432, 1.8952994601759432, 1.8952994601759432, 1.8952994601759432, 1.8925876323526258, 1.8952917328826056] [4, 5, 6, 7, 9, 2, 3, 1, 0, 8]\n",
      "24.0\n",
      "----------------------------------------------------------------------------\n",
      "number of windows= 666 \n",
      "size of windows = 3\n",
      "[1.8962609628991616, 1.8962538914193219, 1.8962603286291169, 1.8962595165799843, 1.8946717650038418, 1.8938577428531072, 1.8959220431785015, 1.8959220431785015, 1.8884666755212338, 1.896078949262712] [0, 2, 3, 1, 9, 6, 7, 4, 5, 8]\n",
      "25.0\n",
      "----------------------------------------------------------------------------\n",
      "number of windows= 666 \n",
      "size of windows = 3\n",
      "[1.8958037656164644, 1.8958076751910067, 1.8958022048342795, 1.8958060733185647, 1.8947052014816033, 1.8929333538266857, 1.8952254787279734, 1.8952236054451757, 1.8928612091911567, 1.8958112945402394] [9, 1, 3, 0, 2, 6, 7, 4, 5, 8]\n",
      "26.0\n",
      "----------------------------------------------------------------------------\n",
      "number of windows= 666 \n",
      "size of windows = 3\n",
      "[1.895227086975264, 1.8952279738590554, 1.895228011033435, 1.8952277958521333, 1.8953011366519272, 1.895301136651927, 1.8953011366519272, 1.8953011366519272, 1.8925827883253974, 1.8952911583104437] [4, 6, 7, 5, 9, 2, 1, 3, 0, 8]\n",
      "27.0\n",
      "----------------------------------------------------------------------------\n",
      "number of windows= 666 \n",
      "size of windows = 3\n",
      "[1.8962612070635814, 1.8962617196598455, 1.8962592720636178, 1.896261298345315, 1.8946666091091013, 1.8940094785438726, 1.8958963632330026, 1.8958861969416327, 1.8883621143918023, 1.8960890392941239] [1, 3, 0, 2, 9, 6, 7, 4, 5, 8]\n",
      "28.0\n",
      "----------------------------------------------------------------------------\n",
      "number of windows= 666 \n",
      "size of windows = 3\n",
      "[1.8956908503172334, 1.895689320798783, 1.8956912277790403, 1.8956904665001553, 1.8946431008233608, 1.8926957006935954, 1.8955332198075956, 1.8955332198075956, 1.893133158195226, 1.8956796641813336] [2, 0, 3, 1, 9, 6, 7, 4, 8, 5]\n",
      "29.0\n",
      "----------------------------------------------------------------------------\n",
      "number of windows= 666 \n",
      "size of windows = 3\n",
      "[1.895228388514105, 1.8952276788946314, 1.8952271912234133, 1.8952277856183524, 1.8952997956063289, 1.8952997956063289, 1.8952997956063289, 1.8952997956063289, 1.8925873003936102, 1.8952918503161271] [4, 5, 6, 7, 9, 0, 3, 1, 2, 8]\n",
      "30.0\n",
      "----------------------------------------------------------------------------\n",
      "number of windows= 666 \n",
      "size of windows = 3\n",
      "[1.8963806660458409, 1.89637770580689, 1.8963760602330102, 1.8963804240392093, 1.8946141234634388, 1.893899109436254, 1.8955804824311229, 1.8955334760874212, 1.88862531025441, 1.8961879317416854] [0, 3, 1, 2, 9, 6, 7, 4, 5, 8]\n",
      "31.0\n",
      "----------------------------------------------------------------------------\n",
      "number of windows= 666 \n",
      "size of windows = 3\n",
      "[1.8957410989194432, 1.8957405392356503, 1.8957400384419378, 1.8957411151955617, 1.8946354281716205, 1.892925521957311, 1.8953826925656183, 1.895371847124657, 1.89297282729646, 1.895729364486322] [3, 0, 1, 2, 9, 6, 7, 4, 8, 5]\n",
      "32.0\n",
      "----------------------------------------------------------------------------\n",
      "number of windows= 666 \n",
      "size of windows = 3\n",
      "[1.8952216827263864, 1.8952213388195758, 1.895221453048814, 1.8952306603487443, 1.8953053454865842, 1.895305345486584, 1.895305345486584, 1.895305345486584, 1.8925759930022878, 1.8952968241650354] [4, 5, 6, 7, 9, 3, 0, 2, 1, 8]\n",
      "33.0\n",
      "----------------------------------------------------------------------------\n",
      "number of windows= 666 \n",
      "size of windows = 3\n",
      "[1.8962375621907268, 1.8962381263333536, 1.8962386256919475, 1.89623874682944, 1.8946568369606227, 1.8939342029730528, 1.895955842233286, 1.895955842233286, 1.888432769633836, 1.8960651512842241] [3, 2, 1, 0, 9, 6, 7, 4, 5, 8]\n",
      "34.0\n",
      "----------------------------------------------------------------------------\n",
      "number of windows= 666 \n",
      "size of windows = 3\n",
      "[1.8958880076509341, 1.8958892714612898, 1.8958898198571559, 1.895888526619752, 1.8949323562441243, 1.8927763722297537, 1.895050006690565, 1.8950465489600425, 1.8927153991023935, 1.895901523663157] [9, 2, 1, 3, 0, 6, 7, 4, 5, 8]\n",
      "35.0\n",
      "----------------------------------------------------------------------------\n",
      "number of windows= 666 \n",
      "size of windows = 3\n",
      "[1.8952278209013733, 1.8952276206364358, 1.8952273924442122, 1.895228121991798, 1.895300376482121, 1.8953003764821208, 1.8953003764821206, 1.8953003764821206, 1.8925860684815037, 1.8952908419789276] [4, 5, 6, 7, 9, 3, 0, 1, 2, 8]\n",
      "36.0\n",
      "----------------------------------------------------------------------------\n",
      "number of windows= 666 \n",
      "size of windows = 3\n",
      "[1.8962399314837195, 1.896238095822279, 1.8962377362255076, 1.8962389548685183, 1.8946582958781253, 1.8939395795135165, 1.8959559254079221, 1.8959559254079221, 1.8884261895516845, 1.8960630492462363] [0, 3, 1, 2, 9, 6, 7, 4, 5, 8]\n",
      "37.0\n",
      "----------------------------------------------------------------------------\n",
      "number of windows= 666 \n",
      "size of windows = 3\n",
      "[1.895672328764943, 1.895672460493878, 1.8956708830697477, 1.8956720001665324, 1.8946153058145845, 1.8927812391017385, 1.8955600090155962, 1.8955600090155962, 1.893113224860255, 1.8956625069963937] [1, 0, 3, 2, 9, 6, 7, 4, 8, 5]\n",
      "38.0\n",
      "----------------------------------------------------------------------------\n",
      "number of windows= 666 \n",
      "size of windows = 3\n",
      "[1.8952278591739633, 1.8952278104920586, 1.8952276526600604, 1.895228056364544, 1.8952989687101442, 1.8952989687101438, 1.8952989687101438, 1.8952989687101438, 1.8925907338741674, 1.8952914017820497] [4, 5, 6, 7, 9, 3, 0, 1, 2, 8]\n",
      "39.0\n",
      "----------------------------------------------------------------------------\n",
      "number of windows= 666 \n",
      "size of windows = 3\n",
      "[1.896314309613452, 1.896311588195674, 1.8963148548437845, 1.8963750150239047, 1.8947069809363417, 1.893931646788346, 1.8956988730672368, 1.895626797959456, 1.8884866299866319, 1.89618774048279] [3, 2, 0, 1, 9, 6, 7, 4, 5, 8]\n",
      "40.0\n",
      "----------------------------------------------------------------------------\n",
      "number of windows= 666 \n",
      "size of windows = 3\n",
      "[1.8956986821202215, 1.895697599350927, 1.8956986792913084, 1.8956998148002833, 1.8946568717495476, 1.8928528108410805, 1.8954867976700467, 1.895487852987179, 1.8930084780156347, 1.8956923777318488] [3, 0, 2, 1, 9, 7, 6, 4, 8, 5]\n",
      "41.0\n",
      "----------------------------------------------------------------------------\n",
      "number of windows= 666 \n",
      "size of windows = 3\n",
      "[1.8952271276304793, 1.8952268129495569, 1.8952282928389332, 1.8952275795172326, 1.8953004114169125, 1.895300411416912, 1.895300411416912, 1.895300411416912, 1.8925859618092353, 1.8952919512130275] [4, 5, 6, 7, 9, 2, 3, 0, 1, 8]\n",
      "42.0\n",
      "----------------------------------------------------------------------------\n",
      "number of windows= 666 \n",
      "size of windows = 3\n",
      "[1.8963019757628532, 1.8963019571130908, 1.896300656672457, 1.896300482439404, 1.8947042358879116, 1.8937160804578794, 1.8958937110800478, 1.895887762707412, 1.8884092511288024, 1.8961371093436235] [0, 1, 2, 3, 9, 6, 7, 4, 5, 8]\n",
      "43.0\n",
      "----------------------------------------------------------------------------\n",
      "number of windows= 666 \n",
      "size of windows = 3\n",
      "[1.8957444220453195, 1.8957447899654252, 1.8957442135845644, 1.8957460104768171, 1.8948154259962044, 1.893085699142324, 1.8952495598160353, 1.8952409919435886, 1.892859825493376, 1.8957497285304106] [9, 3, 1, 0, 2, 6, 7, 4, 5, 8]\n",
      "44.0\n",
      "----------------------------------------------------------------------------\n",
      "number of windows= 666 \n",
      "size of windows = 3\n",
      "[1.8952280217678676, 1.8952281669869724, 1.8952266919785123, 1.8952268597749942, 1.895301083441589, 1.8953010834415889, 1.8953010834415889, 1.8953010834415889, 1.8925850750910573, 1.8952902183007745] [4, 5, 6, 7, 9, 1, 0, 3, 2, 8]\n",
      "45.0\n",
      "----------------------------------------------------------------------------\n",
      "number of windows= 400 \n",
      "size of windows = 5\n",
      "[1.8962646551670157, 1.8962733719814717, 1.8962785427036866, 1.8962779382967037, 1.894621956767758, 1.8927168175897409, 1.8959687762395205, 1.8959301971790765, 1.8894711470154497, 1.8961534371706132] [2, 3, 1, 0, 9, 6, 7, 4, 5, 8]\n",
      "46.0\n",
      "----------------------------------------------------------------------------\n",
      "number of windows= 400 \n",
      "size of windows = 5\n",
      "[1.89630816257141, 1.8963125738437034, 1.8962953399261173, 1.8963146979216654, 1.8946699183047304, 1.8923474275811565, 1.89583478538081, 1.89583478538081, 1.889831156605088, 1.896209786228542] [3, 1, 0, 2, 9, 6, 7, 4, 5, 8]\n",
      "47.0\n",
      "----------------------------------------------------------------------------\n",
      "number of windows= 400 \n",
      "size of windows = 5\n",
      "[1.8963194588517398, 1.8963229950291813, 1.8963257533517828, 1.8963258868507336, 1.8946155015810815, 1.892190812013023, 1.8960227576647508, 1.8960227576647508, 1.8896057621730948, 1.8962031618910808] [3, 2, 1, 0, 9, 6, 7, 4, 5, 8]\n",
      "48.0\n",
      "----------------------------------------------------------------------------\n",
      "number of windows= 400 \n",
      "size of windows = 5\n",
      "[1.8964158674262719, 1.896427996148127, 1.8964173279907135, 1.8964261991389304, 1.8946607592393445, 1.8930959364985112, 1.895541223230942, 1.8955324650758958, 1.8891186017245514, 1.8963179308294436] [1, 3, 2, 0, 9, 6, 7, 4, 5, 8]\n",
      "49.0\n",
      "----------------------------------------------------------------------------\n",
      "number of windows= 400 \n",
      "size of windows = 5\n",
      "[1.8963527484515215, 1.8963705955877896, 1.8963571373996115, 1.8963613018716372, 1.8944671718757515, 1.8924468431393302, 1.8957931878231142, 1.89575018371191, 1.8898068313478213, 1.8962524068166449] [1, 3, 2, 0, 9, 6, 7, 4, 5, 8]\n",
      "50.0\n",
      "----------------------------------------------------------------------------\n",
      "number of windows= 400 \n",
      "size of windows = 5\n",
      "[1.8963604111919135, 1.8963549920357181, 1.8963464238440466, 1.8963553570886575, 1.8946039349669248, 1.8923416528709291, 1.8958970833666178, 1.8959042753043036, 1.8895518944929424, 1.8962382369298858] [0, 3, 1, 2, 9, 7, 6, 4, 5, 8]\n",
      "51.0\n",
      "----------------------------------------------------------------------------\n",
      "number of windows= 400 \n",
      "size of windows = 5\n",
      "[1.896311710571301, 1.8963062799276582, 1.8963114016558857, 1.8963072705466557, 1.8945987812568066, 1.892321720020825, 1.8958946136490185, 1.8958946136490185, 1.8898339123900407, 1.8961778646825396] [0, 2, 3, 1, 9, 6, 7, 4, 5, 8]\n",
      "52.0\n",
      "----------------------------------------------------------------------------\n",
      "number of windows= 400 \n",
      "size of windows = 5\n",
      "[1.8962743482899078, 1.8962791510761448, 1.896273797081672, 1.8962740625868788, 1.8946165347065802, 1.8923696053482346, 1.896011305796078, 1.8960077404593318, 1.889685692688471, 1.8961642045468714] [1, 0, 3, 2, 9, 6, 7, 4, 5, 8]\n",
      "53.0\n",
      "----------------------------------------------------------------------------\n",
      "number of windows= 400 \n",
      "size of windows = 5\n",
      "[1.896388031680788, 1.896374417712411, 1.8963775094852524, 1.8963832901610698, 1.894455069302866, 1.8930071821354355, 1.8954267773611089, 1.8953892047562844, 1.8899093036714056, 1.8962505968306635] [0, 3, 2, 1, 9, 6, 7, 4, 5, 8]\n",
      "54.0\n",
      "----------------------------------------------------------------------------\n",
      "number of windows= 400 \n",
      "size of windows = 5\n",
      "[1.8964199716413417, 1.8963807308941854, 1.8964303573585104, 1.8964107201158598, 1.8945349834556313, 1.8925747189240387, 1.8957200876097446, 1.89569133878906, 1.8895085315292492, 1.8962843241241418] [2, 0, 3, 1, 9, 6, 7, 4, 5, 8]\n",
      "55.0\n",
      "----------------------------------------------------------------------------\n",
      "number of windows= 400 \n",
      "size of windows = 5\n",
      "[1.8962156713054301, 1.8962138134250743, 1.8962111576311123, 1.8962254101388627, 1.8945904770003001, 1.8923788037978242, 1.8960917509924478, 1.8960917509924478, 1.8898318051513037, 1.8961076910589325] [3, 0, 1, 2, 9, 6, 7, 4, 5, 8]\n",
      "56.0\n",
      "----------------------------------------------------------------------------\n",
      "number of windows= 400 \n",
      "size of windows = 5\n",
      "[1.8962483577427165, 1.8962402114871169, 1.8962540455620662, 1.8962484621102975, 1.8945958235996503, 1.8927365573124524, 1.895921472919814, 1.895921472919814, 1.8896689066348076, 1.8961233608613264] [2, 3, 0, 1, 9, 6, 7, 4, 5, 8]\n",
      "57.0\n",
      "----------------------------------------------------------------------------\n",
      "number of windows= 400 \n",
      "size of windows = 5\n",
      "[1.896516698368735, 1.8965200564578564, 1.8965255899625522, 1.8965240374483763, 1.894906219862592, 1.8922652980172558, 1.8953662606250565, 1.895349436925479, 1.8895856709140082, 1.8963944783361524] [2, 3, 1, 0, 9, 6, 7, 4, 5, 8]\n",
      "58.0\n",
      "----------------------------------------------------------------------------\n",
      "number of windows= 400 \n",
      "size of windows = 5\n",
      "[1.896333815821135, 1.8963322096858957, 1.8963265095417463, 1.8963338009416475, 1.8944629030190119, 1.892516462642062, 1.8959284673770544, 1.8959001142241307, 1.8895926626022388, 1.8962289679000264] [0, 3, 1, 2, 9, 6, 7, 4, 5, 8]\n",
      "59.0\n",
      "----------------------------------------------------------------------------\n",
      "number of windows= 400 \n",
      "size of windows = 5\n",
      "[1.8962817225343198, 1.8962807810036755, 1.896280694197518, 1.8962805138321575, 1.8946075985873212, 1.8924869791582322, 1.8959611148701219, 1.8959611148701219, 1.889651521888012, 1.8961652359697487] [0, 1, 2, 3, 9, 6, 7, 4, 5, 8]\n",
      "60.0\n",
      "----------------------------------------------------------------------------\n",
      "number of windows= 400 \n",
      "size of windows = 5\n",
      "[1.8963006067680022, 1.8963044574623367, 1.896304665316094, 1.8963056753349703, 1.8945796599360576, 1.8922957015616761, 1.8959777355762848, 1.8959777355762848, 1.889729381239057, 1.8961804286098547] [3, 2, 1, 0, 9, 6, 7, 4, 5, 8]\n",
      "61.0\n",
      "----------------------------------------------------------------------------\n",
      "number of windows= 400 \n",
      "size of windows = 5\n",
      "[1.8963284448126143, 1.8963309835824989, 1.8963241149073846, 1.896330463072851, 1.8944052380778609, 1.8929478492628173, 1.8955921948301122, 1.8955885666320071, 1.8899097442253894, 1.8962038508932928] [1, 3, 0, 2, 9, 6, 7, 4, 5, 8]\n",
      "62.0\n",
      "----------------------------------------------------------------------------\n",
      "number of windows= 400 \n",
      "size of windows = 5\n",
      "[1.8963786843701897, 1.8964283068130638, 1.896394802254144, 1.8964717895765377, 1.894656683229707, 1.8924060213672294, 1.8956877473148164, 1.895626955389978, 1.8895643154871877, 1.8963406217531835] [3, 1, 2, 0, 9, 6, 7, 4, 5, 8]\n",
      "63.0\n",
      "----------------------------------------------------------------------------\n",
      "number of windows= 400 \n",
      "size of windows = 5\n",
      "[1.89635878443312, 1.8963588684614805, 1.8963607422210345, 1.8963638060555892, 1.8945937848454346, 1.8923733349987044, 1.8959390964120897, 1.8959462481293623, 1.8894112181406495, 1.8962473122834882] [3, 2, 1, 0, 9, 7, 6, 4, 5, 8]\n",
      "64.0\n",
      "----------------------------------------------------------------------------\n",
      "number of windows= 400 \n",
      "size of windows = 5\n",
      "[1.8962310355404797, 1.8962256889631568, 1.896231926530675, 1.8962296376736794, 1.8946116643952218, 1.8926254757745682, 1.8959149070945025, 1.8959149070945025, 1.8898646629038998, 1.8961098724667818] [2, 0, 3, 1, 9, 6, 7, 4, 5, 8]\n",
      "65.0\n",
      "----------------------------------------------------------------------------\n",
      "number of windows= 400 \n",
      "size of windows = 5\n",
      "[1.8963950054368988, 1.896384482623831, 1.8963856682880111, 1.896387264469681, 1.8947552224369557, 1.8921338618096155, 1.8958590306197651, 1.8958521179600538, 1.8895168710104215, 1.8962847410608203] [0, 3, 2, 1, 9, 6, 7, 4, 5, 8]\n",
      "66.0\n",
      "----------------------------------------------------------------------------\n",
      "number of windows= 400 \n",
      "size of windows = 5\n",
      "[1.896374145842742, 1.8963740243740788, 1.8963756058803214, 1.896372425219043, 1.8947535124880308, 1.892821773009553, 1.8956195759515202, 1.8955961279990539, 1.8894020272270489, 1.8962669370468501] [2, 0, 1, 3, 9, 6, 7, 4, 5, 8]\n",
      "67.0\n",
      "----------------------------------------------------------------------------\n",
      "number of windows= 400 \n",
      "size of windows = 5\n",
      "[1.8962976138153922, 1.8963039151539147, 1.896296341943565, 1.896299252344917, 1.8945800401984934, 1.8925415464472113, 1.8957847381513109, 1.8957607759715036, 1.8898939821622265, 1.8962014128673494] [1, 3, 0, 2, 9, 6, 7, 4, 5, 8]\n",
      "68.0\n",
      "----------------------------------------------------------------------------\n",
      "number of windows= 285 \n",
      "size of windows = 7\n",
      "[1.8972205618651046, 1.8972070834793495, 1.8972103827059397, 1.8972165513654642, 1.894497594475327, 1.887739791952976, 1.8969191043102018, 1.8968818239828877, 1.887851516339399, 1.8971470183142807] [0, 3, 2, 1, 9, 6, 7, 4, 8, 5]\n",
      "69.0\n",
      "----------------------------------------------------------------------------\n",
      "number of windows= 285 \n",
      "size of windows = 7\n",
      "[1.8962520325202308, 1.8962323921098565, 1.8962661100958806, 1.8962501486222119, 1.8942201867698352, 1.894176086735611, 1.895533779829543, 1.895533779829543, 1.8894419017052642, 1.8960528981637557] [2, 0, 3, 1, 9, 6, 7, 4, 5, 8]\n",
      "70.0\n",
      "----------------------------------------------------------------------------\n",
      "number of windows= 285 \n",
      "size of windows = 7\n",
      "[1.8968088700823942, 1.8968000260321718, 1.896797941111169, 1.896803509785719, 1.8938703349111128, 1.8898336468819692, 1.8962652062503975, 1.8962652062503975, 1.8898989518389402, 1.896574166231718] [0, 3, 1, 2, 9, 6, 7, 4, 8, 5]\n",
      "71.0\n",
      "----------------------------------------------------------------------------\n",
      "number of windows= 285 \n",
      "size of windows = 7\n",
      "[1.897269108162508, 1.897274597330153, 1.8972634927303207, 1.8972767568646443, 1.8941165773660646, 1.8888134495323237, 1.8960874281613838, 1.8960811548077914, 1.8885220512188727, 1.8971929859265257] [3, 1, 0, 2, 9, 6, 7, 4, 5, 8]\n",
      "72.0\n",
      "----------------------------------------------------------------------------\n",
      "number of windows= 285 \n",
      "size of windows = 7\n",
      "[1.8960207965390723, 1.8960235306410123, 1.8960166372529692, 1.8960235982735867, 1.894646698064511, 1.8956049177304448, 1.8954631163864757, 1.8953951086001126, 1.8889703496615602, 1.8957980062555293] [3, 1, 0, 2, 9, 5, 6, 7, 4, 8]\n",
      "73.0\n",
      "----------------------------------------------------------------------------\n",
      "number of windows= 285 \n",
      "size of windows = 7\n",
      "[1.8967525771662277, 1.8967554073905766, 1.8967435427271608, 1.896751838307182, 1.8938211195629506, 1.8893057078638924, 1.895898915977153, 1.8958910020974882, 1.8915397318664204, 1.8964743087085647] [1, 0, 3, 2, 9, 6, 7, 4, 8, 5]\n",
      "74.0\n",
      "----------------------------------------------------------------------------\n",
      "number of windows= 285 \n",
      "size of windows = 7\n",
      "[1.8969288418646897, 1.8969276610362755, 1.8969298767016092, 1.8969306448029877, 1.8942394137086098, 1.8894086061326756, 1.8964718654894983, 1.8964718654894983, 1.888796401691326, 1.8967968946732383] [3, 2, 0, 1, 9, 6, 7, 4, 5, 8]\n",
      "75.0\n",
      "----------------------------------------------------------------------------\n",
      "number of windows= 285 \n",
      "size of windows = 7\n",
      "[1.8973234188412649, 1.8973297885844218, 1.8973304916619211, 1.89733028233013, 1.8945493071459476, 1.8862604972059198, 1.8970976029725015, 1.8971026229735473, 1.8882976307664696, 1.8972532526924848] [2, 3, 1, 0, 9, 7, 6, 4, 8, 5]\n",
      "76.0\n",
      "----------------------------------------------------------------------------\n",
      "number of windows= 285 \n",
      "size of windows = 7\n",
      "[1.8963444294870586, 1.896345375760962, 1.8963449095801788, 1.896345312889919, 1.8937545372085083, 1.8943439212467093, 1.895419056715099, 1.8953544169388075, 1.8896517457109336, 1.896056259931784] [1, 3, 2, 0, 9, 6, 7, 5, 4, 8]\n",
      "77.0\n",
      "----------------------------------------------------------------------------\n",
      "number of windows= 285 \n",
      "size of windows = 7\n",
      "[1.8969224400309284, 1.896925690301516, 1.896926589645654, 1.8969361862462253, 1.8937646404018311, 1.8904348128029203, 1.8958725846875721, 1.8958302778536094, 1.8896039471648023, 1.8967044698684041] [3, 2, 1, 0, 9, 6, 7, 4, 5, 8]\n",
      "78.0\n",
      "----------------------------------------------------------------------------\n",
      "number of windows= 285 \n",
      "size of windows = 7\n",
      "[1.8969416265863939, 1.8969424431556932, 1.8969406140817655, 1.8969547970955325, 1.8942337383369379, 1.8891112530209186, 1.8968387754258855, 1.8968387754258855, 1.888236047386099, 1.896860687523895] [3, 1, 0, 2, 9, 6, 7, 4, 5, 8]\n",
      "79.0\n",
      "----------------------------------------------------------------------------\n",
      "number of windows= 285 \n",
      "size of windows = 7\n",
      "[1.895997485647953, 1.8959970982556602, 1.8959981139861148, 1.895998951764288, 1.8947651728368413, 1.8956196726567132, 1.8956231059690494, 1.8956231059690494, 1.8885304815735395, 1.8958059053813532] [3, 2, 0, 1, 9, 6, 7, 5, 4, 8]\n",
      "80.0\n",
      "----------------------------------------------------------------------------\n",
      "number of windows= 285 \n",
      "size of windows = 7\n",
      "[1.8972678308167694, 1.8972616739555066, 1.897261210370749, 1.897269374167701, 1.8947510903061038, 1.8891602481501542, 1.8945435800810555, 1.8944831498899617, 1.8908615453163318, 1.8970598533133511] [3, 0, 1, 2, 9, 4, 6, 7, 8, 5]\n",
      "81.0\n",
      "----------------------------------------------------------------------------\n",
      "number of windows= 285 \n",
      "size of windows = 7\n",
      "[1.8969578181741893, 1.8969532222522925, 1.8969592610799542, 1.8969634556463548, 1.894071087175077, 1.8901618488161094, 1.8962607791846153, 1.8962271502829753, 1.8885078699139295, 1.8968427989886592] [3, 2, 0, 1, 9, 6, 7, 4, 5, 8]\n",
      "82.0\n",
      "----------------------------------------------------------------------------\n",
      "number of windows= 285 \n",
      "size of windows = 7\n",
      "[1.8973421941455872, 1.8973438881797065, 1.8973455482809276, 1.8973453344421878, 1.8946512371338626, 1.8863255869528182, 1.8971541776333694, 1.8971541776333694, 1.8879368372233571, 1.8972728158846102] [2, 3, 1, 0, 9, 6, 7, 4, 8, 5]\n",
      "83.0\n",
      "----------------------------------------------------------------------------\n",
      "number of windows= 285 \n",
      "size of windows = 7\n",
      "[1.8962484359422693, 1.8962499855965371, 1.896250164077108, 1.8962515822101198, 1.8940193267607592, 1.8943014207877105, 1.8955655797514075, 1.8955655797514075, 1.8894915539079717, 1.8960153161978457] [3, 2, 1, 0, 9, 6, 7, 5, 4, 8]\n",
      "84.0\n",
      "----------------------------------------------------------------------------\n",
      "number of windows= 285 \n",
      "size of windows = 7\n",
      "[1.896969729943903, 1.896975444659502, 1.89697699767518, 1.8969758058626165, 1.8935018740435403, 1.890567539730734, 1.8958734793281953, 1.8958657248020543, 1.8894747112261188, 1.896739401801039] [2, 3, 1, 0, 9, 6, 7, 4, 5, 8]\n",
      "85.0\n",
      "----------------------------------------------------------------------------\n",
      "number of windows= 285 \n",
      "size of windows = 7\n",
      "[1.8973193107684847, 1.8973159055123245, 1.8973154747277265, 1.8973983626549336, 1.8944958532272422, 1.888817117248471, 1.896179267300099, 1.8961411654682063, 1.887573016746556, 1.8973325231172307] [3, 9, 0, 1, 2, 6, 7, 4, 5, 8]\n",
      "86.0\n",
      "----------------------------------------------------------------------------\n",
      "number of windows= 285 \n",
      "size of windows = 7\n",
      "[1.8960509626069988, 1.8960512210691824, 1.8960547733160353, 1.8960570844217224, 1.8948572028896793, 1.8957038336605072, 1.8953508388114304, 1.8953432961493424, 1.8886165745774406, 1.89587385457021] [3, 2, 1, 0, 9, 5, 6, 7, 4, 8]\n",
      "87.0\n",
      "----------------------------------------------------------------------------\n",
      "number of windows= 285 \n",
      "size of windows = 7\n",
      "[1.8966962221181747, 1.8966997267201589, 1.8966975706833198, 1.8966999399645275, 1.8937457804771305, 1.888967957652619, 1.8961841803485358, 1.8961841803485358, 1.891635020869478, 1.8964219848255897] [3, 1, 2, 0, 9, 6, 7, 4, 8, 5]\n",
      "88.0\n",
      "----------------------------------------------------------------------------\n",
      "number of windows= 285 \n",
      "size of windows = 7\n",
      "[1.8969752910324293, 1.8969717262928736, 1.8969720535501886, 1.896971055928068, 1.8942862230029367, 1.8890537542521426, 1.8964354163435333, 1.8964290876797643, 1.888977103949657, 1.8968310712100345] [0, 2, 1, 3, 9, 6, 7, 4, 5, 8]\n",
      "89.0\n",
      "----------------------------------------------------------------------------\n",
      "number of windows= 285 \n",
      "size of windows = 7\n",
      "[1.8973257981126164, 1.8973250425997517, 1.8973275288888751, 1.8973311440426648, 1.8946986327034163, 1.8870764899971253, 1.89670876953679, 1.8966627869784096, 1.888174687752976, 1.897256755146808] [3, 2, 0, 1, 9, 6, 7, 4, 8, 5]\n",
      "90.0\n",
      "----------------------------------------------------------------------------\n",
      "number of windows= 285 \n",
      "size of windows = 7\n",
      "[1.8962530818583747, 1.8962530319279904, 1.8962541372740866, 1.8962598980599221, 1.8939149046816361, 1.8943368838163135, 1.8956619513566957, 1.8956314615744572, 1.889351259233328, 1.8960418514592239] [3, 2, 0, 1, 9, 6, 7, 5, 4, 8]\n",
      "91.0\n",
      "----------------------------------------------------------------------------\n",
      "number of windows= 200 \n",
      "size of windows = 10\n",
      "[1.8974051778042904, 1.8973905351122728, 1.8973883405746674, 1.8974091739957064, 1.8933834595008765, 1.886819111187696, 1.8966104240525798, 1.8965518106697437, 1.8896888892141814, 1.8972351258190874] [3, 0, 1, 2, 9, 6, 7, 4, 8, 5]\n",
      "92.0\n",
      "----------------------------------------------------------------------------\n",
      "number of windows= 200 \n",
      "size of windows = 10\n",
      "[1.8975410266834583, 1.897477398991451, 1.8975104350476029, 1.8975322050569865, 1.8936740667969612, 1.885430253201272, 1.8964257406741787, 1.8964257406741787, 1.8905087131588154, 1.8973410050566786] [0, 3, 2, 1, 9, 6, 7, 4, 8, 5]\n",
      "93.0\n",
      "----------------------------------------------------------------------------\n",
      "number of windows= 200 \n",
      "size of windows = 10\n",
      "[1.8973763026439339, 1.897367261365615, 1.8973575260407476, 1.8973770316190157, 1.893437960908194, 1.8857748915387265, 1.8968679437215838, 1.8968679437215838, 1.8902698128136988, 1.8971765521113646] [3, 0, 1, 2, 9, 6, 7, 4, 8, 5]\n",
      "94.0\n",
      "----------------------------------------------------------------------------\n",
      "number of windows= 200 \n",
      "size of windows = 10\n",
      "[1.8978219169496817, 1.8978572166909373, 1.8978309508634439, 1.8978412689565305, 1.893599138127341, 1.885729530900984, 1.8960480443057843, 1.8960421800731524, 1.8894145498642207, 1.8976723042727668] [1, 3, 2, 0, 9, 6, 7, 4, 8, 5]\n",
      "95.0\n",
      "----------------------------------------------------------------------------\n",
      "number of windows= 200 \n",
      "size of windows = 10\n",
      "[1.897586440695052, 1.8976042434761835, 1.897582179146447, 1.8975965575401819, 1.8932465083902736, 1.8862540109806878, 1.89609586059969, 1.8960395381574693, 1.8905341629127972, 1.897342948154705] [1, 3, 0, 2, 9, 6, 7, 4, 8, 5]\n",
      "96.0\n",
      "----------------------------------------------------------------------------\n",
      "number of windows= 200 \n",
      "size of windows = 10\n",
      "[1.8975264031108843, 1.8975227722184085, 1.8975116337889775, 1.8975191453823759, 1.8935333067724094, 1.8853018870273353, 1.8967108704861066, 1.8967192663974513, 1.8901807385250389, 1.8973335298947498] [0, 1, 3, 2, 9, 7, 6, 4, 8, 5]\n",
      "97.0\n",
      "----------------------------------------------------------------------------\n",
      "number of windows= 200 \n",
      "size of windows = 10\n",
      "[1.897513079119658, 1.8975048739713092, 1.897503651991524, 1.8975135975766184, 1.8935431327141359, 1.885310404981321, 1.8964386420517538, 1.8964386420517538, 1.8907873789355711, 1.8973125519099079] [3, 0, 1, 2, 9, 6, 7, 4, 8, 5]\n",
      "98.0\n",
      "----------------------------------------------------------------------------\n",
      "number of windows= 200 \n",
      "size of windows = 10\n",
      "[1.8974421522190519, 1.8974554843064797, 1.8974549203897377, 1.8974550333908429, 1.8937059067827546, 1.8861842258279389, 1.8966083249350674, 1.896608209666167, 1.8896245450532816, 1.897333029079124] [1, 3, 2, 0, 9, 6, 7, 4, 8, 5]\n",
      "99.0\n",
      "----------------------------------------------------------------------------\n",
      "number of windows= 200 \n",
      "size of windows = 10\n",
      "[1.897910448055041, 1.8978755274026355, 1.8978822163751077, 1.8979002641380456, 1.8936088590245785, 1.886707953946737, 1.8948781538653034, 1.894626027058055, 1.890702363578436, 1.8977851771686214] [0, 3, 2, 1, 9, 6, 7, 4, 8, 5]\n",
      "100.0\n",
      "----------------------------------------------------------------------------\n",
      "number of windows= 200 \n",
      "size of windows = 10\n",
      "[1.8975212402999864, 1.8975068437555338, 1.8975637949150468, 1.8975413051155496, 1.893208435330558, 1.8859946805093073, 1.8963778642108813, 1.89633908386835, 1.8905293694963523, 1.8972956518710018] [2, 3, 0, 1, 9, 6, 7, 4, 8, 5]\n",
      "101.0\n",
      "----------------------------------------------------------------------------\n",
      "number of windows= 200 \n",
      "size of windows = 10\n",
      "[1.8972370641837433, 1.8972478959633348, 1.8972377730766783, 1.8972543136049569, 1.8935668214071653, 1.8860824675947687, 1.8970265458668485, 1.8970265458668485, 1.8901365962745937, 1.8970611312862624] [3, 1, 2, 0, 9, 6, 7, 4, 8, 5]\n",
      "102.0\n",
      "----------------------------------------------------------------------------\n",
      "number of windows= 200 \n",
      "size of windows = 10\n",
      "[1.8974437272962166, 1.8974398173797298, 1.8974532267036202, 1.8974491900866017, 1.8935233303410335, 1.885807646826903, 1.8965619400823979, 1.8965619400823979, 1.8903350297661623, 1.8972890432764078] [2, 3, 0, 1, 9, 6, 7, 4, 8, 5]\n",
      "103.0\n",
      "----------------------------------------------------------------------------\n",
      "number of windows= 200 \n",
      "size of windows = 10\n",
      "[1.898037772642383, 1.898023419494023, 1.8980152985599739, 1.8980352718642737, 1.8946760857261629, 1.8864774727851277, 1.8945220893064982, 1.8944289277580777, 1.889719049925372, 1.8979252709504597] [0, 3, 1, 2, 9, 4, 6, 7, 8, 5]\n",
      "104.0\n",
      "----------------------------------------------------------------------------\n",
      "number of windows= 200 \n",
      "size of windows = 10\n",
      "[1.897528523924377, 1.8975341624972897, 1.8975499367073012, 1.8975428217951602, 1.8933503027066798, 1.8853934099136123, 1.896826430262582, 1.8967877187547453, 1.8899941134469975, 1.8973531778662092] [2, 3, 1, 0, 9, 6, 7, 4, 8, 5]\n",
      "105.0\n",
      "----------------------------------------------------------------------------\n",
      "number of windows= 200 \n",
      "size of windows = 10\n",
      "[1.8973675378209043, 1.8973650171131595, 1.897367153846738, 1.8973669804509, 1.8933522116551742, 1.885660453022425, 1.8969115756731236, 1.8969115756731236, 1.8903970286281444, 1.89716623496974] [0, 2, 3, 1, 9, 6, 7, 4, 8, 5]\n",
      "106.0\n",
      "----------------------------------------------------------------------------\n",
      "number of windows= 200 \n",
      "size of windows = 10\n",
      "[1.8974152101020865, 1.897418124300163, 1.8974221225935928, 1.8974268000151073, 1.8935609504512145, 1.8860557229307482, 1.8965219326673102, 1.8965219326673102, 1.8902782495645485, 1.8972543301243774] [3, 2, 1, 0, 9, 6, 7, 4, 8, 5]\n",
      "107.0\n",
      "----------------------------------------------------------------------------\n",
      "number of windows= 200 \n",
      "size of windows = 10\n",
      "[1.8977043610160496, 1.8977103459449556, 1.8977186696266337, 1.8977130900660037, 1.8928981424756333, 1.8874339535473927, 1.8955190730730809, 1.8955101354051604, 1.8901019624601245, 1.8975732902276352] [2, 3, 1, 0, 9, 6, 7, 4, 8, 5]\n",
      "108.0\n",
      "----------------------------------------------------------------------------\n",
      "number of windows= 200 \n",
      "size of windows = 10\n",
      "[1.8976802770973367, 1.897649768466536, 1.8976639980437924, 1.8977585309084217, 1.8936048776973793, 1.886163147762054, 1.895940016241982, 1.8956643214814461, 1.890237820289307, 1.897514873694923] [3, 0, 2, 1, 9, 6, 7, 4, 8, 5]\n",
      "109.0\n",
      "----------------------------------------------------------------------------\n",
      "number of windows= 200 \n",
      "size of windows = 10\n",
      "[1.897485892979999, 1.89747463364672, 1.8974824968082473, 1.8974890690835773, 1.8935931419997063, 1.8854992658742509, 1.8969670450947098, 1.89697531012335, 1.8895919543711284, 1.897299185015288] [3, 0, 2, 1, 9, 7, 6, 4, 8, 5]\n",
      "110.0\n",
      "----------------------------------------------------------------------------\n",
      "number of windows= 200 \n",
      "size of windows = 10\n",
      "[1.8973900465495002, 1.8973925079389378, 1.897385298442361, 1.8973875831983833, 1.8934228216222362, 1.8863475851899962, 1.8964444937424312, 1.8964444937424312, 1.8904809409342134, 1.8971779980433685] [1, 0, 3, 2, 9, 6, 7, 4, 8, 5]\n",
      "111.0\n",
      "----------------------------------------------------------------------------\n",
      "number of windows= 200 \n",
      "size of windows = 10\n",
      "[1.897628218475295, 1.8976069467503893, 1.8976245968568795, 1.8976254826671652, 1.8939351941497686, 1.885175010987671, 1.896306742705048, 1.8962933124914534, 1.890202184316603, 1.8974677651022667] [0, 3, 2, 1, 9, 6, 7, 4, 8, 5]\n",
      "112.0\n",
      "----------------------------------------------------------------------------\n",
      "number of windows= 200 \n",
      "size of windows = 10\n",
      "[1.8977276789895146, 1.8977324081774234, 1.897720853681734, 1.8977320862899532, 1.8942105020479558, 1.8868483915018741, 1.8955312215872304, 1.8953091781598936, 1.8894352022143068, 1.897624796173965] [1, 3, 0, 2, 9, 6, 7, 4, 8, 5]\n",
      "113.0\n",
      "----------------------------------------------------------------------------\n",
      "number of windows= 200 \n",
      "size of windows = 10\n",
      "[1.8975393608705033, 1.8975347921410002, 1.8975345097750578, 1.8975350072430541, 1.8933530362547693, 1.885908348420501, 1.8962342872000972, 1.8962081158909045, 1.890707823540878, 1.8973152840178995] [0, 3, 1, 2, 9, 6, 7, 4, 8, 5]\n",
      "114.0\n",
      "----------------------------------------------------------------------------\n",
      "number of windows= 66 \n",
      "size of windows = 30\n",
      "[1.9000206972438423, 1.9000316684617728, 1.900165931832908, 1.900089768841327, 1.8900483302941302, 1.8641297893863746, 1.8981260824150719, 1.898088400030384, 1.8977231818295697, 1.9006612306927266] [9, 2, 3, 1, 0, 6, 7, 8, 4, 5]\n",
      "115.0\n",
      "----------------------------------------------------------------------------\n",
      "number of windows= 66 \n",
      "size of windows = 30\n",
      "[1.8994305731493504, 1.8994116354454507, 1.8994974465547856, 1.8994513804082849, 1.8906095032599421, 1.8648014109245408, 1.8986839694755275, 1.8986839694755275, 1.898624988171461, 1.8999330663712808] [9, 2, 3, 0, 1, 6, 7, 8, 4, 5]\n",
      "116.0\n",
      "----------------------------------------------------------------------------\n",
      "number of windows= 66 \n",
      "size of windows = 30\n",
      "[1.899181044572081, 1.899153215127114, 1.899186743154544, 1.899171369806997, 1.889883534302494, 1.8654156384113096, 1.899610449973683, 1.899610449973683, 1.8981486853815905, 1.8998104154579423] [9, 6, 7, 2, 0, 3, 1, 8, 4, 5]\n",
      "117.0\n",
      "----------------------------------------------------------------------------\n",
      "number of windows= 66 \n",
      "size of windows = 30\n",
      "[1.9007962135628447, 1.9008147157023838, 1.9007920887035623, 1.900803447555412, 1.8905138740364476, 1.8672507510575864, 1.8948210607265512, 1.8948188540636068, 1.8969700082831156, 1.901590398076739] [9, 1, 3, 0, 2, 8, 6, 7, 4, 5]\n",
      "118.0\n",
      "----------------------------------------------------------------------------\n",
      "number of windows= 66 \n",
      "size of windows = 30\n",
      "[1.900536593060751, 1.9003984054068597, 1.9005033916576353, 1.9004728749790045, 1.889509741587212, 1.8659141938176502, 1.8964591133707545, 1.8952639083793164, 1.8992485918900883, 1.9008438042376294] [9, 0, 2, 3, 1, 8, 6, 7, 4, 5]\n",
      "119.0\n",
      "----------------------------------------------------------------------------\n",
      "number of windows= 66 \n",
      "size of windows = 30\n",
      "[1.8997538618465266, 1.8997379340002833, 1.8996136469522271, 1.8996938983861735, 1.8891339337101272, 1.8660025665128983, 1.8978038597871922, 1.8978347408843095, 1.8992668046146504, 1.9002870652987687] [9, 0, 1, 3, 2, 8, 7, 6, 4, 5]\n",
      "120.0\n",
      "----------------------------------------------------------------------------\n",
      "number of windows= 66 \n",
      "size of windows = 30\n",
      "[1.8999596428271541, 1.9000329316403055, 1.8999355851746578, 1.899982248256803, 1.8898197523158182, 1.8642432527435575, 1.898844807552889, 1.898844807552889, 1.8970339052807301, 1.90040149923701] [9, 1, 3, 0, 2, 6, 7, 8, 4, 5]\n",
      "121.0\n",
      "----------------------------------------------------------------------------\n",
      "number of windows= 66 \n",
      "size of windows = 30\n",
      "[1.900187535575573, 1.9001743703155236, 1.900063587401883, 1.900143307807685, 1.8893713782446504, 1.866002677452148, 1.8973219821930705, 1.8973302823629377, 1.8976908052732198, 1.9008293003319787] [9, 0, 1, 3, 2, 8, 7, 6, 4, 5]\n",
      "122.0\n",
      "----------------------------------------------------------------------------\n",
      "number of windows= 66 \n",
      "size of windows = 30\n",
      "[1.901063884908605, 1.9009650063556724, 1.9010039082916799, 1.9010259802490808, 1.888862490623309, 1.8678087681130098, 1.893126716117823, 1.8924022298268512, 1.901478902167578, 1.9014266732815013] [8, 9, 0, 3, 2, 1, 6, 7, 4, 5]\n",
      "123.0\n",
      "----------------------------------------------------------------------------\n",
      "number of windows= 66 \n",
      "size of windows = 30\n",
      "[1.9005606631851903, 1.9006969136961327, 1.9006538491843428, 1.9006310082644207, 1.890023435343517, 1.8630372090783693, 1.8980002479543943, 1.8979565968708445, 1.8962464497343654, 1.9012219584013175] [9, 1, 2, 3, 0, 6, 7, 8, 4, 5]\n",
      "124.0\n",
      "----------------------------------------------------------------------------\n",
      "number of windows= 66 \n",
      "size of windows = 30\n",
      "[1.8989467835593397, 1.898885673387052, 1.8989676502871964, 1.8989164412936004, 1.8893161169024266, 1.8684280264248625, 1.8994338911370305, 1.8994338911370305, 1.8975547505491588, 1.8993791172764514] [6, 7, 9, 2, 0, 3, 1, 8, 4, 5]\n",
      "125.0\n",
      "----------------------------------------------------------------------------\n",
      "number of windows= 66 \n",
      "size of windows = 30\n",
      "[1.8996367452235703, 1.8996054129306328, 1.899628973076089, 1.8996291770145142, 1.8895303051740573, 1.8648096527364777, 1.8984688992628354, 1.8984688992628354, 1.8990865163475301, 1.900245104783402] [9, 0, 3, 2, 1, 8, 6, 7, 4, 5]\n",
      "126.0\n",
      "----------------------------------------------------------------------------\n",
      "number of windows= 66 \n",
      "size of windows = 30\n",
      "[1.901063391256657, 1.9010950733207126, 1.9009773160173087, 1.9010723914175853, 1.892454563746794, 1.8633360590119867, 1.8958957033586996, 1.8957937081541252, 1.8958087736065423, 1.9015368033563116] [9, 1, 3, 0, 2, 6, 8, 7, 4, 5]\n",
      "127.0\n",
      "----------------------------------------------------------------------------\n",
      "number of windows= 66 \n",
      "size of windows = 30\n",
      "[1.8999667206238973, 1.900007170792573, 1.9000735286247985, 1.900031765913918, 1.8892352165914255, 1.8651362469066428, 1.8981002646206562, 1.8980550565603251, 1.8980202518910647, 1.9004662167892319] [9, 2, 3, 1, 0, 6, 7, 8, 4, 5]\n",
      "128.0\n",
      "----------------------------------------------------------------------------\n",
      "number of windows= 66 \n",
      "size of windows = 30\n",
      "[1.9001544183154389, 1.900095076863225, 1.9001193590629841, 1.9001344796505835, 1.889825064179691, 1.8599825914564805, 1.8995424750154828, 1.8995424750154828, 1.8988412979141192, 1.9006410175173554] [9, 0, 3, 2, 1, 6, 7, 8, 4, 5]\n",
      "129.0\n",
      "----------------------------------------------------------------------------\n",
      "number of windows= 66 \n",
      "size of windows = 30\n",
      "[1.9001200618615854, 1.9001216319618897, 1.900144724771568, 1.900129423338056, 1.8900518935319233, 1.8617816411381534, 1.8994694340743932, 1.8994694340743932, 1.8971057253777248, 1.9005693940925459] [9, 2, 3, 1, 0, 6, 7, 8, 4, 5]\n",
      "130.0\n",
      "----------------------------------------------------------------------------\n",
      "number of windows= 66 \n",
      "size of windows = 30\n",
      "[1.9004728425273187, 1.9006606498141623, 1.9006091319785556, 1.9005729224183447, 1.887144406482788, 1.8711880296990813, 1.8953391265308261, 1.8953223848383318, 1.896843583548793, 1.901118818952815] [9, 1, 2, 3, 0, 8, 6, 7, 4, 5]\n",
      "131.0\n",
      "----------------------------------------------------------------------------\n",
      "number of windows= 66 \n",
      "size of windows = 30\n",
      "[1.901007404050894, 1.9009301652204071, 1.9009219331503515, 1.901028282897933, 1.890266561017926, 1.862826144435585, 1.896168270003725, 1.8954267004351604, 1.899239412293929, 1.9012417708161045] [9, 3, 0, 1, 2, 8, 6, 7, 4, 5]\n",
      "132.0\n",
      "----------------------------------------------------------------------------\n",
      "number of windows= 66 \n",
      "size of windows = 30\n",
      "[1.900155565361387, 1.9002107388566432, 1.9001766558524338, 1.9001899488690084, 1.8904489289322912, 1.863011054977663, 1.8987491880292335, 1.8988041294917464, 1.8966501778164666, 1.9006288950395085] [9, 1, 3, 2, 0, 7, 6, 8, 4, 5]\n",
      "133.0\n",
      "----------------------------------------------------------------------------\n",
      "number of windows= 66 \n",
      "size of windows = 30\n",
      "[1.8999544165965654, 1.8998644516719607, 1.899983747469303, 1.8999316489908513, 1.8893836563717175, 1.8644246257139996, 1.898679938374837, 1.898679938374837, 1.8976978991341615, 1.900420332485963] [9, 2, 0, 3, 1, 6, 7, 8, 4, 5]\n",
      "134.0\n",
      "----------------------------------------------------------------------------\n",
      "number of windows= 66 \n",
      "size of windows = 30\n",
      "[1.9003434591218011, 1.9003836491978414, 1.9003656451853366, 1.9003609719238628, 1.8910261482718664, 1.858712822683781, 1.8989101097557353, 1.8988867191637984, 1.899095359603566, 1.9008299061038625] [9, 1, 2, 3, 0, 8, 6, 7, 4, 5]\n",
      "135.0\n",
      "----------------------------------------------------------------------------\n",
      "number of windows= 66 \n",
      "size of windows = 30\n",
      "[1.9004414386921282, 1.9004410652541048, 1.90034174023298, 1.9004144999534434, 1.8906375125641972, 1.86663598983946, 1.8964930530987962, 1.8964425451128724, 1.896501808808528, 1.9008084408651125] [9, 0, 1, 3, 2, 8, 6, 7, 4, 5]\n",
      "136.0\n",
      "----------------------------------------------------------------------------\n",
      "number of windows= 66 \n",
      "size of windows = 30\n",
      "[1.8996590047772945, 1.899592890806494, 1.8995566523821905, 1.8995998934315759, 1.8881460569026127, 1.8680898443046465, 1.8985870050831557, 1.8985409344794077, 1.8975836667797097, 1.8998655720778472] [9, 0, 3, 1, 2, 6, 7, 8, 4, 5]\n",
      "137.0\n",
      "----------------------------------------------------------------------------\n"
     ]
    }
   ],
   "source": [
    "dict_mse_sice={}\n",
    "dict_runtime_sice={}\n",
    "\n",
    "for window_size in window_size_list:\n",
    "    method_list = []\n",
    "    runtime=[]\n",
    "\n",
    "    # counter=0\n",
    "    i=0\n",
    "    # while counter+interval <= data_with_target.shape[0]:\n",
    "    for j in range(data_without_target.shape[0]//interval):\n",
    "        start_index=j*interval\n",
    "        end_index=start_index+interval\n",
    "\n",
    "        num_comp=num_comp_list[i]\n",
    "\n",
    "\n",
    "        datacut=data_with_target[start_index:end_index]\n",
    "        X_datacut=datacut.iloc[:,:-1]\n",
    "        Y_datacut=datacut.iloc[:,-1]\n",
    "        st=time.time()#>>>>>>>>>>>>>>>>>>>>>>\n",
    "\n",
    "        selected_features_index=featureSelection(X_datacut,window_size)\n",
    "        \n",
    "        et=time.time()#>>>>>>>>>>>>>>>>>>>>>>\n",
    "        elapsed_time = et - st\n",
    "        runtime.append(elapsed_time)\n",
    "        \n",
    "        selected_data= X_datacut[X_datacut.columns[selected_features_index]].to_numpy()\n",
    "        mse_sice=xgboost_reg_error(selected_data[:,:num_comp],Y_datacut,testSize)\n",
    "        \n",
    "\n",
    "        method_list.append(mse_sice)\n",
    "        #     print( \"method_list\",method_list)\n",
    "        i=i+1\n",
    "        print(counter/interval)\n",
    "        print(\"----------------------------------------------------------------------------\")\n",
    "        counter+=interval\n",
    "    dict_mse_sice[\"sice win={}\".format(window_size)]=method_list\n",
    "    dict_runtime_sice[\"Static-PR win={}\".format(window_size)]=runtime\n",
    "\n",
    "dataframe_2 = pd.DataFrame(dict_mse_sice)\n",
    "dict_rmse['static_PR_rmse']=list(dataframe_2.min(axis=1))\n",
    "df_time_2=pd.DataFrame(dict_runtime_sice)\n",
    "dict_runtime[\"Static_pr_runtime\"]=list(df_time_2.mean(axis=1))"
   ]
  },
  {
   "cell_type": "code",
   "execution_count": 21,
   "metadata": {},
   "outputs": [
    {
     "data": {
      "text/plain": [
       "<AxesSubplot: title={'center': 'num_comp=.'}, xlabel='dataframe segments', ylabel='RMSE'>"
      ]
     },
     "execution_count": 21,
     "metadata": {},
     "output_type": "execute_result"
    },
    {
     "data": {
      "image/png": "[encoded data removed]",
      "text/plain": [
       "<Figure size 1100x700 with 1 Axes>"
      ]
     },
     "metadata": {},
     "output_type": "display_data"
    }
   ],
   "source": [
    "   \n",
    "dataframe = pd.DataFrame(dict_rmse)\n",
    "plt.rcParams[\"figure.figsize\"] = [11,7]\n",
    "dataframe.plot(kind=\"bar\",title=\"num_comp={}\".format(\".\"),ylabel='RMSE',xlabel=\"dataframe segments\")"
   ]
  },
  {
   "cell_type": "code",
   "execution_count": 22,
   "metadata": {},
   "outputs": [
    {
     "data": {
      "text/plain": [
       "<AxesSubplot: title={'center': '.'}, xlabel='dataframe segments', ylabel='Time'>"
      ]
     },
     "execution_count": 22,
     "metadata": {},
     "output_type": "execute_result"
    },
    {
     "data": {
      "image/png": "[encoded data removed]",
      "text/plain": [
       "<Figure size 1100x300 with 1 Axes>"
      ]
     },
     "metadata": {},
     "output_type": "display_data"
    }
   ],
   "source": [
    "time_dataframe = pd.DataFrame(dict_runtime)\n",
    "plt.rcParams[\"figure.figsize\"] = [11,3]\n",
    "time_dataframe.plot(kind=\"line\",title=\"{}\".format(\".\"),ylabel='Time',xlabel=\"dataframe segments\")\n"
   ]
  },
  {
   "cell_type": "code",
   "execution_count": null,
   "metadata": {},
   "outputs": [
    {
     "data": {
      "text/plain": [
       "PCA               0.064049\n",
       "trmf_rmse         0.059762\n",
       "temp_PR_rmse      0.058650\n",
       "static_PR_rmse    0.065891\n",
       "dtype: float64"
      ]
     },
     "execution_count": 18,
     "metadata": {},
     "output_type": "execute_result"
    }
   ],
   "source": [
    "dataframe.mean()"
   ]
  },
  {
   "cell_type": "code",
   "execution_count": 19,
   "metadata": {},
   "outputs": [
    {
     "data": {
      "text/plain": [
       "[9]"
      ]
     },
     "execution_count": 19,
     "metadata": {},
     "output_type": "execute_result"
    }
   ],
   "source": [
    "num_comp_list"
   ]
  },
  {
   "cell_type": "code",
   "execution_count": 20,
   "metadata": {},
   "outputs": [
    {
     "data": {
      "text/html": [
       "<div>\n",
       "<style scoped>\n",
       "    .dataframe tbody tr th:only-of-type {\n",
       "        vertical-align: middle;\n",
       "    }\n",
       "\n",
       "    .dataframe tbody tr th {\n",
       "        vertical-align: top;\n",
       "    }\n",
       "\n",
       "    .dataframe thead th {\n",
       "        text-align: right;\n",
       "    }\n",
       "</style>\n",
       "<table border=\"1\" class=\"dataframe\">\n",
       "  <thead>\n",
       "    <tr style=\"text-align: right;\">\n",
       "      <th></th>\n",
       "      <th>PCA</th>\n",
       "      <th>trmf_rmse</th>\n",
       "      <th>temp_PR_rmse</th>\n",
       "      <th>static_PR_rmse</th>\n",
       "    </tr>\n",
       "  </thead>\n",
       "  <tbody>\n",
       "    <tr>\n",
       "      <th>0</th>\n",
       "      <td>0.064049</td>\n",
       "      <td>0.059762</td>\n",
       "      <td>0.05865</td>\n",
       "      <td>0.065891</td>\n",
       "    </tr>\n",
       "  </tbody>\n",
       "</table>\n",
       "</div>"
      ],
      "text/plain": [
       "        PCA  trmf_rmse  temp_PR_rmse  static_PR_rmse\n",
       "0  0.064049   0.059762       0.05865        0.065891"
      ]
     },
     "execution_count": 20,
     "metadata": {},
     "output_type": "execute_result"
    }
   ],
   "source": [
    "dataframe.head(30)"
   ]
  },
  {
   "cell_type": "code",
   "execution_count": 21,
   "metadata": {},
   "outputs": [],
   "source": [
    "dataframe.loc['Var'] =list(dataframe.var())\n",
    "dataframe.loc['Mean'] =list(dataframe.mean())\n",
    "dataframe.loc['Min'] =list(dataframe.min())\n",
    "dataframe.loc['Max'] =list(dataframe.max())"
   ]
  },
  {
   "cell_type": "code",
   "execution_count": 22,
   "metadata": {},
   "outputs": [
    {
     "data": {
      "text/html": [
       "<div>\n",
       "<style scoped>\n",
       "    .dataframe tbody tr th:only-of-type {\n",
       "        vertical-align: middle;\n",
       "    }\n",
       "\n",
       "    .dataframe tbody tr th {\n",
       "        vertical-align: top;\n",
       "    }\n",
       "\n",
       "    .dataframe thead th {\n",
       "        text-align: right;\n",
       "    }\n",
       "</style>\n",
       "<table border=\"1\" class=\"dataframe\">\n",
       "  <thead>\n",
       "    <tr style=\"text-align: right;\">\n",
       "      <th></th>\n",
       "      <th>PCA</th>\n",
       "      <th>trmf_rmse</th>\n",
       "      <th>temp_PR_rmse</th>\n",
       "      <th>static_PR_rmse</th>\n",
       "    </tr>\n",
       "  </thead>\n",
       "  <tbody>\n",
       "    <tr>\n",
       "      <th>0</th>\n",
       "      <td>0.064049</td>\n",
       "      <td>0.059762</td>\n",
       "      <td>0.05865</td>\n",
       "      <td>0.065891</td>\n",
       "    </tr>\n",
       "    <tr>\n",
       "      <th>Var</th>\n",
       "      <td>NaN</td>\n",
       "      <td>NaN</td>\n",
       "      <td>NaN</td>\n",
       "      <td>NaN</td>\n",
       "    </tr>\n",
       "    <tr>\n",
       "      <th>Mean</th>\n",
       "      <td>0.064049</td>\n",
       "      <td>0.059762</td>\n",
       "      <td>0.05865</td>\n",
       "      <td>0.065891</td>\n",
       "    </tr>\n",
       "    <tr>\n",
       "      <th>Min</th>\n",
       "      <td>0.064049</td>\n",
       "      <td>0.059762</td>\n",
       "      <td>0.05865</td>\n",
       "      <td>0.065891</td>\n",
       "    </tr>\n",
       "    <tr>\n",
       "      <th>Max</th>\n",
       "      <td>0.064049</td>\n",
       "      <td>0.059762</td>\n",
       "      <td>0.05865</td>\n",
       "      <td>0.065891</td>\n",
       "    </tr>\n",
       "  </tbody>\n",
       "</table>\n",
       "</div>"
      ],
      "text/plain": [
       "           PCA  trmf_rmse  temp_PR_rmse  static_PR_rmse\n",
       "0     0.064049   0.059762       0.05865        0.065891\n",
       "Var        NaN        NaN           NaN             NaN\n",
       "Mean  0.064049   0.059762       0.05865        0.065891\n",
       "Min   0.064049   0.059762       0.05865        0.065891\n",
       "Max   0.064049   0.059762       0.05865        0.065891"
      ]
     },
     "execution_count": 22,
     "metadata": {},
     "output_type": "execute_result"
    }
   ],
   "source": [
    "dataframe.head(30)\n"
   ]
  },
  {
   "cell_type": "code",
   "execution_count": 23,
   "metadata": {},
   "outputs": [],
   "source": [
    "# name=\"kaggle-energy={}\".format(tol)\n",
    "# time_dataframe.to_excel(\"time-{}.xlsx\".format(name))  \n",
    "# dataframe.to_excel(\"RMSE-{}.xlsx\".format(name))"
   ]
  }
 ],
 "metadata": {
  "kernelspec": {
   "display_name": "tf",
   "language": "python",
   "name": "python3"
  },
  "language_info": {
   "codemirror_mode": {
    "name": "ipython",
    "version": 3
   },
   "file_extension": ".py",
   "mimetype": "text/x-python",
   "name": "python",
   "nbconvert_exporter": "python",
   "pygments_lexer": "ipython3",
   "version": "3.10.8"
  },
  "orig_nbformat": 4,
  "vscode": {
   "interpreter": {
    "hash": "eb9bb2fa3c6d437e42749e79e4a1d55d8d222e6cc8216a87b1a35470410f9d89"
   }
  }
 },
 "nbformat": 4,
 "nbformat_minor": 2
}
