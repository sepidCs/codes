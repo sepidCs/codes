{
 "cells": [
  {
   "cell_type": "code",
   "execution_count": 2,
   "metadata": {},
   "outputs": [],
   "source": [
    "import numpy as np\n",
    "import pandas as pd \n",
    "\n",
    "import random\n",
    "import sys\n",
    "import matplotlib.pyplot as plt \n",
    "%matplotlib inline\n",
    "\n",
    "sys.path.insert(1,'D:\\\\thesis-main\\codes')\n",
    "import time\n",
    "\n",
    "from package.loadDb import *\n",
    "from package.featureSelection_TENSORIZED import *\n",
    "from package.featureSelection_TEMPORAL_PAGERANK import *\n",
    "from package.featureSelection_SICE import *\n",
    "\n",
    "from package.trmf import *\n",
    "from package.trmf_regressor import *\n",
    "\n",
    "from package.regressors import *\n"
   ]
  },
  {
   "cell_type": "markdown",
   "metadata": {},
   "source": [
    "## KAGGLE"
   ]
  },
  {
   "cell_type": "code",
   "execution_count": 2,
   "metadata": {},
   "outputs": [
    {
     "name": "stdout",
     "output_type": "stream",
     "text": [
      "data with target size =  (46968, 11)\n"
     ]
    }
   ],
   "source": [
    "# import kaggle dataset\n",
    "address = \"..\\database\\kaggleDataFrame\"\n",
    "data_with_target= load_kaggle_dataframe(address+\"\\dataframes.csv\")\n",
    "# data_with_target=data_with_target.iloc[2000:4000]\n",
    "data_without_target = data_with_target.drop(['DEMAND'],axis=1)\n",
    "target=data_with_target.iloc[:,-1]\n",
    "print(\"data with target size = \",data_with_target.shape )"
   ]
  },
  {
   "cell_type": "markdown",
   "metadata": {},
   "source": [
    "## STOCK MARKET"
   ]
  },
  {
   "cell_type": "code",
   "execution_count": null,
   "metadata": {},
   "outputs": [],
   "source": [
    "# # data with target column\n",
    "# address = \"..\\database\\stock market dataset\"\n",
    "# data_with_target=load_stock_market_dataframe(address+\"\\sample_normalized_with_target.csv\")\n",
    "# # data_with_target=data_with_target.iloc[:10000]\n",
    "# data_without_target = data_with_target.drop(['TARGET'],axis=1)\n",
    "# # data_without_target=data_with_target.iloc[:,:-1]\n",
    "# target=data_with_target.iloc[:,-1]"
   ]
  },
  {
   "cell_type": "markdown",
   "metadata": {},
   "source": [
    "## appliances+energy+prediction"
   ]
  },
  {
   "cell_type": "code",
   "execution_count": 7,
   "metadata": {},
   "outputs": [],
   "source": [
    "address = \"..\\\\database\\\\appliances+energy+prediction\\\\energydata_complete.csv\"\n",
    "data_with_target =load_energydata_complete_dataframe(address)\n",
    "data_without_target = data_with_target.drop(['Appliances'],axis=1)\n",
    "target=data_with_target.iloc[:,0]\n",
    "# data_with_target"
   ]
  },
  {
   "cell_type": "markdown",
   "metadata": {},
   "source": [
    "## gas+sensor+array+temperature+modulation"
   ]
  },
  {
   "cell_type": "code",
   "execution_count": 20,
   "metadata": {},
   "outputs": [
    {
     "data": {
      "text/html": [
       "<div>\n",
       "<style scoped>\n",
       "    .dataframe tbody tr th:only-of-type {\n",
       "        vertical-align: middle;\n",
       "    }\n",
       "\n",
       "    .dataframe tbody tr th {\n",
       "        vertical-align: top;\n",
       "    }\n",
       "\n",
       "    .dataframe thead th {\n",
       "        text-align: right;\n",
       "    }\n",
       "</style>\n",
       "<table border=\"1\" class=\"dataframe\">\n",
       "  <thead>\n",
       "    <tr style=\"text-align: right;\">\n",
       "      <th></th>\n",
       "      <th>CO (ppm)</th>\n",
       "      <th>Humidity (%r.h.)</th>\n",
       "      <th>Temperature (C)</th>\n",
       "      <th>Flow rate (mL/min)</th>\n",
       "      <th>Heater voltage (V)</th>\n",
       "      <th>R1 (MOhm)</th>\n",
       "      <th>R2 (MOhm)</th>\n",
       "      <th>R3 (MOhm)</th>\n",
       "      <th>R4 (MOhm)</th>\n",
       "      <th>R5 (MOhm)</th>\n",
       "      <th>R6 (MOhm)</th>\n",
       "      <th>R7 (MOhm)</th>\n",
       "      <th>R8 (MOhm)</th>\n",
       "      <th>R9 (MOhm)</th>\n",
       "      <th>R10 (MOhm)</th>\n",
       "      <th>R11 (MOhm)</th>\n",
       "      <th>R12 (MOhm)</th>\n",
       "      <th>R13 (MOhm)</th>\n",
       "      <th>R14 (MOhm)</th>\n",
       "    </tr>\n",
       "    <tr>\n",
       "      <th>Time (s)</th>\n",
       "      <th></th>\n",
       "      <th></th>\n",
       "      <th></th>\n",
       "      <th></th>\n",
       "      <th></th>\n",
       "      <th></th>\n",
       "      <th></th>\n",
       "      <th></th>\n",
       "      <th></th>\n",
       "      <th></th>\n",
       "      <th></th>\n",
       "      <th></th>\n",
       "      <th></th>\n",
       "      <th></th>\n",
       "      <th></th>\n",
       "      <th></th>\n",
       "      <th></th>\n",
       "      <th></th>\n",
       "      <th></th>\n",
       "    </tr>\n",
       "  </thead>\n",
       "  <tbody>\n",
       "    <tr>\n",
       "      <th>2016-09-30 00:00:00.000</th>\n",
       "      <td>0.0</td>\n",
       "      <td>49.7534</td>\n",
       "      <td>23.7184</td>\n",
       "      <td>233.2737</td>\n",
       "      <td>0.8993</td>\n",
       "      <td>0.2231</td>\n",
       "      <td>0.6365</td>\n",
       "      <td>1.1493</td>\n",
       "      <td>0.8483</td>\n",
       "      <td>1.2534</td>\n",
       "      <td>1.4449</td>\n",
       "      <td>1.9906</td>\n",
       "      <td>1.3303</td>\n",
       "      <td>1.4480</td>\n",
       "      <td>1.9148</td>\n",
       "      <td>3.4651</td>\n",
       "      <td>5.2144</td>\n",
       "      <td>6.5806</td>\n",
       "      <td>8.6385</td>\n",
       "    </tr>\n",
       "    <tr>\n",
       "      <th>2016-09-30 00:00:00.309</th>\n",
       "      <td>0.0</td>\n",
       "      <td>55.8400</td>\n",
       "      <td>26.6200</td>\n",
       "      <td>241.6323</td>\n",
       "      <td>0.2112</td>\n",
       "      <td>2.1314</td>\n",
       "      <td>5.3552</td>\n",
       "      <td>9.7569</td>\n",
       "      <td>6.3188</td>\n",
       "      <td>9.4472</td>\n",
       "      <td>10.5769</td>\n",
       "      <td>13.6317</td>\n",
       "      <td>21.9829</td>\n",
       "      <td>16.1902</td>\n",
       "      <td>24.2780</td>\n",
       "      <td>31.1014</td>\n",
       "      <td>34.7193</td>\n",
       "      <td>31.7505</td>\n",
       "      <td>41.9167</td>\n",
       "    </tr>\n",
       "    <tr>\n",
       "      <th>2016-09-30 00:00:00.618</th>\n",
       "      <td>0.0</td>\n",
       "      <td>55.8400</td>\n",
       "      <td>26.6200</td>\n",
       "      <td>241.3888</td>\n",
       "      <td>0.2070</td>\n",
       "      <td>10.5318</td>\n",
       "      <td>22.5612</td>\n",
       "      <td>37.2635</td>\n",
       "      <td>17.7848</td>\n",
       "      <td>33.0704</td>\n",
       "      <td>36.3160</td>\n",
       "      <td>42.5746</td>\n",
       "      <td>49.7495</td>\n",
       "      <td>31.7533</td>\n",
       "      <td>57.7289</td>\n",
       "      <td>53.6275</td>\n",
       "      <td>56.9212</td>\n",
       "      <td>47.8255</td>\n",
       "      <td>62.9436</td>\n",
       "    </tr>\n",
       "    <tr>\n",
       "      <th>2016-09-30 00:00:00.926</th>\n",
       "      <td>0.0</td>\n",
       "      <td>55.8400</td>\n",
       "      <td>26.6200</td>\n",
       "      <td>241.1461</td>\n",
       "      <td>0.2042</td>\n",
       "      <td>29.5749</td>\n",
       "      <td>49.5111</td>\n",
       "      <td>65.6318</td>\n",
       "      <td>26.1447</td>\n",
       "      <td>58.3847</td>\n",
       "      <td>67.5130</td>\n",
       "      <td>68.0064</td>\n",
       "      <td>59.2824</td>\n",
       "      <td>36.7821</td>\n",
       "      <td>66.0832</td>\n",
       "      <td>66.8349</td>\n",
       "      <td>66.9695</td>\n",
       "      <td>50.3730</td>\n",
       "      <td>64.8363</td>\n",
       "    </tr>\n",
       "    <tr>\n",
       "      <th>2016-09-30 00:00:01.234</th>\n",
       "      <td>0.0</td>\n",
       "      <td>55.8400</td>\n",
       "      <td>26.6200</td>\n",
       "      <td>240.9121</td>\n",
       "      <td>0.2030</td>\n",
       "      <td>49.5111</td>\n",
       "      <td>67.0368</td>\n",
       "      <td>77.8317</td>\n",
       "      <td>27.9625</td>\n",
       "      <td>71.7732</td>\n",
       "      <td>79.9474</td>\n",
       "      <td>79.8631</td>\n",
       "      <td>62.5385</td>\n",
       "      <td>39.6271</td>\n",
       "      <td>68.1441</td>\n",
       "      <td>62.0947</td>\n",
       "      <td>49.4614</td>\n",
       "      <td>52.8453</td>\n",
       "      <td>66.8445</td>\n",
       "    </tr>\n",
       "  </tbody>\n",
       "</table>\n",
       "</div>"
      ],
      "text/plain": [
       "                         CO (ppm)  Humidity (%r.h.)  Temperature (C)  \\\n",
       "Time (s)                                                               \n",
       "2016-09-30 00:00:00.000       0.0           49.7534          23.7184   \n",
       "2016-09-30 00:00:00.309       0.0           55.8400          26.6200   \n",
       "2016-09-30 00:00:00.618       0.0           55.8400          26.6200   \n",
       "2016-09-30 00:00:00.926       0.0           55.8400          26.6200   \n",
       "2016-09-30 00:00:01.234       0.0           55.8400          26.6200   \n",
       "\n",
       "                         Flow rate (mL/min)  Heater voltage (V)  R1 (MOhm)  \\\n",
       "Time (s)                                                                     \n",
       "2016-09-30 00:00:00.000            233.2737              0.8993     0.2231   \n",
       "2016-09-30 00:00:00.309            241.6323              0.2112     2.1314   \n",
       "2016-09-30 00:00:00.618            241.3888              0.2070    10.5318   \n",
       "2016-09-30 00:00:00.926            241.1461              0.2042    29.5749   \n",
       "2016-09-30 00:00:01.234            240.9121              0.2030    49.5111   \n",
       "\n",
       "                         R2 (MOhm)  R3 (MOhm)  R4 (MOhm)  R5 (MOhm)  \\\n",
       "Time (s)                                                              \n",
       "2016-09-30 00:00:00.000     0.6365     1.1493     0.8483     1.2534   \n",
       "2016-09-30 00:00:00.309     5.3552     9.7569     6.3188     9.4472   \n",
       "2016-09-30 00:00:00.618    22.5612    37.2635    17.7848    33.0704   \n",
       "2016-09-30 00:00:00.926    49.5111    65.6318    26.1447    58.3847   \n",
       "2016-09-30 00:00:01.234    67.0368    77.8317    27.9625    71.7732   \n",
       "\n",
       "                         R6 (MOhm)  R7 (MOhm)  R8 (MOhm)  R9 (MOhm)  \\\n",
       "Time (s)                                                              \n",
       "2016-09-30 00:00:00.000     1.4449     1.9906     1.3303     1.4480   \n",
       "2016-09-30 00:00:00.309    10.5769    13.6317    21.9829    16.1902   \n",
       "2016-09-30 00:00:00.618    36.3160    42.5746    49.7495    31.7533   \n",
       "2016-09-30 00:00:00.926    67.5130    68.0064    59.2824    36.7821   \n",
       "2016-09-30 00:00:01.234    79.9474    79.8631    62.5385    39.6271   \n",
       "\n",
       "                         R10 (MOhm)  R11 (MOhm)  R12 (MOhm)  R13 (MOhm)  \\\n",
       "Time (s)                                                                  \n",
       "2016-09-30 00:00:00.000      1.9148      3.4651      5.2144      6.5806   \n",
       "2016-09-30 00:00:00.309     24.2780     31.1014     34.7193     31.7505   \n",
       "2016-09-30 00:00:00.618     57.7289     53.6275     56.9212     47.8255   \n",
       "2016-09-30 00:00:00.926     66.0832     66.8349     66.9695     50.3730   \n",
       "2016-09-30 00:00:01.234     68.1441     62.0947     49.4614     52.8453   \n",
       "\n",
       "                         R14 (MOhm)  \n",
       "Time (s)                             \n",
       "2016-09-30 00:00:00.000      8.6385  \n",
       "2016-09-30 00:00:00.309     41.9167  \n",
       "2016-09-30 00:00:00.618     62.9436  \n",
       "2016-09-30 00:00:00.926     64.8363  \n",
       "2016-09-30 00:00:01.234     66.8445  "
      ]
     },
     "execution_count": 20,
     "metadata": {},
     "output_type": "execute_result"
    }
   ],
   "source": [
    "address='..\\\\database\\\\gas+sensor+array+temperature+modulation'\n",
    "filenamelist=['20160930_203718.csv', '20161001_231809.csv', '20161003_085624.csv', '20161004_104124.csv', \n",
    "              '20161005_140846.csv', '20161006_182224.csv', '20161007_210049.csv', '20161008_234508.csv',\n",
    "              '20161010_095046.csv', '20161011_113032.csv', '20161013_143355.csv', '20161014_184659.csv', '20161016_053656.csv']\n",
    "# Assuming the file name is in the format \"20160930_203718.csv\"\n",
    "filename = filenamelist[0]\n",
    "data=load_temperature_modulation(address,filename)\n",
    "\n",
    "data.head()\n"
   ]
  },
  {
   "cell_type": "markdown",
   "metadata": {},
   "source": [
    "## gas+sensor+array+under+dynamic+gas+mixtures"
   ]
  },
  {
   "cell_type": "code",
   "execution_count": null,
   "metadata": {},
   "outputs": [],
   "source": []
  },
  {
   "cell_type": "markdown",
   "metadata": {},
   "source": [
    "# RUN"
   ]
  },
  {
   "cell_type": "code",
   "execution_count": null,
   "metadata": {},
   "outputs": [],
   "source": [
    "#segment sizes\n",
    "interval=2000\n",
    "testSize=500\n",
    "#energy of pca to compute number of components\n",
    "tol=.89\n"
   ]
  },
  {
   "cell_type": "code",
   "execution_count": null,
   "metadata": {},
   "outputs": [],
   "source": [
    "#dictionary contains rmse of test set of each segment for all methods\n",
    "dict_rmse={}\n",
    "dict_runtime={}"
   ]
  },
  {
   "attachments": {},
   "cell_type": "markdown",
   "metadata": {},
   "source": [
    "PCA"
   ]
  },
  {
   "cell_type": "code",
   "execution_count": null,
   "metadata": {},
   "outputs": [],
   "source": [
    "counter=0\n",
    "pca_list=[]\n",
    "num_comp_list=[]\n",
    "runtime=[]\n",
    "# while counter+interval <= data_without_target.shape[0]:\n",
    "for i in range(data_without_target.shape[0]//interval):\n",
    "    start_index=i*interval\n",
    "    end_index=start_index+interval\n",
    "\n",
    "    datacut=data_with_target[start_index:end_index]\n",
    "    X_datacut=datacut.iloc[:,:-1]\n",
    "    Y_datacut=datacut.iloc[:,-1]\n",
    "    # print(counter,X_datacut.shape)\n",
    "    st = time.time()\n",
    "    X_transformed,eigenvalues=compute_pca(X_datacut,num_comp=None)\n",
    "    et = time.time()\n",
    "    num_comp=energy(eigenvalues,tol)\n",
    "    X_pca=X_transformed[:,:num_comp]\n",
    "    \n",
    "    pca_rmse=xgboost_reg_error(X_pca,Y_datacut,testSize)\n",
    "\n",
    "    pca_list.append(pca_rmse)##########################\n",
    "    num_comp_list.append(num_comp)##########################\n",
    "\n",
    "    elapsed_time = et - st\n",
    "    runtime.append(elapsed_time)\n",
    "    \n",
    "\n",
    "    # counter+=interval\n",
    "    \n",
    "dict_rmse['PCA']=pca_list\n",
    "dict_runtime[\"PCA_runtime\"]=runtime"
   ]
  },
  {
   "cell_type": "code",
   "execution_count": null,
   "metadata": {},
   "outputs": [],
   "source": [
    "num_comp_list"
   ]
  },
  {
   "attachments": {},
   "cell_type": "markdown",
   "metadata": {},
   "source": [
    "TRMF"
   ]
  },
  {
   "cell_type": "code",
   "execution_count": null,
   "metadata": {},
   "outputs": [],
   "source": [
    "# trmf parameters..............................................\n",
    "lags = [1,30]\n",
    "# K = 4######### changes besed on pca energy\n",
    "lambda_f = 1.\n",
    "lambda_x = 1\n",
    "lambda_w = 1.\n",
    "alpha = 1000.\n",
    "eta = 1.\n",
    "max_iteration=10000\n",
    "# num_comp=K"
   ]
  },
  {
   "cell_type": "code",
   "execution_count": null,
   "metadata": {},
   "outputs": [],
   "source": [
    "trmf_rmse_list=[]\n",
    "runtime=[]\n",
    "\n",
    "counter=0\n",
    "i=0\n",
    "# while counter+interval <= data_without_target.shape[0]:\n",
    "for j in range(data_without_target.shape[0]//interval):\n",
    "    start_index=j*interval\n",
    "    end_index=start_index+interval\n",
    "    \n",
    "    K=num_comp_list[i]\n",
    "\n",
    "    data=data_without_target.to_numpy().T\n",
    "\n",
    "    data=data[:,start_index:end_index]\n",
    "    target_cut=target.iloc[start_index:end_index]\n",
    "\n",
    "    T_train = data.shape[1]\n",
    "    st=time.time()#>>>>>>>>>>>>>>>>>>>>>>\n",
    "    data_normalized =normalized_data(data, T_train, 0, normalize=True)\n",
    "\n",
    "    model = trmf(lags, K, lambda_f, lambda_x, lambda_w, alpha, eta)\n",
    "    model.fit(data_normalized, max_iter = max_iteration)\n",
    "    et=time.time()#>>>>>>>>>>>>>>>>>>>>>>\n",
    "    elapsed_time = et - st\n",
    "    runtime.append(elapsed_time)\n",
    "\n",
    "    # get reduced data\n",
    "    new_features=model.X.T\n",
    "    \n",
    "    rmse=xgboost_reg_error(new_features,target_cut,testSize)\n",
    "    \n",
    "    trmf_rmse_list.append(rmse)\n",
    "    # counter+=interval\n",
    "    i=i+1\n",
    "    print(i,K)\n",
    "    print(\"----------------------------------------------------------------------------\")\n",
    "dict_rmse['trmf_rmse']=trmf_rmse_list\n",
    "dict_runtime[\"TRMF_runtime\"]=runtime\n"
   ]
  },
  {
   "attachments": {},
   "cell_type": "markdown",
   "metadata": {},
   "source": [
    "TEMPORAL PAGE RANK FEATURE SELECTION"
   ]
  },
  {
   "cell_type": "code",
   "execution_count": null,
   "metadata": {},
   "outputs": [],
   "source": [
    "window_size_list=[2,3,5,7,10,30]#"
   ]
  },
  {
   "cell_type": "code",
   "execution_count": null,
   "metadata": {},
   "outputs": [],
   "source": [
    "\n",
    "\n",
    "dict_mse_tpr={}\n",
    "dict_runtime_tpr={}\n",
    "for window_size in window_size_list :\n",
    "    method_list = []\n",
    "    runtime=[]\n",
    "\n",
    "    # counter=0\n",
    "    i=0\n",
    "    # while counter+interval <= data_without_target.shape[0]:\n",
    "    for j in range(data_without_target.shape[0]//interval):\n",
    "        start_index=j*interval\n",
    "        end_index=start_index+interval\n",
    "\n",
    "        num_comp=num_comp_list[i]\n",
    "\n",
    "        datacut=data_with_target[start_index:end_index]\n",
    "        X_datacut=datacut.iloc[:,:-1]\n",
    "        Y_datacut=datacut.iloc[:,-1]\n",
    "\n",
    "\n",
    "        st=time.time()#>>>>>>>>>>>>>>>>>>>>>>\n",
    "        \n",
    "        arr=create_graph_details(X_datacut,window_size)\n",
    "        a=featureSelection_tpr(arr,X_datacut.shape[1],num_comp)\n",
    "       \n",
    "        et=time.time()#>>>>>>>>>>>>>>>>>>>>>>\n",
    "        elapsed_time = et - st\n",
    "        runtime.append(elapsed_time)\n",
    "\n",
    "\n",
    "        mse_tpr=xgboost_reg_error(X_datacut[X_datacut.columns[a][0]].values,Y_datacut,testSize)\n",
    "\n",
    "        method_list.append(mse_tpr)\n",
    "        #     print( \"method_list\",method_list)\n",
    "        i=i+1\n",
    "        # print(j)\n",
    "        # print(\"----------------------------------------------------------------------------\")\n",
    "        # counter+=interval\n",
    "    dict_mse_tpr[\"Temp-PR win={}\".format(window_size)]=method_list\n",
    "    dict_runtime_tpr[\"Temporal-PR win={}\".format(window_size)]=runtime\n",
    "\n",
    "\n",
    "dataframe_1 = pd.DataFrame(dict_mse_tpr)\n",
    "dict_rmse['temp_PR_rmse']=list(dataframe_1.min(axis=1))\n",
    "df_time_1=pd.DataFrame(dict_runtime_tpr)\n",
    "dict_runtime[\"Temporal_pr_runtime\"]=list(df_time_1.mean(axis=1))\n"
   ]
  },
  {
   "cell_type": "markdown",
   "metadata": {},
   "source": [
    "## STATIC PR\n"
   ]
  },
  {
   "cell_type": "code",
   "execution_count": null,
   "metadata": {},
   "outputs": [],
   "source": [
    "dict_mse_sice={}\n",
    "dict_runtime_sice={}\n",
    "\n",
    "for window_size in window_size_list:\n",
    "    method_list = []\n",
    "    runtime=[]\n",
    "\n",
    "    # counter=0\n",
    "    i=0\n",
    "    # while counter+interval <= data_with_target.shape[0]:\n",
    "    for j in range(data_without_target.shape[0]//interval):\n",
    "        start_index=j*interval\n",
    "        end_index=start_index+interval\n",
    "\n",
    "        num_comp=num_comp_list[i]\n",
    "\n",
    "\n",
    "        datacut=data_with_target[start_index:end_index]\n",
    "        X_datacut=datacut.iloc[:,:-1]\n",
    "        Y_datacut=datacut.iloc[:,-1]\n",
    "        st=time.time()#>>>>>>>>>>>>>>>>>>>>>>\n",
    "\n",
    "        selected_features_index=featureSelection(X_datacut,window_size)\n",
    "        \n",
    "        et=time.time()#>>>>>>>>>>>>>>>>>>>>>>\n",
    "        elapsed_time = et - st\n",
    "        runtime.append(elapsed_time)\n",
    "        \n",
    "        selected_data= X_datacut[X_datacut.columns[selected_features_index]].to_numpy()\n",
    "        mse_sice=xgboost_reg_error(selected_data[:,:num_comp],Y_datacut,testSize)\n",
    "        \n",
    "\n",
    "        method_list.append(mse_sice)\n",
    "        #     print( \"method_list\",method_list)\n",
    "        i=i+1\n",
    "        print(counter/interval)\n",
    "        print(\"----------------------------------------------------------------------------\")\n",
    "        counter+=interval\n",
    "    dict_mse_sice[\"sice win={}\".format(window_size)]=method_list\n",
    "    dict_runtime_sice[\"Static-PR win={}\".format(window_size)]=runtime\n",
    "\n",
    "dataframe_2 = pd.DataFrame(dict_mse_sice)\n",
    "dict_rmse['static_PR_rmse']=list(dataframe_2.min(axis=1))\n",
    "df_time_2=pd.DataFrame(dict_runtime_sice)\n",
    "dict_runtime[\"Static_pr_runtime\"]=list(df_time_2.mean(axis=1))"
   ]
  },
  {
   "cell_type": "code",
   "execution_count": null,
   "metadata": {},
   "outputs": [],
   "source": [
    "   \n",
    "dataframe = pd.DataFrame(dict_rmse)\n",
    "plt.rcParams[\"figure.figsize\"] = [11,7]\n",
    "dataframe.plot(kind=\"bar\",title=\"num_comp={}\".format(\".\"),ylabel='RMSE',xlabel=\"dataframe segments\")"
   ]
  },
  {
   "cell_type": "code",
   "execution_count": null,
   "metadata": {},
   "outputs": [],
   "source": [
    "time_dataframe = pd.DataFrame(dict_runtime)\n",
    "plt.rcParams[\"figure.figsize\"] = [11,3]\n",
    "time_dataframe.plot(kind=\"line\",title=\"{}\".format(\".\"),ylabel='Time',xlabel=\"dataframe segments\")\n"
   ]
  },
  {
   "cell_type": "code",
   "execution_count": null,
   "metadata": {},
   "outputs": [],
   "source": [
    "dataframe.mean()"
   ]
  },
  {
   "cell_type": "code",
   "execution_count": null,
   "metadata": {},
   "outputs": [],
   "source": [
    "num_comp_list"
   ]
  },
  {
   "cell_type": "code",
   "execution_count": null,
   "metadata": {},
   "outputs": [],
   "source": [
    "dataframe.head(30)"
   ]
  },
  {
   "cell_type": "code",
   "execution_count": null,
   "metadata": {},
   "outputs": [],
   "source": [
    "dataframe.loc['Var'] =list(dataframe.var())\n",
    "dataframe.loc['Mean'] =list(dataframe.mean())\n",
    "dataframe.loc['Min'] =list(dataframe.min())\n",
    "dataframe.loc['Max'] =list(dataframe.max())"
   ]
  },
  {
   "cell_type": "code",
   "execution_count": null,
   "metadata": {},
   "outputs": [],
   "source": [
    "dataframe.head(30)\n"
   ]
  },
  {
   "cell_type": "code",
   "execution_count": null,
   "metadata": {},
   "outputs": [],
   "source": [
    "# name=\"kaggle-energy={}\".format(tol)\n",
    "# time_dataframe.to_excel(\"time-{}.xlsx\".format(name))  \n",
    "# dataframe.to_excel(\"RMSE-{}.xlsx\".format(name))"
   ]
  }
 ],
 "metadata": {
  "kernelspec": {
   "display_name": "tf",
   "language": "python",
   "name": "python3"
  },
  "language_info": {
   "codemirror_mode": {
    "name": "ipython",
    "version": 3
   },
   "file_extension": ".py",
   "mimetype": "text/x-python",
   "name": "python",
   "nbconvert_exporter": "python",
   "pygments_lexer": "ipython3",
   "version": "3.10.8"
  },
  "orig_nbformat": 4,
  "vscode": {
   "interpreter": {
    "hash": "eb9bb2fa3c6d437e42749e79e4a1d55d8d222e6cc8216a87b1a35470410f9d89"
   }
  }
 },
 "nbformat": 4,
 "nbformat_minor": 2
}
