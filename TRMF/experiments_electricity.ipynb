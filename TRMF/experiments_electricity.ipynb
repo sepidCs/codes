{
 "cells": [
  {
   "cell_type": "code",
   "execution_count": 1,
   "metadata": {
    "collapsed": true
   },
   "outputs": [],
   "source": [
    "import numpy as np\n",
    "import pandas as pd\n",
    "import random\n",
    "\n",
    "from trmf import trmf\n",
    "from Forecast import AutoRegressionModel, NaiveModel, MeanModel\n",
    "from RollingCV import RollingCV\n",
    "\n",
    "import matplotlib.pyplot as plt\n",
    "%matplotlib inline"
   ]
  },
  {
   "cell_type": "markdown",
   "metadata": {},
   "source": [
    "# Experiments on electricity data"
   ]
  },
  {
   "cell_type": "markdown",
   "metadata": {},
   "source": [
    "#### 1. Experiment description:\n",
    "\n",
    "** Models: ** Naive, Mean, AutoRegression and TRMF models;\n",
    "\n",
    "** Lags: ** {1, 24};\n",
    "\n",
    "** Forecast horizon: ** 1, 5, 10, 20;\n",
    "\n",
    "** Metrics: ** Normalized deviation (ND), Normalized Root Mean Squared Error (NRMSE)."
   ]
  },
  {
   "cell_type": "markdown",
   "metadata": {},
   "source": [
    "##### 2. Load data."
   ]
  },
  {
   "cell_type": "code",
   "execution_count": 2,
   "metadata": {
    "collapsed": true
   },
   "outputs": [],
   "source": [
    "electricity = pd.read_table('LD2011_2014.txt', sep=';', decimal=',')"
   ]
  },
  {
   "cell_type": "code",
   "execution_count": 11,
   "metadata": {},
   "outputs": [
    {
     "data": {
      "text/html": [
       "<div>\n",
       "<style scoped>\n",
       "    .dataframe tbody tr th:only-of-type {\n",
       "        vertical-align: middle;\n",
       "    }\n",
       "\n",
       "    .dataframe tbody tr th {\n",
       "        vertical-align: top;\n",
       "    }\n",
       "\n",
       "    .dataframe thead th {\n",
       "        text-align: right;\n",
       "    }\n",
       "</style>\n",
       "<table border=\"1\" class=\"dataframe\">\n",
       "  <thead>\n",
       "    <tr style=\"text-align: right;\">\n",
       "      <th></th>\n",
       "      <th>Unnamed: 0</th>\n",
       "      <th>MT_001</th>\n",
       "      <th>MT_002</th>\n",
       "      <th>MT_003</th>\n",
       "      <th>MT_004</th>\n",
       "      <th>MT_005</th>\n",
       "      <th>MT_006</th>\n",
       "      <th>MT_007</th>\n",
       "      <th>MT_008</th>\n",
       "      <th>MT_009</th>\n",
       "      <th>...</th>\n",
       "      <th>MT_361</th>\n",
       "      <th>MT_362</th>\n",
       "      <th>MT_363</th>\n",
       "      <th>MT_364</th>\n",
       "      <th>MT_365</th>\n",
       "      <th>MT_366</th>\n",
       "      <th>MT_367</th>\n",
       "      <th>MT_368</th>\n",
       "      <th>MT_369</th>\n",
       "      <th>MT_370</th>\n",
       "    </tr>\n",
       "  </thead>\n",
       "  <tbody>\n",
       "    <tr>\n",
       "      <th>0</th>\n",
       "      <td>2011-01-01 00:15:00</td>\n",
       "      <td>0.000000</td>\n",
       "      <td>0.000000</td>\n",
       "      <td>0.000000</td>\n",
       "      <td>0.000000</td>\n",
       "      <td>0.000000</td>\n",
       "      <td>0.000000</td>\n",
       "      <td>0.000000</td>\n",
       "      <td>0.000000</td>\n",
       "      <td>0.000000</td>\n",
       "      <td>...</td>\n",
       "      <td>0.000000</td>\n",
       "      <td>0.0</td>\n",
       "      <td>0.000000</td>\n",
       "      <td>0.000000</td>\n",
       "      <td>0.000000</td>\n",
       "      <td>0.000000</td>\n",
       "      <td>0.000000</td>\n",
       "      <td>0.000000</td>\n",
       "      <td>0.000000</td>\n",
       "      <td>0.000000</td>\n",
       "    </tr>\n",
       "    <tr>\n",
       "      <th>1</th>\n",
       "      <td>2011-01-01 00:30:00</td>\n",
       "      <td>0.000000</td>\n",
       "      <td>0.000000</td>\n",
       "      <td>0.000000</td>\n",
       "      <td>0.000000</td>\n",
       "      <td>0.000000</td>\n",
       "      <td>0.000000</td>\n",
       "      <td>0.000000</td>\n",
       "      <td>0.000000</td>\n",
       "      <td>0.000000</td>\n",
       "      <td>...</td>\n",
       "      <td>0.000000</td>\n",
       "      <td>0.0</td>\n",
       "      <td>0.000000</td>\n",
       "      <td>0.000000</td>\n",
       "      <td>0.000000</td>\n",
       "      <td>0.000000</td>\n",
       "      <td>0.000000</td>\n",
       "      <td>0.000000</td>\n",
       "      <td>0.000000</td>\n",
       "      <td>0.000000</td>\n",
       "    </tr>\n",
       "    <tr>\n",
       "      <th>2</th>\n",
       "      <td>2011-01-01 00:45:00</td>\n",
       "      <td>0.000000</td>\n",
       "      <td>0.000000</td>\n",
       "      <td>0.000000</td>\n",
       "      <td>0.000000</td>\n",
       "      <td>0.000000</td>\n",
       "      <td>0.000000</td>\n",
       "      <td>0.000000</td>\n",
       "      <td>0.000000</td>\n",
       "      <td>0.000000</td>\n",
       "      <td>...</td>\n",
       "      <td>0.000000</td>\n",
       "      <td>0.0</td>\n",
       "      <td>0.000000</td>\n",
       "      <td>0.000000</td>\n",
       "      <td>0.000000</td>\n",
       "      <td>0.000000</td>\n",
       "      <td>0.000000</td>\n",
       "      <td>0.000000</td>\n",
       "      <td>0.000000</td>\n",
       "      <td>0.000000</td>\n",
       "    </tr>\n",
       "    <tr>\n",
       "      <th>3</th>\n",
       "      <td>2011-01-01 01:00:00</td>\n",
       "      <td>0.000000</td>\n",
       "      <td>0.000000</td>\n",
       "      <td>0.000000</td>\n",
       "      <td>0.000000</td>\n",
       "      <td>0.000000</td>\n",
       "      <td>0.000000</td>\n",
       "      <td>0.000000</td>\n",
       "      <td>0.000000</td>\n",
       "      <td>0.000000</td>\n",
       "      <td>...</td>\n",
       "      <td>0.000000</td>\n",
       "      <td>0.0</td>\n",
       "      <td>0.000000</td>\n",
       "      <td>0.000000</td>\n",
       "      <td>0.000000</td>\n",
       "      <td>0.000000</td>\n",
       "      <td>0.000000</td>\n",
       "      <td>0.000000</td>\n",
       "      <td>0.000000</td>\n",
       "      <td>0.000000</td>\n",
       "    </tr>\n",
       "    <tr>\n",
       "      <th>4</th>\n",
       "      <td>2011-01-01 01:15:00</td>\n",
       "      <td>0.000000</td>\n",
       "      <td>0.000000</td>\n",
       "      <td>0.000000</td>\n",
       "      <td>0.000000</td>\n",
       "      <td>0.000000</td>\n",
       "      <td>0.000000</td>\n",
       "      <td>0.000000</td>\n",
       "      <td>0.000000</td>\n",
       "      <td>0.000000</td>\n",
       "      <td>...</td>\n",
       "      <td>0.000000</td>\n",
       "      <td>0.0</td>\n",
       "      <td>0.000000</td>\n",
       "      <td>0.000000</td>\n",
       "      <td>0.000000</td>\n",
       "      <td>0.000000</td>\n",
       "      <td>0.000000</td>\n",
       "      <td>0.000000</td>\n",
       "      <td>0.000000</td>\n",
       "      <td>0.000000</td>\n",
       "    </tr>\n",
       "    <tr>\n",
       "      <th>...</th>\n",
       "      <td>...</td>\n",
       "      <td>...</td>\n",
       "      <td>...</td>\n",
       "      <td>...</td>\n",
       "      <td>...</td>\n",
       "      <td>...</td>\n",
       "      <td>...</td>\n",
       "      <td>...</td>\n",
       "      <td>...</td>\n",
       "      <td>...</td>\n",
       "      <td>...</td>\n",
       "      <td>...</td>\n",
       "      <td>...</td>\n",
       "      <td>...</td>\n",
       "      <td>...</td>\n",
       "      <td>...</td>\n",
       "      <td>...</td>\n",
       "      <td>...</td>\n",
       "      <td>...</td>\n",
       "      <td>...</td>\n",
       "      <td>...</td>\n",
       "    </tr>\n",
       "    <tr>\n",
       "      <th>140251</th>\n",
       "      <td>2014-12-31 23:00:00</td>\n",
       "      <td>2.538071</td>\n",
       "      <td>22.048364</td>\n",
       "      <td>1.737619</td>\n",
       "      <td>150.406504</td>\n",
       "      <td>85.365854</td>\n",
       "      <td>303.571429</td>\n",
       "      <td>11.305822</td>\n",
       "      <td>282.828283</td>\n",
       "      <td>68.181818</td>\n",
       "      <td>...</td>\n",
       "      <td>276.945039</td>\n",
       "      <td>28200.0</td>\n",
       "      <td>1616.033755</td>\n",
       "      <td>1363.636364</td>\n",
       "      <td>29.986962</td>\n",
       "      <td>5.851375</td>\n",
       "      <td>697.102722</td>\n",
       "      <td>176.961603</td>\n",
       "      <td>651.026393</td>\n",
       "      <td>7621.621622</td>\n",
       "    </tr>\n",
       "    <tr>\n",
       "      <th>140252</th>\n",
       "      <td>2014-12-31 23:15:00</td>\n",
       "      <td>2.538071</td>\n",
       "      <td>21.337127</td>\n",
       "      <td>1.737619</td>\n",
       "      <td>166.666667</td>\n",
       "      <td>81.707317</td>\n",
       "      <td>324.404762</td>\n",
       "      <td>11.305822</td>\n",
       "      <td>252.525253</td>\n",
       "      <td>64.685315</td>\n",
       "      <td>...</td>\n",
       "      <td>279.800143</td>\n",
       "      <td>28300.0</td>\n",
       "      <td>1569.620253</td>\n",
       "      <td>1340.909091</td>\n",
       "      <td>29.986962</td>\n",
       "      <td>9.947338</td>\n",
       "      <td>671.641791</td>\n",
       "      <td>168.614357</td>\n",
       "      <td>669.354839</td>\n",
       "      <td>6702.702703</td>\n",
       "    </tr>\n",
       "    <tr>\n",
       "      <th>140253</th>\n",
       "      <td>2014-12-31 23:30:00</td>\n",
       "      <td>2.538071</td>\n",
       "      <td>20.625889</td>\n",
       "      <td>1.737619</td>\n",
       "      <td>162.601626</td>\n",
       "      <td>82.926829</td>\n",
       "      <td>318.452381</td>\n",
       "      <td>10.175240</td>\n",
       "      <td>242.424242</td>\n",
       "      <td>61.188811</td>\n",
       "      <td>...</td>\n",
       "      <td>284.796574</td>\n",
       "      <td>27800.0</td>\n",
       "      <td>1556.962025</td>\n",
       "      <td>1318.181818</td>\n",
       "      <td>27.379400</td>\n",
       "      <td>9.362200</td>\n",
       "      <td>670.763828</td>\n",
       "      <td>153.589316</td>\n",
       "      <td>670.087977</td>\n",
       "      <td>6864.864865</td>\n",
       "    </tr>\n",
       "    <tr>\n",
       "      <th>140254</th>\n",
       "      <td>2014-12-31 23:45:00</td>\n",
       "      <td>1.269036</td>\n",
       "      <td>21.337127</td>\n",
       "      <td>1.737619</td>\n",
       "      <td>166.666667</td>\n",
       "      <td>85.365854</td>\n",
       "      <td>285.714286</td>\n",
       "      <td>10.175240</td>\n",
       "      <td>225.589226</td>\n",
       "      <td>64.685315</td>\n",
       "      <td>...</td>\n",
       "      <td>246.252677</td>\n",
       "      <td>28000.0</td>\n",
       "      <td>1443.037975</td>\n",
       "      <td>909.090909</td>\n",
       "      <td>26.075619</td>\n",
       "      <td>4.095963</td>\n",
       "      <td>664.618086</td>\n",
       "      <td>146.911519</td>\n",
       "      <td>646.627566</td>\n",
       "      <td>6540.540541</td>\n",
       "    </tr>\n",
       "    <tr>\n",
       "      <th>140255</th>\n",
       "      <td>2015-01-01 00:00:00</td>\n",
       "      <td>2.538071</td>\n",
       "      <td>19.914651</td>\n",
       "      <td>1.737619</td>\n",
       "      <td>178.861789</td>\n",
       "      <td>84.146341</td>\n",
       "      <td>279.761905</td>\n",
       "      <td>10.175240</td>\n",
       "      <td>249.158249</td>\n",
       "      <td>62.937063</td>\n",
       "      <td>...</td>\n",
       "      <td>188.436831</td>\n",
       "      <td>27800.0</td>\n",
       "      <td>1409.282700</td>\n",
       "      <td>954.545455</td>\n",
       "      <td>27.379400</td>\n",
       "      <td>4.095963</td>\n",
       "      <td>628.621598</td>\n",
       "      <td>131.886477</td>\n",
       "      <td>673.020528</td>\n",
       "      <td>7135.135135</td>\n",
       "    </tr>\n",
       "  </tbody>\n",
       "</table>\n",
       "<p>140256 rows × 371 columns</p>\n",
       "</div>"
      ],
      "text/plain": [
       "                 Unnamed: 0    MT_001     MT_002    MT_003      MT_004  \\\n",
       "0       2011-01-01 00:15:00  0.000000   0.000000  0.000000    0.000000   \n",
       "1       2011-01-01 00:30:00  0.000000   0.000000  0.000000    0.000000   \n",
       "2       2011-01-01 00:45:00  0.000000   0.000000  0.000000    0.000000   \n",
       "3       2011-01-01 01:00:00  0.000000   0.000000  0.000000    0.000000   \n",
       "4       2011-01-01 01:15:00  0.000000   0.000000  0.000000    0.000000   \n",
       "...                     ...       ...        ...       ...         ...   \n",
       "140251  2014-12-31 23:00:00  2.538071  22.048364  1.737619  150.406504   \n",
       "140252  2014-12-31 23:15:00  2.538071  21.337127  1.737619  166.666667   \n",
       "140253  2014-12-31 23:30:00  2.538071  20.625889  1.737619  162.601626   \n",
       "140254  2014-12-31 23:45:00  1.269036  21.337127  1.737619  166.666667   \n",
       "140255  2015-01-01 00:00:00  2.538071  19.914651  1.737619  178.861789   \n",
       "\n",
       "           MT_005      MT_006     MT_007      MT_008     MT_009  ...  \\\n",
       "0        0.000000    0.000000   0.000000    0.000000   0.000000  ...   \n",
       "1        0.000000    0.000000   0.000000    0.000000   0.000000  ...   \n",
       "2        0.000000    0.000000   0.000000    0.000000   0.000000  ...   \n",
       "3        0.000000    0.000000   0.000000    0.000000   0.000000  ...   \n",
       "4        0.000000    0.000000   0.000000    0.000000   0.000000  ...   \n",
       "...           ...         ...        ...         ...        ...  ...   \n",
       "140251  85.365854  303.571429  11.305822  282.828283  68.181818  ...   \n",
       "140252  81.707317  324.404762  11.305822  252.525253  64.685315  ...   \n",
       "140253  82.926829  318.452381  10.175240  242.424242  61.188811  ...   \n",
       "140254  85.365854  285.714286  10.175240  225.589226  64.685315  ...   \n",
       "140255  84.146341  279.761905  10.175240  249.158249  62.937063  ...   \n",
       "\n",
       "            MT_361   MT_362       MT_363       MT_364     MT_365    MT_366  \\\n",
       "0         0.000000      0.0     0.000000     0.000000   0.000000  0.000000   \n",
       "1         0.000000      0.0     0.000000     0.000000   0.000000  0.000000   \n",
       "2         0.000000      0.0     0.000000     0.000000   0.000000  0.000000   \n",
       "3         0.000000      0.0     0.000000     0.000000   0.000000  0.000000   \n",
       "4         0.000000      0.0     0.000000     0.000000   0.000000  0.000000   \n",
       "...            ...      ...          ...          ...        ...       ...   \n",
       "140251  276.945039  28200.0  1616.033755  1363.636364  29.986962  5.851375   \n",
       "140252  279.800143  28300.0  1569.620253  1340.909091  29.986962  9.947338   \n",
       "140253  284.796574  27800.0  1556.962025  1318.181818  27.379400  9.362200   \n",
       "140254  246.252677  28000.0  1443.037975   909.090909  26.075619  4.095963   \n",
       "140255  188.436831  27800.0  1409.282700   954.545455  27.379400  4.095963   \n",
       "\n",
       "            MT_367      MT_368      MT_369       MT_370  \n",
       "0         0.000000    0.000000    0.000000     0.000000  \n",
       "1         0.000000    0.000000    0.000000     0.000000  \n",
       "2         0.000000    0.000000    0.000000     0.000000  \n",
       "3         0.000000    0.000000    0.000000     0.000000  \n",
       "4         0.000000    0.000000    0.000000     0.000000  \n",
       "...            ...         ...         ...          ...  \n",
       "140251  697.102722  176.961603  651.026393  7621.621622  \n",
       "140252  671.641791  168.614357  669.354839  6702.702703  \n",
       "140253  670.763828  153.589316  670.087977  6864.864865  \n",
       "140254  664.618086  146.911519  646.627566  6540.540541  \n",
       "140255  628.621598  131.886477  673.020528  7135.135135  \n",
       "\n",
       "[140256 rows x 371 columns]"
      ]
     },
     "execution_count": 11,
     "metadata": {},
     "output_type": "execute_result"
    }
   ],
   "source": [
    "electricity"
   ]
  },
  {
   "cell_type": "code",
   "execution_count": 12,
   "metadata": {},
   "outputs": [
    {
     "data": {
      "text/plain": [
       "(370, 750)"
      ]
     },
     "execution_count": 12,
     "metadata": {},
     "output_type": "execute_result"
    }
   ],
   "source": [
    "# transpose and sum by hours\n",
    "data = electricity.values[:,1:].T.reshape((35064*370,4)).sum(axis=1).reshape((370,35064))[:,10064:].astype(float)[:, -750:]\n",
    "data.shape"
   ]
  },
  {
   "cell_type": "code",
   "execution_count": 15,
   "metadata": {},
   "outputs": [
    {
     "data": {
      "image/png": "[encoded data removed]",
      "text/plain": [
       "<Figure size 1500x800 with 1 Axes>"
      ]
     },
     "metadata": {},
     "output_type": "display_data"
    }
   ],
   "source": [
    "plt.figure(figsize=(15,8))\n",
    "plt.plot(data[-1], color='blue')\n",
    "\n",
    "plt.xlabel('timepoint')\n",
    "plt.ylabel('value')\n",
    "\n",
    "plt.show()"
   ]
  },
  {
   "cell_type": "code",
   "execution_count": 5,
   "metadata": {
    "collapsed": true
   },
   "outputs": [],
   "source": [
    "N = 370\n",
    "T = 750\n",
    "K = 8\n",
    "lags = [1, 24]\n",
    "L = len(lags)"
   ]
  },
  {
   "cell_type": "code",
   "execution_count": 19,
   "metadata": {},
   "outputs": [],
   "source": [
    "T_train = 700\n",
    "T_test = 50\n",
    "train = data[:, :T_train]\n",
    "test = data[:, T_train:]"
   ]
  },
  {
   "cell_type": "code",
   "execution_count": 20,
   "metadata": {},
   "outputs": [],
   "source": [
    "# TRMF model\n",
    "lambda_f = 1.\n",
    "lambda_x = 1.\n",
    "lambda_w = 1.\n",
    "eta = 1.\n",
    "alpha = 1000.\n",
    "max_iter = 1000\n",
    "\n",
    "\n",
    "model = trmf(lags, K, lambda_f, lambda_x, lambda_w, alpha, eta, max_iter)"
   ]
  },
  {
   "cell_type": "code",
   "execution_count": 21,
   "metadata": {},
   "outputs": [
    {
     "name": "stderr",
     "output_type": "stream",
     "text": [
      "d:\\TMU codes\\thesis codes\\codes\\TRMF\\trmf.py:322: RuntimeWarning: overflow encountered in multiply\n",
      "  z_2 = - (z_1 * np.roll(self.X, lag, axis=1)).sum(axis=1)\n",
      "d:\\TMU codes\\thesis codes\\codes\\TRMF\\trmf.py:297: RuntimeWarning: invalid value encountered in add\n",
      "  grad_T_x = z_1 + z_2\n",
      "d:\\TMU codes\\thesis codes\\codes\\TRMF\\trmf.py:298: RuntimeWarning: invalid value encountered in add\n",
      "  return - 2 * np.dot(self.F.T, self.mask * (self.Y - np.dot(self.F, self.X))) + self.lambda_x * grad_T_x + self.eta * self.X\n",
      "d:\\TMU codes\\thesis codes\\codes\\TRMF\\trmf.py:320: RuntimeWarning: invalid value encountered in subtract\n",
      "  z_1 = self.X - np.roll(X_l, lag, axis=1)\n",
      "d:\\TMU codes\\thesis codes\\codes\\TRMF\\trmf.py:322: RuntimeWarning: invalid value encountered in multiply\n",
      "  z_2 = - (z_1 * np.roll(self.X, lag, axis=1)).sum(axis=1)\n",
      "c:\\Users\\User.MORADI-PC\\anaconda3\\envs\\tf\\lib\\site-packages\\numpy\\core\\_methods.py:48: RuntimeWarning: invalid value encountered in reduce\n",
      "  return umr_sum(a, axis, dtype, out, keepdims, initial, where)\n"
     ]
    }
   ],
   "source": [
    "model.fit(train, max_iter=10000)"
   ]
  },
  {
   "cell_type": "code",
   "execution_count": 22,
   "metadata": {},
   "outputs": [],
   "source": [
    "train_preds = np.dot(model.F, model.X)"
   ]
  },
  {
   "cell_type": "code",
   "execution_count": 23,
   "metadata": {},
   "outputs": [
    {
     "data": {
      "text/plain": [
       "array([[nan, nan, nan, ..., nan, nan, nan],\n",
       "       [nan, nan, nan, ..., nan, nan, nan],\n",
       "       [nan, nan, nan, ..., nan, nan, nan],\n",
       "       ...,\n",
       "       [nan, nan, nan, ..., nan, nan, nan],\n",
       "       [nan, nan, nan, ..., nan, nan, nan],\n",
       "       [nan, nan, nan, ..., nan, nan, nan]])"
      ]
     },
     "execution_count": 23,
     "metadata": {},
     "output_type": "execute_result"
    }
   ],
   "source": [
    "model.F"
   ]
  },
  {
   "cell_type": "markdown",
   "metadata": {},
   "source": [
    "##### 3. Apply models"
   ]
  },
  {
   "cell_type": "code",
   "execution_count": 6,
   "metadata": {},
   "outputs": [
    {
     "name": "stdout",
     "output_type": "stream",
     "text": [
      "Naive model performance ND/NRMSE (h = 1): 0.344/0.5\n",
      "Naive model performance ND/NRMSE (h = 5): 0.688/0.951\n",
      "Naive model performance ND/NRMSE (h = 10): 1.091/1.429\n",
      "Naive model performance ND/NRMSE (h = 20): 1.363/1.73\n"
     ]
    }
   ],
   "source": [
    "# Naive model\n",
    "for h in [1, 5, 10, 20]:\n",
    "    model = NaiveModel()\n",
    "    scores_nd = RollingCV(model, data, T-9-h, h, T_step=1, metric='ND')\n",
    "    scores_nrmse = RollingCV(model, data, T-9-h, h, T_step=1, metric='NRMSE')\n",
    "    print('Naive model performance ND/NRMSE (h = {}): {}/{}'.format(h, round(np.array(scores_nd).mean(),3),\\\n",
    "                                                                    round(np.array(scores_nrmse).mean(),3)))"
   ]
  },
  {
   "cell_type": "code",
   "execution_count": 7,
   "metadata": {},
   "outputs": [
    {
     "name": "stdout",
     "output_type": "stream",
     "text": [
      "Mean model performance ND/NRMSE (h = 1): 1.0/1.19\n",
      "Mean model performance ND/NRMSE (h = 5): 1.0/1.201\n",
      "Mean model performance ND/NRMSE (h = 10): 1.0/1.204\n",
      "Mean model performance ND/NRMSE (h = 20): 1.0/1.188\n"
     ]
    }
   ],
   "source": [
    "# Mean model\n",
    "for h in [1, 5, 10, 20]:\n",
    "    model = MeanModel()\n",
    "    scores_nd = RollingCV(model, data, T-9-h, h, T_step=1, metric='ND')\n",
    "    scores_nrmse = RollingCV(model, data, T-9-h, h, T_step=1, metric='NRMSE')\n",
    "    print('Mean model performance ND/NRMSE (h = {}): {}/{}'.format(h, round(np.array(scores_nd).mean(),3),\\\n",
    "                                                          round(np.array(scores_nrmse).mean(),3)))"
   ]
  },
  {
   "cell_type": "code",
   "execution_count": 8,
   "metadata": {},
   "outputs": [
    {
     "name": "stdout",
     "output_type": "stream",
     "text": [
      "AR performance ND/NRMSE (h = 1): 0.427/0.557\n",
      "AR performance ND/NRMSE (h = 5): 0.612/0.831\n",
      "AR performance ND/NRMSE (h = 10): 0.627/0.876\n",
      "AR performance ND/NRMSE (h = 20): 0.58/0.802\n"
     ]
    }
   ],
   "source": [
    "# AR model\n",
    "for h in [1, 5, 10, 20]:\n",
    "    model = AutoRegressionModel(lags)\n",
    "    scores_nd = RollingCV(model, data, T-9-h, h, T_step=1, metric='ND')\n",
    "    scores_nrmse = RollingCV(model, data, T-9-h, h, T_step=1, metric='NRMSE')\n",
    "    print('AR performance ND/NRMSE (h = {}): {}/{}'.format(h, round(np.array(scores_nd).mean(),3),\\\n",
    "                                                           round(np.array(scores_nrmse).mean(),3)))"
   ]
  },
  {
   "cell_type": "code",
   "execution_count": 9,
   "metadata": {},
   "outputs": [
    {
     "ename": "KeyboardInterrupt",
     "evalue": "",
     "output_type": "error",
     "traceback": [
      "\u001b[1;31m---------------------------------------------------------------------------\u001b[0m",
      "\u001b[1;31mKeyboardInterrupt\u001b[0m                         Traceback (most recent call last)",
      "Cell \u001b[1;32mIn [9], line 12\u001b[0m\n\u001b[0;32m     10\u001b[0m model \u001b[39m=\u001b[39m trmf(lags, K, lambda_f, lambda_x, lambda_w, alpha, eta, max_iter)\n\u001b[0;32m     11\u001b[0m scores_nd \u001b[39m=\u001b[39m RollingCV(model, data, T\u001b[39m-\u001b[39m\u001b[39m9\u001b[39m\u001b[39m-\u001b[39mh, h, T_step\u001b[39m=\u001b[39m\u001b[39m1\u001b[39m, metric\u001b[39m=\u001b[39m\u001b[39m'\u001b[39m\u001b[39mND\u001b[39m\u001b[39m'\u001b[39m)\n\u001b[1;32m---> 12\u001b[0m scores_nrmse \u001b[39m=\u001b[39m RollingCV(model, data, T\u001b[39m-\u001b[39;49m\u001b[39m9\u001b[39;49m\u001b[39m-\u001b[39;49mh, h, T_step\u001b[39m=\u001b[39;49m\u001b[39m1\u001b[39;49m, metric\u001b[39m=\u001b[39;49m\u001b[39m'\u001b[39;49m\u001b[39mNRMSE\u001b[39;49m\u001b[39m'\u001b[39;49m)\n\u001b[0;32m     13\u001b[0m \u001b[39mprint\u001b[39m(\u001b[39m'\u001b[39m\u001b[39mTRMF performance ND/NRMSE (h = \u001b[39m\u001b[39m{}\u001b[39;00m\u001b[39m): \u001b[39m\u001b[39m{}\u001b[39;00m\u001b[39m/\u001b[39m\u001b[39m{}\u001b[39;00m\u001b[39m'\u001b[39m\u001b[39m.\u001b[39mformat(h, \u001b[39mround\u001b[39m(np\u001b[39m.\u001b[39marray(scores_nd)\u001b[39m.\u001b[39mmean(),\u001b[39m3\u001b[39m),\\\n\u001b[0;32m     14\u001b[0m                                                 \u001b[39mround\u001b[39m(np\u001b[39m.\u001b[39marray(scores_nrmse)\u001b[39m.\u001b[39mmean(),\u001b[39m3\u001b[39m)))\n",
      "File \u001b[1;32md:\\TMU codes\\thesis codes\\codes\\TRMF\\RollingCV.py:39\u001b[0m, in \u001b[0;36mRollingCV\u001b[1;34m(model, data, T_train, T_test, T_step, metric, normalize)\u001b[0m\n\u001b[0;32m     37\u001b[0m \u001b[39mfor\u001b[39;00m T_start \u001b[39min\u001b[39;00m \u001b[39mrange\u001b[39m(\u001b[39m0\u001b[39m, data\u001b[39m.\u001b[39mshape[\u001b[39m1\u001b[39m]\u001b[39m-\u001b[39mT_train\u001b[39m-\u001b[39mT_test\u001b[39m+\u001b[39m\u001b[39m1\u001b[39m, T_step):\n\u001b[0;32m     38\u001b[0m     train, test \u001b[39m=\u001b[39m get_slice(data, T_train, T_test, T_start, normalize\u001b[39m=\u001b[39mnormalize)\n\u001b[1;32m---> 39\u001b[0m     model\u001b[39m.\u001b[39;49mfit(train)\n\u001b[0;32m     40\u001b[0m     test_preds \u001b[39m=\u001b[39m model\u001b[39m.\u001b[39mpredict(T_test)\n\u001b[0;32m     41\u001b[0m     \u001b[39mif\u001b[39;00m metric \u001b[39m==\u001b[39m \u001b[39m'\u001b[39m\u001b[39mND\u001b[39m\u001b[39m'\u001b[39m:\n",
      "File \u001b[1;32md:\\TMU codes\\thesis codes\\codes\\TRMF\\trmf.py:121\u001b[0m, in \u001b[0;36mtrmf.fit\u001b[1;34m(self, train, max_iter, resume)\u001b[0m\n\u001b[0;32m    119\u001b[0m \u001b[39mfor\u001b[39;00m _ \u001b[39min\u001b[39;00m \u001b[39mrange\u001b[39m(\u001b[39mself\u001b[39m\u001b[39m.\u001b[39mmax_iter):\n\u001b[0;32m    120\u001b[0m     \u001b[39mself\u001b[39m\u001b[39m.\u001b[39m_update_F(step\u001b[39m=\u001b[39m\u001b[39mself\u001b[39m\u001b[39m.\u001b[39mF_step)\n\u001b[1;32m--> 121\u001b[0m     \u001b[39mself\u001b[39;49m\u001b[39m.\u001b[39;49m_update_X(step\u001b[39m=\u001b[39;49m\u001b[39mself\u001b[39;49m\u001b[39m.\u001b[39;49mX_step)\n\u001b[0;32m    122\u001b[0m     \u001b[39mself\u001b[39m\u001b[39m.\u001b[39m_update_W(step\u001b[39m=\u001b[39m\u001b[39mself\u001b[39m\u001b[39m.\u001b[39mW_step)\n",
      "File \u001b[1;32md:\\TMU codes\\thesis codes\\codes\\TRMF\\trmf.py:231\u001b[0m, in \u001b[0;36mtrmf._update_X\u001b[1;34m(self, step, n_iter)\u001b[0m\n\u001b[0;32m    212\u001b[0m \u001b[39m\"\"\"Gradient descent of matrix X.\u001b[39;00m\n\u001b[0;32m    213\u001b[0m \n\u001b[0;32m    214\u001b[0m \u001b[39mn_iter steps of gradient descent of matrix X.\u001b[39;00m\n\u001b[1;32m   (...)\u001b[0m\n\u001b[0;32m    227\u001b[0m \u001b[39m    Returns self.\u001b[39;00m\n\u001b[0;32m    228\u001b[0m \u001b[39m\"\"\"\u001b[39;00m\n\u001b[0;32m    230\u001b[0m \u001b[39mfor\u001b[39;00m _ \u001b[39min\u001b[39;00m \u001b[39mrange\u001b[39m(n_iter):\n\u001b[1;32m--> 231\u001b[0m     \u001b[39mself\u001b[39m\u001b[39m.\u001b[39mX \u001b[39m-\u001b[39m\u001b[39m=\u001b[39m step \u001b[39m*\u001b[39m \u001b[39mself\u001b[39;49m\u001b[39m.\u001b[39;49m_grad_X()\n",
      "File \u001b[1;32md:\\TMU codes\\thesis codes\\codes\\TRMF\\trmf.py:292\u001b[0m, in \u001b[0;36mtrmf._grad_X\u001b[1;34m(self)\u001b[0m\n\u001b[0;32m    290\u001b[0m W_l \u001b[39m=\u001b[39m \u001b[39mself\u001b[39m\u001b[39m.\u001b[39mW[:, l]\u001b[39m.\u001b[39mrepeat(\u001b[39mself\u001b[39m\u001b[39m.\u001b[39mT, axis\u001b[39m=\u001b[39m\u001b[39m0\u001b[39m)\u001b[39m.\u001b[39mreshape(\u001b[39mself\u001b[39m\u001b[39m.\u001b[39mK, \u001b[39mself\u001b[39m\u001b[39m.\u001b[39mT)\n\u001b[0;32m    291\u001b[0m X_l \u001b[39m=\u001b[39m \u001b[39mself\u001b[39m\u001b[39m.\u001b[39mX \u001b[39m*\u001b[39m W_l\n\u001b[1;32m--> 292\u001b[0m z_1 \u001b[39m=\u001b[39m \u001b[39mself\u001b[39m\u001b[39m.\u001b[39mX \u001b[39m-\u001b[39m np\u001b[39m.\u001b[39;49mroll(X_l, lag, axis\u001b[39m=\u001b[39;49m\u001b[39m1\u001b[39;49m)\n\u001b[0;32m    293\u001b[0m z_1[:, :\u001b[39mmax\u001b[39m(\u001b[39mself\u001b[39m\u001b[39m.\u001b[39mlags)] \u001b[39m=\u001b[39m \u001b[39m0.\u001b[39m\n\u001b[0;32m    294\u001b[0m z_2 \u001b[39m=\u001b[39m \u001b[39m-\u001b[39m (np\u001b[39m.\u001b[39mroll(\u001b[39mself\u001b[39m\u001b[39m.\u001b[39mX, \u001b[39m-\u001b[39mlag, axis\u001b[39m=\u001b[39m\u001b[39m1\u001b[39m) \u001b[39m-\u001b[39m X_l) \u001b[39m*\u001b[39m W_l\n",
      "File \u001b[1;32m<__array_function__ internals>:177\u001b[0m, in \u001b[0;36mroll\u001b[1;34m(*args, **kwargs)\u001b[0m\n",
      "\u001b[1;31mKeyboardInterrupt\u001b[0m: "
     ]
    }
   ],
   "source": [
    "# TRMF model\n",
    "lambda_f = 1.\n",
    "lambda_x = 1.\n",
    "lambda_w = 1.\n",
    "eta = 1.\n",
    "alpha = 1000.\n",
    "max_iter = 1000\n",
    "\n",
    "for h in [1, 5, 10, 20]:\n",
    "    model = trmf(lags, K, lambda_f, lambda_x, lambda_w, alpha, eta, max_iter)\n",
    "    scores_nd = RollingCV(model, data, T-9-h, h, T_step=1, metric='ND')\n",
    "    scores_nrmse = RollingCV(model, data, T-9-h, h, T_step=1, metric='NRMSE')\n",
    "    print('TRMF performance ND/NRMSE (h = {}): {}/{}'.format(h, round(np.array(scores_nd).mean(),3),\\\n",
    "                                                    round(np.array(scores_nrmse).mean(),3)))"
   ]
  },
  {
   "cell_type": "markdown",
   "metadata": {},
   "source": [
    "### Results Electricity Data (ND/NRMSE)\n",
    "\n",
    "| | h=1 | h=5 | h=10 | h=20 ||\n",
    "|------|------|------|------|\n",
    "| Naive | **0.344/0.5** | 0.688/0.951 | 1.091/1.429 | 1.363/1.73 |\n",
    "| Mean | 1.0/1.19 | 1.0/1.201 | 1.0/1.204 | 1.0/1.188 |\n",
    "| AutoRegression | 0.427/0.557 | **0.612/0.831** | **0.627/0.876** | **0.58**/0.802 |\n",
    "| TRMF | 0.639/0.828 | 0.727/0.95 | 0.681/0.936 | 0.584/**0.799** |\n"
   ]
  }
 ],
 "metadata": {
  "kernelspec": {
   "display_name": "Python 3.10.8 ('tf')",
   "language": "python",
   "name": "python3"
  },
  "language_info": {
   "codemirror_mode": {
    "name": "ipython",
    "version": 3
   },
   "file_extension": ".py",
   "mimetype": "text/x-python",
   "name": "python",
   "nbconvert_exporter": "python",
   "pygments_lexer": "ipython3",
   "version": "3.10.8"
  },
  "vscode": {
   "interpreter": {
    "hash": "eb9bb2fa3c6d437e42749e79e4a1d55d8d222e6cc8216a87b1a35470410f9d89"
   }
  }
 },
 "nbformat": 4,
 "nbformat_minor": 2
}
