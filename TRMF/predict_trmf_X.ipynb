{
 "cells": [
  {
   "cell_type": "code",
   "execution_count": 1,
   "metadata": {},
   "outputs": [],
   "source": [
    "import numpy as np\n",
    "import pandas as pd\n",
    "import random\n",
    "import sys\n",
    "from trmf import trmf\n",
    "import matplotlib.pyplot as plt\n",
    "%matplotlib inline\n",
    "from trmf_regressor import *\n",
    "\n",
    "sys.path.insert(1,'D:\\TMU_codes\\Thesis_codes\\codes')\n",
    "\n",
    "from package.loadDb import *\n",
    "from package.featureSelection_TENSORIZED import *"
   ]
  },
  {
   "cell_type": "code",
   "execution_count": 2,
   "metadata": {},
   "outputs": [],
   "source": [
    "# # import kaggle dataset\n",
    "# address = \"..\\database\\kaggleDataFrame\"\n",
    "\n",
    "# data_with_target= load_kaggle_dataframe(address+\"\\dataframes.csv\")\n",
    "\n",
    "# data_with_target=data_with_target.iloc[:20000]\n",
    "\n",
    "# data_without_target = data_with_target.drop(['DEMAND'],axis=1)\n",
    "\n",
    "# target=data_with_target.iloc[:,-1]\n",
    "# print(\"data with target size = \",data_with_target.shape )\n",
    "\n",
    "\n",
    "# data with target column\n",
    "address = \"..\\database\\stock market dataset\"\n",
    "data_with_target=load_stock_market_dataframe(address+\"\\sample_normalized_with_target.csv\")\n",
    "data_with_target=data_with_target.iloc[:20000]\n",
    "data_without_target = data_with_target.drop(['TARGET'],axis=1)\n",
    "# data_without_target=data_with_target.iloc[:,:-1]\n",
    "target=data_with_target.iloc[:,-1]"
   ]
  },
  {
   "cell_type": "code",
   "execution_count": 3,
   "metadata": {},
   "outputs": [
    {
     "data": {
      "text/html": [
       "<div>\n",
       "<style scoped>\n",
       "    .dataframe tbody tr th:only-of-type {\n",
       "        vertical-align: middle;\n",
       "    }\n",
       "\n",
       "    .dataframe tbody tr th {\n",
       "        vertical-align: top;\n",
       "    }\n",
       "\n",
       "    .dataframe thead th {\n",
       "        text-align: right;\n",
       "    }\n",
       "</style>\n",
       "<table border=\"1\" class=\"dataframe\">\n",
       "  <thead>\n",
       "    <tr style=\"text-align: right;\">\n",
       "      <th></th>\n",
       "      <th></th>\n",
       "      <th>yy</th>\n",
       "      <th>mm</th>\n",
       "      <th>ret</th>\n",
       "      <th>prc</th>\n",
       "      <th>size</th>\n",
       "      <th>q10</th>\n",
       "      <th>q20</th>\n",
       "      <th>q30</th>\n",
       "      <th>q40</th>\n",
       "      <th>q50</th>\n",
       "      <th>...</th>\n",
       "      <th>beta_daily</th>\n",
       "      <th>idio_vol</th>\n",
       "      <th>total_vol</th>\n",
       "      <th>std_volume</th>\n",
       "      <th>std_turn</th>\n",
       "      <th>lme_adj</th>\n",
       "      <th>beme_adj</th>\n",
       "      <th>pm_adj</th>\n",
       "      <th>at_adj</th>\n",
       "      <th>TARGET</th>\n",
       "    </tr>\n",
       "    <tr>\n",
       "      <th>date</th>\n",
       "      <th>permno</th>\n",
       "      <th></th>\n",
       "      <th></th>\n",
       "      <th></th>\n",
       "      <th></th>\n",
       "      <th></th>\n",
       "      <th></th>\n",
       "      <th></th>\n",
       "      <th></th>\n",
       "      <th></th>\n",
       "      <th></th>\n",
       "      <th></th>\n",
       "      <th></th>\n",
       "      <th></th>\n",
       "      <th></th>\n",
       "      <th></th>\n",
       "      <th></th>\n",
       "      <th></th>\n",
       "      <th></th>\n",
       "      <th></th>\n",
       "      <th></th>\n",
       "      <th></th>\n",
       "    </tr>\n",
       "  </thead>\n",
       "  <tbody>\n",
       "    <tr>\n",
       "      <th rowspan=\"2\" valign=\"top\">1962-07-31</th>\n",
       "      <th>19940</th>\n",
       "      <td>-2.648223</td>\n",
       "      <td>0.145450</td>\n",
       "      <td>-0.146413</td>\n",
       "      <td>0.019617</td>\n",
       "      <td>-0.120717</td>\n",
       "      <td>-1.063216</td>\n",
       "      <td>-1.079224</td>\n",
       "      <td>-1.129578</td>\n",
       "      <td>-1.156967</td>\n",
       "      <td>-1.210099</td>\n",
       "      <td>...</td>\n",
       "      <td>0.012111</td>\n",
       "      <td>-0.170310</td>\n",
       "      <td>-0.117195</td>\n",
       "      <td>-0.127241</td>\n",
       "      <td>-0.306714</td>\n",
       "      <td>-0.004726</td>\n",
       "      <td>-0.605992</td>\n",
       "      <td>-0.004893</td>\n",
       "      <td>0.914182</td>\n",
       "      <td>0.549665</td>\n",
       "    </tr>\n",
       "    <tr>\n",
       "      <th>25160</th>\n",
       "      <td>-2.648223</td>\n",
       "      <td>0.145450</td>\n",
       "      <td>-0.316945</td>\n",
       "      <td>0.009621</td>\n",
       "      <td>-0.159645</td>\n",
       "      <td>-1.063216</td>\n",
       "      <td>-1.079224</td>\n",
       "      <td>-1.129578</td>\n",
       "      <td>-1.156967</td>\n",
       "      <td>-1.210099</td>\n",
       "      <td>...</td>\n",
       "      <td>0.237826</td>\n",
       "      <td>-0.493377</td>\n",
       "      <td>-0.238926</td>\n",
       "      <td>-0.127233</td>\n",
       "      <td>-0.267125</td>\n",
       "      <td>-0.052931</td>\n",
       "      <td>0.697669</td>\n",
       "      <td>-0.005120</td>\n",
       "      <td>-0.767922</td>\n",
       "      <td>0.083099</td>\n",
       "    </tr>\n",
       "    <tr>\n",
       "      <th rowspan=\"2\" valign=\"top\">1962-08-31</th>\n",
       "      <th>19940</th>\n",
       "      <td>-2.648223</td>\n",
       "      <td>0.434492</td>\n",
       "      <td>0.549665</td>\n",
       "      <td>0.025122</td>\n",
       "      <td>-0.120717</td>\n",
       "      <td>-1.051197</td>\n",
       "      <td>-1.071258</td>\n",
       "      <td>-1.119878</td>\n",
       "      <td>-1.150597</td>\n",
       "      <td>-1.202454</td>\n",
       "      <td>...</td>\n",
       "      <td>-0.298068</td>\n",
       "      <td>-0.679408</td>\n",
       "      <td>-0.751803</td>\n",
       "      <td>-0.127207</td>\n",
       "      <td>-0.306133</td>\n",
       "      <td>-0.005374</td>\n",
       "      <td>-0.605992</td>\n",
       "      <td>-0.004893</td>\n",
       "      <td>0.914182</td>\n",
       "      <td>-0.381573</td>\n",
       "    </tr>\n",
       "    <tr>\n",
       "      <th>25160</th>\n",
       "      <td>-2.648223</td>\n",
       "      <td>0.434492</td>\n",
       "      <td>0.083099</td>\n",
       "      <td>0.010490</td>\n",
       "      <td>-0.159645</td>\n",
       "      <td>-1.051197</td>\n",
       "      <td>-1.071258</td>\n",
       "      <td>-1.119878</td>\n",
       "      <td>-1.150597</td>\n",
       "      <td>-1.202454</td>\n",
       "      <td>...</td>\n",
       "      <td>-0.190870</td>\n",
       "      <td>-0.503803</td>\n",
       "      <td>-0.560414</td>\n",
       "      <td>-0.127233</td>\n",
       "      <td>-0.267104</td>\n",
       "      <td>-0.054238</td>\n",
       "      <td>0.697669</td>\n",
       "      <td>-0.005120</td>\n",
       "      <td>-0.767922</td>\n",
       "      <td>-0.442115</td>\n",
       "    </tr>\n",
       "    <tr>\n",
       "      <th>1962-09-30</th>\n",
       "      <th>19940</th>\n",
       "      <td>-2.648223</td>\n",
       "      <td>0.723534</td>\n",
       "      <td>-0.381573</td>\n",
       "      <td>0.021790</td>\n",
       "      <td>-0.120717</td>\n",
       "      <td>-1.050753</td>\n",
       "      <td>-1.070844</td>\n",
       "      <td>-1.117299</td>\n",
       "      <td>-1.147227</td>\n",
       "      <td>-1.199107</td>\n",
       "      <td>...</td>\n",
       "      <td>0.153155</td>\n",
       "      <td>-0.639003</td>\n",
       "      <td>-0.648479</td>\n",
       "      <td>-0.127103</td>\n",
       "      <td>-0.304431</td>\n",
       "      <td>-0.002141</td>\n",
       "      <td>-0.605992</td>\n",
       "      <td>-0.004893</td>\n",
       "      <td>0.914182</td>\n",
       "      <td>-0.240096</td>\n",
       "    </tr>\n",
       "  </tbody>\n",
       "</table>\n",
       "<p>5 rows × 77 columns</p>\n",
       "</div>"
      ],
      "text/plain": [
       "                         yy        mm       ret       prc      size       q10  \\\n",
       "date       permno                                                               \n",
       "1962-07-31 19940  -2.648223  0.145450 -0.146413  0.019617 -0.120717 -1.063216   \n",
       "           25160  -2.648223  0.145450 -0.316945  0.009621 -0.159645 -1.063216   \n",
       "1962-08-31 19940  -2.648223  0.434492  0.549665  0.025122 -0.120717 -1.051197   \n",
       "           25160  -2.648223  0.434492  0.083099  0.010490 -0.159645 -1.051197   \n",
       "1962-09-30 19940  -2.648223  0.723534 -0.381573  0.021790 -0.120717 -1.050753   \n",
       "\n",
       "                        q20       q30       q40       q50  ...  beta_daily  \\\n",
       "date       permno                                          ...               \n",
       "1962-07-31 19940  -1.079224 -1.129578 -1.156967 -1.210099  ...    0.012111   \n",
       "           25160  -1.079224 -1.129578 -1.156967 -1.210099  ...    0.237826   \n",
       "1962-08-31 19940  -1.071258 -1.119878 -1.150597 -1.202454  ...   -0.298068   \n",
       "           25160  -1.071258 -1.119878 -1.150597 -1.202454  ...   -0.190870   \n",
       "1962-09-30 19940  -1.070844 -1.117299 -1.147227 -1.199107  ...    0.153155   \n",
       "\n",
       "                   idio_vol  total_vol  std_volume  std_turn   lme_adj  \\\n",
       "date       permno                                                        \n",
       "1962-07-31 19940  -0.170310  -0.117195   -0.127241 -0.306714 -0.004726   \n",
       "           25160  -0.493377  -0.238926   -0.127233 -0.267125 -0.052931   \n",
       "1962-08-31 19940  -0.679408  -0.751803   -0.127207 -0.306133 -0.005374   \n",
       "           25160  -0.503803  -0.560414   -0.127233 -0.267104 -0.054238   \n",
       "1962-09-30 19940  -0.639003  -0.648479   -0.127103 -0.304431 -0.002141   \n",
       "\n",
       "                   beme_adj    pm_adj    at_adj    TARGET  \n",
       "date       permno                                          \n",
       "1962-07-31 19940  -0.605992 -0.004893  0.914182  0.549665  \n",
       "           25160   0.697669 -0.005120 -0.767922  0.083099  \n",
       "1962-08-31 19940  -0.605992 -0.004893  0.914182 -0.381573  \n",
       "           25160   0.697669 -0.005120 -0.767922 -0.442115  \n",
       "1962-09-30 19940  -0.605992 -0.004893  0.914182 -0.240096  \n",
       "\n",
       "[5 rows x 77 columns]"
      ]
     },
     "execution_count": 3,
     "metadata": {},
     "output_type": "execute_result"
    }
   ],
   "source": [
    "data_with_target.head()"
   ]
  },
  {
   "cell_type": "code",
   "execution_count": 4,
   "metadata": {},
   "outputs": [
    {
     "data": {
      "text/plain": [
       "date        permno\n",
       "1962-07-31  19940     0.549665\n",
       "            25160     0.083099\n",
       "1962-08-31  19940    -0.381573\n",
       "            25160    -0.442115\n",
       "1962-09-30  19940    -0.240096\n",
       "                        ...   \n",
       "1968-04-30  10006    -0.184283\n",
       "            10102     0.046818\n",
       "            10145    -0.064218\n",
       "            10153     0.212999\n",
       "            10161     0.059429\n",
       "Name: TARGET, Length: 20000, dtype: float64"
      ]
     },
     "execution_count": 4,
     "metadata": {},
     "output_type": "execute_result"
    }
   ],
   "source": [
    "target"
   ]
  },
  {
   "cell_type": "code",
   "execution_count": 6,
   "metadata": {},
   "outputs": [],
   "source": [
    "# plt.figure(figsize=(15,8))\n",
    "# plt.plot(data_without_target.iloc[:,-1], color='blue')\n",
    "\n",
    "# plt.xlabel('timepoint')\n",
    "# plt.ylabel('value')\n",
    "\n",
    "# plt.show()"
   ]
  },
  {
   "cell_type": "code",
   "execution_count": null,
   "metadata": {},
   "outputs": [],
   "source": []
  },
  {
   "cell_type": "code",
   "execution_count": 7,
   "metadata": {},
   "outputs": [],
   "source": [
    "def normalized_data(data, T_train, T_start, normalize=True):\n",
    "    N = len(data)\n",
    "    # split on train and test\n",
    "    train = data[:, T_start:T_start+T_train].copy()\n",
    "\n",
    "    # normalize data\n",
    "    if normalize:\n",
    "        mean_train = np.array([])\n",
    "        std_train = np.array([])\n",
    "        for i in range(len(train)):\n",
    "            if (~np.isnan(train[i])).sum() == 0:\n",
    "                mean_train = np.append(mean_train, 0)\n",
    "                std_train = np.append(std_train, 0)\n",
    "            else:\n",
    "                mean_train = np.append(mean_train, train[i][~np.isnan(train[i])].mean())\n",
    "                std_train = np.append(std_train, train[i][~np.isnan(train[i])].std())\n",
    "        \n",
    "        std_train[std_train == 0] = 1.\n",
    "\n",
    "        train -= mean_train.repeat(T_train).reshape(N, T_train)\n",
    "        train /= std_train.repeat(T_train).reshape(N, T_train)\n",
    "    return train"
   ]
  },
  {
   "cell_type": "code",
   "execution_count": 8,
   "metadata": {},
   "outputs": [],
   "source": [
    "def xgboost_reg_error(data_without_target,target,testSize):\n",
    "    \"\"\"\n",
    "    while splitting data shuffle is false due to keep time series sampales in order\n",
    "    \"\"\"\n",
    "    x_train, x_test, y_train, y_test = train_test_split(data_without_target, target, test_size = testSize,shuffle=False)\n",
    "\n",
    "    model =  xg.XGBRegressor()\n",
    "    model.fit(x_train, y_train)\n",
    "    predictions = model.predict(x_test)\n",
    "    # rmse=np.sqrt(metrics.mean_squared_error(y_test, predictions))\n",
    "    rmse=np.linalg.norm(predictions-y_test)/np.linalg.norm(y_test)\n",
    "    # print(\"MSE  is:{:.2f}\".format(pca_mse))\n",
    "    return rmse"
   ]
  },
  {
   "cell_type": "code",
   "execution_count": 9,
   "metadata": {},
   "outputs": [],
   "source": [
    "testSize=500\n",
    "lags = [1,25]\n",
    "K = 4\n",
    "lambda_f = 1.\n",
    "lambda_x = 1\n",
    "lambda_w = 1.\n",
    "alpha = 1000.\n",
    "eta = 1.\n",
    "max_iteration=10000\n",
    "num_comp=K"
   ]
  },
  {
   "cell_type": "code",
   "execution_count": 10,
   "metadata": {},
   "outputs": [],
   "source": [
    "interval=2000\n",
    "counter=0\n",
    "pca_list=[]\n",
    "dict_mse={}\n",
    "\n",
    "while counter+interval <= data_without_target.shape[0]:\n",
    "\n",
    "\n",
    "    datacut=data_with_target[counter:counter+interval]\n",
    "    X_datacut=datacut.iloc[:,:-1]\n",
    "    Y_datacut=datacut.iloc[:,-1]\n",
    "    # print(counter,X_datacut.shape)\n",
    "    X_pca=compute_pca(X_datacut,num_comp=num_comp)\n",
    "\n",
    "    pca_mse=xgboost_reg_error(X_pca,Y_datacut,testSize)\n",
    "    pca_list.append(pca_mse)##########################\n",
    "    counter+=interval\n",
    "dict_mse['PCA']=pca_list"
   ]
  },
  {
   "cell_type": "code",
   "execution_count": 11,
   "metadata": {},
   "outputs": [
    {
     "name": "stdout",
     "output_type": "stream",
     "text": [
      "1.0\n",
      "----------------------------------------------------------------------------\n",
      "2.0\n",
      "----------------------------------------------------------------------------\n",
      "3.0\n",
      "----------------------------------------------------------------------------\n",
      "4.0\n",
      "----------------------------------------------------------------------------\n",
      "5.0\n",
      "----------------------------------------------------------------------------\n",
      "6.0\n",
      "----------------------------------------------------------------------------\n",
      "7.0\n",
      "----------------------------------------------------------------------------\n",
      "8.0\n",
      "----------------------------------------------------------------------------\n",
      "9.0\n",
      "----------------------------------------------------------------------------\n",
      "10.0\n",
      "----------------------------------------------------------------------------\n"
     ]
    }
   ],
   "source": [
    "trmf_rmse_list=[]\n",
    "counter=0\n",
    "while counter+interval <= data_without_target.shape[0]:\n",
    "    \n",
    "    data=data_without_target.to_numpy().T\n",
    "    data=data[:,counter:counter+interval]\n",
    "    # display(data)\n",
    "    target_cut=target.iloc[counter:counter+interval]\n",
    "    T_train = data.shape[1]\n",
    "    train =normalized_data(data, T_train, 0, normalize=True)\n",
    "    # display(train)\n",
    "    # display(test)\n",
    "\n",
    "    model = trmf(lags, K, lambda_f, lambda_x, lambda_w, alpha, eta)\n",
    "    model.fit(train, max_iter = max_iteration)\n",
    "    # train_preds = np.dot(model.F, model.X)\n",
    "    # test_preds = model.predict(T_test)[-1]\n",
    "    new_features=model.X.T\n",
    "    rmse=xgboost_reg_error(new_features,target_cut,testSize)\n",
    "    trmf_rmse_list.append(rmse)\n",
    "    counter+=interval\n",
    "    print(counter/interval)\n",
    "    print(\"----------------------------------------------------------------------------\")\n",
    "dict_mse['trmf_rmse']=trmf_rmse_list\n"
   ]
  },
  {
   "cell_type": "code",
   "execution_count": 12,
   "metadata": {},
   "outputs": [],
   "source": [
    "sys.path.insert(1, 'D:/TMU/thesis/codes')\n",
    "\n",
    "from package.featureSelection_TEMPORAL_PAGERANK import *"
   ]
  },
  {
   "cell_type": "code",
   "execution_count": 13,
   "metadata": {},
   "outputs": [
    {
     "name": "stderr",
     "output_type": "stream",
     "text": [
      "C:\\Users\\User.MORADI-PC\\AppData\\Local\\Temp\\ipykernel_2604\\1539300088.py:16: FutureWarning: Support for multi-dimensional indexing (e.g. `obj[:, None]`) is deprecated and will be removed in a future version.  Convert to a numpy array before indexing instead.\n",
      "  mse_tpr=xgboost_reg_error(X_datacut[X_datacut.columns[a][0]].values,Y_datacut,testSize)\n"
     ]
    },
    {
     "name": "stdout",
     "output_type": "stream",
     "text": [
      "0.0\n",
      "----------------------------------------------------------------------------\n"
     ]
    },
    {
     "name": "stderr",
     "output_type": "stream",
     "text": [
      "C:\\Users\\User.MORADI-PC\\AppData\\Local\\Temp\\ipykernel_2604\\1539300088.py:16: FutureWarning: Support for multi-dimensional indexing (e.g. `obj[:, None]`) is deprecated and will be removed in a future version.  Convert to a numpy array before indexing instead.\n",
      "  mse_tpr=xgboost_reg_error(X_datacut[X_datacut.columns[a][0]].values,Y_datacut,testSize)\n"
     ]
    },
    {
     "name": "stdout",
     "output_type": "stream",
     "text": [
      "1.0\n",
      "----------------------------------------------------------------------------\n"
     ]
    },
    {
     "name": "stderr",
     "output_type": "stream",
     "text": [
      "C:\\Users\\User.MORADI-PC\\AppData\\Local\\Temp\\ipykernel_2604\\1539300088.py:16: FutureWarning: Support for multi-dimensional indexing (e.g. `obj[:, None]`) is deprecated and will be removed in a future version.  Convert to a numpy array before indexing instead.\n",
      "  mse_tpr=xgboost_reg_error(X_datacut[X_datacut.columns[a][0]].values,Y_datacut,testSize)\n"
     ]
    },
    {
     "name": "stdout",
     "output_type": "stream",
     "text": [
      "2.0\n",
      "----------------------------------------------------------------------------\n"
     ]
    },
    {
     "name": "stderr",
     "output_type": "stream",
     "text": [
      "C:\\Users\\User.MORADI-PC\\AppData\\Local\\Temp\\ipykernel_2604\\1539300088.py:16: FutureWarning: Support for multi-dimensional indexing (e.g. `obj[:, None]`) is deprecated and will be removed in a future version.  Convert to a numpy array before indexing instead.\n",
      "  mse_tpr=xgboost_reg_error(X_datacut[X_datacut.columns[a][0]].values,Y_datacut,testSize)\n"
     ]
    },
    {
     "name": "stdout",
     "output_type": "stream",
     "text": [
      "3.0\n",
      "----------------------------------------------------------------------------\n"
     ]
    },
    {
     "name": "stderr",
     "output_type": "stream",
     "text": [
      "C:\\Users\\User.MORADI-PC\\AppData\\Local\\Temp\\ipykernel_2604\\1539300088.py:16: FutureWarning: Support for multi-dimensional indexing (e.g. `obj[:, None]`) is deprecated and will be removed in a future version.  Convert to a numpy array before indexing instead.\n",
      "  mse_tpr=xgboost_reg_error(X_datacut[X_datacut.columns[a][0]].values,Y_datacut,testSize)\n"
     ]
    },
    {
     "name": "stdout",
     "output_type": "stream",
     "text": [
      "4.0\n",
      "----------------------------------------------------------------------------\n"
     ]
    },
    {
     "name": "stderr",
     "output_type": "stream",
     "text": [
      "C:\\Users\\User.MORADI-PC\\AppData\\Local\\Temp\\ipykernel_2604\\1539300088.py:16: FutureWarning: Support for multi-dimensional indexing (e.g. `obj[:, None]`) is deprecated and will be removed in a future version.  Convert to a numpy array before indexing instead.\n",
      "  mse_tpr=xgboost_reg_error(X_datacut[X_datacut.columns[a][0]].values,Y_datacut,testSize)\n"
     ]
    },
    {
     "name": "stdout",
     "output_type": "stream",
     "text": [
      "5.0\n",
      "----------------------------------------------------------------------------\n"
     ]
    },
    {
     "name": "stderr",
     "output_type": "stream",
     "text": [
      "C:\\Users\\User.MORADI-PC\\AppData\\Local\\Temp\\ipykernel_2604\\1539300088.py:16: FutureWarning: Support for multi-dimensional indexing (e.g. `obj[:, None]`) is deprecated and will be removed in a future version.  Convert to a numpy array before indexing instead.\n",
      "  mse_tpr=xgboost_reg_error(X_datacut[X_datacut.columns[a][0]].values,Y_datacut,testSize)\n"
     ]
    },
    {
     "name": "stdout",
     "output_type": "stream",
     "text": [
      "6.0\n",
      "----------------------------------------------------------------------------\n"
     ]
    },
    {
     "name": "stderr",
     "output_type": "stream",
     "text": [
      "C:\\Users\\User.MORADI-PC\\AppData\\Local\\Temp\\ipykernel_2604\\1539300088.py:16: FutureWarning: Support for multi-dimensional indexing (e.g. `obj[:, None]`) is deprecated and will be removed in a future version.  Convert to a numpy array before indexing instead.\n",
      "  mse_tpr=xgboost_reg_error(X_datacut[X_datacut.columns[a][0]].values,Y_datacut,testSize)\n"
     ]
    },
    {
     "name": "stdout",
     "output_type": "stream",
     "text": [
      "7.0\n",
      "----------------------------------------------------------------------------\n"
     ]
    },
    {
     "name": "stderr",
     "output_type": "stream",
     "text": [
      "C:\\Users\\User.MORADI-PC\\AppData\\Local\\Temp\\ipykernel_2604\\1539300088.py:16: FutureWarning: Support for multi-dimensional indexing (e.g. `obj[:, None]`) is deprecated and will be removed in a future version.  Convert to a numpy array before indexing instead.\n",
      "  mse_tpr=xgboost_reg_error(X_datacut[X_datacut.columns[a][0]].values,Y_datacut,testSize)\n"
     ]
    },
    {
     "name": "stdout",
     "output_type": "stream",
     "text": [
      "8.0\n",
      "----------------------------------------------------------------------------\n"
     ]
    },
    {
     "name": "stderr",
     "output_type": "stream",
     "text": [
      "C:\\Users\\User.MORADI-PC\\AppData\\Local\\Temp\\ipykernel_2604\\1539300088.py:16: FutureWarning: Support for multi-dimensional indexing (e.g. `obj[:, None]`) is deprecated and will be removed in a future version.  Convert to a numpy array before indexing instead.\n",
      "  mse_tpr=xgboost_reg_error(X_datacut[X_datacut.columns[a][0]].values,Y_datacut,testSize)\n"
     ]
    },
    {
     "name": "stdout",
     "output_type": "stream",
     "text": [
      "9.0\n",
      "----------------------------------------------------------------------------\n"
     ]
    },
    {
     "name": "stderr",
     "output_type": "stream",
     "text": [
      "C:\\Users\\User.MORADI-PC\\AppData\\Local\\Temp\\ipykernel_2604\\1539300088.py:16: FutureWarning: Support for multi-dimensional indexing (e.g. `obj[:, None]`) is deprecated and will be removed in a future version.  Convert to a numpy array before indexing instead.\n",
      "  mse_tpr=xgboost_reg_error(X_datacut[X_datacut.columns[a][0]].values,Y_datacut,testSize)\n"
     ]
    },
    {
     "name": "stdout",
     "output_type": "stream",
     "text": [
      "0.0\n",
      "----------------------------------------------------------------------------\n"
     ]
    },
    {
     "name": "stderr",
     "output_type": "stream",
     "text": [
      "C:\\Users\\User.MORADI-PC\\AppData\\Local\\Temp\\ipykernel_2604\\1539300088.py:16: FutureWarning: Support for multi-dimensional indexing (e.g. `obj[:, None]`) is deprecated and will be removed in a future version.  Convert to a numpy array before indexing instead.\n",
      "  mse_tpr=xgboost_reg_error(X_datacut[X_datacut.columns[a][0]].values,Y_datacut,testSize)\n"
     ]
    },
    {
     "name": "stdout",
     "output_type": "stream",
     "text": [
      "1.0\n",
      "----------------------------------------------------------------------------\n"
     ]
    },
    {
     "name": "stderr",
     "output_type": "stream",
     "text": [
      "C:\\Users\\User.MORADI-PC\\AppData\\Local\\Temp\\ipykernel_2604\\1539300088.py:16: FutureWarning: Support for multi-dimensional indexing (e.g. `obj[:, None]`) is deprecated and will be removed in a future version.  Convert to a numpy array before indexing instead.\n",
      "  mse_tpr=xgboost_reg_error(X_datacut[X_datacut.columns[a][0]].values,Y_datacut,testSize)\n"
     ]
    },
    {
     "name": "stdout",
     "output_type": "stream",
     "text": [
      "2.0\n",
      "----------------------------------------------------------------------------\n"
     ]
    },
    {
     "name": "stderr",
     "output_type": "stream",
     "text": [
      "C:\\Users\\User.MORADI-PC\\AppData\\Local\\Temp\\ipykernel_2604\\1539300088.py:16: FutureWarning: Support for multi-dimensional indexing (e.g. `obj[:, None]`) is deprecated and will be removed in a future version.  Convert to a numpy array before indexing instead.\n",
      "  mse_tpr=xgboost_reg_error(X_datacut[X_datacut.columns[a][0]].values,Y_datacut,testSize)\n"
     ]
    },
    {
     "name": "stdout",
     "output_type": "stream",
     "text": [
      "3.0\n",
      "----------------------------------------------------------------------------\n"
     ]
    },
    {
     "name": "stderr",
     "output_type": "stream",
     "text": [
      "C:\\Users\\User.MORADI-PC\\AppData\\Local\\Temp\\ipykernel_2604\\1539300088.py:16: FutureWarning: Support for multi-dimensional indexing (e.g. `obj[:, None]`) is deprecated and will be removed in a future version.  Convert to a numpy array before indexing instead.\n",
      "  mse_tpr=xgboost_reg_error(X_datacut[X_datacut.columns[a][0]].values,Y_datacut,testSize)\n"
     ]
    },
    {
     "name": "stdout",
     "output_type": "stream",
     "text": [
      "4.0\n",
      "----------------------------------------------------------------------------\n"
     ]
    },
    {
     "name": "stderr",
     "output_type": "stream",
     "text": [
      "C:\\Users\\User.MORADI-PC\\AppData\\Local\\Temp\\ipykernel_2604\\1539300088.py:16: FutureWarning: Support for multi-dimensional indexing (e.g. `obj[:, None]`) is deprecated and will be removed in a future version.  Convert to a numpy array before indexing instead.\n",
      "  mse_tpr=xgboost_reg_error(X_datacut[X_datacut.columns[a][0]].values,Y_datacut,testSize)\n"
     ]
    },
    {
     "name": "stdout",
     "output_type": "stream",
     "text": [
      "5.0\n",
      "----------------------------------------------------------------------------\n"
     ]
    },
    {
     "name": "stderr",
     "output_type": "stream",
     "text": [
      "C:\\Users\\User.MORADI-PC\\AppData\\Local\\Temp\\ipykernel_2604\\1539300088.py:16: FutureWarning: Support for multi-dimensional indexing (e.g. `obj[:, None]`) is deprecated and will be removed in a future version.  Convert to a numpy array before indexing instead.\n",
      "  mse_tpr=xgboost_reg_error(X_datacut[X_datacut.columns[a][0]].values,Y_datacut,testSize)\n"
     ]
    },
    {
     "name": "stdout",
     "output_type": "stream",
     "text": [
      "6.0\n",
      "----------------------------------------------------------------------------\n"
     ]
    },
    {
     "name": "stderr",
     "output_type": "stream",
     "text": [
      "C:\\Users\\User.MORADI-PC\\AppData\\Local\\Temp\\ipykernel_2604\\1539300088.py:16: FutureWarning: Support for multi-dimensional indexing (e.g. `obj[:, None]`) is deprecated and will be removed in a future version.  Convert to a numpy array before indexing instead.\n",
      "  mse_tpr=xgboost_reg_error(X_datacut[X_datacut.columns[a][0]].values,Y_datacut,testSize)\n"
     ]
    },
    {
     "name": "stdout",
     "output_type": "stream",
     "text": [
      "7.0\n",
      "----------------------------------------------------------------------------\n"
     ]
    },
    {
     "name": "stderr",
     "output_type": "stream",
     "text": [
      "C:\\Users\\User.MORADI-PC\\AppData\\Local\\Temp\\ipykernel_2604\\1539300088.py:16: FutureWarning: Support for multi-dimensional indexing (e.g. `obj[:, None]`) is deprecated and will be removed in a future version.  Convert to a numpy array before indexing instead.\n",
      "  mse_tpr=xgboost_reg_error(X_datacut[X_datacut.columns[a][0]].values,Y_datacut,testSize)\n"
     ]
    },
    {
     "name": "stdout",
     "output_type": "stream",
     "text": [
      "8.0\n",
      "----------------------------------------------------------------------------\n"
     ]
    },
    {
     "name": "stderr",
     "output_type": "stream",
     "text": [
      "C:\\Users\\User.MORADI-PC\\AppData\\Local\\Temp\\ipykernel_2604\\1539300088.py:16: FutureWarning: Support for multi-dimensional indexing (e.g. `obj[:, None]`) is deprecated and will be removed in a future version.  Convert to a numpy array before indexing instead.\n",
      "  mse_tpr=xgboost_reg_error(X_datacut[X_datacut.columns[a][0]].values,Y_datacut,testSize)\n"
     ]
    },
    {
     "name": "stdout",
     "output_type": "stream",
     "text": [
      "9.0\n",
      "----------------------------------------------------------------------------\n"
     ]
    },
    {
     "name": "stderr",
     "output_type": "stream",
     "text": [
      "C:\\Users\\User.MORADI-PC\\AppData\\Local\\Temp\\ipykernel_2604\\1539300088.py:16: FutureWarning: Support for multi-dimensional indexing (e.g. `obj[:, None]`) is deprecated and will be removed in a future version.  Convert to a numpy array before indexing instead.\n",
      "  mse_tpr=xgboost_reg_error(X_datacut[X_datacut.columns[a][0]].values,Y_datacut,testSize)\n"
     ]
    },
    {
     "name": "stdout",
     "output_type": "stream",
     "text": [
      "0.0\n",
      "----------------------------------------------------------------------------\n"
     ]
    },
    {
     "name": "stderr",
     "output_type": "stream",
     "text": [
      "C:\\Users\\User.MORADI-PC\\AppData\\Local\\Temp\\ipykernel_2604\\1539300088.py:16: FutureWarning: Support for multi-dimensional indexing (e.g. `obj[:, None]`) is deprecated and will be removed in a future version.  Convert to a numpy array before indexing instead.\n",
      "  mse_tpr=xgboost_reg_error(X_datacut[X_datacut.columns[a][0]].values,Y_datacut,testSize)\n"
     ]
    },
    {
     "name": "stdout",
     "output_type": "stream",
     "text": [
      "1.0\n",
      "----------------------------------------------------------------------------\n"
     ]
    },
    {
     "name": "stderr",
     "output_type": "stream",
     "text": [
      "C:\\Users\\User.MORADI-PC\\AppData\\Local\\Temp\\ipykernel_2604\\1539300088.py:16: FutureWarning: Support for multi-dimensional indexing (e.g. `obj[:, None]`) is deprecated and will be removed in a future version.  Convert to a numpy array before indexing instead.\n",
      "  mse_tpr=xgboost_reg_error(X_datacut[X_datacut.columns[a][0]].values,Y_datacut,testSize)\n"
     ]
    },
    {
     "name": "stdout",
     "output_type": "stream",
     "text": [
      "2.0\n",
      "----------------------------------------------------------------------------\n"
     ]
    },
    {
     "name": "stderr",
     "output_type": "stream",
     "text": [
      "C:\\Users\\User.MORADI-PC\\AppData\\Local\\Temp\\ipykernel_2604\\1539300088.py:16: FutureWarning: Support for multi-dimensional indexing (e.g. `obj[:, None]`) is deprecated and will be removed in a future version.  Convert to a numpy array before indexing instead.\n",
      "  mse_tpr=xgboost_reg_error(X_datacut[X_datacut.columns[a][0]].values,Y_datacut,testSize)\n"
     ]
    },
    {
     "name": "stdout",
     "output_type": "stream",
     "text": [
      "3.0\n",
      "----------------------------------------------------------------------------\n"
     ]
    },
    {
     "name": "stderr",
     "output_type": "stream",
     "text": [
      "C:\\Users\\User.MORADI-PC\\AppData\\Local\\Temp\\ipykernel_2604\\1539300088.py:16: FutureWarning: Support for multi-dimensional indexing (e.g. `obj[:, None]`) is deprecated and will be removed in a future version.  Convert to a numpy array before indexing instead.\n",
      "  mse_tpr=xgboost_reg_error(X_datacut[X_datacut.columns[a][0]].values,Y_datacut,testSize)\n"
     ]
    },
    {
     "name": "stdout",
     "output_type": "stream",
     "text": [
      "4.0\n",
      "----------------------------------------------------------------------------\n"
     ]
    },
    {
     "name": "stderr",
     "output_type": "stream",
     "text": [
      "C:\\Users\\User.MORADI-PC\\AppData\\Local\\Temp\\ipykernel_2604\\1539300088.py:16: FutureWarning: Support for multi-dimensional indexing (e.g. `obj[:, None]`) is deprecated and will be removed in a future version.  Convert to a numpy array before indexing instead.\n",
      "  mse_tpr=xgboost_reg_error(X_datacut[X_datacut.columns[a][0]].values,Y_datacut,testSize)\n"
     ]
    },
    {
     "name": "stdout",
     "output_type": "stream",
     "text": [
      "5.0\n",
      "----------------------------------------------------------------------------\n"
     ]
    },
    {
     "name": "stderr",
     "output_type": "stream",
     "text": [
      "C:\\Users\\User.MORADI-PC\\AppData\\Local\\Temp\\ipykernel_2604\\1539300088.py:16: FutureWarning: Support for multi-dimensional indexing (e.g. `obj[:, None]`) is deprecated and will be removed in a future version.  Convert to a numpy array before indexing instead.\n",
      "  mse_tpr=xgboost_reg_error(X_datacut[X_datacut.columns[a][0]].values,Y_datacut,testSize)\n"
     ]
    },
    {
     "name": "stdout",
     "output_type": "stream",
     "text": [
      "6.0\n",
      "----------------------------------------------------------------------------\n"
     ]
    },
    {
     "name": "stderr",
     "output_type": "stream",
     "text": [
      "C:\\Users\\User.MORADI-PC\\AppData\\Local\\Temp\\ipykernel_2604\\1539300088.py:16: FutureWarning: Support for multi-dimensional indexing (e.g. `obj[:, None]`) is deprecated and will be removed in a future version.  Convert to a numpy array before indexing instead.\n",
      "  mse_tpr=xgboost_reg_error(X_datacut[X_datacut.columns[a][0]].values,Y_datacut,testSize)\n"
     ]
    },
    {
     "name": "stdout",
     "output_type": "stream",
     "text": [
      "7.0\n",
      "----------------------------------------------------------------------------\n"
     ]
    },
    {
     "name": "stderr",
     "output_type": "stream",
     "text": [
      "C:\\Users\\User.MORADI-PC\\AppData\\Local\\Temp\\ipykernel_2604\\1539300088.py:16: FutureWarning: Support for multi-dimensional indexing (e.g. `obj[:, None]`) is deprecated and will be removed in a future version.  Convert to a numpy array before indexing instead.\n",
      "  mse_tpr=xgboost_reg_error(X_datacut[X_datacut.columns[a][0]].values,Y_datacut,testSize)\n"
     ]
    },
    {
     "name": "stdout",
     "output_type": "stream",
     "text": [
      "8.0\n",
      "----------------------------------------------------------------------------\n"
     ]
    },
    {
     "name": "stderr",
     "output_type": "stream",
     "text": [
      "C:\\Users\\User.MORADI-PC\\AppData\\Local\\Temp\\ipykernel_2604\\1539300088.py:16: FutureWarning: Support for multi-dimensional indexing (e.g. `obj[:, None]`) is deprecated and will be removed in a future version.  Convert to a numpy array before indexing instead.\n",
      "  mse_tpr=xgboost_reg_error(X_datacut[X_datacut.columns[a][0]].values,Y_datacut,testSize)\n"
     ]
    },
    {
     "name": "stdout",
     "output_type": "stream",
     "text": [
      "9.0\n",
      "----------------------------------------------------------------------------\n"
     ]
    },
    {
     "name": "stderr",
     "output_type": "stream",
     "text": [
      "C:\\Users\\User.MORADI-PC\\AppData\\Local\\Temp\\ipykernel_2604\\1539300088.py:16: FutureWarning: Support for multi-dimensional indexing (e.g. `obj[:, None]`) is deprecated and will be removed in a future version.  Convert to a numpy array before indexing instead.\n",
      "  mse_tpr=xgboost_reg_error(X_datacut[X_datacut.columns[a][0]].values,Y_datacut,testSize)\n"
     ]
    },
    {
     "name": "stdout",
     "output_type": "stream",
     "text": [
      "0.0\n",
      "----------------------------------------------------------------------------\n"
     ]
    },
    {
     "name": "stderr",
     "output_type": "stream",
     "text": [
      "C:\\Users\\User.MORADI-PC\\AppData\\Local\\Temp\\ipykernel_2604\\1539300088.py:16: FutureWarning: Support for multi-dimensional indexing (e.g. `obj[:, None]`) is deprecated and will be removed in a future version.  Convert to a numpy array before indexing instead.\n",
      "  mse_tpr=xgboost_reg_error(X_datacut[X_datacut.columns[a][0]].values,Y_datacut,testSize)\n"
     ]
    },
    {
     "name": "stdout",
     "output_type": "stream",
     "text": [
      "1.0\n",
      "----------------------------------------------------------------------------\n"
     ]
    },
    {
     "name": "stderr",
     "output_type": "stream",
     "text": [
      "C:\\Users\\User.MORADI-PC\\AppData\\Local\\Temp\\ipykernel_2604\\1539300088.py:16: FutureWarning: Support for multi-dimensional indexing (e.g. `obj[:, None]`) is deprecated and will be removed in a future version.  Convert to a numpy array before indexing instead.\n",
      "  mse_tpr=xgboost_reg_error(X_datacut[X_datacut.columns[a][0]].values,Y_datacut,testSize)\n"
     ]
    },
    {
     "name": "stdout",
     "output_type": "stream",
     "text": [
      "2.0\n",
      "----------------------------------------------------------------------------\n"
     ]
    },
    {
     "name": "stderr",
     "output_type": "stream",
     "text": [
      "C:\\Users\\User.MORADI-PC\\AppData\\Local\\Temp\\ipykernel_2604\\1539300088.py:16: FutureWarning: Support for multi-dimensional indexing (e.g. `obj[:, None]`) is deprecated and will be removed in a future version.  Convert to a numpy array before indexing instead.\n",
      "  mse_tpr=xgboost_reg_error(X_datacut[X_datacut.columns[a][0]].values,Y_datacut,testSize)\n"
     ]
    },
    {
     "name": "stdout",
     "output_type": "stream",
     "text": [
      "3.0\n",
      "----------------------------------------------------------------------------\n"
     ]
    },
    {
     "name": "stderr",
     "output_type": "stream",
     "text": [
      "C:\\Users\\User.MORADI-PC\\AppData\\Local\\Temp\\ipykernel_2604\\1539300088.py:16: FutureWarning: Support for multi-dimensional indexing (e.g. `obj[:, None]`) is deprecated and will be removed in a future version.  Convert to a numpy array before indexing instead.\n",
      "  mse_tpr=xgboost_reg_error(X_datacut[X_datacut.columns[a][0]].values,Y_datacut,testSize)\n"
     ]
    },
    {
     "name": "stdout",
     "output_type": "stream",
     "text": [
      "4.0\n",
      "----------------------------------------------------------------------------\n"
     ]
    },
    {
     "name": "stderr",
     "output_type": "stream",
     "text": [
      "C:\\Users\\User.MORADI-PC\\AppData\\Local\\Temp\\ipykernel_2604\\1539300088.py:16: FutureWarning: Support for multi-dimensional indexing (e.g. `obj[:, None]`) is deprecated and will be removed in a future version.  Convert to a numpy array before indexing instead.\n",
      "  mse_tpr=xgboost_reg_error(X_datacut[X_datacut.columns[a][0]].values,Y_datacut,testSize)\n"
     ]
    },
    {
     "name": "stdout",
     "output_type": "stream",
     "text": [
      "5.0\n",
      "----------------------------------------------------------------------------\n"
     ]
    },
    {
     "name": "stderr",
     "output_type": "stream",
     "text": [
      "C:\\Users\\User.MORADI-PC\\AppData\\Local\\Temp\\ipykernel_2604\\1539300088.py:16: FutureWarning: Support for multi-dimensional indexing (e.g. `obj[:, None]`) is deprecated and will be removed in a future version.  Convert to a numpy array before indexing instead.\n",
      "  mse_tpr=xgboost_reg_error(X_datacut[X_datacut.columns[a][0]].values,Y_datacut,testSize)\n"
     ]
    },
    {
     "name": "stdout",
     "output_type": "stream",
     "text": [
      "6.0\n",
      "----------------------------------------------------------------------------\n"
     ]
    },
    {
     "name": "stderr",
     "output_type": "stream",
     "text": [
      "C:\\Users\\User.MORADI-PC\\AppData\\Local\\Temp\\ipykernel_2604\\1539300088.py:16: FutureWarning: Support for multi-dimensional indexing (e.g. `obj[:, None]`) is deprecated and will be removed in a future version.  Convert to a numpy array before indexing instead.\n",
      "  mse_tpr=xgboost_reg_error(X_datacut[X_datacut.columns[a][0]].values,Y_datacut,testSize)\n"
     ]
    },
    {
     "name": "stdout",
     "output_type": "stream",
     "text": [
      "7.0\n",
      "----------------------------------------------------------------------------\n"
     ]
    },
    {
     "name": "stderr",
     "output_type": "stream",
     "text": [
      "C:\\Users\\User.MORADI-PC\\AppData\\Local\\Temp\\ipykernel_2604\\1539300088.py:16: FutureWarning: Support for multi-dimensional indexing (e.g. `obj[:, None]`) is deprecated and will be removed in a future version.  Convert to a numpy array before indexing instead.\n",
      "  mse_tpr=xgboost_reg_error(X_datacut[X_datacut.columns[a][0]].values,Y_datacut,testSize)\n"
     ]
    },
    {
     "name": "stdout",
     "output_type": "stream",
     "text": [
      "8.0\n",
      "----------------------------------------------------------------------------\n"
     ]
    },
    {
     "name": "stderr",
     "output_type": "stream",
     "text": [
      "C:\\Users\\User.MORADI-PC\\AppData\\Local\\Temp\\ipykernel_2604\\1539300088.py:16: FutureWarning: Support for multi-dimensional indexing (e.g. `obj[:, None]`) is deprecated and will be removed in a future version.  Convert to a numpy array before indexing instead.\n",
      "  mse_tpr=xgboost_reg_error(X_datacut[X_datacut.columns[a][0]].values,Y_datacut,testSize)\n"
     ]
    },
    {
     "name": "stdout",
     "output_type": "stream",
     "text": [
      "9.0\n",
      "----------------------------------------------------------------------------\n"
     ]
    },
    {
     "name": "stderr",
     "output_type": "stream",
     "text": [
      "C:\\Users\\User.MORADI-PC\\AppData\\Local\\Temp\\ipykernel_2604\\1539300088.py:16: FutureWarning: Support for multi-dimensional indexing (e.g. `obj[:, None]`) is deprecated and will be removed in a future version.  Convert to a numpy array before indexing instead.\n",
      "  mse_tpr=xgboost_reg_error(X_datacut[X_datacut.columns[a][0]].values,Y_datacut,testSize)\n"
     ]
    },
    {
     "name": "stdout",
     "output_type": "stream",
     "text": [
      "0.0\n",
      "----------------------------------------------------------------------------\n"
     ]
    },
    {
     "name": "stderr",
     "output_type": "stream",
     "text": [
      "C:\\Users\\User.MORADI-PC\\AppData\\Local\\Temp\\ipykernel_2604\\1539300088.py:16: FutureWarning: Support for multi-dimensional indexing (e.g. `obj[:, None]`) is deprecated and will be removed in a future version.  Convert to a numpy array before indexing instead.\n",
      "  mse_tpr=xgboost_reg_error(X_datacut[X_datacut.columns[a][0]].values,Y_datacut,testSize)\n"
     ]
    },
    {
     "name": "stdout",
     "output_type": "stream",
     "text": [
      "1.0\n",
      "----------------------------------------------------------------------------\n"
     ]
    },
    {
     "name": "stderr",
     "output_type": "stream",
     "text": [
      "C:\\Users\\User.MORADI-PC\\AppData\\Local\\Temp\\ipykernel_2604\\1539300088.py:16: FutureWarning: Support for multi-dimensional indexing (e.g. `obj[:, None]`) is deprecated and will be removed in a future version.  Convert to a numpy array before indexing instead.\n",
      "  mse_tpr=xgboost_reg_error(X_datacut[X_datacut.columns[a][0]].values,Y_datacut,testSize)\n"
     ]
    },
    {
     "name": "stdout",
     "output_type": "stream",
     "text": [
      "2.0\n",
      "----------------------------------------------------------------------------\n"
     ]
    },
    {
     "name": "stderr",
     "output_type": "stream",
     "text": [
      "C:\\Users\\User.MORADI-PC\\AppData\\Local\\Temp\\ipykernel_2604\\1539300088.py:16: FutureWarning: Support for multi-dimensional indexing (e.g. `obj[:, None]`) is deprecated and will be removed in a future version.  Convert to a numpy array before indexing instead.\n",
      "  mse_tpr=xgboost_reg_error(X_datacut[X_datacut.columns[a][0]].values,Y_datacut,testSize)\n"
     ]
    },
    {
     "name": "stdout",
     "output_type": "stream",
     "text": [
      "3.0\n",
      "----------------------------------------------------------------------------\n"
     ]
    },
    {
     "name": "stderr",
     "output_type": "stream",
     "text": [
      "C:\\Users\\User.MORADI-PC\\AppData\\Local\\Temp\\ipykernel_2604\\1539300088.py:16: FutureWarning: Support for multi-dimensional indexing (e.g. `obj[:, None]`) is deprecated and will be removed in a future version.  Convert to a numpy array before indexing instead.\n",
      "  mse_tpr=xgboost_reg_error(X_datacut[X_datacut.columns[a][0]].values,Y_datacut,testSize)\n"
     ]
    },
    {
     "name": "stdout",
     "output_type": "stream",
     "text": [
      "4.0\n",
      "----------------------------------------------------------------------------\n"
     ]
    },
    {
     "name": "stderr",
     "output_type": "stream",
     "text": [
      "C:\\Users\\User.MORADI-PC\\AppData\\Local\\Temp\\ipykernel_2604\\1539300088.py:16: FutureWarning: Support for multi-dimensional indexing (e.g. `obj[:, None]`) is deprecated and will be removed in a future version.  Convert to a numpy array before indexing instead.\n",
      "  mse_tpr=xgboost_reg_error(X_datacut[X_datacut.columns[a][0]].values,Y_datacut,testSize)\n"
     ]
    },
    {
     "name": "stdout",
     "output_type": "stream",
     "text": [
      "5.0\n",
      "----------------------------------------------------------------------------\n"
     ]
    },
    {
     "name": "stderr",
     "output_type": "stream",
     "text": [
      "C:\\Users\\User.MORADI-PC\\AppData\\Local\\Temp\\ipykernel_2604\\1539300088.py:16: FutureWarning: Support for multi-dimensional indexing (e.g. `obj[:, None]`) is deprecated and will be removed in a future version.  Convert to a numpy array before indexing instead.\n",
      "  mse_tpr=xgboost_reg_error(X_datacut[X_datacut.columns[a][0]].values,Y_datacut,testSize)\n"
     ]
    },
    {
     "name": "stdout",
     "output_type": "stream",
     "text": [
      "6.0\n",
      "----------------------------------------------------------------------------\n"
     ]
    },
    {
     "name": "stderr",
     "output_type": "stream",
     "text": [
      "C:\\Users\\User.MORADI-PC\\AppData\\Local\\Temp\\ipykernel_2604\\1539300088.py:16: FutureWarning: Support for multi-dimensional indexing (e.g. `obj[:, None]`) is deprecated and will be removed in a future version.  Convert to a numpy array before indexing instead.\n",
      "  mse_tpr=xgboost_reg_error(X_datacut[X_datacut.columns[a][0]].values,Y_datacut,testSize)\n"
     ]
    },
    {
     "name": "stdout",
     "output_type": "stream",
     "text": [
      "7.0\n",
      "----------------------------------------------------------------------------\n"
     ]
    },
    {
     "name": "stderr",
     "output_type": "stream",
     "text": [
      "C:\\Users\\User.MORADI-PC\\AppData\\Local\\Temp\\ipykernel_2604\\1539300088.py:16: FutureWarning: Support for multi-dimensional indexing (e.g. `obj[:, None]`) is deprecated and will be removed in a future version.  Convert to a numpy array before indexing instead.\n",
      "  mse_tpr=xgboost_reg_error(X_datacut[X_datacut.columns[a][0]].values,Y_datacut,testSize)\n"
     ]
    },
    {
     "name": "stdout",
     "output_type": "stream",
     "text": [
      "8.0\n",
      "----------------------------------------------------------------------------\n"
     ]
    },
    {
     "name": "stderr",
     "output_type": "stream",
     "text": [
      "C:\\Users\\User.MORADI-PC\\AppData\\Local\\Temp\\ipykernel_2604\\1539300088.py:16: FutureWarning: Support for multi-dimensional indexing (e.g. `obj[:, None]`) is deprecated and will be removed in a future version.  Convert to a numpy array before indexing instead.\n",
      "  mse_tpr=xgboost_reg_error(X_datacut[X_datacut.columns[a][0]].values,Y_datacut,testSize)\n"
     ]
    },
    {
     "name": "stdout",
     "output_type": "stream",
     "text": [
      "9.0\n",
      "----------------------------------------------------------------------------\n"
     ]
    },
    {
     "name": "stderr",
     "output_type": "stream",
     "text": [
      "C:\\Users\\User.MORADI-PC\\AppData\\Local\\Temp\\ipykernel_2604\\1539300088.py:16: FutureWarning: Support for multi-dimensional indexing (e.g. `obj[:, None]`) is deprecated and will be removed in a future version.  Convert to a numpy array before indexing instead.\n",
      "  mse_tpr=xgboost_reg_error(X_datacut[X_datacut.columns[a][0]].values,Y_datacut,testSize)\n"
     ]
    },
    {
     "name": "stdout",
     "output_type": "stream",
     "text": [
      "0.0\n",
      "----------------------------------------------------------------------------\n"
     ]
    },
    {
     "name": "stderr",
     "output_type": "stream",
     "text": [
      "C:\\Users\\User.MORADI-PC\\AppData\\Local\\Temp\\ipykernel_2604\\1539300088.py:16: FutureWarning: Support for multi-dimensional indexing (e.g. `obj[:, None]`) is deprecated and will be removed in a future version.  Convert to a numpy array before indexing instead.\n",
      "  mse_tpr=xgboost_reg_error(X_datacut[X_datacut.columns[a][0]].values,Y_datacut,testSize)\n"
     ]
    },
    {
     "name": "stdout",
     "output_type": "stream",
     "text": [
      "1.0\n",
      "----------------------------------------------------------------------------\n"
     ]
    },
    {
     "name": "stderr",
     "output_type": "stream",
     "text": [
      "C:\\Users\\User.MORADI-PC\\AppData\\Local\\Temp\\ipykernel_2604\\1539300088.py:16: FutureWarning: Support for multi-dimensional indexing (e.g. `obj[:, None]`) is deprecated and will be removed in a future version.  Convert to a numpy array before indexing instead.\n",
      "  mse_tpr=xgboost_reg_error(X_datacut[X_datacut.columns[a][0]].values,Y_datacut,testSize)\n"
     ]
    },
    {
     "name": "stdout",
     "output_type": "stream",
     "text": [
      "2.0\n",
      "----------------------------------------------------------------------------\n"
     ]
    },
    {
     "name": "stderr",
     "output_type": "stream",
     "text": [
      "C:\\Users\\User.MORADI-PC\\AppData\\Local\\Temp\\ipykernel_2604\\1539300088.py:16: FutureWarning: Support for multi-dimensional indexing (e.g. `obj[:, None]`) is deprecated and will be removed in a future version.  Convert to a numpy array before indexing instead.\n",
      "  mse_tpr=xgboost_reg_error(X_datacut[X_datacut.columns[a][0]].values,Y_datacut,testSize)\n"
     ]
    },
    {
     "name": "stdout",
     "output_type": "stream",
     "text": [
      "3.0\n",
      "----------------------------------------------------------------------------\n"
     ]
    },
    {
     "name": "stderr",
     "output_type": "stream",
     "text": [
      "C:\\Users\\User.MORADI-PC\\AppData\\Local\\Temp\\ipykernel_2604\\1539300088.py:16: FutureWarning: Support for multi-dimensional indexing (e.g. `obj[:, None]`) is deprecated and will be removed in a future version.  Convert to a numpy array before indexing instead.\n",
      "  mse_tpr=xgboost_reg_error(X_datacut[X_datacut.columns[a][0]].values,Y_datacut,testSize)\n"
     ]
    },
    {
     "name": "stdout",
     "output_type": "stream",
     "text": [
      "4.0\n",
      "----------------------------------------------------------------------------\n"
     ]
    },
    {
     "name": "stderr",
     "output_type": "stream",
     "text": [
      "C:\\Users\\User.MORADI-PC\\AppData\\Local\\Temp\\ipykernel_2604\\1539300088.py:16: FutureWarning: Support for multi-dimensional indexing (e.g. `obj[:, None]`) is deprecated and will be removed in a future version.  Convert to a numpy array before indexing instead.\n",
      "  mse_tpr=xgboost_reg_error(X_datacut[X_datacut.columns[a][0]].values,Y_datacut,testSize)\n"
     ]
    },
    {
     "name": "stdout",
     "output_type": "stream",
     "text": [
      "5.0\n",
      "----------------------------------------------------------------------------\n"
     ]
    },
    {
     "name": "stderr",
     "output_type": "stream",
     "text": [
      "C:\\Users\\User.MORADI-PC\\AppData\\Local\\Temp\\ipykernel_2604\\1539300088.py:16: FutureWarning: Support for multi-dimensional indexing (e.g. `obj[:, None]`) is deprecated and will be removed in a future version.  Convert to a numpy array before indexing instead.\n",
      "  mse_tpr=xgboost_reg_error(X_datacut[X_datacut.columns[a][0]].values,Y_datacut,testSize)\n"
     ]
    },
    {
     "name": "stdout",
     "output_type": "stream",
     "text": [
      "6.0\n",
      "----------------------------------------------------------------------------\n"
     ]
    },
    {
     "name": "stderr",
     "output_type": "stream",
     "text": [
      "C:\\Users\\User.MORADI-PC\\AppData\\Local\\Temp\\ipykernel_2604\\1539300088.py:16: FutureWarning: Support for multi-dimensional indexing (e.g. `obj[:, None]`) is deprecated and will be removed in a future version.  Convert to a numpy array before indexing instead.\n",
      "  mse_tpr=xgboost_reg_error(X_datacut[X_datacut.columns[a][0]].values,Y_datacut,testSize)\n"
     ]
    },
    {
     "name": "stdout",
     "output_type": "stream",
     "text": [
      "7.0\n",
      "----------------------------------------------------------------------------\n"
     ]
    },
    {
     "name": "stderr",
     "output_type": "stream",
     "text": [
      "C:\\Users\\User.MORADI-PC\\AppData\\Local\\Temp\\ipykernel_2604\\1539300088.py:16: FutureWarning: Support for multi-dimensional indexing (e.g. `obj[:, None]`) is deprecated and will be removed in a future version.  Convert to a numpy array before indexing instead.\n",
      "  mse_tpr=xgboost_reg_error(X_datacut[X_datacut.columns[a][0]].values,Y_datacut,testSize)\n"
     ]
    },
    {
     "name": "stdout",
     "output_type": "stream",
     "text": [
      "8.0\n",
      "----------------------------------------------------------------------------\n"
     ]
    },
    {
     "name": "stderr",
     "output_type": "stream",
     "text": [
      "C:\\Users\\User.MORADI-PC\\AppData\\Local\\Temp\\ipykernel_2604\\1539300088.py:16: FutureWarning: Support for multi-dimensional indexing (e.g. `obj[:, None]`) is deprecated and will be removed in a future version.  Convert to a numpy array before indexing instead.\n",
      "  mse_tpr=xgboost_reg_error(X_datacut[X_datacut.columns[a][0]].values,Y_datacut,testSize)\n"
     ]
    },
    {
     "name": "stdout",
     "output_type": "stream",
     "text": [
      "9.0\n",
      "----------------------------------------------------------------------------\n"
     ]
    },
    {
     "name": "stderr",
     "output_type": "stream",
     "text": [
      "C:\\Users\\User.MORADI-PC\\AppData\\Local\\Temp\\ipykernel_2604\\1539300088.py:16: FutureWarning: Support for multi-dimensional indexing (e.g. `obj[:, None]`) is deprecated and will be removed in a future version.  Convert to a numpy array before indexing instead.\n",
      "  mse_tpr=xgboost_reg_error(X_datacut[X_datacut.columns[a][0]].values,Y_datacut,testSize)\n"
     ]
    },
    {
     "name": "stdout",
     "output_type": "stream",
     "text": [
      "0.0\n",
      "----------------------------------------------------------------------------\n"
     ]
    },
    {
     "name": "stderr",
     "output_type": "stream",
     "text": [
      "C:\\Users\\User.MORADI-PC\\AppData\\Local\\Temp\\ipykernel_2604\\1539300088.py:16: FutureWarning: Support for multi-dimensional indexing (e.g. `obj[:, None]`) is deprecated and will be removed in a future version.  Convert to a numpy array before indexing instead.\n",
      "  mse_tpr=xgboost_reg_error(X_datacut[X_datacut.columns[a][0]].values,Y_datacut,testSize)\n"
     ]
    },
    {
     "name": "stdout",
     "output_type": "stream",
     "text": [
      "1.0\n",
      "----------------------------------------------------------------------------\n"
     ]
    },
    {
     "name": "stderr",
     "output_type": "stream",
     "text": [
      "C:\\Users\\User.MORADI-PC\\AppData\\Local\\Temp\\ipykernel_2604\\1539300088.py:16: FutureWarning: Support for multi-dimensional indexing (e.g. `obj[:, None]`) is deprecated and will be removed in a future version.  Convert to a numpy array before indexing instead.\n",
      "  mse_tpr=xgboost_reg_error(X_datacut[X_datacut.columns[a][0]].values,Y_datacut,testSize)\n"
     ]
    },
    {
     "name": "stdout",
     "output_type": "stream",
     "text": [
      "2.0\n",
      "----------------------------------------------------------------------------\n"
     ]
    },
    {
     "name": "stderr",
     "output_type": "stream",
     "text": [
      "C:\\Users\\User.MORADI-PC\\AppData\\Local\\Temp\\ipykernel_2604\\1539300088.py:16: FutureWarning: Support for multi-dimensional indexing (e.g. `obj[:, None]`) is deprecated and will be removed in a future version.  Convert to a numpy array before indexing instead.\n",
      "  mse_tpr=xgboost_reg_error(X_datacut[X_datacut.columns[a][0]].values,Y_datacut,testSize)\n"
     ]
    },
    {
     "name": "stdout",
     "output_type": "stream",
     "text": [
      "3.0\n",
      "----------------------------------------------------------------------------\n"
     ]
    },
    {
     "name": "stderr",
     "output_type": "stream",
     "text": [
      "C:\\Users\\User.MORADI-PC\\AppData\\Local\\Temp\\ipykernel_2604\\1539300088.py:16: FutureWarning: Support for multi-dimensional indexing (e.g. `obj[:, None]`) is deprecated and will be removed in a future version.  Convert to a numpy array before indexing instead.\n",
      "  mse_tpr=xgboost_reg_error(X_datacut[X_datacut.columns[a][0]].values,Y_datacut,testSize)\n"
     ]
    },
    {
     "name": "stdout",
     "output_type": "stream",
     "text": [
      "4.0\n",
      "----------------------------------------------------------------------------\n"
     ]
    },
    {
     "name": "stderr",
     "output_type": "stream",
     "text": [
      "C:\\Users\\User.MORADI-PC\\AppData\\Local\\Temp\\ipykernel_2604\\1539300088.py:16: FutureWarning: Support for multi-dimensional indexing (e.g. `obj[:, None]`) is deprecated and will be removed in a future version.  Convert to a numpy array before indexing instead.\n",
      "  mse_tpr=xgboost_reg_error(X_datacut[X_datacut.columns[a][0]].values,Y_datacut,testSize)\n"
     ]
    },
    {
     "name": "stdout",
     "output_type": "stream",
     "text": [
      "5.0\n",
      "----------------------------------------------------------------------------\n"
     ]
    },
    {
     "name": "stderr",
     "output_type": "stream",
     "text": [
      "C:\\Users\\User.MORADI-PC\\AppData\\Local\\Temp\\ipykernel_2604\\1539300088.py:16: FutureWarning: Support for multi-dimensional indexing (e.g. `obj[:, None]`) is deprecated and will be removed in a future version.  Convert to a numpy array before indexing instead.\n",
      "  mse_tpr=xgboost_reg_error(X_datacut[X_datacut.columns[a][0]].values,Y_datacut,testSize)\n"
     ]
    },
    {
     "name": "stdout",
     "output_type": "stream",
     "text": [
      "6.0\n",
      "----------------------------------------------------------------------------\n"
     ]
    },
    {
     "name": "stderr",
     "output_type": "stream",
     "text": [
      "C:\\Users\\User.MORADI-PC\\AppData\\Local\\Temp\\ipykernel_2604\\1539300088.py:16: FutureWarning: Support for multi-dimensional indexing (e.g. `obj[:, None]`) is deprecated and will be removed in a future version.  Convert to a numpy array before indexing instead.\n",
      "  mse_tpr=xgboost_reg_error(X_datacut[X_datacut.columns[a][0]].values,Y_datacut,testSize)\n"
     ]
    },
    {
     "name": "stdout",
     "output_type": "stream",
     "text": [
      "7.0\n",
      "----------------------------------------------------------------------------\n"
     ]
    },
    {
     "name": "stderr",
     "output_type": "stream",
     "text": [
      "C:\\Users\\User.MORADI-PC\\AppData\\Local\\Temp\\ipykernel_2604\\1539300088.py:16: FutureWarning: Support for multi-dimensional indexing (e.g. `obj[:, None]`) is deprecated and will be removed in a future version.  Convert to a numpy array before indexing instead.\n",
      "  mse_tpr=xgboost_reg_error(X_datacut[X_datacut.columns[a][0]].values,Y_datacut,testSize)\n"
     ]
    },
    {
     "name": "stdout",
     "output_type": "stream",
     "text": [
      "8.0\n",
      "----------------------------------------------------------------------------\n"
     ]
    },
    {
     "name": "stderr",
     "output_type": "stream",
     "text": [
      "C:\\Users\\User.MORADI-PC\\AppData\\Local\\Temp\\ipykernel_2604\\1539300088.py:16: FutureWarning: Support for multi-dimensional indexing (e.g. `obj[:, None]`) is deprecated and will be removed in a future version.  Convert to a numpy array before indexing instead.\n",
      "  mse_tpr=xgboost_reg_error(X_datacut[X_datacut.columns[a][0]].values,Y_datacut,testSize)\n"
     ]
    },
    {
     "name": "stdout",
     "output_type": "stream",
     "text": [
      "9.0\n",
      "----------------------------------------------------------------------------\n"
     ]
    },
    {
     "name": "stderr",
     "output_type": "stream",
     "text": [
      "C:\\Users\\User.MORADI-PC\\AppData\\Local\\Temp\\ipykernel_2604\\1539300088.py:16: FutureWarning: Support for multi-dimensional indexing (e.g. `obj[:, None]`) is deprecated and will be removed in a future version.  Convert to a numpy array before indexing instead.\n",
      "  mse_tpr=xgboost_reg_error(X_datacut[X_datacut.columns[a][0]].values,Y_datacut,testSize)\n"
     ]
    },
    {
     "name": "stdout",
     "output_type": "stream",
     "text": [
      "0.0\n",
      "----------------------------------------------------------------------------\n"
     ]
    },
    {
     "name": "stderr",
     "output_type": "stream",
     "text": [
      "C:\\Users\\User.MORADI-PC\\AppData\\Local\\Temp\\ipykernel_2604\\1539300088.py:16: FutureWarning: Support for multi-dimensional indexing (e.g. `obj[:, None]`) is deprecated and will be removed in a future version.  Convert to a numpy array before indexing instead.\n",
      "  mse_tpr=xgboost_reg_error(X_datacut[X_datacut.columns[a][0]].values,Y_datacut,testSize)\n"
     ]
    },
    {
     "name": "stdout",
     "output_type": "stream",
     "text": [
      "1.0\n",
      "----------------------------------------------------------------------------\n"
     ]
    },
    {
     "name": "stderr",
     "output_type": "stream",
     "text": [
      "C:\\Users\\User.MORADI-PC\\AppData\\Local\\Temp\\ipykernel_2604\\1539300088.py:16: FutureWarning: Support for multi-dimensional indexing (e.g. `obj[:, None]`) is deprecated and will be removed in a future version.  Convert to a numpy array before indexing instead.\n",
      "  mse_tpr=xgboost_reg_error(X_datacut[X_datacut.columns[a][0]].values,Y_datacut,testSize)\n"
     ]
    },
    {
     "name": "stdout",
     "output_type": "stream",
     "text": [
      "2.0\n",
      "----------------------------------------------------------------------------\n"
     ]
    },
    {
     "name": "stderr",
     "output_type": "stream",
     "text": [
      "C:\\Users\\User.MORADI-PC\\AppData\\Local\\Temp\\ipykernel_2604\\1539300088.py:16: FutureWarning: Support for multi-dimensional indexing (e.g. `obj[:, None]`) is deprecated and will be removed in a future version.  Convert to a numpy array before indexing instead.\n",
      "  mse_tpr=xgboost_reg_error(X_datacut[X_datacut.columns[a][0]].values,Y_datacut,testSize)\n"
     ]
    },
    {
     "name": "stdout",
     "output_type": "stream",
     "text": [
      "3.0\n",
      "----------------------------------------------------------------------------\n"
     ]
    },
    {
     "name": "stderr",
     "output_type": "stream",
     "text": [
      "C:\\Users\\User.MORADI-PC\\AppData\\Local\\Temp\\ipykernel_2604\\1539300088.py:16: FutureWarning: Support for multi-dimensional indexing (e.g. `obj[:, None]`) is deprecated and will be removed in a future version.  Convert to a numpy array before indexing instead.\n",
      "  mse_tpr=xgboost_reg_error(X_datacut[X_datacut.columns[a][0]].values,Y_datacut,testSize)\n"
     ]
    },
    {
     "name": "stdout",
     "output_type": "stream",
     "text": [
      "4.0\n",
      "----------------------------------------------------------------------------\n"
     ]
    },
    {
     "name": "stderr",
     "output_type": "stream",
     "text": [
      "C:\\Users\\User.MORADI-PC\\AppData\\Local\\Temp\\ipykernel_2604\\1539300088.py:16: FutureWarning: Support for multi-dimensional indexing (e.g. `obj[:, None]`) is deprecated and will be removed in a future version.  Convert to a numpy array before indexing instead.\n",
      "  mse_tpr=xgboost_reg_error(X_datacut[X_datacut.columns[a][0]].values,Y_datacut,testSize)\n"
     ]
    },
    {
     "name": "stdout",
     "output_type": "stream",
     "text": [
      "5.0\n",
      "----------------------------------------------------------------------------\n"
     ]
    },
    {
     "name": "stderr",
     "output_type": "stream",
     "text": [
      "C:\\Users\\User.MORADI-PC\\AppData\\Local\\Temp\\ipykernel_2604\\1539300088.py:16: FutureWarning: Support for multi-dimensional indexing (e.g. `obj[:, None]`) is deprecated and will be removed in a future version.  Convert to a numpy array before indexing instead.\n",
      "  mse_tpr=xgboost_reg_error(X_datacut[X_datacut.columns[a][0]].values,Y_datacut,testSize)\n"
     ]
    },
    {
     "name": "stdout",
     "output_type": "stream",
     "text": [
      "6.0\n",
      "----------------------------------------------------------------------------\n"
     ]
    },
    {
     "name": "stderr",
     "output_type": "stream",
     "text": [
      "C:\\Users\\User.MORADI-PC\\AppData\\Local\\Temp\\ipykernel_2604\\1539300088.py:16: FutureWarning: Support for multi-dimensional indexing (e.g. `obj[:, None]`) is deprecated and will be removed in a future version.  Convert to a numpy array before indexing instead.\n",
      "  mse_tpr=xgboost_reg_error(X_datacut[X_datacut.columns[a][0]].values,Y_datacut,testSize)\n"
     ]
    },
    {
     "name": "stdout",
     "output_type": "stream",
     "text": [
      "7.0\n",
      "----------------------------------------------------------------------------\n"
     ]
    },
    {
     "name": "stderr",
     "output_type": "stream",
     "text": [
      "C:\\Users\\User.MORADI-PC\\AppData\\Local\\Temp\\ipykernel_2604\\1539300088.py:16: FutureWarning: Support for multi-dimensional indexing (e.g. `obj[:, None]`) is deprecated and will be removed in a future version.  Convert to a numpy array before indexing instead.\n",
      "  mse_tpr=xgboost_reg_error(X_datacut[X_datacut.columns[a][0]].values,Y_datacut,testSize)\n"
     ]
    },
    {
     "name": "stdout",
     "output_type": "stream",
     "text": [
      "8.0\n",
      "----------------------------------------------------------------------------\n",
      "9.0\n",
      "----------------------------------------------------------------------------\n"
     ]
    },
    {
     "name": "stderr",
     "output_type": "stream",
     "text": [
      "C:\\Users\\User.MORADI-PC\\AppData\\Local\\Temp\\ipykernel_2604\\1539300088.py:16: FutureWarning: Support for multi-dimensional indexing (e.g. `obj[:, None]`) is deprecated and will be removed in a future version.  Convert to a numpy array before indexing instead.\n",
      "  mse_tpr=xgboost_reg_error(X_datacut[X_datacut.columns[a][0]].values,Y_datacut,testSize)\n"
     ]
    }
   ],
   "source": [
    "dict_mse_tpr={}\n",
    "\n",
    "for window_size in [2,3,4,5,6,7,10,30]:\n",
    "    method_list = []\n",
    "    counter=0\n",
    "\n",
    "    while counter+interval <= data_without_target.shape[0]:\n",
    "\n",
    "\n",
    "        datacut=data_with_target[counter:counter+interval]\n",
    "        X_datacut=datacut.iloc[:,:-1]\n",
    "        Y_datacut=datacut.iloc[:,-1]\n",
    "\n",
    "        arr=create_graph_details(X_datacut,window_size)\n",
    "        a=featureSelection_tpr(arr,X_datacut.shape[1],num_comp)\n",
    "        mse_tpr=xgboost_reg_error(X_datacut[X_datacut.columns[a][0]].values,Y_datacut,testSize)\n",
    "\n",
    "        method_list.append(mse_tpr)\n",
    "        #     print( \"method_list\",method_list)\n",
    "        print(counter/interval)\n",
    "        print(\"----------------------------------------------------------------------------\")\n",
    "        counter+=interval\n",
    "    dict_mse_tpr[\"T-PR win={}\".format(window_size)]=method_list\n",
    "dataframe_1 = pd.DataFrame(dict_mse_tpr)\n",
    "dict_mse['temp_PR_rmse']=list(dataframe_1.min(axis=1))"
   ]
  },
  {
   "cell_type": "code",
   "execution_count": 14,
   "metadata": {},
   "outputs": [],
   "source": [
    "from package.featureSelection_SICE import *"
   ]
  },
  {
   "cell_type": "code",
   "execution_count": 15,
   "metadata": {},
   "outputs": [
    {
     "name": "stdout",
     "output_type": "stream",
     "text": [
      "number of windows= 1000 \n",
      "size of windows = 2\n",
      "[1.535139626917508, 1.5346378146003843, 0.0, 0.15821188350223803, 1.467918795007431, 1.53513996487419, 1.5351395389067164, 1.5351397592879805, 1.5351397685856016, 1.5351396574889258, 1.5351395885873669, 1.53513983255536, 1.535139763696979, 1.5351397109670053, 1.4999369092130492, 1.440148793384734, 1.4778691411726654, 1.2730898082761366, 0.05378604312769075, 1.5020984936723132, 0.0, 0.08153821699528778, 1.5350609551736487, 1.228566274436984, 1.3858347467789123, 1.28020049932201, 1.5338085802549726, 1.5574979570100234, 1.1973556809599877, 1.4423191941271636, 1.4647712118483582, 0.3422141582232001, 1.4582666385609104, 1.5214015612592837, 1.5023808597465351, 0.23675013013419283, 0.026772171578311205, 1.4150805739416676, 0.8161573857515576, 0.0, 1.5351396269175734, 1.535229172392929, 1.535139626917554, 0.08150158561696848, 1.2603877307827696, 1.507472390758208, 1.444461918206132, 1.446021179204997, 1.5011664439359684, 1.4177675578290614, 1.413377345629368, 1.5327281528338907, 1.3819094667329517, 1.5352285375007884, 0.08163100840685174, 0.23675130029421593, 1.4765193509834298, 1.2158510742489217, 0.0, 0.02648468268056319, 0.0528400572288619, 0.9801442097037412, 0.026355374548298706, 0.7386382198164145, 0.7638826396785487, 0.5242918074652189, 1.4673348403758077, 0.0, 1.4459818081584084, 1.4737367668012167, 1.535119658107669, 1.4224537173842322, 1.1400274049235912, 0.05343950130568462, 1.5061661925398, 0.07897673612503765] [27, 41, 53, 5, 11, 8, 12, 7, 13, 9, 40, 42, 0, 10, 6, 70, 22, 1, 26, 51, 33, 45, 74, 34, 19, 48, 14, 16, 56, 69, 4, 66, 30, 32, 47, 68, 46, 29, 15, 71, 49, 37, 50, 24, 52, 25, 17, 44, 23, 57, 28, 72, 61, 38, 64, 63, 65, 31, 55, 35, 3, 54, 21, 43, 75, 18, 73, 60, 36, 59, 62, 2, 20, 39, 58, 67]\n",
      "0.0\n",
      "----------------------------------------------------------------------------\n",
      "number of windows= 1000 \n",
      "size of windows = 2\n",
      "[1.509080503050773, 1.5090792194517069, 0.0, 0.05298688755101369, 1.4418034917333422, 1.5090807338723922, 1.5090805606859294, 1.509080510192757, 1.5090806143430824, 1.5090804624397365, 1.5090804769998087, 1.5090805087827088, 1.509080498972312, 1.5090805412917885, 1.466093127341874, 1.4630146343730903, 1.473105475396773, 1.2501464039764567, 0.07996968800745627, 1.4762378457785716, 0.0, 0.08145908160033608, 1.4828043152127584, 1.277469597734203, 1.3607238752827744, 1.277118266197699, 1.5078439029168769, 1.478989755564443, 1.196681805124252, 1.4691473089931726, 1.4649487349564934, 0.23689966324593048, 1.4578775465547877, 1.4946558855858274, 1.5028814271953563, 0.157955285061326, 0.026513583547230116, 1.3881966042406346, 0.6029965224743021, 0.0, 1.5090805030508085, 1.5091412877869839, 1.509080503050801, 0.08135685630285261, 1.2871299910383736, 1.4803481090791, 1.4434319235102513, 1.472843254017841, 1.4746711885154526, 1.4172987528226633, 1.4124881118766388, 1.5068076687153478, 1.379673171636227, 1.48298385583545, 0.08149823899550296, 0.15766185468705785, 1.4765066181647246, 1.1602569142483738, 0.0, 0.026476960731053843, 0.05272238470841228, 0.9782349933124442, 0.026245423977358434, 1.3464639581403752, 0.792391729301946, 0.026235540788464993, 1.4438741909864852, 0.0, 1.4747810144065134, 1.5029057811666238, 1.5091108521712022, 1.446005807434362, 1.1648018996829081, 0.027199969964540424, 1.5063013654827333, 0.07888007600210362] [41, 70, 5, 8, 6, 13, 7, 11, 40, 42, 0, 12, 10, 9, 1, 26, 51, 74, 69, 34, 33, 53, 22, 45, 27, 56, 19, 68, 48, 16, 47, 29, 14, 30, 15, 32, 71, 66, 46, 4, 49, 50, 37, 52, 24, 63, 44, 23, 25, 17, 28, 72, 57, 61, 64, 38, 31, 35, 55, 54, 21, 43, 18, 75, 3, 60, 73, 36, 59, 62, 65, 2, 20, 39, 58, 67]\n",
      "1.0\n",
      "----------------------------------------------------------------------------\n",
      "number of windows= 1000 \n",
      "size of windows = 2\n",
      "[1.5589062290286033, 1.5584169661374123, 0.655649708634704, 0.0790849203996759, 1.4128594248466766, 1.5589063301167154, 1.558906213224684, 1.5589062378797685, 1.558906160770262, 1.5589062380591587, 1.5589062384883021, 1.5589062539761631, 1.558906230684316, 1.558906247257705, 1.5555087014647668, 1.4376772500699762, 1.4460685756993399, 1.1362813510173795, 0.13269883295008006, 1.5259169514252462, 0.026402778306229682, 0.05525065005812327, 1.5590679867714219, 1.2226671001785407, 1.3879771301304522, 1.0348550125781362, 1.5577334898900839, 1.502125273462214, 0.8678100899125577, 1.4420040915173116, 1.3466313485868304, 1.0002826431208343, 1.3139065951553577, 1.4371668645577524, 1.500737903910958, 0.9482546049916868, 0.026562869493579548, 1.3592833877472004, 0.02624319549911527, 0.0, 1.5589062290286244, 1.5590339799383637, 1.5589062290286284, 0.05513816866683236, 1.2326021402787264, 1.5030574075026195, 1.382385761481984, 1.4957569078568225, 1.5011858786460224, 1.3573493158677135, 1.4087317991009194, 1.5574616260353011, 1.3016720243446576, 1.5590317273424292, 0.05519623545785805, 0.10502488308982547, 1.4437310944979562, 1.0002668795011056, 0.0, 0.026362863539516536, 0.05290224832110749, 0.0, 0.026539384781590954, 1.0955973345608276, 0.7118523621177989, 0.7620217158662503, 1.4106909237662744, 0.0, 1.4681255721524438, 1.4683170631994937, 1.5588671079312353, 1.4173309624229007, 1.1683738285041296, 0.053418957081131424, 1.5541333509255202, 0.0] [22, 41, 53, 5, 11, 13, 10, 9, 7, 12, 42, 40, 0, 6, 8, 70, 1, 26, 51, 14, 74, 19, 45, 27, 48, 34, 47, 69, 68, 16, 56, 29, 15, 33, 71, 4, 66, 50, 24, 46, 37, 49, 30, 32, 52, 44, 23, 72, 17, 63, 25, 31, 57, 35, 28, 65, 64, 2, 18, 55, 3, 21, 54, 43, 73, 60, 36, 62, 20, 59, 38, 39, 58, 61, 67, 75]\n",
      "2.0\n",
      "----------------------------------------------------------------------------\n",
      "number of windows= 1000 \n",
      "size of windows = 2\n",
      "[1.5066266368595636, 1.4800321761710067, 0.0, 1.110790193369123, 1.4395752611432622, 1.5066262536700181, 1.506626289600027, 1.50662640630125, 1.5066265479108314, 1.506626433315043, 1.506626504595368, 1.5066266986137262, 1.5066267261322912, 1.50662677027445, 1.434202211333081, 1.4385649015167283, 1.4367326425462101, 0.5017389761752264, 0.21245899652392658, 1.4999128700403748, 0.05293412630117339, 0.05546152808363584, 1.48081439932997, 1.32629997272399, 1.4417715411860792, 0.9809553534603376, 1.4798225178611288, 1.5008826247813443, 0.13201294714390474, 1.4958419782617236, 1.344847958763069, 1.0543818978865294, 1.3116312868547624, 1.4591744042203578, 1.5001993732116305, 1.1907648751931712, 0.05277884477184342, 1.3592731543953176, 0.026316017352671566, 0.026207683429989234, 1.5066269533800811, 1.4806298882837539, 1.5066269533801016, 0.08161459156556261, 1.2826809145096916, 1.476905215285145, 1.3518670511279616, 1.4699773015093813, 1.4745286826686073, 1.512507626693043, 1.4370109737169372, 1.479791024190022, 1.4342165724711107, 1.4806498188949784, 0.055432950794881766, 0.18387674717798358, 1.405045281155518, 1.21405977760957, 0.0, 0.02625416319704952, 0.05297126924140362, 0.0, 0.026717106044354098, 0.7957544809980314, 0.794283483096727, 0.02628256113243377, 1.3433739656735524, 0.0, 1.376944819202027, 1.4056860189320353, 1.4805317115347196, 1.407034031738605, 1.1449534941189712, 0.3940275770357359, 1.4753294949834523, 0.05245094471522218] [49, 42, 40, 13, 12, 11, 0, 8, 10, 9, 7, 6, 5, 27, 34, 19, 29, 22, 53, 41, 70, 1, 26, 51, 45, 74, 48, 47, 33, 24, 4, 15, 50, 16, 52, 14, 71, 69, 56, 68, 37, 46, 30, 66, 23, 32, 44, 57, 35, 72, 3, 31, 25, 63, 64, 17, 73, 18, 55, 28, 43, 21, 54, 60, 20, 36, 75, 62, 38, 65, 59, 39, 2, 58, 61, 67]\n",
      "3.0\n",
      "----------------------------------------------------------------------------\n",
      "number of windows= 1000 \n",
      "size of windows = 2\n",
      "[1.558548329157621, 1.558069678776298, 0.8163775006595009, 0.10495573967282779, 1.4358895329969086, 1.558548394239005, 1.5585484455215413, 1.5585484192439254, 1.5585484132299607, 1.5585485667491346, 1.558548532509998, 1.558548466309477, 1.558548424236447, 1.558548498083487, 1.527262601644887, 1.4643724538210316, 1.4640773532528357, 1.1076188697553022, 0.7626767656347264, 1.5251299310886417, 0.07929499100117579, 0.05533216140253164, 1.610907789387182, 1.3008122461368274, 1.4133783572831797, 0.8169716411806771, 1.5578814865359127, 1.5250291214064753, 0.8159301872098734, 1.4411420525821326, 1.3438560106048023, 1.1627847024111766, 1.253386468819536, 1.4603361338469318, 1.498935817175688, 1.1089916458669402, 0.026342032472121624, 1.3270912933128227, 0.026236424229743142, 0.026239202135428408, 1.558548329157628, 1.5848257927263536, 1.5585483291576518, 0.05525347287130465, 1.1479134764701084, 1.5009187823628412, 1.3262742234440836, 1.464277802078888, 1.5256878453196696, 1.372175768656691, 1.4333644392340923, 1.5569236160797362, 1.3491469646967542, 1.55870845264946, 0.055379442331330145, 0.10498078737086639, 1.3470163825296162, 0.02621759280548329, 0.0, 0.026455435490797763, 0.05297737016645043, 0.0, 0.026521934675652666, 0.8484426187218554, 0.7696053680771937, 1.1154330921078208, 1.3474774847818907, 0.0, 1.3790969353332, 1.3765362098452947, 1.5585973055978224, 1.4900937904147835, 1.1411657911364346, 0.0797126287062322, 1.5283222991784746, 0.0] [22, 41, 53, 70, 9, 10, 13, 11, 6, 12, 7, 8, 5, 42, 40, 0, 1, 26, 51, 74, 14, 48, 19, 27, 45, 34, 71, 15, 47, 16, 33, 29, 4, 50, 24, 68, 69, 49, 52, 66, 56, 30, 37, 46, 23, 32, 31, 44, 72, 65, 35, 17, 63, 25, 2, 28, 64, 18, 55, 3, 73, 20, 54, 21, 43, 60, 62, 59, 36, 39, 38, 57, 58, 61, 67, 75]\n",
      "4.0\n",
      "----------------------------------------------------------------------------\n",
      "number of windows= 1000 \n",
      "size of windows = 2\n",
      "[1.636701255636075, 1.6366953549994472, 0.0, 0.0, 1.4368141406828994, 1.63670129867061, 1.636701292739122, 1.6367012923581092, 1.6367012833598378, 1.636701286857014, 1.6367012804095487, 1.6367012830693624, 1.6367012820480973, 1.6367012693708813, 1.4598245249546844, 1.5194481123200672, 1.444593926057584, 1.083183035562112, 0.8445038513641498, 1.5502793029224193, 0.10573283154749546, 0.10770409896717938, 1.610401440102536, 1.2735148824039313, 1.4385316836687068, 0.07886533316566324, 1.6101982127795527, 1.575668263242988, 0.9782892055886777, 1.4393778154086831, 1.395869238152605, 1.1664216521457744, 1.2475620343319518, 1.4622104901153623, 1.5265608219069773, 0.9815343962947753, 0.052552867725542615, 1.374551809782369, 0.07899646711139283, 0.7105983890077271, 1.6367012556360985, 1.6630101233660937, 1.636701255636118, 0.055172435506250436, 1.0604481571657067, 1.5527297252096308, 1.3263257865218778, 1.403472888839434, 1.6011947013510617, 1.252002407562546, 1.4037485284896731, 1.6347861828783092, 1.289992572626993, 1.66313017920873, 0.05533417715834472, 0.6291961805361762, 1.3088911762272801, 0.026259900733552888, 0.7366240325394001, 0.0, 1.0571012047385127, 0.0, 1.3686546703347648, 0.0, 0.7104113033185677, 0.5244412383262113, 1.3075929330623746, 0.0, 1.3413538924859647, 1.3656482148216493, 1.610486093053181, 1.495445609481534, 1.2298809289598123, 0.053176385616747014, 1.6080414152235802, 0.5775605853897084] [53, 41, 5, 6, 7, 9, 8, 11, 12, 10, 13, 42, 40, 0, 1, 51, 70, 22, 26, 74, 48, 27, 45, 19, 34, 15, 71, 33, 14, 16, 29, 24, 4, 50, 47, 30, 37, 62, 69, 68, 46, 56, 66, 52, 23, 49, 32, 72, 31, 17, 44, 60, 35, 28, 18, 58, 39, 64, 55, 75, 65, 21, 20, 38, 25, 54, 43, 73, 36, 57, 2, 3, 59, 61, 63, 67]\n",
      "5.0\n",
      "----------------------------------------------------------------------------\n",
      "number of windows= 1000 \n",
      "size of windows = 2\n",
      "[1.6892191174570115, 1.6892098177642034, 0.6041166390619566, 0.7091876493968643, 1.4863616570030582, 1.689219126844049, 1.689219124083627, 1.6892191223490027, 1.6892191252423339, 1.6892191229815094, 1.6892191247993256, 1.689219126146777, 1.6892191262977432, 1.689219121789079, 1.6556154894689308, 1.515501721975062, 1.4563744643877823, 1.132691087017555, 1.0863638188276707, 1.6023379076748057, 0.15864462526786688, 0.055211588222915595, 1.636837058123907, 1.2493170872983654, 1.4677625375558911, 0.05256587044066338, 1.6098016498936627, 1.6014218848111965, 1.031840169478014, 1.5208588506527327, 1.4248726084315035, 1.2226624147681862, 1.169157308908309, 1.4631534506942396, 1.6059528643119505, 1.0069384468076163, 0.026254128480357426, 1.3515778085164794, 0.07880525406974542, 0.1315819393588107, 1.689219117457045, 1.6630816536407091, 1.6892191174570566, 0.08138384119875672, 1.03354973001219, 1.6052338050271542, 1.3012101817841462, 1.456399482272082, 1.6274190228626768, 1.276849598339454, 1.4065408540213835, 1.6871421534777562, 1.2392364080948315, 1.6894051375186183, 0.05521583486305347, 0.7627510971630308, 1.317256075217204, 0.0, 0.4715168279271482, 1.3356267897247225, 0.8959063472310496, 0.0, 0.9555714550709569, 0.6041737679661208, 0.7928279452371512, 0.0, 1.2573815575578557, 0.0, 1.396343302454278, 1.3986016970086335, 1.6629694328787576, 1.454386360549623, 0.9566041425210716, 0.05325838254093725, 1.5809680869023153, 0.4980765425785595] [53, 5, 12, 11, 8, 10, 6, 9, 7, 13, 42, 40, 0, 1, 51, 41, 70, 14, 22, 48, 26, 34, 45, 19, 27, 74, 29, 15, 4, 24, 33, 47, 16, 71, 30, 50, 69, 68, 37, 59, 56, 46, 49, 66, 23, 52, 31, 32, 17, 18, 44, 28, 35, 72, 62, 60, 64, 55, 3, 63, 2, 75, 58, 20, 39, 43, 38, 54, 21, 73, 25, 36, 57, 61, 65, 67]\n",
      "6.0\n",
      "----------------------------------------------------------------------------\n",
      "number of windows= 1000 \n",
      "size of windows = 2\n",
      "[1.7153465811602644, 1.7152895412209554, 0.630310320573751, 0.8672462941280582, 1.5183861573219746, 1.7153474389784558, 1.7153467561311375, 1.7153468331411694, 1.715346916281543, 1.715346819075216, 1.71534665001838, 1.7153466994422115, 1.7153468066706907, 1.7153468185471208, 1.6592995751008361, 1.5174340761818783, 1.3962977571628903, 0.2896619916024598, 0.8692718137495496, 1.6019867912969525, 0.7625537455708995, 0.055387981195328326, 1.6892873519825575, 1.1660341071227613, 1.4382461352689129, 0.5243040169543431, 1.6624371983408572, 1.573803971995611, 1.087821063442931, 1.4922409013659523, 1.3906038620873569, 0.9761675088451747, 1.1966686879900508, 1.399154187215769, 1.5782075130424438, 1.0845931397215525, 0.052948532763777326, 1.3493589392841374, 0.07894373048804354, 0.4192833781507786, 1.715346581160325, 1.6891633571584506, 1.7153465811603323, 0.08151745460722871, 0.9535861274310398, 1.6055449584782455, 1.2704860314854856, 1.40287786757493, 1.6019924489748316, 1.1442435133680084, 1.4055259887887523, 1.6881004627252412, 1.2646626961581822, 1.6892579585155232, 0.05553384960778482, 0.8960797995326798, 1.3685710068395063, 1.1981450880783249, 0.7644681968422589, 0.8745836709067532, 0.02635650501271614, 0.0, 0.9073184000919502, 0.0, 0.7660498040905821, 0.60330268454638, 1.1737481822410283, 0.0, 1.3142616765339965, 1.3149465443201127, 1.688954936033691, 1.395652990787057, 0.9844772495531582, 0.07961295634154175, 1.6606719454570813, 0.026183056334082917] [5, 8, 7, 9, 13, 12, 6, 11, 10, 42, 40, 0, 1, 22, 53, 41, 70, 51, 26, 74, 14, 45, 48, 19, 34, 27, 4, 15, 29, 24, 50, 47, 33, 16, 71, 30, 56, 37, 69, 68, 46, 52, 57, 32, 66, 23, 49, 28, 35, 72, 31, 44, 62, 55, 59, 18, 3, 64, 58, 20, 2, 65, 25, 39, 17, 43, 73, 38, 54, 21, 36, 60, 75, 61, 63, 67]\n",
      "7.0\n",
      "----------------------------------------------------------------------------\n",
      "number of windows= 1000 \n",
      "size of windows = 2\n",
      "[1.637172688407193, 1.637172688407193, 0.0, 0.7886679504032352, 1.5474170695590101, 1.6371726884071938, 1.6371726884071938, 1.6371726884071938, 1.6371726884071938, 1.6371726884071938, 1.6371726884071938, 1.6371726884071938, 1.6371726884071935, 1.6371726884071938, 1.5126429119650056, 1.5175394984968722, 1.3700330495167838, 0.26366689280393263, 0.2642801458597467, 1.5773709119976767, 0.8721190496743599, 0.08171464838879472, 1.6108381347149243, 1.0062926032186534, 1.3569889081953466, 0.05256571684026709, 1.6101389117516942, 1.547160182073458, 1.0350384347686998, 1.4378468627591625, 1.3859054708512, 0.18473338912724227, 1.0614873938349763, 1.3966547607726791, 1.576851193051252, 1.1933952987758136, 0.05305348346159215, 1.3000638464198064, 0.07902586867622258, 0.0790010402222244, 1.6371726884072888, 1.637143300374782, 1.6371726884072906, 0.6058618815371117, 0.9258528462422169, 1.553181791809302, 1.2424560421630377, 1.4297266533101602, 1.57750096538334, 1.0904121095883668, 1.3756641227584403, 1.6368949363489198, 1.2372359309864445, 1.6372177412052844, 0.10800340692705354, 0.765767390104059, 1.2654164187450316, 1.3635277972532729, 0.0, 1.0166591166385843, 0.9939664956600165, 0.0, 0.7669380766100004, 0.5776472046961056, 0.743080743000602, 0.656510476437259, 1.203903754612438, 0.0, 1.344261887239493, 1.3467029485660895, 1.6631328675090582, 1.3161485420605583, 1.0354267030640507, 0.07976064570311829, 1.608555739426257, 0.02623057808639285] [70, 53, 42, 40, 5, 6, 7, 8, 9, 10, 11, 13, 12, 0, 1, 41, 51, 22, 26, 74, 48, 19, 34, 45, 4, 27, 15, 14, 29, 47, 33, 30, 50, 16, 57, 24, 69, 68, 71, 37, 56, 46, 52, 66, 35, 49, 32, 72, 28, 59, 23, 60, 44, 20, 3, 62, 55, 64, 65, 43, 63, 18, 17, 31, 54, 21, 73, 38, 39, 36, 25, 75, 2, 58, 61, 67]\n",
      "8.0\n",
      "----------------------------------------------------------------------------\n",
      "number of windows= 1000 \n",
      "size of windows = 2\n",
      "[1.6373698766449483, 1.6373499484389726, 0.0, 0.236486557848221, 1.5484094354395939, 1.6373705092473245, 1.6373704362394979, 1.6373704885676355, 1.6373702910836503, 1.637370257014175, 1.637370255639229, 1.6373702176292002, 1.6373700739485475, 1.6373699386304483, 1.5722841954177618, 1.5460663905821157, 1.3959205569460207, 0.2903331587705187, 0.44752666819011244, 1.5780219993209352, 0.8468497809521603, 0.08179989485546144, 1.611175740669903, 1.0071803049531873, 1.4076489344116534, 0.052644287836518394, 1.5577751321930398, 1.5469512911588303, 1.061382633763012, 1.4623603845689324, 1.3068135603576634, 0.7085536334129915, 0.9839281885479036, 1.288359987038958, 1.5231488165480966, 1.1941736914155159, 0.02672528433846353, 1.324003203658565, 0.07920103583164181, 0.6580152995293289, 1.6373698766449478, 1.6111844153298547, 1.6373698766449731, 0.134156811333318, 1.0071383322721619, 1.5529219458840313, 1.2446180710609875, 1.4020728090388255, 1.5248338054747377, 1.0060965364806735, 1.403699788421216, 1.6107407448123836, 1.2085781322882723, 1.6374315594328637, 0.10809687987222491, 0.8997863466638392, 1.1996188047925636, 0.8960642495009236, 0.0, 0.852693730901266, 0.8259309545056503, 0.0, 0.026657013034087806, 0.5789614546412793, 0.7687914703578022, 0.9529966705959232, 1.1468210569477049, 0.0, 1.2586070876240742, 1.2045275901803136, 1.6111108778056102, 1.3962925324174098, 1.0965086666730675, 0.13228399207554384, 1.6090044251546272, 0.02628413478889305] [53, 5, 7, 6, 8, 9, 10, 11, 12, 13, 42, 0, 40, 1, 41, 22, 70, 51, 74, 19, 14, 26, 45, 4, 27, 15, 48, 34, 29, 24, 50, 47, 71, 16, 37, 30, 33, 68, 46, 52, 69, 56, 35, 66, 72, 28, 23, 44, 49, 32, 65, 55, 57, 59, 20, 60, 64, 31, 39, 63, 18, 17, 3, 43, 73, 54, 21, 38, 25, 36, 62, 75, 2, 58, 61, 67]\n",
      "9.0\n",
      "----------------------------------------------------------------------------\n",
      "number of windows= 666 \n",
      "size of windows = 3\n",
      "[1.52592782097483, 1.5254647230410285, 0.0, 0.8422222213372464, 1.4020157392912935, 1.5259274204992161, 1.525927437762689, 1.525927566964864, 1.52592751820213, 1.5259275343680094, 1.5259275663498204, 1.5259273406698968, 1.5259275293618444, 1.5259275521485456, 1.4825530404470078, 1.4273218039497242, 1.4688435766396033, 1.2833342983443994, 0.1070613737007684, 1.4884152620277367, 0.0, 0.08245986522186999, 1.5260348611321475, 1.2106802597093245, 1.376028516267602, 1.2821978505657603, 1.522133453541861, 1.4960373168813415, 1.148407965091581, 1.4579386646952446, 1.4263314161262228, 0.18490294594221118, 1.4056191717358293, 1.4579390164959207, 1.4592425782275926, 0.2112967123265209, 0.05331657840117307, 1.4095955644550737, 0.07921264637467693, 0.026392077901067457, 1.5259278209749154, 1.526214906763757, 1.5259278209748688, 0.08224473722826912, 1.2950571541188605, 1.5245050426299984, 1.4090186474198927, 1.4351992991150708, 1.4665129591033434, 1.4332523585168495, 1.4308583473928027, 1.5244463576705374, 1.3453582420245942, 1.5263097622856585, 0.08251349968948629, 0.07976509978656754, 1.4704042926677174, 1.1620077477674648, 0.0, 0.026867596404835922, 0.05320152033114983, 0.8717905320038548, 0.026333923926313906, 0.7419259024914637, 0.6316763395131445, 0.026266910191485186, 1.433064097776047, 0.0, 1.4655298570768442, 1.4673027470328828, 1.5259063346547, 1.4377379321959403, 0.9530911604436145, 0.05422268307946694, 1.496991255970865, 0.0788953845181544] [53, 41, 22, 40, 42, 0, 7, 10, 13, 9, 12, 8, 6, 5, 11, 70, 1, 45, 51, 26, 74, 27, 19, 14, 56, 16, 69, 48, 68, 34, 33, 29, 71, 47, 49, 66, 50, 15, 30, 37, 46, 32, 4, 24, 52, 44, 17, 25, 23, 57, 28, 72, 61, 3, 63, 64, 35, 31, 18, 54, 21, 43, 55, 38, 75, 73, 36, 60, 59, 39, 62, 65, 2, 20, 58, 67]\n",
      "0.0\n",
      "----------------------------------------------------------------------------\n",
      "number of windows= 666 \n",
      "size of windows = 3\n",
      "[1.499955048682379, 1.4999639129980484, 0.0, 0.18447068292074145, 1.4270061015118962, 1.4999554218590523, 1.4999554543731601, 1.499955265288903, 1.4999553914173664, 1.4999553023285679, 1.499955255040286, 1.4999552574843078, 1.4999552698319005, 1.4999551699510065, 1.3908355792219849, 1.423499295195213, 1.4649810932352545, 1.3048222899099597, 0.08071822619887707, 1.4895259720798013, 0.0, 0.082514420437306, 1.4999623006885476, 1.286765083273086, 1.3508238069309035, 1.2301142530013487, 1.4958105832164947, 1.4968171304577673, 1.2038502342453365, 1.4605155878176654, 1.454283273355096, 0.13178667434893798, 1.4340377478783797, 1.4839756226210636, 1.43445308115087, 0.9512940641737286, 0.0529503595616631, 1.4071544952789503, 0.07905064724655336, 0.02633988937991707, 1.4999550486823965, 1.5001611652855698, 1.499955048682397, 0.056132479751126285, 1.2660259799323166, 1.498527799165997, 1.4596672212748882, 1.460844493535232, 1.4654087442360386, 1.457753493834852, 1.4542771571451192, 1.4984187533804165, 1.3720519901092898, 1.5002870567330686, 0.08265013302135862, 0.1583701646478013, 1.4966572440191626, 0.9995060249924734, 0.0, 0.026634223727575037, 0.05288180724971127, 0.9538224484743488, 0.026247583522136228, 1.340702311549113, 0.026204127584129166, 0.026204127584129166, 1.4621718517383802, 0.0, 1.5190150979085542, 1.5212885299439696, 1.5000472364005193, 1.4614360704026692, 0.8714889358205966, 0.05406098620472471, 1.4972897145573971, 0.052795160876111774] [69, 68, 53, 41, 70, 1, 22, 6, 5, 8, 9, 12, 7, 11, 10, 13, 42, 40, 0, 45, 51, 74, 27, 56, 26, 19, 33, 48, 16, 66, 71, 47, 29, 46, 49, 30, 50, 34, 32, 4, 15, 37, 14, 52, 24, 63, 17, 23, 44, 25, 28, 57, 61, 35, 72, 3, 55, 31, 54, 21, 18, 38, 43, 73, 36, 60, 75, 59, 39, 62, 64, 65, 2, 20, 58, 67]\n",
      "1.0\n",
      "----------------------------------------------------------------------------\n",
      "number of windows= 666 \n",
      "size of windows = 3\n",
      "[1.4724802310173097, 1.4721549240792284, 0.0, 0.2109148239147079, 1.4005912856537945, 1.4724794373683898, 1.4724796544124206, 1.4724797616466039, 1.4724795986684451, 1.4724797558788896, 1.4724796637124786, 1.4724796890623417, 1.4724797035721573, 1.4724798896423388, 1.4654187168594133, 1.3994986747399152, 1.3852621761616883, 1.2214153114146824, 0.18622032180907222, 1.4368283495403615, 0.0, 0.05619861817474825, 1.4989274122983418, 1.11768729648759, 1.3792324294485434, 0.8169452796191301, 1.4699288275587294, 1.4657937358971203, 0.05358102401054647, 1.4620420907262142, 1.3848494220416263, 0.18502492345428348, 1.2866873022931553, 1.4539135114238246, 1.412682119345805, 1.14330221358189, 0.026583872953842985, 1.3279285724955299, 0.05264151807306124, 0.02623997911477219, 1.4724802310173082, 1.472710760511653, 1.4724802310172982, 0.056135325900815644, 1.2119881747344978, 1.4694113401754978, 1.3772501894694695, 1.409061579345674, 1.4414101170797047, 1.393429280628588, 1.399660460627357, 1.470068353900928, 1.3186398438850782, 1.472781140240116, 0.05629879247895739, 0.1581379250134861, 1.4387364271515901, 0.3415957474373675, 0.0, 0.026630136456207928, 0.053312928875516655, 0.0, 0.026682792419308723, 1.1053364375070192, 0.6051013291053235, 0.6038638431572851, 1.375766037026202, 0.0, 1.4359544250101033, 1.4370255269205712, 1.4725600919733752, 1.3843357184166882, 0.9243078296945965, 0.08032971477469766, 1.4683704617541264, 0.0] [22, 53, 41, 70, 0, 40, 42, 13, 7, 9, 12, 11, 10, 6, 8, 5, 1, 51, 26, 45, 74, 27, 14, 29, 33, 48, 56, 69, 19, 68, 34, 47, 4, 50, 15, 49, 16, 30, 71, 24, 46, 66, 37, 52, 32, 17, 44, 35, 23, 63, 72, 25, 64, 65, 57, 3, 18, 31, 55, 73, 54, 21, 43, 28, 60, 38, 62, 59, 36, 39, 2, 20, 58, 61, 67, 75]\n",
      "2.0\n",
      "----------------------------------------------------------------------------\n",
      "number of windows= 666 \n",
      "size of windows = 3\n",
      "[1.4995184636755956, 1.499143486409575, 0.0, 1.0627687464877336, 1.3741083799270533, 1.4995175399198053, 1.4995173977427618, 1.499517248654792, 1.4995172235120617, 1.4995173020789256, 1.499517182822019, 1.4995170808641527, 1.4995169793925753, 1.499517193821843, 1.3882305753612507, 1.3991572533777101, 1.4256603895687858, 0.9746740834176396, 0.21323767944355526, 1.4638994337932023, 0.026286246510387325, 0.05651443125447522, 1.4998863559848281, 1.171421419748297, 1.4335241331726394, 0.7919026541152322, 1.5247245352642413, 1.4654090769286965, 0.05302535308081298, 1.513919373600085, 1.323420597454603, 0.5000308913323948, 1.2821451541664421, 1.4268134201357199, 1.4653880609319037, 1.2567286450688868, 0.02667916712012796, 1.3494215831118659, 0.05280863736980099, 0.02617024396462562, 1.49951680466461, 1.499728545929396, 1.499516804664566, 0.05645517368844073, 1.1803011886538912, 1.4959725563723179, 1.4241712465117944, 1.4633803445523788, 1.4927048420994444, 1.4427214490804008, 1.4003282296863904, 1.4711286920176054, 1.3189425716862715, 1.4997338268691351, 0.056542097903760025, 0.052901533836945645, 1.3960052572975283, 1.111892673418258, 0.0, 0.026456256683335955, 0.053428412729570454, 0.0, 0.0269721560462345, 0.9915490513632078, 0.5796388017957108, 0.0, 1.3291476937873332, 0.0, 1.3672153107569172, 1.3954586129303157, 1.4994933337979608, 1.4494249247557485, 0.8768166118716659, 0.054048630058678285, 1.4691793629915542, 0.0] [26, 29, 22, 53, 41, 0, 5, 6, 9, 7, 8, 13, 10, 11, 12, 40, 42, 70, 1, 45, 48, 51, 74, 27, 34, 19, 47, 71, 49, 24, 33, 16, 46, 50, 15, 56, 69, 14, 4, 68, 37, 66, 30, 52, 32, 35, 44, 23, 57, 3, 63, 17, 72, 25, 64, 31, 18, 54, 21, 43, 73, 60, 28, 55, 38, 62, 36, 59, 20, 39, 2, 58, 61, 65, 67, 75]\n",
      "3.0\n",
      "----------------------------------------------------------------------------\n",
      "number of windows= 666 \n",
      "size of windows = 3\n",
      "[1.497245703859361, 1.4967397672178202, 0.7095107061470327, 0.07904647301149453, 1.4222488665206816, 1.4972460498683742, 1.4972460207921603, 1.4972460834695556, 1.497246008945704, 1.4972459310244046, 1.4972460127048925, 1.49724591499791, 1.4972459114263512, 1.4972459044200215, 1.4576882648496219, 1.3974555791453047, 1.3719846780501075, 1.1658618180658054, 0.21401245043831765, 1.486769284171307, 0.026675531799053753, 0.05638913185980053, 1.4973393137328599, 1.0077849051012804, 1.4060067475781042, 0.1052540051543557, 1.496222198515874, 1.4613838439706293, 0.07947309649378062, 1.4342228058783666, 1.2738730227643145, 0.9216993275159725, 1.143278154971403, 1.3727732810372832, 1.4902819814666446, 1.2562072409231355, 0.026378664752927602, 1.3477579926932401, 0.052827153594879224, 0.026325599091151022, 1.497245703859372, 1.4973530463766778, 1.4972457038593723, 0.05631803296511297, 1.1771821306580643, 1.5196970723744914, 1.3445217313013997, 1.50409280737688, 1.4895890264121607, 1.3512058161483715, 1.3720852763463762, 1.4942803429832618, 1.3132311921079447, 1.4974688988666092, 0.05644950308227818, 0.0525481825294649, 1.3069982068480182, 0.0, 0.026170315164548878, 0.026637401762860745, 0.05335450004337802, 0.0, 0.026717098280517278, 0.8790329971733627, 0.7956208061969444, 0.8719500262553993, 1.2775618207790476, 0.0, 1.3423611762457404, 1.3382802871855128, 1.5234985027145185, 1.3983311047628981, 0.9832691777080572, 0.027592499370352516, 1.493375589906597, 0.0] [70, 45, 47, 53, 41, 22, 7, 5, 6, 10, 8, 9, 11, 12, 13, 42, 40, 0, 1, 26, 51, 74, 34, 48, 19, 27, 14, 29, 4, 24, 71, 15, 33, 50, 16, 49, 37, 46, 68, 69, 52, 56, 66, 30, 35, 44, 17, 32, 23, 72, 31, 63, 65, 64, 2, 18, 25, 28, 3, 54, 21, 43, 60, 38, 55, 73, 62, 20, 59, 36, 39, 58, 57, 61, 67, 75]\n",
      "4.0\n",
      "----------------------------------------------------------------------------\n",
      "number of windows= 666 \n",
      "size of windows = 3\n",
      "[1.5486977207533368, 1.5481679001900708, 0.0, 0.0, 1.5015472451583247, 1.548697565492126, 1.548697347966894, 1.5486974060807466, 1.548697340932353, 1.548697406912893, 1.5486973850533488, 1.548697374148079, 1.5486973672813076, 1.548697433852677, 1.4102263579767798, 1.4804105810044952, 1.458716651056153, 1.1418664654538315, 0.26810419823302506, 1.5373611071578184, 0.10570877575266366, 0.05638200985682523, 1.522443920902857, 1.059085123580765, 1.4828531507537825, 0.026443338513200944, 1.5474972711021264, 1.4826175850980483, 0.9854403693121504, 1.4585798334618132, 1.3259537360411593, 1.0341656561477448, 1.007768168826985, 1.4789269929060387, 1.5148600074753154, 1.1187400682487436, 0.02626161009894326, 1.2861564505591054, 0.550906006379851, 0.7658666722829106, 1.5486973916845146, 1.5488262729650049, 1.5486973916844595, 0.05624604690747566, 1.0357925459177317, 1.5180879316531226, 1.3157602113607372, 1.4353282983029636, 1.48381348313306, 1.2566658660502, 1.395527471454315, 1.5188038044828298, 1.306512726324418, 1.5489593677025277, 0.056451189087808135, 0.05241796234073804, 1.2693675015142125, 0.0263328483360973, 0.05235796369225525, 0.0, 0.9763714764445337, 0.0, 1.3826769248960475, 0.02623243205138106, 0.6307819039081621, 0.02622068629207519, 1.2336139019582402, 0.02623243205138106, 1.2450030962564116, 1.2901869976227025, 1.5486282480542375, 1.4330528797512545, 1.045775740334661, 0.05356639489696144, 1.545553276631624, 0.0] [53, 41, 0, 5, 13, 9, 7, 40, 42, 10, 11, 12, 6, 8, 70, 1, 26, 74, 19, 22, 51, 45, 34, 4, 48, 24, 27, 15, 33, 16, 29, 47, 71, 14, 50, 62, 30, 46, 52, 69, 37, 56, 49, 68, 66, 17, 35, 23, 72, 44, 31, 32, 28, 60, 39, 64, 38, 18, 20, 54, 21, 43, 73, 55, 58, 25, 57, 36, 63, 67, 65, 2, 3, 59, 61, 75]\n",
      "5.0\n",
      "----------------------------------------------------------------------------\n",
      "number of windows= 666 \n",
      "size of windows = 3\n",
      "[1.6522717517175485, 1.6522583118224201, 0.6305810045061673, 0.6557168160511706, 1.4431939517883727, 1.652271686041266, 1.6522716616563626, 1.6522717317099866, 1.6522716593972049, 1.6522717720006888, 1.6522718241959775, 1.6522718764258257, 1.6522717133941822, 1.6522717659211397, 1.5598649386751853, 1.4967924679710989, 1.3591704662658586, 1.170002681659423, 0.7391303792472343, 1.536458007555952, 0.15839517837674766, 0.05630568240483101, 1.6260092766211056, 0.921219335569355, 1.5095016534827248, 0.026528017640429204, 1.5464110382905039, 1.5095015173028759, 1.0362329888214903, 1.5119644004334971, 1.3282136730668168, 1.1396299997506227, 0.9283222423670954, 1.5323455221690165, 1.5150057471779896, 1.2022466832852532, 0.0, 1.3145867395646422, 0.07924077261147655, 0.5512351948544214, 1.652271751717602, 1.6523881764095678, 1.652271751717557, 0.08235183376659191, 1.037589535866858, 1.5436397082637683, 1.3158286612494337, 1.4360642003680164, 1.5627314682129765, 1.3113434509323136, 1.4494903889760837, 1.595721685669101, 1.3328002699191746, 1.6525767096832327, 0.05638286952033421, 0.10506399084192125, 1.2767483158043467, 0.0, 0.0, 1.316523888190128, 0.9518900530365877, 0.0, 0.9077595546006588, 0.0, 0.6055695536219157, 0.026283914955618198, 1.2386458840367638, 0.0, 1.2733173366053971, 1.3046121115555047, 1.6261235890792638, 1.3843978867213256, 0.9873668400594874, 0.027298739162739342, 1.6222192496326666, 0.44534715172544453] [53, 41, 11, 10, 9, 13, 40, 42, 0, 7, 12, 5, 6, 8, 1, 70, 22, 74, 51, 48, 14, 26, 45, 19, 33, 34, 29, 24, 27, 15, 50, 4, 47, 71, 16, 52, 30, 59, 46, 37, 49, 69, 56, 68, 66, 35, 17, 31, 44, 28, 72, 60, 32, 23, 62, 18, 3, 2, 64, 39, 75, 20, 55, 43, 38, 54, 21, 73, 25, 65, 36, 57, 58, 61, 63, 67]\n",
      "6.0\n",
      "----------------------------------------------------------------------------\n",
      "number of windows= 666 \n",
      "size of windows = 3\n",
      "[1.6274620438691585, 1.6274564198511774, 0.0, 0.9209325923725357, 1.5024109252361022, 1.6274626366621172, 1.6274621711360278, 1.6274621647358345, 1.6274623165685531, 1.6274621234119098, 1.6274620401150515, 1.627462120221057, 1.627462113518754, 1.627462157474397, 1.5666451460346005, 1.4737992644437061, 1.3513595402572627, 0.31795838867659765, 0.6854731316930511, 1.5915995010790207, 0.6048777018100462, 0.05653422843784428, 1.5750570895080287, 0.9032495087915697, 1.4010236917334875, 0.02650989604661028, 1.6260992575843622, 1.4567156333784443, 1.0673333547749064, 1.4558267936289782, 1.2629765983324361, 0.7094582009978391, 0.9003363244929974, 1.3597319785710442, 1.5679272389806496, 1.1999645991839865, 0.026718496304139132, 1.2892176577505032, 0.7386542791759487, 0.7384870767580675, 1.627462043869326, 1.6013794401562407, 1.6274620438692629, 0.05642682797386836, 0.9551055448167437, 1.5443760759209966, 1.3161468753367487, 1.41080848080286, 1.5119328223458477, 1.0710362894519505, 1.4242407959715098, 1.6000600030132568, 1.276223651539384, 1.6014812364266722, 0.05662104300740267, 0.02647199029573942, 1.2980226395251715, 1.1766211258998847, 0.6848750761888001, 0.7696236277523828, 0.0, 0.0, 0.8898467559142463, 0.0, 0.02617285219612018, 0.026191053842672406, 1.2054364886078333, 0.0, 1.2687547713575609, 1.2690098331627988, 1.6274249272155294, 1.3016054340121483, 0.9617398171675281, 0.02757984255836891, 1.5722417256562091, 0.0] [5, 8, 6, 7, 13, 9, 11, 12, 40, 42, 0, 10, 1, 70, 26, 53, 41, 51, 19, 22, 74, 34, 14, 45, 48, 4, 15, 27, 29, 50, 47, 24, 33, 16, 46, 71, 56, 37, 52, 69, 68, 30, 66, 35, 57, 49, 28, 72, 44, 3, 23, 32, 62, 59, 38, 39, 31, 18, 58, 20, 17, 54, 21, 43, 73, 36, 25, 55, 65, 64, 2, 60, 61, 63, 67, 75]\n",
      "7.0\n",
      "----------------------------------------------------------------------------\n",
      "number of windows= 666 \n",
      "size of windows = 3\n",
      "[1.626879186158377, 1.6268947188724705, 0.0, 0.9814162581280992, 1.4773239693841524, 1.6268799434802408, 1.6268798496570902, 1.6268794078551487, 1.6268794072094517, 1.6268797295265913, 1.626879393487283, 1.6268794937447388, 1.626879749676198, 1.626879492114857, 1.3569988597714309, 1.4462263512255555, 1.352287467633035, 0.8959334306737814, 0.13378007732964722, 1.5390511732787349, 0.6853143682020463, 0.05642742362284292, 1.6006761389661055, 0.7362562886766092, 1.4527507104784658, 0.026414540393965805, 1.5994030447670244, 1.532279268669374, 1.0416533337401572, 1.401159502718829, 1.176833166280464, 0.10531136474820735, 0.07911155291624414, 1.3268700233883872, 1.5138784142280401, 1.1445122212664476, 0.02683674819394685, 1.2892582935541674, 0.5512484929128835, 0.711917283975397, 1.6268791861585379, 1.6272769153138253, 1.626879186158455, 0.05634100039006494, 0.9254438522654737, 1.5175378027228965, 1.2336509382509386, 1.4108591245485087, 1.5647614030991548, 0.8781954329412615, 1.3927429175564388, 1.6002454708976388, 1.277446597565934, 1.627373414527838, 0.056541466675105276, 0.078696599730512, 1.3065524415862033, 1.2385810519463307, 0.0, 0.9732351371060213, 0.9517569635448208, 0.052639328031926766, 0.684552719302401, 0.6317040790256478, 0.7418141572690253, 0.026480416830286336, 1.2407652967859466, 0.0, 1.27871851533276, 1.2829484348469664, 1.6266329619094952, 1.3023929834995018, 0.9329765368135889, 0.054022810228041146, 1.59749365659204, 0.0] [53, 41, 1, 5, 6, 12, 9, 11, 13, 7, 8, 10, 40, 42, 0, 70, 22, 51, 26, 74, 48, 19, 27, 45, 34, 4, 24, 15, 47, 29, 50, 14, 16, 33, 56, 71, 37, 69, 68, 52, 66, 57, 46, 30, 35, 28, 3, 59, 60, 72, 44, 17, 49, 64, 23, 39, 20, 62, 63, 38, 18, 31, 32, 55, 54, 21, 43, 73, 61, 36, 65, 25, 2, 58, 67, 75]\n",
      "8.0\n",
      "----------------------------------------------------------------------------\n",
      "number of windows= 666 \n",
      "size of windows = 3\n",
      "[1.6537947816922878, 1.6535202920099672, 0.0, 0.8169882439165967, 1.4528894460972908, 1.6537951189175988, 1.6537951888495308, 1.6537952576789579, 1.6537954593947175, 1.6537953616418788, 1.6537954787123352, 1.6537954780677406, 1.6537954920004443, 1.6537955492633802, 1.4216848058358151, 1.3976853258631001, 1.2455658901726396, 0.8430746148468193, 0.1343997191890124, 1.4879281704555782, 0.71304369956783, 0.05666326021159909, 1.6801682563014095, 0.7619243528961525, 1.451692007592723, 0.0265318533013468, 1.600174871534998, 1.5578328501049334, 0.9918791642112865, 1.4009514136562191, 1.1522942856810898, 0.05316136896537063, 0.605271910755609, 1.2740131673061177, 1.462097678681941, 1.1706688339440623, 0.02663827744469905, 1.2889120383770267, 0.6051666126925782, 0.7135809130190469, 1.6537961271682322, 1.6803245614924496, 1.6537961271681767, 0.08284677845371745, 1.0336944573127451, 1.5697792006757365, 1.209297602635867, 1.3569588496256457, 1.460207659240899, 0.9056857505500979, 1.316002966093899, 1.6535016593152259, 1.249804243841939, 1.6804419109381457, 0.08305433581407429, 0.18381076262859442, 1.2112670558864864, 0.05246205466924964, 0.5257518686533151, 0.888284550597742, 0.8264465084579029, 0.0, 0.026920768291928576, 0.7135855270547637, 0.6845531190699591, 0.6836448155810595, 1.1780592273462223, 0.0, 1.2418205720131865, 1.2156403774014939, 1.653628835133315, 1.2724281668264692, 0.9965869665808315, 0.05416196419454282, 1.5991302114299284, 0.0] [53, 41, 22, 40, 42, 13, 12, 10, 11, 8, 9, 7, 6, 5, 0, 70, 1, 51, 26, 74, 45, 27, 19, 34, 48, 4, 24, 14, 29, 15, 47, 50, 37, 33, 71, 52, 16, 68, 69, 56, 46, 66, 35, 30, 44, 72, 28, 49, 59, 17, 60, 3, 23, 63, 39, 20, 64, 65, 32, 38, 58, 55, 18, 54, 43, 21, 73, 31, 57, 62, 36, 25, 2, 61, 67, 75]\n",
      "9.0\n",
      "----------------------------------------------------------------------------\n",
      "number of windows= 500 \n",
      "size of windows = 4\n",
      "[1.5352164456389348, 1.5340181363594443, 0.0, 0.18508372254130606, 1.4600770144656763, 1.5352152437733857, 1.5352155068954836, 1.5352155546723956, 1.5352157694528623, 1.5352156276299254, 1.5352155700824832, 1.5352156163666644, 1.5352155830292111, 1.535215684735906, 1.4565554481911447, 1.4586705968739122, 1.4751893739951583, 1.2915401841590002, 0.10757622506430059, 1.4937904756802258, 0.0, 0.056710507125386306, 1.535463038743851, 1.215762104942914, 1.4633578600578176, 1.2873627078912864, 1.527491195470478, 1.4784211512389027, 1.232777797554546, 1.4440651454872846, 1.484676489262147, 0.2377505186547203, 1.4056610787941888, 1.5202834825801985, 1.4904408852201847, 0.8944678149605663, 0.05368903372004409, 1.4488501753920384, 0.07968095492587259, 0.02669807316941905, 1.5352155996808843, 1.53560815513423, 1.535215599680881, 0.05671988957292015, 1.3297170419526414, 1.5345735086286354, 1.4189923944039424, 1.4706351698629911, 1.501280467036772, 1.4430926858358184, 1.5177530720081807, 1.5340923512626115, 1.381684218808239, 1.5357148478936031, 0.08293538347722404, 0.15961456044551187, 1.5060593437751637, 1.1938492449087013, 0.0, 0.02707153330203217, 0.053729709080766776, 1.0322611801822423, 0.026658175778734607, 0.8781436713567303, 0.6048900025221257, 0.0263194083693788, 1.4432373164485908, 0.0, 1.502838142180603, 1.5045161207792739, 1.5352064233024065, 1.4706940728522362, 0.9524278380217193, 0.05465782149426593, 1.5063505440078786, 0.026173855290811822] [53, 41, 22, 0, 8, 13, 9, 11, 40, 42, 12, 10, 7, 6, 5, 70, 45, 51, 1, 26, 33, 50, 74, 56, 69, 68, 48, 19, 34, 30, 27, 16, 71, 47, 24, 4, 15, 14, 37, 29, 66, 49, 46, 32, 52, 44, 17, 25, 28, 23, 57, 61, 72, 35, 63, 64, 31, 3, 55, 18, 54, 38, 43, 21, 73, 60, 36, 59, 39, 62, 65, 75, 2, 20, 58, 67]\n",
      "0.0\n",
      "----------------------------------------------------------------------------\n",
      "number of windows= 500 \n",
      "size of windows = 4\n",
      "[1.5351031726602324, 1.534132284373936, 0.0, 0.7888246440648281, 1.4329843333331753, 1.5351018140509312, 1.5351019829789536, 1.5351019685042442, 1.5351019942711241, 1.5351020696341933, 1.5351020438265557, 1.5351019597580875, 1.5351020863264273, 1.5351019078608392, 1.3949899101302252, 1.4284554505105995, 1.4741013365406936, 1.3188022569718345, 0.10793718444782678, 1.443506569896807, 0.0, 0.056670635361309604, 1.5355142159754271, 1.2104672282628866, 1.410689932183639, 1.2558620517649914, 1.5012706074147013, 1.478453607237102, 1.2651067044072943, 1.4692825193723031, 1.4604342023595653, 0.15874666041742302, 1.3769002344948593, 1.5201641549061056, 1.4646470370242188, 0.9232786291647122, 0.053562367935670804, 1.4464971639525883, 0.053709415452143944, 0.026810483932872907, 1.535102185585186, 1.535584589246248, 1.5351021855852096, 0.05666698649062461, 1.301697106158271, 1.507814475370711, 1.4439459284632998, 1.4703829770048507, 1.5000521804932243, 1.4158977900524534, 1.5183911552535063, 1.5336766337288033, 1.381126964898936, 1.535686167481158, 0.08293606953550582, 0.21178221446908252, 1.5071934567210148, 0.8392976140563354, 0.0, 0.026833233089370887, 0.05330993876488718, 0.8438338072764409, 0.0264767056755163, 1.3493008474283958, 0.0, 0.0, 1.4462115475730477, 0.0, 1.5042619433925504, 1.53235048757002, 1.535237548813862, 1.4965039348340161, 0.900855098428852, 0.054590313780653016, 1.505606660943236, 0.026193194159839964] [53, 41, 22, 70, 0, 42, 40, 12, 9, 10, 8, 6, 7, 11, 13, 5, 1, 51, 69, 33, 50, 45, 56, 74, 68, 26, 48, 71, 27, 16, 47, 29, 34, 30, 37, 66, 46, 19, 4, 15, 49, 24, 14, 52, 32, 63, 17, 44, 28, 25, 23, 35, 72, 61, 57, 3, 55, 31, 18, 54, 21, 43, 73, 38, 36, 60, 59, 39, 62, 75, 2, 20, 58, 64, 65, 67]\n",
      "1.0\n",
      "----------------------------------------------------------------------------\n",
      "number of windows= 500 \n",
      "size of windows = 4\n",
      "[1.5069314557698712, 1.5065774380128298, 0.0, 0.34294857549453883, 1.3535346170834621, 1.50693036961373, 1.5069306543762464, 1.5069308461155266, 1.5069306336258923, 1.5069308598030575, 1.5069306944674825, 1.5069308345616392, 1.5069307454657574, 1.5069310896350998, 1.4686273319724366, 1.3528213567419283, 1.3668031978684896, 1.2570591309429002, 0.21362197488040102, 1.416729135337286, 0.026164500387990366, 0.0567323399098976, 1.5336353897064023, 1.1516427567456846, 1.4151163539662344, 0.7103265832312702, 1.4766790586985072, 1.3943976645365972, 0.053612044264888845, 1.4454741995313864, 1.3065600104251553, 0.23846859311725724, 1.258980373184809, 1.4339301356969905, 1.420188703913877, 1.1441986244478006, 0.026676215483048223, 1.3377676773801148, 0.05288434464713747, 0.026269108707082378, 1.5069314557697853, 1.533538345554349, 1.506931455769815, 0.056713270916375354, 1.2127220213383525, 1.4788643416367546, 1.3886879808675976, 1.4451303417099297, 1.449632163386655, 1.4002735974055647, 1.4334465909774567, 1.4776172878659541, 1.4332921756837989, 1.5335803066605211, 0.05680286197847013, 0.10623256769280816, 1.4482861589180054, 0.9472380321411753, 0.44506185069628146, 0.026877388504866845, 0.05385666779852429, 0.0, 0.026979279293657447, 1.1917986577294108, 0.5778349025498131, 0.0, 1.4107127307703506, 0.0, 1.420486199898136, 1.4210181323544917, 1.4807882931929508, 1.3668930960531138, 0.7113810818891615, 0.08066377929783713, 1.4769936115172526, 0.0] [22, 53, 41, 0, 42, 40, 13, 9, 7, 11, 12, 10, 6, 8, 5, 1, 70, 45, 51, 74, 26, 14, 48, 56, 29, 47, 33, 50, 52, 69, 68, 34, 19, 24, 66, 49, 27, 46, 71, 16, 4, 15, 37, 30, 32, 17, 44, 63, 23, 35, 57, 72, 25, 64, 58, 3, 31, 18, 55, 73, 54, 21, 43, 60, 28, 38, 62, 59, 36, 39, 20, 2, 61, 65, 67, 75]\n",
      "2.0\n",
      "----------------------------------------------------------------------------\n",
      "number of windows= 500 \n",
      "size of windows = 4\n",
      "[1.5083776922278842, 1.5079614929602692, 0.0, 1.1583187069329444, 1.4041737822736757, 1.5083773702272276, 1.5083770959843559, 1.5083771606397884, 1.5083770701381523, 1.5083770180910498, 1.5083769756825924, 1.508376897603668, 1.5083766893398993, 1.5083768310983783, 1.359677714950547, 1.4029441276048036, 1.3801809186101726, 0.9256365274817939, 0.24130191169210174, 1.4453816052297839, 0.026369250454879502, 0.05702848813865262, 1.5089441392770047, 1.0972291237447083, 1.4140611351360766, 0.21126854865728434, 1.533571311992145, 1.4969941051340268, 0.026801918473046908, 1.4442483421344758, 1.2968241679933508, 0.2651462727919698, 1.2230658810787158, 1.4059184756554874, 1.4724694757504144, 1.2331727054241615, 0.026795224928721495, 1.3652410673845365, 0.07890189088409084, 0.02616354518352269, 1.5083764090342866, 1.5351764044201934, 1.5083764090343368, 0.21435748055026016, 1.2312642630029227, 1.427222405006691, 1.38650605302218, 1.472018759776209, 1.5033407778816361, 1.4177177967402148, 1.4594285108808143, 1.5309386632826043, 1.4305619923162523, 1.5351602713587482, 0.0832964400132933, 0.13243170419404773, 1.3823270011746724, 1.090619770768395, 0.0, 0.026269963625201127, 0.05370279599186896, 0.0, 0.027432832366667832, 1.0220656821506677, 0.6065583790693144, 0.0, 1.306697928524111, 0.0, 1.4003727610343224, 1.4056424588077143, 1.5084284437225195, 1.4309166807337408, 0.8706666795471014, 0.08124050040112497, 1.5041646228905812, 0.6327603555112083] [41, 53, 26, 51, 22, 70, 0, 5, 7, 6, 8, 9, 10, 11, 13, 12, 42, 40, 1, 74, 48, 27, 34, 47, 50, 19, 29, 71, 52, 45, 49, 24, 33, 69, 4, 15, 68, 46, 56, 16, 37, 14, 66, 30, 35, 44, 32, 3, 23, 57, 63, 17, 72, 75, 64, 31, 18, 43, 25, 55, 54, 73, 38, 21, 60, 62, 28, 36, 20, 59, 39, 2, 58, 61, 65, 67]\n",
      "3.0\n",
      "----------------------------------------------------------------------------\n",
      "number of windows= 500 \n",
      "size of windows = 4\n",
      "[1.4809467171857722, 1.4804157538996814, 0.7370589953862259, 0.23692154972128018, 1.3474233384210963, 1.4809457730189735, 1.4809461578686491, 1.4809460207429168, 1.4809462003367542, 1.4809465952254033, 1.4809465048244161, 1.4809465073748362, 1.480946477788467, 1.4809466393454223, 1.4624011035665359, 1.3228292373835706, 1.4031002344133936, 1.0895300578819287, 0.24248441147599764, 1.4702855156259487, 0.026461687644052816, 0.05698375734926449, 1.5077220421842954, 1.0099442332918718, 1.4430622176543937, 0.07911128239397915, 1.5059232617177942, 1.4424077379571838, 0.053098497696862056, 1.4462689937415454, 1.2742542046219094, 0.39671164703322814, 1.0070379632705129, 1.3808301525278832, 1.4727987003537364, 1.204604389918276, 0.026442312168461716, 1.3596470391012392, 0.05291421638143844, 0.026440259201748546, 1.48094671718572, 1.5337660966289577, 1.4809467171857635, 0.05695350417144113, 1.0966241387212914, 1.5047802790057014, 1.384749067686282, 1.433646540951928, 1.4730467376764071, 1.3538486284307283, 1.3799709484192269, 1.4767161628849084, 1.3508266288676802, 1.533741271965125, 0.057050850204070594, 0.10554587139461541, 1.2654844338272748, 0.0, 0.0, 0.05334647154285945, 0.05398378854420553, 0.0, 0.026854346863662847, 1.0172006132452542, 0.7162873005094508, 1.0065310116965427, 1.2643888851987277, 0.02620830122910129, 1.4055225019858593, 1.2696077256092488, 1.4810763583973778, 1.4060426861081456, 0.7943755224105742, 0.08059245031634346, 1.5037654267460219, 0.0] [41, 53, 22, 26, 45, 74, 70, 0, 42, 40, 13, 9, 11, 10, 12, 8, 6, 7, 5, 1, 51, 48, 34, 19, 14, 29, 24, 27, 47, 71, 68, 16, 46, 33, 50, 37, 49, 52, 4, 15, 30, 69, 56, 66, 35, 44, 17, 63, 23, 32, 65, 72, 2, 64, 31, 18, 3, 55, 73, 25, 54, 21, 43, 60, 59, 28, 38, 62, 20, 36, 39, 67, 57, 58, 61, 75]\n",
      "4.0\n",
      "----------------------------------------------------------------------------\n",
      "number of windows= 500 \n",
      "size of windows = 4\n",
      "[1.5577782169769556, 1.5563857168686006, 0.0, 0.026372804194300513, 1.4289494569623515, 1.5577791591631878, 1.5577785516772202, 1.5577785467102967, 1.557778249509054, 1.5577784068376395, 1.5577780996585557, 1.5577783649007775, 1.5577782321078164, 1.5577776313332934, 1.2486799623039653, 1.486123398162751, 1.4676548890304528, 1.229292215762511, 0.29676490320687343, 1.4651915145133885, 0.10588563193147087, 0.08308062794257409, 1.5316047069460637, 1.008897874354843, 1.5195783490809534, 0.026621852119808144, 1.529946065801851, 1.4630942924600419, 0.9268928819898317, 1.5234957401110163, 1.3595137175404997, 1.0619605569014892, 0.7630506823785185, 1.4624223710724351, 1.4980526070447626, 1.2317928430944343, 0.026333637870996823, 1.2671058115645386, 0.7655889386987411, 0.7934343699364675, 1.557777094874281, 1.5580800095288652, 1.5577770948742822, 0.08293545362370577, 0.9759499727506249, 1.476130580226359, 1.3813685834182374, 1.387874310766133, 1.516809201047685, 1.178076990602827, 1.4083051565267932, 1.5536389976899838, 1.3973193867230154, 1.5580934775187893, 0.05697340317747736, 0.15766345560693568, 1.27064646795731, 0.05267605795171407, 0.0, 0.550879601214542, 0.9228798610615525, 0.0, 1.3885241318567216, 0.026259486848806003, 0.0, 0.0, 1.2347160226768736, 0.026259486848806003, 1.2518083277038428, 1.267479908763384, 1.557797359915204, 1.4702778395326526, 0.9917081198261378, 0.054215082028417516, 1.580583743606241, 0.026177793976160525] [74, 53, 41, 70, 5, 6, 7, 9, 11, 8, 12, 0, 10, 13, 42, 40, 1, 51, 22, 26, 29, 24, 48, 34, 15, 45, 71, 16, 19, 27, 33, 4, 50, 52, 62, 47, 46, 30, 56, 69, 37, 68, 14, 66, 35, 17, 49, 31, 23, 72, 44, 28, 60, 39, 38, 32, 59, 18, 55, 20, 21, 43, 54, 73, 57, 25, 3, 36, 63, 67, 75, 2, 58, 61, 64, 65]\n",
      "5.0\n",
      "----------------------------------------------------------------------------\n",
      "number of windows= 500 \n",
      "size of windows = 4\n",
      "[1.6618771389210505, 1.6618767365616989, 0.0, 0.8702918747865722, 1.424561589820756, 1.6618757178199486, 1.6618757639019794, 1.6618759106991674, 1.6618763798971994, 1.6618763281727493, 1.6618763929727276, 1.6618766607356656, 1.6618767237576502, 1.6618767356921784, 1.4556128563758517, 1.4518582433498501, 1.3695518747505129, 1.230619778127934, 0.8736284688590485, 1.544125358614344, 0.5781762116281799, 0.05681476990371666, 1.609913656835338, 0.737066128641541, 1.4928169446951747, 0.026653587817620134, 1.6596582913023297, 1.5170099821720442, 0.8473737613236696, 1.5497297157230807, 1.4140377317807948, 1.116478577042011, 0.5772458981131451, 1.5157413223781888, 1.550582839265926, 1.2640187319400584, 0.026393842778827573, 1.3218182731712087, 0.6044895116210369, 0.7939410543835339, 1.6618771389210862, 1.6361285796525094, 1.6618771389211013, 0.05664661626920294, 0.8730951331934039, 1.5280557983979872, 1.3834571015289936, 1.3897373880443797, 1.5687908143933238, 1.2058366618576772, 1.407895022528588, 1.5781773675822848, 1.3193209590081705, 1.6363312679695718, 0.05688114000742541, 0.15753312321664492, 1.2560006370029855, 0.0, 0.0, 1.3237762116071836, 0.9548445371972009, 0.686915326852023, 0.9954334860321525, 0.0, 0.02623570734936543, 0.02623570734936543, 1.2401756226209963, 0.0, 1.304317442129574, 1.310508795179109, 1.63582877087003, 1.366523009881454, 0.8204673420266435, 0.02793063704718967, 1.6053508618485148, 0.0] [42, 40, 0, 1, 13, 12, 11, 10, 8, 9, 7, 6, 5, 26, 53, 41, 70, 22, 74, 51, 48, 34, 29, 19, 45, 27, 33, 24, 14, 15, 4, 30, 50, 47, 46, 16, 71, 59, 37, 52, 69, 68, 35, 56, 66, 17, 49, 31, 62, 60, 18, 44, 3, 28, 72, 39, 23, 61, 38, 20, 32, 55, 54, 21, 43, 73, 25, 36, 64, 65, 2, 57, 58, 63, 67, 75]\n",
      "6.0\n",
      "----------------------------------------------------------------------------\n",
      "number of windows= 500 \n",
      "size of windows = 4\n",
      "[1.6378220916786759, 1.6116401328266408, 0.0, 1.0636231617302017, 1.4075364362242988, 1.6378227916629398, 1.637822233858344, 1.637822296532057, 1.6378223642611678, 1.6378222850802435, 1.6378221475960493, 1.6378221877603296, 1.63782227498272, 1.6378222846503325, 1.5738326035153216, 1.4568805477367046, 1.3022934857675166, 0.9787347207401546, 0.21520571583542913, 1.4928302627900631, 0.6306152304586405, 0.05706348860778032, 1.6379325415164898, 0.6291927544836063, 1.490162230587564, 0.026672078049488845, 1.610052671506079, 1.4891050916940403, 1.0710953973198856, 1.4678311943448277, 1.2403649755428527, 0.1850608464641314, 0.6314972483767416, 1.4230496955809728, 1.5225311447763934, 1.2339064494858862, 0.02677345659701708, 1.296911528338441, 0.7386702904270356, 0.8779265460708342, 1.637822091678743, 1.6382412210738115, 1.6378220916786856, 0.08312944105888875, 0.895645395123507, 1.5534827560213749, 1.2719551837862406, 1.4137895218258063, 1.5456952348551043, 1.041127787528258, 1.4060985880930847, 1.610394364373475, 1.3675510246168385, 1.6382800261352892, 0.0834281355928984, 0.053073344389685154, 1.26291218489649, 1.18481571401848, 0.7090796272341477, 0.8242309654771929, 0.026192404250470345, 0.0, 1.0016756394100366, 0.0, 0.4979102107355007, 0.0, 1.2120319222248404, 0.0, 1.282097714548431, 1.2842888776538823, 1.611792156597844, 1.2751421126337168, 0.9058539607535807, 0.05449204148971541, 1.5828712541192926, 0.0] [53, 41, 22, 5, 8, 7, 9, 13, 12, 6, 11, 10, 40, 42, 0, 70, 1, 51, 26, 74, 14, 45, 48, 34, 19, 24, 27, 29, 15, 33, 47, 4, 50, 52, 16, 37, 69, 68, 71, 46, 56, 30, 35, 66, 57, 28, 3, 49, 62, 17, 72, 44, 39, 59, 38, 58, 32, 20, 23, 64, 18, 31, 54, 43, 21, 73, 55, 36, 25, 60, 2, 61, 63, 65, 67, 75]\n",
      "7.0\n",
      "----------------------------------------------------------------------------\n",
      "number of windows= 500 \n",
      "size of windows = 4\n",
      "[1.5835204496871276, 1.5835204496871276, 0.0, 1.0357420582731938, 1.458175890999635, 1.5835204496871278, 1.5835204496871278, 1.5835204496871278, 1.5835204496871278, 1.5835204496871278, 1.5835204496871278, 1.5835204496871278, 1.5835204496871278, 1.5835204496871278, 1.3035501117263595, 1.4533257903885042, 1.3835462229800028, 0.2921952279138521, 0.1349442327178304, 1.5201871481363984, 0.13248026984311342, 0.056948863343126765, 1.5575360459299556, 0.07879998148569442, 1.4604932993017703, 0.026518488656104323, 1.5294696970621438, 1.460342578470665, 1.1264603900269532, 1.4652459094154668, 1.176390382868572, 0.02705646367976072, 0.49873777285445153, 1.359075019019945, 1.520190574117975, 1.126278447541194, 0.07908473512462708, 1.324984190011978, 0.6864376953220631, 0.9859106617428995, 1.5835204496872741, 1.610154936187387, 1.5835204496871753, 0.05686532440245582, 1.003855197061256, 1.5259066909321113, 1.2442829897812047, 1.3899864860685773, 1.5186070842418962, 1.009815631625378, 1.3756727697684308, 1.583186289764524, 1.342601216576522, 1.584085744175481, 0.057034053115901526, 0.026334923596831428, 1.3124060426658366, 1.2161621555722442, 0.0, 1.0086031760889487, 0.9868864993243203, 0.026499277146665952, 0.7660062107831632, 0.6608610628028, 0.4984157415923913, 0.026357965487713395, 1.2207131082121405, 0.0, 1.3898292698030628, 1.3948558909887074, 1.5571009317434108, 1.3324170168807798, 0.8235441944602144, 0.054421476135769656, 1.5544847639365715, 0.0] [41, 53, 40, 42, 5, 6, 7, 8, 9, 10, 11, 12, 13, 0, 1, 51, 22, 70, 74, 26, 45, 34, 19, 48, 29, 24, 27, 4, 15, 69, 47, 68, 16, 50, 33, 52, 71, 37, 56, 14, 46, 66, 57, 30, 28, 35, 3, 49, 59, 44, 60, 39, 72, 62, 38, 63, 32, 64, 17, 18, 20, 36, 23, 54, 21, 43, 73, 31, 25, 61, 65, 55, 2, 58, 67, 75]\n",
      "8.0\n",
      "----------------------------------------------------------------------------\n",
      "number of windows= 500 \n",
      "size of windows = 4\n",
      "[1.60946614792676, 1.6094494055438193, 0.0, 0.9257111335507656, 1.4323212827663439, 1.6094664982882187, 1.609466628757495, 1.609466616416294, 1.609466444931042, 1.6094664252314876, 1.6094664441904074, 1.6094663871839188, 1.6094662906008357, 1.609466165893626, 1.4466768038024789, 1.4294097439426474, 1.3093757341509258, 0.370830154447434, 0.18792935658779247, 1.520161886016994, 0.6059858305202391, 0.08341165333525909, 1.5833898156697257, 0.792219771530514, 1.4596628383809687, 0.02663055641359455, 1.503016763924498, 1.5382351281609619, 1.025498645244033, 1.384952007602821, 1.0949565897721252, 0.07974994587444403, 0.7116988929046993, 1.3349797479661192, 1.5208928505984785, 1.2017230647342785, 0.052932616971098204, 1.2694297026818078, 0.658893562433456, 0.8761282469517759, 1.6094661479270098, 1.6102499205257743, 1.6094661479268355, 0.08337601524405325, 1.005102328578826, 1.551344269866936, 1.2196598469847044, 1.335226552540787, 1.4916093804302535, 0.9560723481953441, 1.3510092781569603, 1.609224259211017, 1.2914277121765716, 1.584173470509973, 0.0834604711197317, 0.05263406101443599, 1.2165661638682448, 0.052521552455084344, 0.0, 0.894631661438547, 0.7953017094973065, 0.0, 0.02686848504504183, 0.7666857150364496, 0.4455395134252137, 0.5241301433610428, 1.186514420325974, 0.0, 1.2529715937322663, 1.250812707687784, 1.5832624285862316, 1.2788993853187929, 0.9377405865973985, 0.05449131011509768, 1.5806341987313346, 0.0] [41, 6, 7, 5, 8, 10, 9, 11, 12, 13, 40, 42, 0, 1, 51, 53, 22, 70, 74, 45, 27, 34, 19, 26, 48, 24, 14, 4, 15, 29, 50, 47, 33, 16, 52, 71, 37, 68, 69, 46, 56, 35, 66, 30, 28, 44, 49, 72, 3, 59, 39, 60, 23, 63, 32, 38, 20, 65, 64, 17, 18, 54, 21, 43, 31, 73, 36, 55, 57, 62, 25, 2, 58, 61, 67, 75]\n",
      "9.0\n",
      "----------------------------------------------------------------------------\n",
      "number of windows= 400 \n",
      "size of windows = 5\n",
      "[1.5144310265420884, 1.4853083415486183, 0.0, 0.2915461432961829, 1.4621704369658883, 1.4882796411804118, 1.4882796454787384, 1.5144329849766165, 1.514432975155657, 1.5144328338730983, 1.5144331319810125, 1.5144329542740493, 1.5144330684129788, 1.514432965614131, 1.4061117394508251, 1.4610179417631792, 1.4807302611468292, 1.325856284735271, 0.1082206429141565, 1.4712817995450425, 0.0, 0.08319577784855799, 1.5149348782150738, 1.1973792131795968, 1.4953174122590667, 1.2835617739081266, 1.4778819000774892, 1.4559383970924025, 1.2699666505747222, 1.5024604673355164, 1.4368430079084862, 0.21256684352914892, 1.403931978338797, 1.523925128428579, 1.4668035031794253, 0.9496266255467396, 0.05379362391248245, 1.45662328038706, 0.0802790163398715, 0.026772689162454736, 1.514433388455442, 1.4887248183886357, 1.514433388455449, 0.0569603930989753, 1.2819363211166195, 1.4876268425362125, 1.4512825707023984, 1.4771774251444814, 1.4793382016086325, 1.4495689229775721, 1.5258731095509332, 1.4875108796092391, 1.4369672850290802, 1.4888123258814836, 0.08333857149732922, 0.2401163038116811, 1.4849019773686554, 1.1444461758265545, 0.0, 0.027406594079552822, 0.05417692791844821, 1.0347091448229322, 0.02677033383889539, 1.0433766093042327, 0.31432784281404813, 0.026522628111390126, 1.4748725006813528, 0.0, 1.5076767014628456, 1.5094741549048711, 1.4883614181669444, 1.4769762513331686, 0.13455901198122489, 0.055119566717176466, 1.5120519511430732, 0.052553977550557004] [50, 33, 22, 42, 40, 10, 12, 7, 8, 13, 11, 9, 0, 74, 69, 68, 29, 24, 53, 41, 70, 6, 5, 45, 51, 1, 56, 16, 48, 26, 47, 71, 66, 19, 34, 4, 15, 37, 27, 46, 49, 52, 30, 14, 32, 17, 25, 44, 28, 23, 57, 63, 61, 35, 64, 3, 55, 31, 72, 18, 54, 21, 38, 43, 73, 60, 36, 75, 59, 39, 62, 65, 2, 20, 58, 67]\n",
      "0.0\n",
      "----------------------------------------------------------------------------\n",
      "number of windows= 400 \n",
      "size of windows = 5\n",
      "[1.514482014187661, 1.5141373755573688, 0.0, 0.370072590067265, 1.4076561989872207, 1.5144828121223224, 1.5144823477095664, 1.514482447757064, 1.5144825222084608, 1.5144822246627476, 1.5144823372584963, 1.5144824433085238, 1.5144823339928593, 1.5144825811244773, 1.3632662375745301, 1.404220144532222, 1.4537509667024338, 1.325180706767972, 0.10866672403922958, 1.4495288068753056, 0.0, 0.0569604533171351, 1.5411131434592005, 1.2452348457861977, 1.4435842899266078, 1.2279803429804619, 1.4511586011298439, 1.4825140023051133, 1.2716042141336883, 1.4763132780191635, 1.4648534549407646, 0.2119763142705379, 1.347491620929756, 1.5520944249298974, 1.468043026532578, 0.9776865181749496, 0.053761912320980806, 1.4550177399901336, 0.05399010920876772, 0.02690040462383697, 1.514482706570053, 1.5411642425061112, 1.5144827065700959, 0.056957893400834236, 1.305492001906954, 1.539794484155743, 1.4765390361186916, 1.4774520286444424, 1.478194595560308, 1.3979761372475934, 1.524359762701504, 1.5132370959866983, 1.466269458027093, 1.5412981985714072, 0.05700801381098598, 0.23879471816162665, 1.5138832958270738, 0.9779135310447344, 0.0, 0.0271867415796964, 0.05382497457301422, 0.6023696456335339, 0.026638232993317818, 1.3584372629329902, 0.026164747590216444, 0.026164747590216444, 1.5050767241553602, 0.0, 1.5116124732842073, 1.5134204704050596, 1.4884941129648563, 1.4500610875497046, 0.7636647152147125, 0.08131417885204473, 1.51104465830857, 0.0] [33, 53, 41, 22, 45, 50, 5, 42, 40, 13, 8, 7, 11, 6, 10, 12, 9, 0, 1, 56, 69, 51, 68, 74, 66, 70, 27, 48, 47, 46, 29, 34, 52, 30, 37, 16, 26, 71, 19, 24, 4, 15, 49, 14, 63, 32, 17, 44, 28, 23, 25, 57, 35, 72, 61, 3, 55, 31, 18, 73, 54, 21, 43, 38, 60, 36, 59, 39, 62, 64, 65, 2, 20, 58, 67, 75]\n",
      "1.0\n",
      "----------------------------------------------------------------------------\n",
      "number of windows= 400 \n",
      "size of windows = 5\n",
      "[1.4884097008056707, 1.4880239326801943, 0.0, 0.844617311502436, 1.3837391730528892, 1.4884099390530223, 1.4884099122582732, 1.4884097867079316, 1.4884098591054982, 1.4884097835147063, 1.4884098019569825, 1.488409720197857, 1.4884097845211188, 1.488409761254566, 1.3928079953015382, 1.356173624854129, 1.426160220173947, 1.264358106738944, 0.21631672716099384, 1.448122255301655, 0.0, 0.057128235965013055, 1.4890329582200093, 1.1282166025765081, 1.449825204724312, 0.15897519495603862, 1.4824721293806264, 1.4004283656376404, 0.08040283384669111, 1.4557740585917252, 1.3110993498189258, 0.3189239113460482, 1.257253374031362, 1.4682209562092396, 1.453129282482312, 1.1237809395927663, 0.026560114083604883, 1.400719505575179, 0.053222906122908926, 0.02647520854271614, 1.4884097008056136, 1.4890047064251115, 1.4884097008056396, 0.0571232780459631, 1.2236506665481677, 1.5127493897555733, 1.4224645964833988, 1.4524493130205594, 1.4566516404073, 1.4041969299973713, 1.4464447810999739, 1.483308531030803, 1.4419945375923233, 1.4890651810150555, 0.05716232229168301, 0.08047717721811778, 1.4578346235593982, 1.0574213695969596, 0.0, 0.027097326567679398, 0.054282666678629535, 0.0, 0.578028058358709, 1.2728708489700833, 0.05231805762287915, 0.02616131053276108, 1.4455560302203008, 0.0, 1.428951005922495, 1.4567824900874111, 1.4885358248971945, 1.4251605967894219, 0.764939763057011, 0.08151041956628483, 1.4595786617950133, 0.0] [45, 53, 22, 41, 70, 5, 6, 8, 10, 7, 12, 9, 13, 11, 0, 42, 40, 1, 51, 26, 33, 74, 56, 69, 48, 29, 34, 47, 24, 19, 50, 66, 52, 68, 16, 71, 46, 49, 37, 27, 14, 4, 15, 30, 63, 17, 32, 44, 23, 35, 57, 3, 72, 62, 31, 18, 25, 73, 55, 28, 54, 21, 43, 60, 38, 64, 59, 36, 39, 65, 2, 20, 58, 61, 67, 75]\n",
      "2.0\n",
      "----------------------------------------------------------------------------\n",
      "number of windows= 400 \n",
      "size of windows = 5\n",
      "[1.5157827108502064, 1.5157821476766051, 0.0, 1.1019370937118793, 1.3821789486743796, 1.5157832725396483, 1.5157833866270884, 1.5157831636777628, 1.515783016858955, 1.515783206601459, 1.515783041124718, 1.5157828642938467, 1.5157828028310711, 1.5157826879445249, 1.3045184104364236, 1.3808472379554295, 1.4118429430898864, 1.0666767916704134, 0.2438448426552671, 1.4766528567895685, 0.0, 0.05738160736279947, 1.5163370523703417, 1.1534353002135367, 1.4502907764559947, 0.07993278213630933, 1.4879312103741122, 1.4255024368467835, 0.05374423010230432, 1.5072667190627647, 1.3030834283007218, 0.4240313195014956, 1.1731441802071423, 1.4613330733635357, 1.4518705280085462, 1.2342726536161397, 0.026685415391714404, 1.4262571949705012, 0.05350445413265051, 0.026677458339082045, 1.515782710850149, 1.5163405708243245, 1.5157827108501711, 0.05738414271966888, 1.213712255350886, 1.4878274195498096, 1.4505519874465447, 1.4789908221025199, 1.4825873895610568, 1.344276462827492, 1.4181081158093851, 1.5103457853151916, 1.4686426984960905, 1.5164354198869405, 0.08362568267286588, 0.13262935181307806, 1.4429114785076005, 1.2320906131788025, 0.0, 0.0263142156085104, 0.0802242036094448, 0.0, 0.5784553238097099, 1.1311484426604548, 0.5538129799771541, 0.0, 1.3145371128685621, 0.0, 1.4102736528800977, 1.4136828890451953, 1.5158692394715294, 1.4356274050924447, 0.7127770555229932, 0.08171416061272464, 1.512390066981997, 0.0] [53, 41, 22, 70, 6, 5, 9, 7, 10, 8, 11, 12, 0, 42, 40, 13, 1, 74, 51, 29, 26, 45, 48, 47, 19, 52, 33, 34, 46, 24, 56, 71, 37, 27, 50, 69, 16, 68, 4, 15, 49, 66, 14, 30, 35, 57, 44, 32, 23, 63, 3, 17, 72, 62, 64, 31, 18, 55, 54, 73, 60, 25, 43, 21, 28, 38, 36, 39, 59, 2, 20, 58, 61, 65, 67, 75]\n",
      "3.0\n",
      "----------------------------------------------------------------------------\n",
      "number of windows= 400 \n",
      "size of windows = 5\n",
      "[1.5132204836487908, 1.539277275806504, 0.13105190000589673, 0.6563776823347904, 1.4056186848938534, 1.5132222888028095, 1.5132217411316367, 1.5132213442056146, 1.5132215411702656, 1.5132213486450594, 1.5132211107591156, 1.5132210467756435, 1.513221194102274, 1.5132209454932166, 1.4073586684997401, 1.406508597325763, 1.3556140981271267, 1.173406530541361, 0.24542946244650352, 1.4718722996429658, 0.026469721142375828, 0.05733474701955797, 1.5138109112530762, 1.0123056751592072, 1.4469120566552651, 0.053224610094704264, 1.4851345872671224, 1.4471637401036708, 0.05336869906177236, 1.4250988549188248, 1.304706202057683, 0.977245201731663, 0.979707296176629, 1.4104744100181443, 1.4516728562488663, 1.2600930338638423, 0.02658028763820001, 1.3692238016981932, 0.053518020571846306, 0.026677774060555867, 1.5132204836487515, 1.5139847637931785, 1.5132204836487804, 0.0572701091289798, 1.1819072574945013, 1.5110513932098315, 1.3944088577815898, 1.4131831453572024, 1.4769661329565669, 1.301820554354495, 1.4179378209992208, 1.4819095643219817, 1.3570306687978637, 1.540044635257427, 0.05736920176543031, 0.07962762851097002, 1.3263055144134932, 0.0, 0.0, 0.027459743415394984, 0.05427192437749661, 0.0, 0.026812180962101625, 0.9620470279031975, 0.7169051727865741, 1.0334406694672178, 1.3202629012895117, 0.026174574964743305, 1.4122824398099345, 1.32853988575915, 1.487255287990836, 1.4143468976181577, 0.7127408459777962, 0.08104033249503578, 1.5102388280712167, 0.0] [53, 1, 41, 22, 5, 6, 8, 9, 7, 12, 10, 11, 13, 0, 42, 40, 45, 74, 70, 26, 51, 48, 19, 34, 27, 24, 29, 50, 71, 47, 68, 33, 14, 15, 4, 46, 37, 52, 16, 69, 56, 66, 30, 49, 35, 44, 17, 65, 23, 32, 31, 63, 64, 72, 3, 18, 2, 73, 55, 54, 21, 43, 60, 38, 28, 25, 59, 62, 39, 36, 20, 67, 57, 58, 61, 75]\n",
      "4.0\n",
      "----------------------------------------------------------------------------\n",
      "number of windows= 400 \n",
      "size of windows = 5\n",
      "[1.5633815873884698, 1.5098640632334834, 0.0, 0.053012189057116965, 1.3817140204395173, 1.537221116702168, 1.5372209811075936, 1.537220982519772, 1.5372210280459928, 1.5372210989402917, 1.5372209335053424, 1.5372211972706302, 1.5372211380029026, 1.5372206952354954, 1.0804189976709164, 1.4647748273892662, 1.4223363616824287, 1.279803171354319, 0.45713017110094983, 1.4129966428167267, 0.027452236979165413, 0.08348295996659355, 1.5900481409363096, 0.9258431850187152, 1.5271190712511047, 0.026767377839389983, 1.53490572405168, 1.41593461922007, 0.7399803577797232, 1.5300406996630127, 1.3620181781167087, 1.0868744636642707, 0.1584935903307564, 1.4430606082202742, 1.5036519675043343, 1.2608527662728237, 0.026304640377739767, 1.3554015617970676, 0.6863503417274003, 0.7394487485611845, 1.5372205556887588, 1.5639107996375445, 1.537220555688748, 0.10970008778604226, 0.9760474846865507, 1.534957790523514, 1.4443643380336306, 1.3425639557152136, 1.4158023455398032, 1.2336826224669444, 1.4431288219667917, 1.5595226098291157, 1.4063442047750272, 1.5640243655498485, 0.10985892197101099, 0.21105573353065485, 1.2492824211247167, 0.1577866643845895, 0.1047749072641935, 0.47126271176572865, 1.003294080163914, 0.0, 1.4510383365174393, 0.052859838754989105, 0.0, 0.0, 1.2676302809838094, 0.026684481502497217, 1.3092888406732486, 1.2434253980613519, 1.5111415766022158, 1.4252711229341288, 0.9065390918835113, 0.054695128709467064, 1.5605295516487179, 0.07884525754856153] [22, 53, 41, 0, 74, 51, 11, 12, 5, 9, 8, 7, 6, 10, 13, 40, 42, 45, 26, 29, 24, 70, 1, 34, 15, 62, 46, 50, 33, 71, 16, 27, 48, 19, 52, 4, 30, 37, 47, 68, 17, 66, 35, 56, 69, 49, 31, 14, 60, 44, 23, 72, 28, 39, 38, 59, 18, 55, 32, 57, 54, 43, 58, 21, 75, 73, 3, 63, 20, 25, 67, 36, 2, 61, 64, 65]\n",
      "5.0\n",
      "----------------------------------------------------------------------------\n",
      "number of windows= 400 \n",
      "size of windows = 5\n",
      "[1.667348989073223, 1.6673152852473576, 0.4456792304358165, 0.8970979577519286, 1.429514203858625, 1.667347688014959, 1.667348002330451, 1.667348184409925, 1.6673482151861152, 1.6673482634847239, 1.667348236842465, 1.667348215138419, 1.6673483182978692, 1.6673485627181266, 1.4306503119890097, 1.4058032660753992, 1.402056917666071, 1.2578698995886035, 0.9317590018386751, 1.4666943818052562, 0.05359481522566417, 0.05706400424624636, 1.6678408700247087, 0.8422192927393899, 1.4997419994293568, 0.02685975963925169, 1.6117509532555765, 1.4680953512284947, 0.6312533218351367, 1.5295713110260212, 1.3922068351496013, 1.142844344585433, 0.577482128674941, 1.5212299750397213, 1.5561749237531777, 1.294810683514902, 0.026292674206145783, 1.3842849068338077, 0.6052025165766235, 0.7664452361613532, 1.6673489890732385, 1.6678236199772056, 1.6673489890731894, 0.10933577173744634, 0.9800573295843251, 1.534215148891034, 1.440989753402292, 1.371468889414161, 1.414384858007763, 1.2579102696680204, 1.4183019947609379, 1.557163828138454, 1.3796659843194736, 1.6678041899522067, 0.08332530700811802, 0.23730697493294978, 1.3136308326775543, 0.0, 0.0, 1.303623597470382, 1.0917593786828412, 0.5790936312669909, 1.0265815907212432, 0.0, 0.02622255038313365, 0.02622255038313365, 1.2744282566546863, 0.0, 1.283742006103685, 1.339255994118079, 1.6674820505507872, 1.3980993398105384, 0.5785435506471044, 0.05444068096053509, 1.5593153356231397, 0.026301283921191368] [22, 41, 53, 70, 40, 0, 42, 13, 12, 9, 10, 8, 11, 7, 6, 5, 1, 26, 74, 51, 34, 45, 29, 33, 24, 27, 19, 46, 14, 4, 50, 48, 15, 16, 71, 30, 37, 52, 47, 69, 56, 59, 35, 68, 66, 49, 17, 31, 60, 62, 44, 18, 3, 23, 39, 28, 38, 61, 72, 32, 2, 55, 43, 54, 21, 73, 20, 25, 75, 36, 64, 65, 57, 58, 63, 67]\n",
      "6.0\n",
      "----------------------------------------------------------------------------\n",
      "number of windows= 400 \n",
      "size of windows = 5\n",
      "[1.616362300554247, 1.6160008669652741, 0.0, 1.0940764478775817, 1.3760026278203055, 1.6163606996009083, 1.6163614349715427, 1.6163613611141547, 1.6163618643616182, 1.6163620162083296, 1.6163620747934997, 1.6163617928393277, 1.6163624497224147, 1.6163624431672545, 1.4946016581635555, 1.3735436197223598, 1.3323839197030616, 0.9572805575467013, 0.2426291041369134, 1.5220544824087732, 0.6317541571122365, 0.05737191891088936, 1.590678269902936, 0.682356009490072, 1.4693769333201168, 0.026941439353303297, 1.58803255630741, 1.4145418200453783, 1.1016769815308252, 1.5013761199375533, 1.2344284127312504, 0.18503024133174484, 0.49894419886081054, 1.3740044309704713, 1.5535689433337003, 1.2417788873899247, 0.026602799692636993, 1.2778935789062464, 0.848301228354298, 0.8805091084309151, 1.6163623005544034, 1.6169449583196611, 1.6163623005542722, 0.1099795419909323, 0.9763393167193728, 1.5584597130564024, 1.3092963527931403, 1.3384270675837662, 1.5233612300635957, 1.0375801021208888, 1.384645145577864, 1.5887750884537264, 1.4314714694397566, 1.6170537007626706, 0.08380577002924217, 0.10558778236123839, 1.2874758545364804, 1.2195562594492086, 0.6875399597156208, 0.7689688707603342, 0.026292288567198254, 0.0, 0.9497690819589273, 0.0, 0.0, 0.0, 1.1863423669130917, 0.0, 1.3073735117221925, 1.3110788235688884, 1.616443069698097, 1.2789669643773751, 0.7952124955561947, 0.054643501042907855, 1.5874224240234447, 0.0] [53, 41, 70, 12, 13, 40, 42, 0, 10, 9, 8, 11, 6, 7, 5, 1, 22, 51, 26, 74, 45, 34, 48, 19, 29, 14, 24, 52, 27, 50, 4, 33, 15, 47, 16, 69, 46, 68, 56, 71, 37, 35, 30, 57, 66, 28, 3, 49, 44, 17, 62, 39, 38, 72, 59, 58, 23, 20, 32, 18, 31, 43, 55, 54, 21, 73, 25, 36, 60, 2, 61, 63, 64, 65, 67, 75]\n",
      "7.0\n",
      "----------------------------------------------------------------------------\n",
      "number of windows= 400 \n",
      "size of windows = 5\n",
      "[1.6151948186296, 1.6152246674935642, 0.0, 1.0124646210631634, 1.4063766426618116, 1.6151960192127843, 1.615195866721185, 1.6151951672881477, 1.6151951673510854, 1.6151956782740113, 1.6151951449789272, 1.6151953040407534, 1.6151957105488566, 1.6151953001394517, 1.2724222719594422, 1.349884792565535, 1.3858413078891028, 0.9539523479867928, 0.13555147240495247, 1.4958857643855143, 0.6044455718371655, 0.08350203716148169, 1.5630411524085808, 0.5503433996160817, 1.4673914534365127, 0.026692671314194928, 1.5873846049450597, 1.4386519861915392, 1.1881687809600854, 1.4721761664831319, 1.0389041746540586, 0.05332781344743327, 0.05332921710151624, 1.3622668381578742, 1.550570121236297, 1.183475794196583, 0.07906203079488455, 1.3313551888793944, 0.7953226862656475, 0.934180226079379, 1.6151948186298188, 1.6157644943223382, 1.6151948186296408, 0.057191456075076114, 0.8957058966109013, 1.5312399396595946, 1.2523057615456148, 1.3640326541807175, 1.4961895515946886, 0.9288650769858166, 1.353754829637183, 1.614861437282969, 1.3781701611220547, 1.589687332513036, 0.05731388984085663, 0.026447819086849938, 1.3210703965834212, 1.2458681768979398, 0.0, 1.0688646100333756, 1.0477491511230357, 0.05274166164515311, 0.714647033319984, 0.6837571122776576, 0.026361830155564044, 0.026361830155564044, 1.277509875043873, 0.0, 1.2935136923225525, 1.3776736873218474, 1.6150868725203065, 1.3317715309990623, 0.7139491649725938, 0.02844322040867426, 1.6130636028538103, 0.0] [41, 1, 5, 6, 12, 9, 11, 13, 8, 7, 10, 40, 42, 0, 70, 51, 74, 53, 26, 22, 34, 45, 48, 19, 29, 24, 27, 4, 16, 52, 69, 47, 33, 50, 15, 71, 37, 56, 68, 66, 14, 46, 57, 28, 35, 59, 60, 30, 3, 17, 39, 49, 44, 38, 62, 72, 63, 20, 23, 18, 21, 36, 54, 43, 32, 31, 61, 73, 25, 55, 64, 65, 2, 58, 67, 75]\n",
      "8.0\n",
      "----------------------------------------------------------------------------\n",
      "number of windows= 400 \n",
      "size of windows = 5\n",
      "[1.589926894690032, 1.5891560316443418, 0.0, 0.9268146066166318, 1.4083191805703963, 1.5899272044312922, 1.5899273778178533, 1.5899275428432906, 1.589927880023648, 1.5899277278743835, 1.5899279221105298, 1.5899279541510265, 1.5899279859119035, 1.5899281673025667, 1.259228215710173, 1.3788157075863885, 1.3325143814221412, 0.9513847783698739, 0.1888635803816518, 1.472710654419541, 0.6874936843200877, 0.08380913804810844, 1.5900039458582431, 0.18367841257952178, 1.4665265273541626, 0.027172608169366886, 1.5621261143151646, 1.4117143924944728, 1.1405235478361615, 1.4978665252690102, 1.0413088495629241, 0.1325302105049252, 0.49832926220918594, 1.4438862833333022, 1.5246076878564958, 1.2074192401031614, 0.05272781463238989, 1.329723765819489, 0.8212562005650497, 1.0168163287593392, 1.5899283489514182, 1.5903820586268707, 1.5899283489513827, 0.0575147160680267, 0.8693971379524017, 1.5578929377061088, 1.226619682489996, 1.2555787378179566, 1.4953045963444502, 0.8761928326210471, 1.329617275040545, 1.5634746026592925, 1.378688743833849, 1.5905050631286444, 0.08386284451094114, 0.07909545182438439, 1.194862512856268, 0.026239122890042717, 0.0, 0.8722560316029241, 0.8020635324106689, 0.0, 0.02715747967253981, 0.908049010356699, 0.026508548287314648, 0.6592495124322573, 1.241704255976547, 0.0, 1.2522734961003548, 1.2273103648101595, 1.616069006773193, 1.3103526071035771, 0.854790191517484, 0.08127201241761645, 1.587775176377607, 0.0] [70, 53, 41, 22, 40, 42, 13, 12, 11, 10, 8, 9, 7, 6, 5, 0, 1, 74, 51, 26, 45, 34, 29, 48, 19, 24, 33, 27, 4, 15, 52, 16, 37, 50, 71, 14, 47, 68, 66, 69, 46, 35, 56, 28, 30, 39, 17, 3, 63, 49, 59, 44, 72, 38, 60, 20, 65, 32, 18, 23, 31, 54, 21, 73, 55, 43, 36, 25, 62, 64, 57, 2, 58, 61, 67, 75]\n",
      "9.0\n",
      "----------------------------------------------------------------------------\n",
      "number of windows= 333 \n",
      "size of windows = 6\n",
      "[1.5436148203454745, 1.5171483714242755, 0.0, 0.29106529844244583, 1.4580158089018078, 1.5436144342701765, 1.5436143152353403, 1.543614980511173, 1.543614624601733, 1.5436146957281907, 1.5436148258679274, 1.5436149689722627, 1.5436150544669134, 1.5436147612370394, 1.453869084925994, 1.4571828523304267, 1.4812702596267928, 1.3380626044192072, 0.10872624711932147, 1.4734547468965942, 0.0, 0.057108330424360684, 1.5705723376565968, 1.2819427451792984, 1.4717867269164482, 1.286144606117105, 1.4798832285952301, 1.4835244261833518, 1.2757638630498969, 1.530569253782279, 1.4354668855335577, 0.21279208487312495, 1.375288228803757, 1.5525322362705236, 1.4696374749885517, 1.0068279500502977, 0.05382375400986779, 1.4611244028218144, 0.054310916845469515, 0.027027828428398373, 1.543614820345459, 1.5442108423537113, 1.543614820345439, 0.057102699316603646, 1.3097714419620812, 1.5433398060076071, 1.4553010024631416, 1.4814716604602616, 1.4810060913164733, 1.4282277243242751, 1.5547144407456377, 1.5166181803133614, 1.4678929993262115, 1.570475729721712, 0.08332945784845602, 0.292058977835272, 1.5161822252185728, 1.2008965669840321, 0.0, 0.027581461497896337, 0.054599025742196446, 1.064033848897664, 0.02701756424430011, 1.017430568691142, 0.47118115117811693, 0.02628353292214272, 1.479867487177394, 0.0, 1.513404753096578, 1.5149540620772093, 1.5174845085446242, 1.476639185405293, 0.5796760282979774, 0.08155896235283089, 1.5145874941744146, 0.02618979140249444] [22, 53, 50, 33, 41, 12, 7, 11, 10, 0, 40, 42, 13, 9, 8, 5, 6, 45, 29, 70, 1, 51, 56, 69, 74, 68, 27, 47, 16, 48, 26, 66, 71, 19, 24, 34, 52, 37, 4, 15, 46, 14, 30, 49, 32, 17, 44, 25, 23, 28, 57, 61, 63, 35, 72, 64, 55, 3, 31, 18, 54, 73, 21, 43, 60, 38, 36, 59, 39, 62, 65, 75, 2, 20, 58, 67]\n",
      "0.0\n",
      "----------------------------------------------------------------------------\n",
      "number of windows= 333 \n",
      "size of windows = 6\n",
      "[1.5165520893409985, 1.5165413408385109, 0.0, 0.8175423786547511, 1.402344882419507, 1.5165516945906132, 1.5165519819875903, 1.516551936251048, 1.5165520429892192, 1.516552058697133, 1.516552025446329, 1.5165519078371477, 1.516552019567626, 1.5165518199164125, 1.357197113490755, 1.3988491972902053, 1.4561280096759162, 1.3330725291467407, 0.10901287756011115, 1.44830581739648, 0.0, 0.08333574016026815, 1.5173544609451404, 1.2774818157957806, 1.4723416627719237, 1.1780118705357117, 1.478882661816317, 1.4561952950747685, 1.2765577331626898, 1.532477694962954, 1.4394604711815477, 0.18644582573205248, 1.3442480337765688, 1.5550194569599078, 1.4436114677922705, 0.9819315832005208, 0.05395220659754314, 1.4585508490097814, 0.05402184653072399, 0.026985416108403583, 1.5165520893409155, 1.517244809838901, 1.5165520893409576, 0.05701841980055347, 1.3368148931319916, 1.5158404141300719, 1.4789604333720605, 1.4538224707327823, 1.478649955637593, 1.426480878206284, 1.554980288463318, 1.5153640751017248, 1.466355071530502, 1.5173388866512265, 0.10964293105803306, 0.26719748851684977, 1.4898728093173663, 1.1098839719397535, 0.0, 0.027284115309608614, 0.05394050441145777, 0.7093398795879529, 0.026656389101849157, 1.387492582325345, 0.02617334344273836, 0.02617334344273836, 1.4808781842432193, 0.0, 1.4874190607048399, 1.5153451126137116, 1.516697111866791, 1.4794809742028832, 0.08213536297816287, 0.08166715269945, 1.4869620716866625, 0.052547837159143324] [33, 50, 29, 22, 53, 41, 70, 0, 42, 40, 9, 8, 10, 12, 6, 7, 11, 13, 5, 1, 45, 51, 69, 56, 68, 74, 66, 71, 46, 26, 48, 24, 52, 37, 27, 16, 47, 19, 34, 30, 49, 4, 15, 63, 14, 32, 44, 17, 23, 28, 25, 57, 35, 3, 61, 55, 31, 54, 18, 21, 72, 73, 43, 38, 36, 60, 75, 59, 39, 62, 64, 65, 2, 20, 58, 67]\n",
      "1.0\n",
      "----------------------------------------------------------------------------\n",
      "number of windows= 333 \n",
      "size of windows = 6\n",
      "[1.4911250236446927, 1.4644287333278165, 0.0, 0.897271730097128, 1.3803658220786956, 1.4911247718281229, 1.4911250024771643, 1.4911249152848254, 1.4911250047778144, 1.4911249101612465, 1.4911248615737434, 1.491124827854216, 1.4911248918805609, 1.4911249441896735, 1.3917929714047432, 1.3791050719412958, 1.4306169271226972, 1.2903747040239602, 0.24304968036314367, 1.450791848787946, 0.0, 0.05724603503043296, 1.4654996209940883, 1.1573623550604546, 1.4785323980795229, 0.07986979356126107, 1.4586791971341428, 1.4277082449641112, 0.0539730316036527, 1.4854305055276282, 1.3411785292021408, 0.2672364486804223, 1.1942126512338764, 1.4684632427678062, 1.4039373700548023, 1.096287295595346, 0.02683421981428486, 1.406022260297618, 0.053640108933437576, 0.026945290291242617, 1.4911250236446714, 1.4655642064409395, 1.4911250236446596, 0.05723696008404586, 1.2549389590724003, 1.4369942010343508, 1.4297076000109699, 1.4305757316193208, 1.432297250014734, 1.381933404736099, 1.447215324617166, 1.4333555274071421, 1.4453683758329023, 1.465755270381155, 0.05727510961856666, 0.23944165854721358, 1.4359501992014472, 1.0915315499248042, 0.0, 0.02754283667788138, 0.054894238304189984, 0.0, 0.5525335063920599, 1.2297633249578277, 0.0, 0.0, 1.4236333885102028, 0.0, 1.4332659238376515, 1.435196936249359, 1.4912350568969197, 1.4292541083166836, 0.4744233798601427, 0.10845181366675155, 1.4362666745557706, 0.0] [70, 0, 40, 42, 8, 6, 13, 7, 9, 12, 10, 11, 5, 29, 24, 33, 53, 41, 22, 1, 26, 19, 50, 52, 45, 74, 56, 69, 51, 68, 48, 16, 47, 46, 71, 27, 66, 37, 34, 14, 49, 4, 15, 30, 17, 44, 63, 32, 23, 35, 57, 3, 62, 72, 31, 18, 55, 73, 25, 54, 21, 43, 60, 28, 38, 59, 39, 36, 2, 20, 58, 61, 64, 65, 67, 75]\n",
      "2.0\n",
      "----------------------------------------------------------------------------\n",
      "number of windows= 333 \n",
      "size of windows = 6\n",
      "[1.467707777086376, 1.4673309746239374, 0.0, 1.1597009261086384, 1.3556323389034413, 1.4677080741170299, 1.4677079443939218, 1.4677079597007578, 1.4677079334933663, 1.4677078163506836, 1.4677078522758382, 1.4677079053183966, 1.4677078316811203, 1.4677077868865305, 1.3042171989076552, 1.3809255260400528, 1.4405214940384403, 1.2008182369806943, 0.27159631187874217, 1.4004472376987855, 0.0, 0.05762108086152108, 1.4684908375140833, 1.2634791427718475, 1.479063360700893, 0.07988647322076392, 1.4393774821025518, 1.4293846467203404, 0.053651278099090025, 1.5112319568172754, 1.3070005513262144, 0.4250924029926667, 1.0871798380589426, 1.4665103663099655, 1.4326050317318786, 1.2399638625351748, 0.026680377610325615, 1.4326512330340466, 0.053670202343284235, 0.02690838561754452, 1.4677076992750118, 1.4684062283980284, 1.4677076992749654, 0.08385843445018794, 1.2734074556878683, 1.439773516839393, 1.4563956441303458, 1.456226092378393, 1.45983945205384, 1.3470798440912628, 1.449316406620808, 1.4602893366512066, 1.5002463021944807, 1.468672975224868, 0.057650150708141015, 0.15982143786912567, 1.4235469678839778, 1.2150317809281295, 0.0, 0.02653514352607353, 0.08066744318529259, 0.0, 0.4993711039339652, 1.103335026661789, 0.0, 0.0, 1.3436085695055038, 0.0, 1.4085204301898167, 1.4398355872509512, 1.4417348539807218, 1.4381744068450715, 0.08157209870092283, 0.08230126647492639, 1.4646353323671986, 0.02624795459946066] [29, 52, 24, 53, 22, 41, 5, 7, 6, 8, 11, 10, 12, 9, 13, 0, 40, 42, 1, 33, 74, 51, 48, 46, 47, 50, 70, 16, 69, 45, 26, 71, 37, 34, 27, 56, 68, 19, 15, 4, 49, 66, 30, 14, 44, 23, 35, 57, 17, 3, 63, 32, 62, 31, 18, 55, 43, 73, 72, 60, 25, 54, 21, 38, 28, 39, 36, 59, 75, 2, 20, 58, 61, 64, 65, 67]\n",
      "3.0\n",
      "----------------------------------------------------------------------------\n",
      "number of windows= 333 \n",
      "size of windows = 6\n",
      "[1.5166164949980796, 1.5162727131887885, 0.052462020608374224, 0.7116306194734363, 1.3520448889666414, 1.5166150213971523, 1.516615496751373, 1.5166152654502518, 1.51661568163097, 1.516616103185711, 1.5166161021178302, 1.5166160634003862, 1.5166161443477735, 1.5166163159683985, 1.352129796088172, 1.3537198336703375, 1.3584834829140169, 1.2300215137598403, 0.29990562403022575, 1.4482861167831373, 0.6824042691801302, 0.08384141918659302, 1.5174223356582064, 1.0614732632042492, 1.5046860997097165, 0.05328722711721981, 1.4612274409083437, 1.4502629388056278, 0.05364612154208277, 1.4831833183210694, 1.356939422445938, 0.3727467067903573, 0.21116774765015028, 1.3870430555700837, 1.4560713463622603, 1.2359302577907594, 0.02661391506833392, 1.37464905908803, 0.05363995267991136, 0.02701447262096027, 1.5166164949981522, 1.5174158055481035, 1.5166164949980456, 0.08395355674857272, 1.2641596109336484, 1.514799334276387, 1.480938898736345, 1.4175998074572678, 1.4790771923439832, 1.2814832081301508, 1.4484068971471553, 1.509885171894857, 1.4406225586721693, 1.5174683800269824, 0.08414608830880552, 0.21220730996987258, 1.3038937755106994, 0.0, 0.0, 0.5254027958413643, 0.054749842709506405, 0.0, 0.027062793513734792, 1.076116484247586, 0.6063834756085401, 0.9779750157442428, 1.3254506802284578, 0.026381889759029775, 1.39047910294253, 1.330269001076697, 1.5168211364791193, 1.3917436990498986, 0.7666839000747236, 0.08179795397158844, 1.4876120339942092, 0.0] [53, 22, 41, 70, 40, 0, 42, 13, 12, 9, 10, 11, 8, 6, 7, 5, 1, 45, 51, 24, 74, 29, 46, 48, 26, 34, 27, 50, 19, 52, 47, 71, 68, 33, 37, 16, 30, 15, 14, 4, 69, 66, 56, 49, 44, 35, 17, 63, 23, 65, 72, 3, 20, 64, 59, 31, 18, 55, 32, 54, 43, 21, 73, 60, 28, 38, 25, 2, 62, 39, 36, 67, 57, 58, 61, 75]\n",
      "4.0\n",
      "----------------------------------------------------------------------------\n",
      "number of windows= 333 \n",
      "size of windows = 6\n",
      "[1.6207275795406733, 1.6190353148662289, 0.0, 0.07939238755191436, 1.4853322733851515, 1.6207282716029368, 1.6207277752904636, 1.6207277993613347, 1.620727569765842, 1.6207276184580541, 1.6207275845825482, 1.6207275171570377, 1.6207274462962804, 1.620727544368725, 1.104789509523004, 1.5152544472560028, 1.4532925147911608, 1.2621951309898165, 0.8538824656316936, 1.5493098219343109, 0.7378671553252154, 0.057453953939083535, 1.6209891863092718, 0.9839257582218209, 1.5031534205938049, 0.05330541722290659, 1.538689447351536, 1.4689632374089545, 0.8755679312023297, 1.4802826865687115, 1.3881185964891354, 1.0356062558432448, 0.02697985152593254, 1.446699301825061, 1.453833148689582, 1.2938672076403892, 0.026263484945160454, 1.386066238588991, 0.6315745311889283, 0.8530160359971635, 1.6207272838365312, 1.6212385358075567, 1.6207272838365254, 0.10975123296175299, 0.8978615144328876, 1.5395294228147427, 1.3949991794887564, 1.3729351433380608, 1.4451829131864478, 1.2325442836737683, 1.5543744982966323, 1.5643830519743585, 1.437324217431003, 1.6212073985838766, 0.11002518943826206, 0.132868713774017, 1.2535124905470572, 0.6304264682350675, 0.0, 0.6864500144243574, 1.1140773949261802, 0.0, 1.4000744756737769, 0.02658394010031759, 0.0, 0.0, 1.2146741009768716, 0.02658394010031759, 1.2861584706168485, 1.2470955756797486, 1.620754719463684, 1.4564318494010253, 0.8521343505661736, 0.05511766477796223, 1.5655760394950304, 0.0] [41, 53, 22, 70, 5, 7, 6, 9, 10, 0, 8, 13, 11, 12, 40, 42, 1, 74, 51, 50, 19, 45, 26, 15, 24, 4, 29, 27, 71, 34, 16, 33, 48, 52, 62, 46, 30, 37, 47, 35, 68, 17, 56, 69, 49, 66, 60, 14, 31, 23, 44, 28, 18, 39, 72, 20, 59, 38, 57, 55, 54, 43, 3, 21, 73, 25, 32, 63, 67, 36, 2, 58, 61, 64, 65, 75]\n",
      "5.0\n",
      "----------------------------------------------------------------------------\n",
      "number of windows= 333 \n",
      "size of windows = 6\n",
      "[1.567448988671258, 1.5673319361428246, 0.0, 1.0410223163917207, 1.4268758947833364, 1.5674474631692, 1.5674476466538918, 1.567447944553791, 1.567447929748735, 1.5674482103669625, 1.567448205611248, 1.5674483473892684, 1.5674481390593953, 1.5674485190127463, 1.483102362195434, 1.429830495799828, 1.3536985731075903, 1.2914521134083843, 0.9345784708846478, 1.5495299505872175, 0.027321714578151607, 0.0574002584076949, 1.5682895039744627, 0.7943637877308015, 1.5043576840274033, 0.05326292598709947, 1.563326496282077, 1.4434238945992957, 0.794105609584303, 1.586407376454071, 1.4664140414432543, 1.0897966910978212, 0.027041875824690958, 1.470179087536954, 1.5337321590575537, 1.3010299623366808, 0.0263085625169745, 1.3629507641048306, 0.10659368161440541, 0.7673306989101785, 1.5674489886712486, 1.5680877544220437, 1.567448988671241, 0.08346259914935195, 1.0596689364996048, 1.5652106647632844, 1.4496847022264079, 1.4000261247037524, 1.4185056092228159, 1.2338942537139206, 1.4221446421807804, 1.5626663397881027, 1.3836175592144209, 1.5681167561292675, 0.05741664601967728, 0.21185139584773313, 1.3107951594777116, 0.0, 0.0, 1.3070898350592595, 1.068799869589665, 0.7164642231250969, 1.0039729401057438, 0.0, 0.02635402468761863, 0.02635402468761863, 1.2486001594991913, 0.0, 1.312181270024245, 1.3419908126920135, 1.567591000624602, 1.4024123190554367, 0.08157491579658765, 0.05471447524459032, 1.5641220062527321, 0.026175943090920986] [29, 22, 53, 41, 70, 0, 40, 42, 13, 11, 9, 10, 12, 7, 8, 6, 5, 1, 45, 74, 26, 51, 19, 34, 24, 14, 33, 30, 46, 27, 15, 4, 50, 48, 71, 47, 52, 37, 16, 69, 68, 56, 59, 35, 17, 66, 49, 31, 60, 44, 3, 62, 18, 23, 28, 39, 61, 55, 38, 43, 72, 54, 21, 73, 25, 20, 32, 64, 65, 36, 75, 2, 57, 58, 63, 67]\n",
      "6.0\n",
      "----------------------------------------------------------------------------\n",
      "number of windows= 333 \n",
      "size of windows = 6\n",
      "[1.6197335680401896, 1.6196365086648696, 0.0, 1.1524039801201467, 1.3797374793050723, 1.6197359233798108, 1.6197340515065572, 1.6197341832896603, 1.6197345341971572, 1.6197341033828963, 1.6197336872954309, 1.6197338818830698, 1.6197340677963745, 1.6197341471590672, 1.4682263389903645, 1.3776725433169665, 1.3072368292075058, 1.0689486102281534, 0.2434762025611683, 1.5487163986085206, 0.6328552047064787, 0.08386904557098884, 1.6199630300048573, 0.8695948511676991, 1.524011807413798, 0.026923082666864467, 1.617448081789109, 1.4441400711205432, 1.1562208079411644, 1.5030323160164691, 1.2383442340394648, 0.18611464288306928, 0.05349261050148811, 1.4318819120723825, 1.5293535594710024, 1.2418325338492011, 0.026481070584942343, 1.3114403019266216, 0.8476745435107856, 0.9344446375263549, 1.6197335680400742, 1.6200936558498353, 1.6197335680401, 0.11022946077805043, 0.9749894316444202, 1.5359167477472893, 1.338505671192446, 1.4197660366765803, 1.4478927666922616, 1.037568867058027, 1.4682435122319868, 1.6184073615448378, 1.3851906825327052, 1.6202094808467131, 0.08403279715130621, 0.07949845834608382, 1.3167453562556675, 1.2522721435767161, 0.6876453745348803, 0.6594354349968367, 0.026282668562475613, 0.0, 0.98357467523978, 0.0, 0.5529792807058524, 0.0, 1.2109324808320008, 0.0, 1.3356084731077675, 1.3356342745871825, 1.6199150772350013, 1.3592780585832378, 0.7147638920424817, 0.0549246205228339, 1.6172172567585172, 0.0] [53, 41, 22, 70, 5, 8, 7, 13, 9, 12, 6, 11, 10, 0, 42, 40, 1, 51, 26, 74, 19, 45, 34, 24, 29, 50, 14, 48, 27, 33, 47, 52, 4, 15, 71, 46, 69, 68, 56, 37, 16, 57, 35, 30, 66, 28, 3, 17, 49, 62, 44, 39, 23, 38, 72, 58, 59, 20, 64, 18, 31, 43, 54, 21, 55, 73, 32, 25, 36, 60, 2, 61, 63, 65, 67, 75]\n",
      "7.0\n",
      "----------------------------------------------------------------------------\n",
      "number of windows= 333 \n",
      "size of windows = 6\n",
      "[1.6205782551497914, 1.6205971872745786, 0.0, 1.0713411854704444, 1.4087101317285553, 1.6205785045964978, 1.6205786194778433, 1.6205784504696903, 1.620578299877259, 1.6205784225933682, 1.6205783663633448, 1.620578343982254, 1.6205784199182973, 1.6205785035288252, 1.297458564312696, 1.3795530395692155, 1.4202447189022476, 0.9265890894089492, 0.21522466992507072, 1.5284978483650447, 0.6344611146507566, 0.11006521290596054, 1.5943062868989966, 0.656275840912144, 1.4993518085562303, 0.026856598189505497, 1.618976320229738, 1.497675490875145, 1.194795988172262, 1.505121579724911, 1.201276605708873, 0.10601196187237827, 0.027114377887726436, 1.389662210316567, 1.555331237329753, 1.2439196528735608, 0.05278150980206625, 1.3861891739101897, 0.8784686761988202, 1.0991291261337552, 1.6205782551498393, 1.6209513966180402, 1.6205782551497543, 0.13681243070279436, 1.0814703869939066, 1.5887967144517738, 1.2822347390563462, 1.3387981586855378, 1.527868672724024, 0.8459490080078237, 1.407662598457276, 1.6202947101523775, 1.4418924606751449, 1.6209654856987132, 0.11021052524181996, 0.026248576033892492, 1.351862040403052, 1.3018478221329368, 0.0, 1.1291094426587434, 1.0239442540268922, 0.026595261108774505, 0.8010824140415801, 0.771006027221053, 0.6049358181851824, 0.026310836657226826, 1.3066048142337874, 0.0, 1.3996734891969072, 1.3536644734141332, 1.6205310805117, 1.3902316994370247, 0.08091790251988489, 0.08111679828481702, 1.6188254054674631, 0.0] [53, 41, 1, 6, 5, 13, 7, 9, 12, 10, 11, 8, 40, 0, 42, 70, 51, 26, 74, 22, 45, 34, 19, 48, 29, 24, 27, 52, 16, 4, 50, 68, 71, 33, 37, 15, 69, 56, 47, 66, 57, 14, 46, 35, 30, 28, 59, 39, 44, 3, 60, 17, 38, 49, 62, 63, 23, 20, 64, 18, 43, 54, 21, 31, 73, 72, 36, 32, 25, 61, 65, 55, 2, 58, 67, 75]\n",
      "8.0\n",
      "----------------------------------------------------------------------------\n",
      "number of windows= 333 \n",
      "size of windows = 6\n",
      "[1.5675976503045077, 1.566885035057132, 0.0, 0.9528028136050104, 1.3610414415189676, 1.5675981983541056, 1.5675981731319393, 1.5675981727106858, 1.5675977808650559, 1.5675978038236755, 1.5675977361636533, 1.5675976718151947, 1.5675974826587136, 1.5675972556416005, 1.2827507028508849, 1.3564606083451864, 1.2616279236819237, 0.9256945823740961, 0.16363429270937055, 1.4751483433705037, 0.714071958053346, 0.13657509138603982, 1.5938900246336496, 0.07865293179244347, 1.4196020114064785, 0.027071248507637022, 1.5658977802244525, 1.416923117478242, 1.2250694067626138, 1.4504491248654023, 0.9852515515984186, 0.1595451827444673, 0.02712275539068419, 1.3959201609115208, 1.502604026010638, 1.158018202401511, 0.05279305670294317, 1.3346108491522786, 0.8759511773491312, 1.0240418977416086, 1.5675970557323167, 1.594471161795777, 1.5675970557322192, 0.11056371559519831, 0.4742686066166322, 1.5357244564595138, 1.2565751015749025, 1.2571512284615767, 1.472024166681446, 0.8209749827879045, 1.385073487794575, 1.5673304127024554, 1.4100053583699077, 1.5946264174427822, 0.11065782346570455, 0.0796354951909144, 1.2009904557338336, 0.026517279723873095, 0.6063470808983211, 0.9020399832238039, 0.8016802172640941, 0.0, 0.027307314754695736, 0.8835270984334915, 0.026314943238975385, 0.6059698443179047, 1.2176620760718808, 0.0, 1.2577557229473526, 1.255636701863389, 1.5675012484145, 1.3161078228884961, 0.826496000927531, 0.08201864274592571, 1.6179747548562948, 0.0526066970983732] [74, 53, 41, 22, 5, 6, 7, 9, 8, 10, 11, 0, 12, 13, 40, 42, 70, 51, 1, 26, 45, 34, 19, 48, 29, 24, 27, 52, 33, 50, 4, 15, 37, 71, 14, 16, 68, 47, 46, 69, 28, 66, 56, 35, 39, 30, 3, 17, 59, 63, 38, 72, 49, 60, 20, 58, 65, 44, 18, 31, 21, 54, 43, 73, 55, 23, 36, 75, 62, 32, 25, 57, 64, 2, 61, 67]\n",
      "9.0\n",
      "----------------------------------------------------------------------------\n",
      "number of windows= 285 \n",
      "size of windows = 7\n",
      "[1.495366300762654, 1.4905608185913906, 0.0, 0.29223984867222436, 1.4823401938512333, 1.4953641969825608, 1.495364382244229, 1.4953648454960966, 1.4953647606463527, 1.495364810843685, 1.4953649207062996, 1.4953648323360837, 1.495365076889249, 1.4953650089544186, 1.400396419303473, 1.480376212473114, 1.5112249599869771, 1.3936374953375539, 0.10913894626486274, 1.5015101446373869, 0.0, 0.08384063262479025, 1.5224169347351264, 1.3441594753669686, 1.5024709225218396, 1.323049783174234, 1.4852793012225698, 1.4854424017995842, 1.340701711353561, 1.536832134406151, 1.437669479866246, 0.21345059398386262, 1.3734640994581584, 1.5583742660786546, 1.5014917287934788, 0.9839767252836132, 0.05384564715463662, 1.4663122792480032, 0.05438925990396648, 0.027110235725053014, 1.4953649840418262, 1.4959776578223174, 1.495364984041866, 0.10988373036273132, 1.3941456284603615, 1.5209979524358288, 1.4590748188707505, 1.459961229071055, 1.48456194393839, 1.4318185438147306, 1.5608358701082876, 1.4941445680062602, 1.4706992742887002, 1.4960707212163245, 0.2412961779808087, 0.32086936497060303, 1.520427327598537, 1.2055126861985477, 0.0, 0.027769056046802916, 0.05491688389372562, 1.010928941191079, 0.0271478278469227, 1.0773792742658383, 0.026426974120056453, 0.026426974120056453, 1.4846456507601922, 0.0, 1.5176916283148507, 1.5188484050001576, 1.4954261996159157, 1.4824405353700545, 0.08264182738441236, 0.08203258828046064, 1.4924691096195328, 0.07962887311383472] [50, 33, 29, 22, 45, 56, 69, 68, 16, 24, 19, 34, 53, 41, 70, 0, 12, 13, 42, 40, 10, 7, 11, 9, 8, 6, 5, 51, 74, 1, 27, 26, 66, 48, 71, 4, 15, 52, 37, 47, 46, 30, 49, 14, 44, 17, 32, 23, 28, 25, 57, 63, 61, 35, 55, 3, 54, 31, 43, 18, 21, 72, 73, 75, 60, 38, 36, 59, 62, 39, 64, 65, 2, 20, 58, 67]\n",
      "0.0\n",
      "----------------------------------------------------------------------------\n",
      "number of windows= 285 \n",
      "size of windows = 7\n",
      "[1.4936451914096556, 1.4927579437640146, 0.0, 0.3441638942205244, 1.456411770405937, 1.4936461485093764, 1.4936454621007997, 1.4936455905165862, 1.4936456799882836, 1.4936452921539498, 1.493645433774702, 1.4936455886226356, 1.4936454480049206, 1.4936458032698121, 1.3336842499378172, 1.4535597866050756, 1.486355938201832, 1.3583962165428347, 0.1879417200165925, 1.4520975263430806, 0.0, 0.05718236038812602, 1.5205269961639332, 1.3913348702807529, 1.50167024782911, 1.2071983915999265, 1.4557049825975534, 1.457666986571792, 1.3678876102055069, 1.5336692201113764, 1.440136272769278, 0.2133842838972822, 1.3481550960761295, 1.5305705561259022, 1.4477986865480181, 1.0097742101763496, 0.053692569278047, 1.4896952578876486, 0.054360293289573036, 0.027156030516771734, 1.493645839003587, 1.4942461923282988, 1.4936458390036704, 0.05717420488330315, 1.3349186845802952, 1.4670948021292785, 1.4822042846020016, 1.4590870156897435, 1.452867431325216, 1.432204919331773, 1.5578246666284274, 1.492800288674518, 1.4684493025380534, 1.4944027525813235, 0.13611560496695888, 0.26764132268771557, 1.520076723524974, 1.1459324534768462, 0.0, 0.027453481784173412, 0.05404532608895585, 0.708463772126378, 0.02659184430478244, 1.3917124490167048, 0.0, 0.0, 1.4858701545946698, 0.0, 1.4914115941475674, 1.5191041816005892, 1.4937853442587037, 1.4825901184661858, 0.08237752995837605, 0.08175342610140862, 1.490372942802657, 0.0] [50, 29, 33, 22, 56, 69, 24, 53, 41, 70, 5, 42, 40, 13, 8, 7, 11, 6, 12, 10, 9, 0, 51, 1, 68, 74, 37, 16, 66, 71, 46, 52, 45, 47, 27, 4, 26, 15, 48, 19, 34, 30, 49, 63, 23, 28, 17, 32, 44, 14, 25, 57, 35, 61, 3, 55, 31, 18, 54, 72, 73, 21, 43, 38, 60, 36, 59, 39, 62, 2, 20, 58, 64, 65, 67, 75]\n",
      "1.0\n",
      "----------------------------------------------------------------------------\n",
      "number of windows= 285 \n",
      "size of windows = 7\n",
      "[1.4676331315341034, 1.441100963023172, 0.0, 0.8732627127735104, 1.3227120660885774, 1.4676332302470618, 1.4676334344088537, 1.4676333714747574, 1.4676334220657339, 1.4676333173552318, 1.46763318727312, 1.4676333860470876, 1.4676333917926934, 1.4676332449316076, 1.364662985174912, 1.3223715386409676, 1.4343403021675682, 1.1892689190339, 0.21776376957986146, 1.4522880507923455, 0.0, 0.057374557403992325, 1.4684077260337016, 1.2960517510101317, 1.429004530048926, 0.18537215217845793, 1.4612817708408343, 1.4031939169487735, 0.05441542720021852, 1.4880002036661557, 1.369124428798258, 0.26716426257104503, 1.0301309804916257, 1.471645333362986, 1.4077487298224618, 1.1570505323468188, 0.02699737080580118, 1.408707176413235, 0.05415416999382426, 0.027123160538322262, 1.4676331315340443, 1.4421448421399699, 1.4676331315340625, 0.05736835919206436, 1.282437091827869, 1.4665176831640014, 1.4318177751889887, 1.432905478915028, 1.434131454699227, 1.3590797067214406, 1.4784014473104645, 1.4363755914728038, 1.3959430637002843, 1.4423130623282372, 0.08362846537552812, 0.13361585392111605, 1.4397505350578625, 1.1409514958397196, 0.0, 0.027444860790894997, 0.05484606358413133, 0.0, 0.4199110138683779, 1.2640325807267512, 0.026167135561260237, 0.026167135561260237, 1.426696112540479, 0.0, 1.4373117919293075, 1.4391490696035012, 1.4677677993748695, 1.4318899012510764, 0.08196321606139818, 0.1085429676733976, 1.4392689662743738, 0.0] [29, 50, 33, 22, 70, 6, 8, 12, 11, 7, 9, 13, 5, 10, 0, 42, 40, 45, 26, 19, 53, 41, 1, 56, 74, 69, 68, 51, 16, 48, 47, 71, 46, 24, 66, 37, 34, 27, 52, 30, 14, 49, 4, 15, 23, 44, 63, 17, 35, 57, 32, 3, 62, 31, 18, 25, 55, 73, 54, 72, 21, 43, 60, 28, 38, 59, 39, 36, 64, 65, 2, 20, 58, 61, 67, 75]\n",
      "2.0\n",
      "----------------------------------------------------------------------------\n",
      "number of windows= 285 \n",
      "size of windows = 7\n",
      "[1.4709068268213044, 1.4442645238933478, 0.0, 1.243628696829113, 1.4100680661736302, 1.470905622219144, 1.470905578613084, 1.4709056060011236, 1.4709056569697967, 1.4709057960786605, 1.4709056642108453, 1.470905576715747, 1.4709054769186114, 1.470905832741915, 1.2715990109643163, 1.3567978176695017, 1.3914631518283715, 1.1521108571885503, 0.2725047866506819, 1.3755336561966698, 0.052878232545292225, 0.0840152927281361, 1.4193747880303254, 1.2078604975062717, 1.482902269402631, 0.08051662735810475, 1.4676110047062783, 1.405778602246875, 0.08030723003057728, 1.4893770937616493, 1.3367785684635665, 0.39862210445962043, 0.3964038516202552, 1.4449014595675518, 1.4641371478824654, 1.243360720136303, 0.026818548976673892, 1.437778878733062, 0.05412752484196437, 0.02708336370313959, 1.4709055373257098, 1.445456757222148, 1.4709055373255973, 0.08395027457060932, 1.2510616124340064, 1.4175082548789342, 1.484938673940893, 1.4573366840351716, 1.4614585711843417, 1.2978511335012146, 1.4532900843448955, 1.4355953600819307, 1.5059269607056784, 1.4196307870112432, 0.08407141279685386, 0.10738598451304618, 1.4287364307083903, 1.278009046539893, 0.0, 0.026588932053454455, 0.133559851088371, 0.0, 0.5001208790339902, 1.1591857110408545, 0.026151978907737346, 0.0, 1.3486644650517023, 0.0, 1.3885998327245448, 1.4201354807887814, 1.4710362618824897, 1.4136797363809703, 0.4742347364971027, 0.08282452840923951, 1.4938932198816848, 0.0] [52, 74, 29, 46, 24, 70, 0, 13, 9, 10, 8, 5, 7, 6, 11, 40, 42, 12, 26, 34, 48, 47, 50, 41, 33, 1, 37, 51, 56, 69, 53, 22, 45, 71, 4, 27, 16, 68, 19, 15, 66, 30, 49, 57, 14, 44, 3, 35, 23, 63, 17, 62, 72, 31, 32, 18, 60, 55, 54, 21, 43, 73, 25, 28, 38, 20, 39, 36, 59, 64, 2, 58, 61, 65, 67, 75]\n",
      "3.0\n",
      "----------------------------------------------------------------------------\n",
      "number of windows= 285 \n",
      "size of windows = 7\n",
      "[1.4429248345001553, 1.4427731149093586, 0.026173496776865368, 0.8192389237417694, 1.351805100583649, 1.4429258450063465, 1.4429252452626202, 1.442925110952001, 1.4429252201966953, 1.4429252886206598, 1.4429249739935999, 1.4429250205518735, 1.4429250457569591, 1.4429250342043665, 1.3546459303863798, 1.4057380658949474, 1.3588263425635723, 1.2630519697239657, 0.35350842528445553, 1.3965335357222537, 0.05253554944862361, 0.11013424655807855, 1.4697872517317345, 1.0649940826372815, 1.4539591394413813, 0.07986022326572373, 1.4390998446561794, 1.4800917115208918, 0.07958523238054238, 1.4875651064014943, 1.3363415088098758, 0.37401845774163867, 0.13248607189275813, 1.419401388012095, 1.4337356484269168, 1.2655196267437365, 0.026607992113016683, 1.3788728205082432, 0.05431796168440424, 0.05370234299306328, 1.4429248345002366, 1.443577893795832, 1.44292483450017, 0.057679589099591214, 1.2723693657355684, 1.4934607566990148, 1.4581510081946925, 1.4474049667060052, 1.429679244631423, 1.3131703416346225, 1.4531709569004312, 1.4356554279471039, 1.4726597567859814, 1.4437573543970772, 0.08402924866168643, 0.15969941807563193, 1.3060086563298339, 0.0, 0.0, 0.02786677735908351, 0.05504124624363482, 0.0, 0.02717446888455131, 1.1315857837146612, 0.8021893693386012, 1.0326028011963477, 1.3362691626748502, 0.026322833957871265, 1.4210494806327114, 1.334176819153475, 1.4432309877865177, 1.3673654059642544, 0.0820894414832183, 0.08201879751579608, 1.4399108566737102, 0.0] [45, 29, 27, 52, 22, 46, 24, 50, 47, 53, 41, 70, 5, 9, 6, 8, 7, 12, 13, 11, 10, 40, 42, 0, 1, 74, 26, 51, 34, 48, 68, 33, 15, 19, 37, 71, 16, 14, 4, 30, 66, 69, 49, 56, 44, 35, 17, 63, 23, 65, 3, 64, 31, 18, 55, 32, 21, 54, 72, 73, 25, 28, 43, 60, 38, 39, 20, 59, 62, 36, 67, 2, 57, 58, 61, 75]\n",
      "4.0\n",
      "----------------------------------------------------------------------------\n",
      "number of windows= 285 \n",
      "size of windows = 7\n",
      "[1.5976859214487502, 1.5967182406302594, 0.0, 0.1331710054659783, 1.3798740166114016, 1.5976894408017173, 1.5976890077106864, 1.5976887657605934, 1.5976882205381673, 1.5976880781350074, 1.5976880036672738, 1.5976878425857717, 1.5976876662410524, 1.5976875117359246, 1.0719569657419612, 1.4374813711749626, 1.4572064082779308, 1.294791053044597, 0.8287131947413198, 1.498458753923354, 0.7673435575289128, 0.08430341556592504, 1.5982027967107921, 0.9056055741285014, 1.5313139020050077, 0.05368769467695875, 1.51555273590072, 1.4197684725501845, 0.8763362834038156, 1.5074106418733182, 1.3623586902776685, 1.0927330535142863, 0.07941788550038101, 1.5554724536167406, 1.4833911689141261, 1.3495942150399836, 0.026187024049926257, 1.388790996204191, 0.23880087974053615, 0.8521749887739891, 1.5976868153542467, 1.598325474129559, 1.597686815354193, 0.11032994033456339, 0.950414551534724, 1.5171412856273048, 1.3987476619771924, 1.3757639613833106, 1.4477026485570716, 1.234857835369417, 1.507020774489245, 1.5681325427087034, 1.3882779534134981, 1.598360207740056, 0.13665439215913916, 0.10712291800458187, 1.2539668761251759, 0.5506609793452302, 0.0, 0.683769325922084, 0.9518435660319347, 0.0, 1.4098633693455787, 0.05318453563403726, 0.0, 0.0, 1.2450134463940286, 0.026983184499422417, 1.2610759379806704, 1.221335129452506, 1.545410804704742, 1.512388488777752, 0.8229289208233026, 0.05567533540719541, 1.5683923750075832, 0.07929872208564034] [53, 41, 22, 5, 6, 7, 8, 9, 10, 11, 12, 13, 40, 42, 0, 1, 74, 51, 33, 70, 24, 45, 26, 71, 29, 50, 19, 34, 16, 48, 15, 27, 62, 46, 37, 52, 4, 47, 30, 35, 17, 68, 56, 66, 49, 69, 31, 14, 60, 44, 23, 28, 39, 18, 72, 20, 59, 57, 38, 54, 3, 43, 55, 21, 32, 75, 73, 25, 63, 67, 36, 2, 58, 61, 64, 65]\n",
      "5.0\n",
      "----------------------------------------------------------------------------\n",
      "number of windows= 285 \n",
      "size of windows = 7\n",
      "[1.5705143114502738, 1.5704380878270447, 0.0, 1.045520975251428, 1.4290162404522295, 1.5705122764250987, 1.5705123555725446, 1.570512571970776, 1.5705132126115946, 1.5705131545751259, 1.570513236774279, 1.5705136042144874, 1.5705136893059921, 1.5705137302107282, 1.4557017866278734, 1.430809866134276, 1.4109097680019684, 1.2382314236688934, 0.9353595393582423, 1.5500495552530889, 0.027315839508585595, 0.057493899417841124, 1.5712121814822755, 0.980217669853413, 1.42580092968422, 0.053476748733329624, 1.5398963778637884, 1.4440152709534604, 0.8244785522487892, 1.4815061576209085, 1.4138610244952645, 1.064165745252038, 0.02702830262402727, 1.4744757675561586, 1.5086438877676396, 1.3029080402971567, 0.0, 1.420309088794013, 0.08066026110839955, 0.7651877858757609, 1.570514311450341, 1.5711271092143988, 1.5705143114502678, 0.10997882170509823, 1.089664015990139, 1.5688066588254328, 1.4522611562027223, 1.4296322829660009, 1.4470407779136572, 1.1823106827976593, 1.479956513014906, 1.5665321142440576, 1.3636802300167337, 1.57115121958846, 0.11056232076988648, 0.1595041785535477, 1.3686221648720966, 0.0, 0.0, 1.3389632585906786, 1.0959529528736303, 0.6909049764065373, 1.0600803874654534, 0.0, 0.026362012578571865, 0.026362012578571865, 1.2509794773980845, 0.0, 1.341739760316495, 1.3994728596640322, 1.5705689614503426, 1.4345094536544845, 0.08199525755799132, 0.055232595784962146, 1.5672032200420103, 0.0] [22, 53, 41, 70, 40, 0, 42, 13, 12, 11, 10, 8, 9, 7, 6, 5, 1, 45, 74, 51, 19, 26, 34, 29, 50, 33, 14, 46, 48, 27, 71, 15, 47, 4, 24, 37, 30, 16, 69, 56, 52, 68, 59, 35, 66, 17, 49, 60, 44, 31, 62, 3, 23, 18, 28, 39, 61, 55, 54, 43, 72, 38, 21, 73, 25, 20, 32, 64, 65, 2, 36, 57, 58, 63, 67, 75]\n",
      "6.0\n",
      "----------------------------------------------------------------------------\n",
      "number of windows= 285 \n",
      "size of windows = 7\n",
      "[1.571444485045677, 1.5702355794029237, 0.0, 1.1877480023961449, 1.376066026136654, 1.5714436244799628, 1.5714437055357666, 1.5714439104706697, 1.5714444005545904, 1.5714441164914235, 1.5714441561882926, 1.5714441999764586, 1.5714443388921082, 1.5714444205749627, 1.46808542522551, 1.373298554406155, 1.3628859422133317, 1.0413954815560134, 0.27175504760455305, 1.5005455561959837, 0.688447237472207, 0.057784548733566324, 1.598085639261427, 0.6830732662885857, 1.47655559337052, 0.027167145477493156, 1.5685473489842208, 1.4747706141593708, 1.1617150887491194, 1.5343835204687437, 1.207977030605282, 0.21265084617667712, 0.05338683002144, 1.4613075845921308, 1.5587002299270747, 1.2427076836587136, 0.05261434288738412, 1.314423898240262, 0.8983890485158458, 0.9926392318883184, 1.5714444850456253, 1.5720754270180908, 1.5714444850455431, 0.08405942334127331, 1.004475472340389, 1.5670788921165495, 1.370514871353877, 1.4225957445117134, 1.5034968375428401, 1.0937395545748556, 1.4483198348955324, 1.5699042071620095, 1.4216703573366567, 1.5721696484302676, 0.11024085354742255, 0.08029561415323783, 1.31886068836971, 1.2527449408207867, 0.7165582656630795, 0.823947644047436, 0.05276587650399306, 0.0, 0.9574002829041303, 0.0, 0.0, 0.0, 1.2684657964571975, 0.0, 1.3649198269263605, 1.3380997753035329, 1.5718645766931383, 1.3373955248523755, 0.18706687867788008, 0.10780173934885075, 1.5696058095643552, 0.0] [22, 53, 41, 70, 0, 40, 42, 13, 8, 12, 11, 10, 9, 7, 6, 5, 1, 51, 74, 26, 45, 34, 29, 48, 19, 24, 27, 14, 33, 50, 47, 52, 4, 15, 46, 68, 16, 69, 71, 56, 37, 66, 57, 35, 30, 3, 28, 49, 17, 44, 39, 62, 38, 59, 58, 20, 23, 18, 31, 72, 54, 73, 43, 55, 21, 32, 60, 36, 25, 2, 61, 63, 64, 65, 67, 75]\n",
      "7.0\n",
      "----------------------------------------------------------------------------\n",
      "number of windows= 285 \n",
      "size of windows = 7\n",
      "[1.5455613379996396, 1.5455765544566056, 0.0, 1.1326453327208905, 1.4632488952391483, 1.5455596749840586, 1.5455606546734442, 1.5455605612307663, 1.5455606338726746, 1.5455608677265158, 1.545560867792377, 1.5455611044611837, 1.5455610121165397, 1.5455614867995027, 1.2144914234070787, 1.459040172077562, 1.3687645135950777, 0.9583663855214489, 0.21614966087627213, 1.4778034892681298, 0.08073365317747963, 0.11014927722787235, 1.5457961464662824, 0.05258667750204636, 1.5022959980284778, 0.05322430920178358, 1.5436612760490784, 1.502016232615503, 1.2520197593135451, 1.5085579319486286, 1.0377564271188928, 0.1594955756922537, 0.05333117586847061, 1.4936512349443956, 1.5304600403620547, 1.216579229343505, 0.05295813986237871, 1.4185498099591856, 0.8796326559258285, 1.0473618980145485, 1.545561337999785, 1.5460067598121732, 1.54556133799965, 0.11034529399563343, 1.0861669035073063, 1.540883444213172, 1.289307959792318, 1.3947802433572694, 1.479057817776451, 0.9537703870369414, 1.4661548620102267, 1.5452808919468153, 1.470218881734177, 1.5460693602997277, 0.08399797540122317, 0.07985096794922658, 1.3546544091933004, 1.3291175063388783, 0.0, 1.1856228607264763, 1.215092503142805, 0.07910784652074354, 0.8001588630696612, 0.8537813250875762, 0.026167254439576047, 0.026167254439576047, 1.2552125455737626, 0.0, 1.3761323435642991, 1.3836362995509315, 1.5456528192672454, 1.3154287852390416, 0.05498724397464823, 0.10770404923959265, 1.544010178779737, 0.0] [53, 41, 22, 70, 1, 13, 40, 42, 0, 11, 12, 10, 9, 6, 8, 7, 5, 51, 74, 26, 45, 34, 29, 24, 27, 33, 48, 19, 52, 50, 4, 15, 37, 47, 69, 68, 16, 56, 57, 71, 46, 66, 28, 35, 60, 14, 59, 3, 44, 39, 30, 17, 49, 38, 63, 62, 18, 31, 43, 21, 73, 54, 20, 55, 61, 72, 32, 25, 36, 23, 64, 65, 2, 58, 67, 75]\n",
      "8.0\n",
      "----------------------------------------------------------------------------\n",
      "number of windows= 285 \n",
      "size of windows = 7\n",
      "[1.571093078963838, 1.5708676766409209, 0.0, 1.0101552391488187, 1.3587888402959687, 1.5710930440515543, 1.5710934710568145, 1.5710933736111978, 1.5710925581689064, 1.5710926982983504, 1.5710925412236714, 1.5710924216784947, 1.5710921370651223, 1.5710917927634545, 1.2280545249845576, 1.3297238339877426, 1.3417805277284431, 0.8987271360672829, 0.2697353742169646, 1.4517184452287522, 0.6909085471989511, 0.13710159120317741, 1.5713188692496423, 0.18371508205650264, 1.4223436297726082, 0.0537925522545269, 1.5168283761747483, 1.4472767962882132, 1.2268704441075622, 1.5072593529236118, 1.0962038361027475, 0.15974369158345147, 0.02721113249331207, 1.426713472422775, 1.5322586386132284, 1.0997998866809164, 0.05258161205702204, 1.3907736235508938, 0.8234634817165858, 0.9683929385664566, 1.5710912269236919, 1.5454417331768295, 1.5710912269236288, 0.1631066555561726, 0.8946622245521487, 1.5400641341157637, 1.2630896591626275, 1.2320851057727369, 1.4752801074563116, 0.7961190789216606, 1.4158869706104937, 1.5708191401046647, 1.446814634137285, 1.545647720359395, 0.11075671332800688, 0.1325785479355996, 1.2313410254560386, 0.052595859529080885, 0.6604568055273063, 0.9392706618505717, 0.8303787405522091, 0.026279700925554948, 0.027419608585875804, 0.8882154343131519, 0.026527313818792038, 0.026527313818792038, 1.246936369689816, 0.0, 1.2866627541695543, 1.2853439362027461, 1.5709483195477256, 1.292033555561246, 0.794544428660416, 0.13479545704736862, 1.5692776458337343, 0.052634143656307725] [22, 6, 7, 0, 5, 9, 8, 10, 11, 12, 13, 40, 42, 70, 1, 51, 74, 53, 41, 45, 34, 26, 29, 48, 19, 27, 52, 33, 24, 50, 37, 4, 16, 15, 71, 68, 69, 46, 66, 47, 56, 14, 28, 35, 30, 3, 39, 59, 17, 44, 63, 60, 38, 49, 72, 20, 58, 18, 23, 43, 31, 21, 73, 55, 54, 25, 75, 57, 36, 62, 32, 64, 65, 61, 2, 67]\n",
      "9.0\n",
      "----------------------------------------------------------------------------\n",
      "number of windows= 200 \n",
      "size of windows = 10\n",
      "[1.5013641908816693, 1.4961088162964633, 0.0, 0.3987927449728862, 1.4770283138373694, 1.5013660773460598, 1.5013662573275184, 1.5013665420462339, 1.5013664570914376, 1.5013663542608493, 1.5013664689222712, 1.501366538270402, 1.5013665078374234, 1.5013660124828645, 1.3676988254521998, 1.4482205805784976, 1.489578732956949, 1.3899907708126231, 0.19009613380834992, 1.4777346120581174, 0.0, 0.11035670023179281, 1.5546071242139186, 1.433383388434208, 1.5379727235508174, 1.3245399505706532, 1.489515006225951, 1.5129262692226093, 1.3809355212764372, 1.5727616368995785, 1.444804345479674, 0.29471550802020885, 1.2065372180936775, 1.5952550685024838, 1.484338155664196, 1.0072465455603672, 0.05343657657079141, 1.4733848751582963, 0.0550432609703025, 0.027351966897942216, 1.5013664096365789, 1.501813145430131, 1.5013664096365178, 0.11031846104119082, 1.3642292674325165, 1.553871917915779, 1.5197042490428259, 1.4704281684987228, 1.484603145988434, 1.4683751649563301, 1.566472938771571, 1.5013772026826133, 1.4791099458584913, 1.5018316613812053, 0.1893147787482375, 0.43115164011630697, 1.5265013585785971, 1.1959343201545007, 0.0, 0.028055790512963263, 0.05573509301725442, 1.1005838819335598, 0.027679302504291157, 1.1461306098516804, 0.026386083535037894, 0.026386083535037894, 1.5194396890740551, 0.0, 1.52515551950449, 1.5261754782786476, 1.5014460418593079, 1.5132192119889214, 0.08317598827676738, 0.18866381409857577, 1.4998314069470742, 0.07893263649052847] [33, 29, 50, 22, 45, 24, 56, 69, 68, 46, 66, 71, 27, 53, 41, 70, 51, 7, 11, 12, 10, 8, 40, 42, 9, 6, 5, 13, 0, 74, 1, 16, 26, 48, 34, 52, 19, 4, 37, 47, 49, 15, 30, 23, 17, 28, 14, 44, 25, 32, 57, 63, 61, 35, 55, 3, 31, 18, 54, 73, 21, 43, 72, 75, 60, 38, 36, 59, 62, 39, 64, 65, 2, 20, 58, 67]\n",
      "0.0\n",
      "----------------------------------------------------------------------------\n",
      "number of windows= 200 \n",
      "size of windows = 10\n",
      "[1.4990155073649474, 1.4971036201419152, 0.0, 0.9587091986650945, 1.3997928909288597, 1.4990119548747507, 1.4990123609269272, 1.499013229868923, 1.4990129995300303, 1.4990133601154068, 1.4990135183304207, 1.4990131538717855, 1.499013486390335, 1.4990134780704412, 1.2068529700910213, 1.3954378812261456, 1.5181340418920304, 1.3817896171390927, 0.16346041605386155, 1.4820294469025508, 0.0, 0.13641010715597887, 1.5262897894834053, 1.405287226064212, 1.50908404606428, 1.2850742616594149, 1.4887606111547997, 1.4858797515214612, 1.3875922484520864, 1.5953682179424389, 1.4198192320013392, 0.2678332351276378, 1.1229109621520776, 1.539679859778737, 1.4565546287340312, 1.0860803334916782, 0.053547223475903946, 1.4968136155183387, 0.05529673861283437, 0.027627780147993938, 1.4990147513599965, 1.4997606153200993, 1.4990147513601275, 0.11021810678639186, 1.3904638839479238, 1.5251032047820638, 1.5416551463580026, 1.4944220252693845, 1.4782024529016127, 1.4654671029307142, 1.5359414108523763, 1.5249491118774718, 1.4496661732577076, 1.4997915233547543, 0.1894968848535638, 0.32655792340322043, 1.5257466574516705, 1.129260825461583, 0.0, 0.02781705360288057, 0.05496990434431906, 0.21056334765750306, 0.02715285074143849, 1.4011228660080355, 0.026263508913925645, 0.026263508913925645, 1.4931480639448813, 0.0, 1.4982009298667864, 1.4991256987055221, 1.499114793872872, 1.4889614791610628, 0.08279132097461311, 0.18830201920474282, 1.4964971576102304, 0.07882832188941845] [29, 46, 33, 50, 22, 56, 45, 51, 16, 24, 53, 41, 69, 70, 0, 42, 40, 10, 12, 13, 9, 7, 11, 8, 6, 5, 68, 1, 37, 74, 47, 66, 71, 26, 27, 19, 48, 49, 34, 52, 30, 23, 63, 4, 15, 44, 28, 17, 25, 14, 57, 32, 35, 3, 55, 31, 61, 54, 73, 18, 21, 43, 72, 75, 38, 60, 36, 59, 39, 62, 64, 65, 2, 20, 58, 67]\n",
      "1.0\n",
      "----------------------------------------------------------------------------\n",
      "number of windows= 200 \n",
      "size of windows = 10\n",
      "[1.4751692206780889, 1.4748681565483437, 0.0, 0.9832222558195605, 1.3533785051217813, 1.4751694762193046, 1.4751696368893443, 1.4751693987680974, 1.4751698614786228, 1.475169448700872, 1.47516963315492, 1.475169308085255, 1.4751694447121872, 1.4751693639993007, 1.3863724377805975, 1.3523104461964515, 1.440668915042945, 1.339630305752421, 0.2726105575728629, 1.402791867084106, 0.0, 0.110180686564217, 1.4762085119034474, 1.2137038025435642, 1.5147243723016415, 0.9791816163805729, 1.4926882616621076, 1.4594489211712014, 0.05422974371853574, 1.5233366891880473, 1.349804257820158, 0.3220588814649303, 0.2923169726943791, 1.5079372130478395, 1.4167515016216476, 1.1550587262975087, 0.02665544123298302, 1.4449261575379073, 0.054939754978309024, 0.027472691771584477, 1.4751692206780396, 1.4760651202093147, 1.4751692206780302, 0.057694270651539856, 1.2637187734057391, 1.4746104998562721, 1.4907924615959836, 1.4395157993611316, 1.462981113893788, 1.3684575150791238, 1.5120161059577415, 1.4927725036002117, 1.4833763456387294, 1.4761701992430214, 0.05771234681505248, 0.241332010458073, 1.4476244896910317, 1.1844941509631766, 0.0, 0.027869036781851955, 0.05557282610700932, 0.026212379321170366, 0.6844091100139442, 1.2965381614155378, 0.0, 0.0, 1.43670272700931, 0.0, 1.4463150353602021, 1.4474768045550424, 1.4752964186067812, 1.4642409480664047, 0.10861482074407332, 0.18880288395091266, 1.4730957676260685, 0.0] [29, 24, 50, 33, 51, 26, 46, 52, 22, 53, 41, 70, 8, 6, 10, 5, 9, 12, 7, 13, 11, 0, 40, 42, 1, 45, 74, 71, 48, 27, 56, 69, 68, 37, 16, 47, 66, 34, 19, 14, 49, 4, 15, 30, 17, 63, 44, 23, 57, 35, 3, 25, 62, 31, 32, 18, 55, 73, 21, 72, 54, 43, 60, 38, 28, 59, 39, 36, 61, 2, 20, 58, 64, 65, 67, 75]\n",
      "2.0\n",
      "----------------------------------------------------------------------------\n",
      "number of windows= 200 \n",
      "size of windows = 10\n",
      "[1.4767997584542276, 1.4743601777765412, 0.0, 1.305403576276803, 1.344681377354255, 1.4767977356315334, 1.47679721213019, 1.476797353834154, 1.476797532371194, 1.476797370428871, 1.4767973719926415, 1.476797554541477, 1.4767974155512864, 1.4767980150273037, 1.2100920248248046, 1.3193435458142484, 1.4265553818375523, 1.1544879180071415, 0.4074802041410372, 1.4302445671115303, 0.05318881054899645, 0.11084126992616689, 1.4772314861204794, 1.153999629945271, 1.5404096434293852, 0.08139346111353668, 1.44625641297086, 1.408176484587976, 0.08090793979375485, 1.524565725714507, 1.4232282434106147, 0.3758706430611987, 0.26546005332302397, 1.5110829078859496, 1.4186417969079943, 1.2179385840286385, 0.026867953739401748, 1.4447929060154792, 0.08156075000645273, 0.02771855453179632, 1.4767974396089865, 1.477459178225271, 1.4767974396088923, 0.08435070099015776, 1.3058672529623339, 1.450015574891084, 1.4937271602975437, 1.4560798905687016, 1.4373698415728609, 1.332012568455477, 1.4628168331593456, 1.4680203644119154, 1.510930543832449, 1.4779207516701698, 0.11098238424764731, 0.21550621061892894, 1.4657175495074866, 1.4243371836920908, 0.026300490914522048, 0.026821017398282992, 0.6882238972228869, 0.0, 0.10716632725633471, 1.2966974279623602, 0.5519759409733153, 0.0, 1.3823482962728106, 0.0, 1.4215680853167427, 1.452046796114067, 1.4768944070355683, 1.3936707032000473, 0.05614297247210864, 0.16408929691020013, 1.5009391721499363, 0.026277815953336656] [24, 29, 33, 52, 74, 46, 53, 41, 22, 70, 0, 13, 5, 11, 8, 40, 42, 12, 10, 9, 7, 6, 1, 51, 56, 50, 47, 69, 45, 26, 37, 48, 19, 16, 57, 30, 68, 34, 27, 71, 66, 4, 49, 15, 44, 3, 63, 35, 14, 17, 23, 60, 64, 18, 31, 32, 55, 73, 54, 21, 62, 43, 38, 25, 28, 72, 20, 39, 36, 59, 58, 75, 2, 61, 65, 67]\n",
      "3.0\n",
      "----------------------------------------------------------------------------\n",
      "number of windows= 200 \n",
      "size of windows = 10\n",
      "[1.4483936738806735, 1.4458381338684094, 0.026147057408086316, 0.7992041569249825, 1.3466303830143358, 1.448395069246949, 1.4483952288636903, 1.448396167528876, 1.448395449087664, 1.4483953139988393, 1.4483961455279208, 1.4483951614159583, 1.4483949639959066, 1.4483953944262322, 1.2868427169167769, 1.2946985484050169, 1.3658752785504449, 1.2442381509779972, 0.35635618485795795, 1.3967424010204275, 0.05352023909434192, 0.11060458294767642, 1.4488938200640276, 0.9617017898059665, 1.4325588512430434, 0.08103788307329568, 1.4425630453985623, 1.402333518818739, 0.054082205182550754, 1.4161660529612234, 1.3917724032434426, 0.3495296788889468, 0.053661994449813843, 1.4270010677092153, 1.3870085630546496, 1.1914550311977259, 0.026505499564155263, 1.4388427723237116, 0.0547792649172916, 0.054036462590105167, 1.4483936738807603, 1.449032866521733, 1.4483936738806618, 0.0845452485436932, 1.2538055784413114, 1.4471191671353778, 1.4373500993133772, 1.3947334943447824, 1.4319969437100304, 1.286438913481898, 1.4882858311097782, 1.4413560132796248, 1.402582701850654, 1.4492043304115476, 0.1107504669742644, 0.10838927600524408, 1.3164317992945367, 0.0, 0.052758642886165524, 0.028097245469003853, 0.13411477217607187, 0.0, 0.05362608198542898, 1.2241762297057819, 0.6082836450797767, 1.0054709315398258, 1.3642992640158673, 0.052878936544548144, 1.4038214735737498, 1.3978643480439323, 1.4486755570366159, 1.4021432932403342, 0.05628193394444203, 0.13570636448377224, 1.445691102519298, 0.02628291107755517] [50, 53, 41, 22, 70, 7, 10, 8, 13, 9, 6, 11, 5, 12, 40, 0, 42, 45, 1, 74, 26, 51, 37, 46, 24, 48, 33, 29, 68, 52, 27, 71, 69, 19, 47, 30, 34, 16, 66, 4, 56, 15, 14, 49, 44, 17, 63, 35, 65, 23, 3, 64, 18, 31, 73, 60, 54, 21, 55, 43, 25, 72, 38, 28, 39, 32, 62, 20, 67, 58, 59, 36, 75, 2, 57, 61]\n",
      "4.0\n",
      "----------------------------------------------------------------------------\n",
      "number of windows= 200 \n",
      "size of windows = 10\n",
      "[1.655204436487681, 1.6806717444889738, 0.0, 0.18655739620343395, 1.3814230727597185, 1.6552035055710816, 1.6552044159154573, 1.6552039135121521, 1.6552048329650688, 1.6552040886453374, 1.6552044798213568, 1.655204689413586, 1.6552044424717351, 1.6552042446068718, 0.8747338371437555, 1.4086193548135386, 1.4632152218387537, 1.2147915913427072, 0.9140784392405347, 1.388716900703196, 0.5809731839104301, 0.1628740600675564, 1.6023905530805571, 0.8781266514371104, 1.5062316077704905, 0.08079065295708596, 1.6232460664581398, 1.4472853513978783, 1.0233134452764054, 1.5640631993168594, 1.3371181136771333, 1.0077127651606177, 0.027146654819252387, 1.5618095998948507, 1.5127043887471252, 1.2514021794064356, 0.0, 1.4001621034985239, 0.794518050276557, 0.963554507889899, 1.6552044937899708, 1.6818780258355337, 1.6552044937900163, 0.2153463697370367, 0.9749661879801557, 1.626885479319393, 1.404749407848264, 1.3514765149530803, 1.4487737357954598, 1.2126145707854654, 1.5131033553076862, 1.6783305548333072, 1.368625330052436, 1.6296267462739327, 0.11058603585401867, 0.13412515324307586, 1.291068631990187, 0.7429680037917229, 0.02635179745076265, 0.742995325596954, 1.0088021892541, 0.05253960661373561, 1.4388087238623455, 0.5784437139557836, 0.026248852598024536, 0.026248852598024536, 1.2507905989887507, 0.027403238331625224, 1.2632845672826933, 1.2531520127749014, 1.6814000581476845, 1.4665831126530244, 0.7967406659200569, 0.055989847921479055, 1.5997382103844897, 0.052561059393430934] [41, 70, 1, 51, 8, 11, 42, 40, 10, 12, 0, 6, 13, 9, 7, 5, 53, 45, 26, 22, 74, 29, 33, 50, 34, 24, 71, 16, 48, 27, 62, 15, 46, 37, 19, 4, 52, 47, 30, 56, 68, 69, 35, 66, 17, 49, 28, 60, 31, 44, 39, 18, 23, 14, 72, 38, 59, 57, 20, 63, 43, 3, 21, 55, 54, 25, 73, 75, 61, 67, 32, 58, 64, 65, 2, 36]\n",
      "5.0\n",
      "----------------------------------------------------------------------------\n",
      "number of windows= 200 \n",
      "size of windows = 10\n",
      "[1.628708070028786, 1.6286221818442184, 0.6314304762032303, 1.2180873188777548, 1.4248362364290839, 1.6287040589887543, 1.6287043373417833, 1.6287047952522813, 1.6287057280935073, 1.6287057815765678, 1.6287057957378177, 1.628706370036043, 1.6287064783902758, 1.6287068305682855, 1.4534695916827602, 1.3994611549033396, 1.4698804438296087, 1.2114857542395225, 1.049308308389308, 1.4433490548433225, 0.5786232733815789, 0.0839764900337702, 1.628852354406562, 0.9308015531664048, 1.5340679571708922, 0.08110814621429989, 1.5961383466222627, 1.5237778207284103, 1.0462201039112493, 1.514580310592412, 1.4663190923091163, 0.9826340830288497, 0.02718668793330052, 1.5858433137875498, 1.5387079303010653, 1.364890164350972, 0.0, 1.4286885599351224, 0.18733513844243357, 0.8251458919209607, 1.6287080700288419, 1.6292055085683066, 1.6287080700287981, 0.08401507848844317, 1.0862891129752508, 1.6014216834285868, 1.45646802126439, 1.430075149162401, 1.4202915790604587, 1.1818864569907643, 1.5657184170165102, 1.598559242893742, 1.4480366609252424, 1.6294177681980762, 0.11043146170028342, 0.13376542144387182, 1.400356955145919, 0.05256536855173674, 0.0, 1.3936541692815123, 1.2101465357812318, 0.7970892895151261, 1.1246617188647, 0.05270720288084704, 0.026287062814873745, 0.026287062814873745, 1.2786590520367336, 0.0, 1.3410140607021037, 1.3703660269066207, 1.6288218663837388, 1.4664471302611928, 0.10870666015939418, 0.13420560552989969, 1.6259634775700178, 0.0] [53, 41, 22, 70, 40, 42, 0, 13, 12, 11, 10, 9, 8, 7, 6, 5, 1, 74, 45, 51, 26, 33, 50, 34, 24, 27, 29, 16, 71, 30, 46, 14, 52, 19, 47, 37, 4, 48, 56, 15, 59, 69, 35, 68, 66, 3, 17, 60, 49, 62, 44, 18, 28, 31, 23, 39, 61, 2, 20, 38, 73, 55, 54, 72, 43, 21, 25, 63, 57, 32, 64, 65, 36, 58, 67, 75]\n",
      "6.0\n",
      "----------------------------------------------------------------------------\n",
      "number of windows= 200 \n",
      "size of windows = 10\n",
      "[1.6036685838550155, 1.601545081645063, 0.026214786625391395, 1.1955866925082579, 1.318193982216141, 1.6036687743649731, 1.6036686637229982, 1.6036686813181562, 1.6036686832515052, 1.6036686560081534, 1.603668615136929, 1.6036686405165392, 1.6036686238134965, 1.6036686268511202, 1.4363806289871952, 1.3154941604284411, 1.344315239805066, 0.9676949819077127, 0.3271346913232748, 1.4738570360091916, 0.5296009643479412, 0.16338825313669145, 1.5251705416113406, 0.6819425073704306, 1.5058699971040026, 0.02734479301824267, 1.6003516914587, 1.5072444228278976, 1.2280886393500325, 1.5411927889760255, 1.1533970275340706, 0.26560243409551154, 0.027028769766826076, 1.491504570198453, 1.5359831752063977, 1.1622511607428379, 0.026322890165389554, 1.375948029253175, 0.9351179193515226, 0.9706568090575477, 1.603668583854932, 1.5778010246549266, 1.6036685838549414, 0.6366095489091463, 1.169248516134143, 1.5466807427760711, 1.3787782330237182, 1.376024602176421, 1.478690056731694, 0.9041641862818071, 1.4527264115682725, 1.6025667292548986, 1.5075424924182255, 1.577824221959257, 0.11136177501098965, 0.0806534121897853, 1.3803244006254443, 1.294124718058733, 0.910998556019496, 0.8795275005064805, 0.027052291506684763, 0.0, 0.9917429437177236, 0.0, 0.026210379852068314, 0.0, 1.276094530204166, 0.0, 1.3481544374098562, 1.348740874473993, 1.6041884041308017, 1.3136938797179079, 0.08222556958791305, 0.13472502872830777, 1.627928712800799, 0.0] [74, 70, 5, 8, 7, 6, 9, 11, 13, 12, 10, 0, 42, 40, 51, 1, 26, 53, 41, 45, 29, 34, 22, 52, 27, 24, 33, 48, 19, 50, 14, 56, 46, 47, 37, 69, 68, 16, 4, 15, 71, 57, 66, 28, 3, 44, 35, 30, 62, 39, 17, 38, 58, 49, 59, 23, 43, 20, 18, 31, 21, 73, 54, 72, 55, 25, 60, 32, 36, 2, 64, 61, 63, 65, 67, 75]\n",
      "7.0\n",
      "----------------------------------------------------------------------------\n",
      "number of windows= 200 \n",
      "size of windows = 10\n",
      "[1.6032606026839775, 1.6032723725977565, 0.0, 1.1416501676371529, 1.4591134860214177, 1.6032613674895257, 1.6032612563012734, 1.603260813077366, 1.6032608328351414, 1.603261155915873, 1.6032608091834584, 1.6032609185844982, 1.6032611772579688, 1.6032608955808676, 1.0678859179333942, 1.4012557120191964, 1.3273142432711595, 0.9972570645253447, 0.27179367414878436, 1.5319112801341441, 0.7147355629379483, 0.11117116499822872, 1.5766979345074925, 0.315343523737241, 1.5339325561127706, 0.05378293573412101, 1.6275054661890556, 1.5611291055837433, 1.2880769407170916, 1.595749720832613, 0.8770471558310564, 0.1864347385890957, 0.027283578786441838, 1.5270363203364812, 1.561531148058924, 1.1872469962098764, 0.026428188866227685, 1.455339988578173, 1.0728699336402858, 1.0808000822091874, 1.6032606026839207, 1.6034992692159147, 1.6032606026838947, 0.7705035157408892, 1.1418739885730669, 1.5723306348416317, 1.324241039435699, 1.2935466979177463, 1.4813910109149173, 0.9020893692008353, 1.4737880559500047, 1.6553970113847996, 1.5883020914285293, 1.629683549146203, 0.1899707182169319, 0.18499551616784163, 1.3852114670815918, 1.2797123887167876, 0.0, 1.1923001617213937, 1.1400897969827946, 0.05314250059254008, 0.8093105453849125, 0.9146441011337515, 0.07850404227228058, 0.02616849853970042, 1.2830160444412169, 0.0, 1.4072822070693478, 1.3601765533343244, 1.629573496162486, 1.3490237693343676, 0.08193203437425835, 0.16140088618397513, 1.6284673662985187, 0.0] [51, 53, 70, 74, 26, 41, 1, 5, 6, 12, 9, 11, 13, 8, 7, 10, 0, 40, 42, 29, 52, 22, 45, 34, 27, 24, 19, 33, 48, 50, 4, 37, 68, 15, 56, 69, 71, 16, 46, 47, 28, 66, 57, 59, 35, 44, 3, 60, 39, 38, 14, 17, 63, 49, 30, 62, 43, 20, 23, 18, 54, 31, 55, 73, 21, 72, 64, 25, 61, 32, 36, 65, 2, 58, 67, 75]\n",
      "8.0\n",
      "----------------------------------------------------------------------------\n",
      "number of windows= 200 \n",
      "size of windows = 10\n",
      "[1.628826322026272, 1.6283399071685438, 0.0, 1.123905466260149, 1.382787030388132, 1.6288241848767075, 1.6288252253284512, 1.6288248614336127, 1.628823803518221, 1.6288242068301284, 1.6288238735612475, 1.6288237593289878, 1.6288236296835719, 1.628823365427239, 1.274305542101189, 1.3523299892281289, 1.3520854728517235, 1.0153043019742996, 0.3249752179608528, 1.4788318530132287, 0.7754830113124287, 0.13823915596018943, 1.5761239740631199, 0.6036988887381474, 1.4789429858959704, 0.054134593495056005, 1.626667518232753, 1.559529302356385, 1.292552923643046, 1.5406673535166688, 0.9583211404709155, 0.16175987107613185, 0.027051597943263027, 1.4511553720301105, 1.5086003843659241, 1.0708728751685572, 0.02645827556867372, 1.4018795171644292, 0.9895364165509628, 1.1619392957511725, 1.628822401267111, 1.6027594240566398, 1.6288224012670394, 0.7447288112587163, 1.1133622506286827, 1.5449205788845835, 1.2708498856458534, 1.2647674918549994, 1.4781631884073296, 0.7402775382685741, 1.3938345718273504, 1.6284981880146427, 1.612624617481911, 1.6028402307853746, 0.19048326657020642, 0.15958613273105277, 1.3182186197354353, 0.052917610013754626, 0.5772109491726461, 1.0224442543489443, 0.8622959445889684, 0.07904172446806501, 0.027465144762476235, 0.9499351078081997, 0.02673849921246145, 0.6058706120148404, 1.3078680665714415, 0.0, 1.2932991933684324, 1.318138594462583, 1.6286298013286988, 1.3245839256548204, 0.21407650755618401, 0.16236173680597593, 1.6281004175408103, 0.05275800929337101] [0, 6, 7, 9, 5, 10, 8, 11, 12, 13, 40, 42, 70, 51, 1, 74, 26, 52, 53, 41, 22, 27, 45, 29, 34, 24, 19, 48, 33, 37, 50, 4, 15, 16, 71, 56, 69, 66, 68, 28, 14, 46, 47, 39, 3, 44, 35, 59, 17, 38, 30, 63, 60, 20, 43, 49, 65, 23, 58, 18, 72, 54, 73, 31, 55, 21, 61, 25, 57, 75, 62, 32, 64, 36, 2, 67]\n",
      "9.0\n",
      "----------------------------------------------------------------------------\n",
      "number of windows= 66 \n",
      "size of windows = 30\n",
      "[1.5862655018780394, 1.4796818824138602, 0.0, 1.0328818311314638, 1.3990266689968847, 1.586274928176222, 1.586275688731139, 1.5862775312202004, 1.5862812519510234, 1.5862810137562602, 1.5862842634416632, 1.5862811749696217, 1.5862802089750472, 1.5862783372367928, 0.7889292311467526, 1.3980862543945265, 1.5678061591730628, 1.4423256660413097, 0.24949598840610612, 1.525061585274854, 0.02681635367914472, 0.4562339184659194, 1.559743314011447, 1.4586601525275562, 1.5805496618403978, 1.3993652742895737, 1.5518981466828712, 1.5406157224750847, 1.5144589055869828, 1.6383811705149043, 1.553758111871316, 0.4647750581502418, 0.24000493405848844, 1.6634316047540816, 1.4960346694717992, 1.2086391703970185, 0.0, 1.4751574299324561, 0.05675665147005083, 0.08235995756824281, 1.5862853326169466, 1.5600371441746133, 1.5862853326169621, 0.7975830713453762, 1.5212768629373663, 1.559908262560213, 1.4919567559061444, 1.5606281250346206, 1.399621979116442, 1.5606251579693933, 1.602011592189318, 1.6128568610221803, 1.651711309396604, 1.5598543416824295, 1.1920388404330506, 1.0282441095809238, 1.560644898027971, 1.3659159190274885, 0.0, 0.028607451057350738, 0.05689626940311453, 1.2802079619048043, 0.028288818345763793, 1.229667961723007, 0.026660147647056782, 0.026660147647056782, 1.5554876497614227, 0.0, 1.5858165674693678, 1.5863204072464514, 1.586625872668165, 1.5719853636879295, 0.08347017893373752, 0.22122168135434303, 1.585093019840353, 0.11002211171823573] [33, 52, 29, 51, 50, 70, 69, 42, 40, 10, 8, 11, 9, 12, 13, 7, 6, 5, 0, 68, 74, 24, 71, 16, 56, 47, 49, 41, 45, 53, 22, 66, 30, 26, 27, 19, 44, 28, 34, 46, 1, 37, 23, 17, 48, 25, 4, 15, 57, 61, 63, 35, 54, 3, 55, 43, 14, 31, 21, 18, 32, 73, 75, 72, 39, 60, 38, 59, 62, 20, 64, 65, 2, 36, 58, 67]\n",
      "0.0\n",
      "----------------------------------------------------------------------------\n",
      "number of windows= 66 \n",
      "size of windows = 30\n",
      "[1.6361642979110687, 1.6356450470574853, 0.6299801095442377, 1.090976842912261, 1.4079266079894974, 1.6361504656271018, 1.6361505069459688, 1.6361510833197572, 1.6361532181172196, 1.636151773573705, 1.6361515779200957, 1.6361495856257977, 1.636151977465877, 1.6361501071199915, 0.0, 1.4039102124451421, 1.5802187125220097, 1.4339595179372555, 0.2488750387007918, 1.548145827513825, 0.02692598783867201, 0.9630246703867896, 1.5829529072492767, 1.4563571654278082, 1.5542455303181661, 1.4118850583433238, 1.6523553253504755, 1.5650021320461718, 1.4721870186329837, 1.5838696861784065, 1.5523578676352907, 0.5177936286168693, 0.2135852857389473, 1.660300209011527, 1.4682656976584787, 1.122683385080912, 0.0, 1.4728950090428587, 0.05678284336544302, 0.08270774192351724, 1.6361522327512574, 1.6094938715567262, 1.6361522327512903, 1.044962442391413, 1.5161778257536476, 1.5822600032734415, 1.4596643168507302, 1.58445283657042, 1.325727126142526, 1.5306850634394056, 1.5415504558363249, 1.662649700445456, 1.580860615335989, 1.6089528273632678, 1.1511466150064238, 1.056022682720517, 1.584903611269774, 1.439325341504062, 0.07859403734875986, 0.028521510031756705, 0.7449607503818343, 0.9043190460475858, 0.027856966728505454, 1.4417709476004457, 0.026719493151249236, 0.026719493151249236, 1.5811024707762638, 0.0, 1.636791178491692, 1.637156686471229, 1.6363035361725156, 1.6046517586197935, 0.08307439114958544, 0.22073738946499266, 1.609223964412265, 0.10950912787576798] [51, 33, 26, 69, 68, 70, 0, 8, 42, 40, 12, 9, 10, 7, 6, 5, 13, 11, 1, 41, 74, 53, 71, 56, 47, 29, 22, 45, 66, 52, 16, 27, 24, 30, 19, 50, 49, 44, 37, 28, 34, 46, 23, 63, 57, 17, 25, 4, 15, 48, 54, 35, 3, 55, 43, 21, 61, 60, 2, 31, 18, 73, 32, 75, 72, 39, 58, 38, 59, 62, 20, 64, 65, 14, 36, 67]\n",
      "1.0\n",
      "----------------------------------------------------------------------------\n",
      "number of windows= 66 \n",
      "size of windows = 30\n",
      "[1.5614616723367782, 1.561357073955544, 0.0, 1.218554480140634, 1.2838441441130037, 1.561459368013118, 1.561458955414631, 1.5614595534213067, 1.5614588883302767, 1.5614597064784592, 1.5614602865758536, 1.5614591957320003, 1.5614594862451165, 1.561460069878193, 1.1394756955213223, 1.2867640484140013, 1.501433437134748, 1.4025993824061358, 0.2793755524011601, 1.5479248957546003, 0.052850316652644294, 0.325017279162467, 1.5349426384193068, 1.2901443752280641, 1.5811126529598136, 1.1461836750981798, 1.4924486902329104, 1.5932369959339252, 0.1339053789188552, 1.6168487492253374, 1.4242656741568367, 0.5984228355480571, 1.0393940547391196, 1.6888679897954764, 1.5293800163923712, 1.160596850907755, 0.05273422266018604, 1.5294928268060595, 0.056968521535837306, 0.8204165106737662, 1.5614616723368635, 1.535097479522051, 1.5614616723368975, 0.3510151559988308, 1.4702751292720138, 1.5611353037111424, 1.548552409719533, 1.5000460981561348, 1.4789575948578715, 1.4642999613427565, 1.604984921254367, 1.5541198315164468, 1.6887624251047058, 1.535152486585943, 0.852630998345663, 0.3279922060610225, 1.5342970191617624, 1.3593747449613647, 0.0, 0.028571637240908547, 0.0833851411472577, 0.052695673169971424, 1.0463710012020115, 1.449269749515503, 0.0, 0.0, 1.474682338531756, 0.0, 1.5341414034207046, 1.5078699818778136, 1.5616586402463428, 1.4961271586691014, 0.10940333970560565, 0.24826291206589673, 1.612591411142497, 0.1338637946311908] [33, 52, 29, 74, 50, 27, 24, 70, 42, 40, 0, 10, 13, 9, 7, 12, 5, 11, 6, 8, 1, 45, 51, 46, 19, 53, 41, 22, 56, 68, 37, 34, 69, 16, 47, 71, 26, 48, 66, 44, 49, 63, 30, 17, 57, 23, 15, 4, 3, 35, 25, 14, 62, 32, 54, 39, 31, 43, 55, 21, 18, 73, 28, 75, 72, 60, 38, 20, 36, 61, 59, 2, 58, 64, 65, 67]\n",
      "2.0\n",
      "----------------------------------------------------------------------------\n",
      "number of windows= 66 \n",
      "size of windows = 30\n",
      "[1.564091138194601, 1.5628886530194412, 0.02615661273346615, 1.3226406941829625, 1.0671253450671274, 1.564090212711194, 1.5640901390318167, 1.5640909135489296, 1.5640913274066757, 1.5640910516254645, 1.5640912036519277, 1.5640916554248387, 1.5640915042736396, 1.5640920509616973, 0.0, 1.0972818166794924, 1.4362272686431874, 1.3340973453307152, 0.4948707784779851, 1.493627582571017, 0.1602170632027553, 0.246051917826196, 1.5898458473267993, 1.192332822754079, 1.555297207846896, 1.1225514188766006, 1.4910137690402874, 1.4886493844497977, 0.1620359684624929, 1.592088454140027, 1.395306722245333, 0.6487300009237547, 0.8781447772821448, 1.5851211203683757, 1.588255563103881, 1.1897390596374744, 0.614940653455485, 1.4797980669322894, 0.638206045401585, 0.295476849866245, 1.5640922102635542, 1.564252499253673, 1.5640922102634947, 0.2195832375929192, 1.2733806076496914, 1.5891122870060512, 1.6037267208803236, 1.462997928324029, 1.3947088062001602, 1.4940585983691164, 1.6113768515289228, 1.6047667550331517, 1.6319631417069604, 1.5644509364806152, 0.43180461982312174, 0.2753826901313946, 1.5074681494062385, 1.4310758499001768, 0.027361345555093307, 0.7620250015250668, 0.8387229070218754, 0.21272899520296643, 0.1340987093240356, 1.3284669041165136, 0.0, 0.0, 1.30367914612475, 0.0, 1.4273646081528535, 1.3825575194211819, 1.564397579965212, 1.4535716261469018, 0.11098018017801242, 0.2753547351268135, 1.5348956857060667, 0.10647977742021321] [52, 50, 51, 46, 29, 22, 45, 34, 33, 53, 70, 41, 40, 42, 13, 11, 12, 8, 10, 0, 9, 7, 5, 6, 1, 24, 74, 56, 49, 19, 26, 27, 37, 47, 71, 16, 57, 68, 30, 48, 69, 17, 63, 3, 66, 44, 23, 35, 25, 15, 4, 32, 60, 59, 31, 38, 36, 18, 54, 39, 55, 73, 21, 43, 61, 28, 20, 62, 72, 75, 58, 2, 14, 64, 65, 67]\n",
      "3.0\n",
      "----------------------------------------------------------------------------\n",
      "number of windows= 66 \n",
      "size of windows = 30\n",
      "[1.5636297935879948, 1.5888922779878532, 0.10479023145468924, 1.0816337871643678, 1.155205756376187, 1.5636321108322022, 1.5636317629106644, 1.563632504959817, 1.5636323568743102, 1.5636317221982725, 1.5636325397573188, 1.5636313942709457, 1.563631633010976, 1.5636318428553901, 0.0, 1.185789271704193, 1.3512324140879965, 1.2174325356564684, 0.5755228811762645, 1.5191899731360319, 0.6060432845130963, 0.19364924853182025, 1.5104439214622436, 1.2183597774981263, 1.6584770722178384, 0.13547785473609056, 1.4159703308131366, 1.4480348342289613, 0.1070963293141931, 1.6173470454633259, 1.4732557345239679, 0.5166785875060667, 0.10676763917805408, 1.6384879656185516, 1.5269128377910783, 1.211829512937622, 0.0, 1.4223918572426801, 0.1888232228346452, 0.8226194965265498, 1.5636297935880423, 1.4843296639692982, 1.5636297935881251, 0.8841006196273455, 1.3199958355260124, 1.5360995341728236, 1.4721699473048673, 1.3425535995468525, 1.2802520990116375, 1.3651647724946412, 1.5043882207482209, 1.5318305498792546, 1.636581849024337, 1.4843285701989093, 0.9106472998541043, 0.3027746572417398, 1.4673832091984909, 0.052590369040335344, 0.6846655893359244, 0.028838948592726277, 0.29805806432194465, 0.13250257534260945, 0.16094884053701886, 1.2628214208707755, 0.72496893908672, 0.10561191400605285, 1.373409128357085, 0.6866388067052673, 1.543380657210582, 1.4629034704733568, 1.5900994843313492, 1.442961273396342, 0.3220517163030058, 0.3015146342157132, 1.562706609565375, 0.13445157999056576] [24, 33, 52, 29, 70, 1, 10, 7, 8, 5, 13, 6, 9, 12, 11, 42, 40, 0, 74, 68, 45, 51, 34, 19, 22, 50, 41, 53, 30, 46, 56, 69, 27, 71, 37, 26, 66, 49, 16, 47, 44, 48, 63, 23, 17, 35, 15, 4, 3, 54, 43, 39, 64, 67, 58, 20, 18, 31, 72, 55, 73, 60, 21, 38, 62, 25, 75, 61, 28, 32, 65, 2, 57, 59, 14, 36]\n",
      "4.0\n",
      "----------------------------------------------------------------------------\n",
      "number of windows= 66 \n",
      "size of windows = 30\n",
      "[1.6953969246879657, 1.6948748316113038, 0.0, 0.2948229688516944, 1.2796808147607694, 1.6953901854594295, 1.695391109014687, 1.6953927654305758, 1.6953925718835225, 1.695394473389864, 1.6953939005344756, 1.695393812886154, 1.6953951348350633, 1.6953957967937514, 0.0, 1.3940551273551416, 1.5047147921379036, 1.2266041329433932, 1.271946158823503, 1.6478095329088012, 1.0549090309460427, 0.7215393769019092, 1.5632009118679835, 1.1340308212147938, 1.6031077536526548, 0.10929421449422769, 1.5256004083969161, 1.3520326863963847, 1.2835575230189677, 1.6111340513304793, 1.347213592894542, 0.5666923205780989, 0.053324638784333286, 1.7164355389301689, 1.521221222698958, 1.270369778915569, 0.05260900621843363, 1.4626047150896635, 1.2537894748137366, 1.193391583432412, 1.6953977591493659, 1.5640120834310958, 1.6953977591496063, 0.9078236557305165, 0.9833346005348671, 1.58915728946617, 1.4662400997231213, 1.2903974872824986, 1.29539055851884, 1.201978207350315, 1.6399838999955672, 1.6936623669669137, 1.5807222753822465, 1.5638983287810022, 0.7188404423682586, 0.3020247786508137, 1.3037271609505006, 1.1580941837004002, 0.026825002994980057, 0.8344456986678842, 0.24271137739843007, 0.7728058442702366, 1.5554511499614136, 0.7951705070094932, 0.026181713392250793, 0.026181713392250793, 1.1714226655681317, 0.712759333953755, 1.2055675583584056, 1.1774864318654552, 1.6952367579570724, 1.5071641821651538, 0.24445440940157265, 0.38073706767094473, 1.6168061057449554, 0.18694852108920007] [33, 42, 40, 0, 13, 12, 9, 10, 11, 7, 8, 6, 5, 70, 1, 51, 19, 50, 74, 29, 24, 45, 52, 41, 53, 22, 62, 26, 34, 71, 16, 46, 37, 15, 27, 30, 56, 48, 47, 28, 4, 18, 35, 38, 17, 68, 49, 39, 69, 66, 57, 23, 20, 44, 43, 59, 63, 61, 21, 54, 67, 31, 73, 55, 3, 72, 60, 75, 25, 32, 36, 58, 64, 65, 2, 14]\n",
      "5.0\n",
      "----------------------------------------------------------------------------\n",
      "number of windows= 66 \n",
      "size of windows = 30\n",
      "[1.7192436224211611, 1.7194394400541502, 0.6832747893715765, 1.3445275222299975, 1.1872892905738017, 1.7192438200597266, 1.7192458307374812, 1.719244994859449, 1.7192461233391036, 1.719243105162574, 1.7192441172267778, 1.7192427092373368, 1.7192461878805174, 1.7192439074321024, 1.1272932367739932, 1.1928877197115928, 1.5089609739886762, 1.1756606103010179, 1.4282303133048355, 1.6428711255639399, 1.1334813049962065, 0.24565230323514287, 1.6923500817550057, 1.1829402735947887, 1.6786636461399478, 0.08214232366944157, 1.5743472977764283, 1.4015918211157734, 1.410957807382364, 1.6875194032014451, 1.363928989101582, 0.7276542450708264, 0.026967337140179827, 1.6848451959047297, 1.5963079588763538, 1.32809039751885, 0.02636376801985781, 1.5703344479855479, 1.0302448635714951, 1.0767450605305064, 1.7192436224211785, 1.6924422096671714, 1.7192436224212682, 0.8553013746645128, 1.1729687806863838, 1.6665489765522217, 1.571661425710715, 1.2869329956539302, 1.417545566595987, 1.0555663039962142, 1.7169951916503647, 1.7171978248386108, 1.6845660166828464, 1.6399926366140019, 0.7435718987953794, 0.328857026913597, 1.4066709643989521, 0.13230681888961326, 0.0, 1.4231973476036126, 1.2596149997583965, 1.0047011408092914, 1.3029093777709613, 0.7907203454127173, 0.026960149032380233, 0.026960149032380233, 1.1694052406436204, 0.0, 1.2843445542346346, 1.282627583608579, 1.7192852828858933, 1.5311578685324692, 0.13610735642053057, 0.4068257923722507, 1.7193978161839865, 0.16001534071975498] [1, 74, 70, 12, 8, 6, 7, 10, 13, 5, 42, 40, 0, 9, 11, 51, 50, 41, 22, 29, 33, 52, 24, 45, 19, 53, 34, 26, 46, 37, 71, 16, 18, 59, 48, 28, 56, 27, 30, 3, 35, 62, 47, 68, 69, 60, 15, 4, 23, 17, 44, 66, 20, 14, 39, 49, 38, 61, 43, 63, 54, 31, 2, 73, 55, 21, 75, 72, 57, 25, 32, 64, 65, 36, 58, 67]\n",
      "6.0\n",
      "----------------------------------------------------------------------------\n",
      "number of windows= 66 \n",
      "size of windows = 30\n",
      "[1.6131214301553398, 1.6377096779961908, 0.07879775125401427, 1.2799827167377051, 1.2998348379113729, 1.6131175330241028, 1.613120984040055, 1.6131211385121016, 1.6131194367858472, 1.613121051089781, 1.613121672107447, 1.6131211707089892, 1.613120812650506, 1.6131204227942617, 1.1876395239599289, 1.3000980097699624, 1.4165982720080985, 1.1410817128797766, 0.41487001815185076, 1.5594452935149683, 1.192111241448355, 0.21904670359361578, 1.585162325634862, 0.9331724909761939, 1.6460071387414161, 0.1615639273712975, 1.5815318938007263, 1.5648809720775396, 1.445490179194693, 1.6579706685488178, 0.49177628255250005, 0.45815280945676545, 0.05287732526621483, 1.5862797378027846, 1.514485985501673, 1.1993744720657205, 0.0, 1.467912776720728, 1.2542654621369198, 1.3289341654285476, 1.6131214301554841, 1.5862113237977777, 1.6131214301555135, 1.0239229992280359, 1.1836086436730988, 1.5295780011477877, 1.5125085285902475, 1.4570790806090224, 1.4916117280070422, 0.9076600430127353, 1.5711384406715132, 1.61232880982044, 1.63195278723701, 1.5861542919788263, 0.7216033002513113, 0.16411816998299525, 1.4386528501078992, 1.4499175607805923, 1.1072241662233457, 0.8991457653352493, 0.08018342257433987, 0.18598595905269288, 1.1845892531217692, 0.26462293073179055, 0.026178387203272296, 0.0, 1.2769985789999232, 0.05278374393591838, 1.2889545922140042, 1.3180199009266274, 1.6137017689253943, 1.4103829233768752, 0.05689017096839096, 0.32628789852802864, 1.6125850965768385, 0.16007557931340133] [29, 24, 1, 52, 70, 10, 42, 40, 0, 11, 7, 9, 6, 12, 13, 8, 5, 74, 51, 33, 41, 53, 22, 26, 50, 27, 19, 45, 34, 46, 48, 37, 47, 57, 28, 56, 16, 71, 39, 69, 15, 4, 68, 3, 66, 38, 35, 20, 14, 62, 44, 17, 58, 43, 23, 49, 59, 54, 30, 31, 18, 73, 63, 21, 61, 55, 25, 75, 60, 2, 72, 32, 67, 64, 36, 65]\n",
      "7.0\n",
      "----------------------------------------------------------------------------\n",
      "number of windows= 66 \n",
      "size of windows = 30\n",
      "[1.5929902184989295, 1.5929276570854751, 0.0, 1.3447331495992754, 1.5249846814446524, 1.5929851492461593, 1.5929867114569887, 1.5929895169368113, 1.5929885668740411, 1.592986514258915, 1.5929891097362683, 1.592988087931925, 1.5929863194071776, 1.5929891153178357, 0.0, 1.4407127740055272, 1.3960227173991748, 1.2484912162602546, 0.4148003271883705, 1.5955263591649207, 1.285885043148328, 0.35160261321543895, 1.5909544658900612, 0.9376525801590125, 1.6001729991234492, 0.2164461767097019, 1.6173689254663477, 1.560621173086047, 1.4849532638539715, 1.6407465681252367, 0.40987890072134414, 0.4080987043288843, 0.10621024801545495, 1.5588238253887206, 1.603602459628818, 1.2545885939784236, 0.07919757526070227, 1.5285310103623961, 1.2708258245049175, 1.467274484377084, 1.592990218499251, 1.5922676782776521, 1.5929902184991318, 1.0626357871500443, 1.2166442577744012, 1.5610022323354307, 1.5168299828461878, 1.5219551598589653, 1.5117013289860197, 0.3467326186159739, 1.5976862167083195, 1.5931351463877066, 1.6137309767926433, 1.5925756730543414, 0.9708772192062427, 0.2987598456699538, 1.3990445889544103, 1.416385362610055, 0.026466817315002313, 1.2829364163435832, 1.2837726945419803, 0.21529428845951387, 1.033058485620407, 1.1804426463854465, 0.026224779880186396, 0.026224779880186396, 1.3241263920371305, 0.0, 1.4694756879661814, 1.4234165329303052, 1.5935924917538133, 1.360009159361538, 0.10904707015027543, 0.3818806878759519, 1.6176320250706206, 0.1326853642583468] [29, 74, 26, 52, 34, 24, 50, 19, 70, 51, 40, 42, 0, 7, 13, 10, 8, 11, 6, 9, 12, 5, 1, 53, 41, 22, 45, 27, 33, 37, 4, 47, 46, 48, 28, 68, 39, 15, 69, 57, 56, 16, 71, 3, 66, 20, 60, 59, 38, 35, 17, 44, 63, 43, 62, 54, 23, 18, 30, 31, 73, 21, 49, 55, 25, 61, 75, 72, 32, 36, 58, 64, 65, 2, 14, 67]\n",
      "8.0\n",
      "----------------------------------------------------------------------------\n",
      "number of windows= 66 \n",
      "size of windows = 30\n",
      "[1.5899861769999806, 1.587155062226458, 0.02647661576463793, 1.1909270819514994, 1.4258196342043035, 1.5899923466513117, 1.5899910675458386, 1.589988462199458, 1.5899861849147188, 1.5899866300865613, 1.5899858645675684, 1.5899844665858784, 1.5899840074956864, 1.5899801063131487, 0.7114653431503326, 1.3956833014531833, 1.3115045982942024, 1.2166455164442218, 0.3888572561167122, 1.5152813395804943, 1.152661007499169, 0.326823236151028, 1.5619786395990962, 0.8832404587658539, 1.5165335330992278, 0.2162179195543446, 1.5876675461808123, 1.5531064453851369, 1.4808817534135357, 1.5818239709672248, 0.4353832046689054, 0.35623967123047073, 0.05376529527465815, 1.5609375515374784, 1.5176952971659445, 1.1121047711468843, 0.10576561435091553, 1.5263664894705495, 1.2152606774856771, 1.3118881794551152, 1.5899826918430449, 1.5629370140286925, 1.5899826918430229, 1.0347306562284917, 1.1892443340607117, 1.5325557146904383, 1.5135366625205866, 1.4920923646604867, 1.4741995337249516, 0.21269857805740275, 1.5961868569293998, 1.5900703023906269, 1.5810507784931043, 1.5893976700682257, 0.9142796139630979, 0.27300304574018175, 1.3712167824663013, 0.21287188249577302, 0.6869665665084416, 1.1972363615900723, 0.9031232373333808, 0.26882732749052785, 0.05515421398900648, 1.2752087023181593, 0.027210200989513805, 0.05334157226440393, 1.3438538744289295, 0.02714977509726194, 1.3743620884928576, 1.2904519191646202, 1.5899726623807098, 1.3388541205511015, 0.1362859918720075, 0.3296145401191358, 1.5889027260042035, 0.16069679076391868] [50, 51, 5, 6, 7, 9, 8, 0, 10, 11, 12, 40, 42, 13, 70, 53, 74, 26, 1, 29, 52, 41, 22, 33, 27, 45, 37, 34, 24, 19, 46, 47, 28, 48, 4, 15, 68, 56, 66, 71, 39, 16, 69, 63, 17, 38, 59, 3, 44, 20, 35, 43, 54, 60, 23, 14, 58, 30, 18, 31, 73, 21, 55, 61, 25, 57, 49, 75, 72, 36, 62, 32, 65, 64, 67, 2]\n",
      "9.0\n",
      "----------------------------------------------------------------------------\n"
     ]
    }
   ],
   "source": [
    "dict_mse_sice={}\n",
    "\n",
    "for window_size in [2,3,4,5,6,7,10,30]:\n",
    "    method_list = []\n",
    "    counter=0\n",
    "\n",
    "    while counter+interval <= data_with_target.shape[0]:\n",
    "\n",
    "\n",
    "        datacut=data_with_target[counter:counter+interval]\n",
    "        X_datacut=datacut.iloc[:,:-1]\n",
    "        Y_datacut=datacut.iloc[:,-1]\n",
    "\n",
    "        selected_features_index=featureSelection(X_datacut,window_size)\n",
    "        selected_data= X_datacut[X_datacut.columns[selected_features_index]].to_numpy()\n",
    "        mse_sice=xgboost_reg_error(selected_data[:,:num_comp],Y_datacut,testSize)\n",
    "        \n",
    "\n",
    "        method_list.append(mse_sice)\n",
    "        #     print( \"method_list\",method_list)\n",
    "        print(counter/interval)\n",
    "        print(\"----------------------------------------------------------------------------\")\n",
    "        counter+=interval\n",
    "    dict_mse_sice[\"sice win={}\".format(window_size)]=method_list\n",
    "dataframe_2 = pd.DataFrame(dict_mse_sice)\n",
    "dict_mse['static PR_rmse']=list(dataframe_2.min(axis=1))"
   ]
  },
  {
   "cell_type": "code",
   "execution_count": 16,
   "metadata": {},
   "outputs": [
    {
     "data": {
      "text/plain": [
       "<AxesSubplot: title={'center': 'num_comp=4'}>"
      ]
     },
     "execution_count": 16,
     "metadata": {},
     "output_type": "execute_result"
    },
    {
     "data": {
      "image/png": "[encoded data removed]",
      "text/plain": [
       "<Figure size 1100x700 with 1 Axes>"
      ]
     },
     "metadata": {},
     "output_type": "display_data"
    }
   ],
   "source": [
    "   \n",
    "dataframe = pd.DataFrame(dict_mse)\n",
    "plt.rcParams[\"figure.figsize\"] = [11,7]\n",
    "dataframe.plot(kind=\"bar\",title=\"num_comp={}\".format(num_comp))\n"
   ]
  },
  {
   "cell_type": "code",
   "execution_count": 17,
   "metadata": {},
   "outputs": [
    {
     "data": {
      "text/html": [
       "<div>\n",
       "<style scoped>\n",
       "    .dataframe tbody tr th:only-of-type {\n",
       "        vertical-align: middle;\n",
       "    }\n",
       "\n",
       "    .dataframe tbody tr th {\n",
       "        vertical-align: top;\n",
       "    }\n",
       "\n",
       "    .dataframe thead th {\n",
       "        text-align: right;\n",
       "    }\n",
       "</style>\n",
       "<table border=\"1\" class=\"dataframe\">\n",
       "  <thead>\n",
       "    <tr style=\"text-align: right;\">\n",
       "      <th></th>\n",
       "      <th>PCA</th>\n",
       "      <th>trmf_rmse</th>\n",
       "      <th>temp_PR_rmse</th>\n",
       "      <th>static PR_rmse</th>\n",
       "    </tr>\n",
       "  </thead>\n",
       "  <tbody>\n",
       "    <tr>\n",
       "      <th>0</th>\n",
       "      <td>1.133163</td>\n",
       "      <td>1.192699</td>\n",
       "      <td>1.092201</td>\n",
       "      <td>1.120275</td>\n",
       "    </tr>\n",
       "    <tr>\n",
       "      <th>1</th>\n",
       "      <td>1.208556</td>\n",
       "      <td>1.416923</td>\n",
       "      <td>0.871067</td>\n",
       "      <td>1.045846</td>\n",
       "    </tr>\n",
       "    <tr>\n",
       "      <th>2</th>\n",
       "      <td>1.051871</td>\n",
       "      <td>1.145446</td>\n",
       "      <td>1.029393</td>\n",
       "      <td>1.082868</td>\n",
       "    </tr>\n",
       "    <tr>\n",
       "      <th>3</th>\n",
       "      <td>1.156212</td>\n",
       "      <td>1.187866</td>\n",
       "      <td>1.098281</td>\n",
       "      <td>1.116789</td>\n",
       "    </tr>\n",
       "    <tr>\n",
       "      <th>4</th>\n",
       "      <td>0.830154</td>\n",
       "      <td>1.000389</td>\n",
       "      <td>0.868071</td>\n",
       "      <td>0.926358</td>\n",
       "    </tr>\n",
       "    <tr>\n",
       "      <th>5</th>\n",
       "      <td>1.014493</td>\n",
       "      <td>1.297127</td>\n",
       "      <td>0.949659</td>\n",
       "      <td>0.966368</td>\n",
       "    </tr>\n",
       "    <tr>\n",
       "      <th>6</th>\n",
       "      <td>1.093500</td>\n",
       "      <td>1.211083</td>\n",
       "      <td>1.111599</td>\n",
       "      <td>1.111599</td>\n",
       "    </tr>\n",
       "    <tr>\n",
       "      <th>7</th>\n",
       "      <td>1.091015</td>\n",
       "      <td>1.067894</td>\n",
       "      <td>0.973155</td>\n",
       "      <td>0.973154</td>\n",
       "    </tr>\n",
       "    <tr>\n",
       "      <th>8</th>\n",
       "      <td>1.076903</td>\n",
       "      <td>1.118027</td>\n",
       "      <td>1.087794</td>\n",
       "      <td>1.105651</td>\n",
       "    </tr>\n",
       "    <tr>\n",
       "      <th>9</th>\n",
       "      <td>1.130246</td>\n",
       "      <td>0.831954</td>\n",
       "      <td>0.771895</td>\n",
       "      <td>0.705792</td>\n",
       "    </tr>\n",
       "  </tbody>\n",
       "</table>\n",
       "</div>"
      ],
      "text/plain": [
       "        PCA  trmf_rmse  temp_PR_rmse  static PR_rmse\n",
       "0  1.133163   1.192699      1.092201        1.120275\n",
       "1  1.208556   1.416923      0.871067        1.045846\n",
       "2  1.051871   1.145446      1.029393        1.082868\n",
       "3  1.156212   1.187866      1.098281        1.116789\n",
       "4  0.830154   1.000389      0.868071        0.926358\n",
       "5  1.014493   1.297127      0.949659        0.966368\n",
       "6  1.093500   1.211083      1.111599        1.111599\n",
       "7  1.091015   1.067894      0.973155        0.973154\n",
       "8  1.076903   1.118027      1.087794        1.105651\n",
       "9  1.130246   0.831954      0.771895        0.705792"
      ]
     },
     "execution_count": 17,
     "metadata": {},
     "output_type": "execute_result"
    }
   ],
   "source": [
    "dataframe.head(20)"
   ]
  },
  {
   "cell_type": "code",
   "execution_count": 18,
   "metadata": {},
   "outputs": [
    {
     "data": {
      "text/plain": [
       "PCA               1.078611\n",
       "trmf_rmse         1.146941\n",
       "temp_PR_rmse      0.985311\n",
       "static PR_rmse    1.015470\n",
       "dtype: float64"
      ]
     },
     "execution_count": 18,
     "metadata": {},
     "output_type": "execute_result"
    }
   ],
   "source": [
    "dataframe.mean()"
   ]
  }
 ],
 "metadata": {
  "kernelspec": {
   "display_name": "tf",
   "language": "python",
   "name": "python3"
  },
  "language_info": {
   "codemirror_mode": {
    "name": "ipython",
    "version": 3
   },
   "file_extension": ".py",
   "mimetype": "text/x-python",
   "name": "python",
   "nbconvert_exporter": "python",
   "pygments_lexer": "ipython3",
   "version": "3.10.8"
  },
  "orig_nbformat": 4,
  "vscode": {
   "interpreter": {
    "hash": "eb9bb2fa3c6d437e42749e79e4a1d55d8d222e6cc8216a87b1a35470410f9d89"
   }
  }
 },
 "nbformat": 4,
 "nbformat_minor": 2
}
